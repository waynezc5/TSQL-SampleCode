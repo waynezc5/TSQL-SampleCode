{
    "metadata": {
        "kernelspec": {
            "name": "SQL",
            "display_name": "SQL",
            "language": "sql"
        },
        "language_info": {
            "name": "sql",
            "version": ""
        }
    },
    "nbformat_minor": 2,
    "nbformat": 4,
    "cells": [
        {
            "cell_type": "markdown",
            "source": [
                "## Advanced Problems"
            ],
            "metadata": {
                "azdata_cell_guid": "c6a891db-6603-4586-84a3-d673303bbee3"
            },
            "attachments": {}
        },
        {
            "cell_type": "markdown",
            "source": [
                "### 1\\. High-value customers\n",
                "\n",
                "We want to send all of the high-value customers a special VIP gift. High value is defined as those who've made at least 1 order with a total value (not including discount) equal to $10,000 or more. Only consider orders made in the year 2016."
            ],
            "metadata": {
                "azdata_cell_guid": "348cad8f-9efe-45a2-b04a-7ed66e1f8624"
            },
            "attachments": {}
        },
        {
            "cell_type": "code",
            "source": [
                "SELECT O.CustomerID, CompanyName, O.OrderID, SUM(Quantity * UnitPrice) AS TotalOrderAmount\r\n",
                "FROM Orders AS O\r\n",
                "    INNER JOIN Customers AS C\r\n",
                "        ON O.CustomerID = C.CustomerID\r\n",
                "    INNER JOIN OrderDetails AS OD\r\n",
                "        ON O.OrderID = OD.OrderID\r\n",
                "WHERE CAST(OrderDate AS DATE) >= '20160101' AND CAST(OrderDate AS DATE) <= '20161231'\r\n",
                "GROUP BY O.CustomerID, CompanyName, O.OrderID, OrderDate\r\n",
                "HAVING SUM(Quantity * UnitPrice) >= 10000\r\n",
                "ORDER BY TotalOrderAmount DESC;"
            ],
            "metadata": {
                "azdata_cell_guid": "b9c1f9dc-a8ac-4c96-b335-8818d6e8d673",
                "language": "sql"
            },
            "outputs": [
                {
                    "output_type": "display_data",
                    "data": {
                        "text/html": "(6 rows affected)"
                    },
                    "metadata": {}
                },
                {
                    "output_type": "display_data",
                    "data": {
                        "text/html": "Total execution time: 00:00:00.012"
                    },
                    "metadata": {}
                },
                {
                    "output_type": "execute_result",
                    "execution_count": 9,
                    "data": {
                        "application/vnd.dataresource+json": {
                            "schema": {
                                "fields": [
                                    {
                                        "name": "CustomerID"
                                    },
                                    {
                                        "name": "CompanyName"
                                    },
                                    {
                                        "name": "OrderID"
                                    },
                                    {
                                        "name": "TotalOrderAmount"
                                    }
                                ]
                            },
                            "data": [
                                {
                                    "0": "QUICK",
                                    "1": "QUICK-Stop",
                                    "2": "10865",
                                    "3": "17250.00"
                                },
                                {
                                    "0": "SAVEA",
                                    "1": "Save-a-lot Markets",
                                    "2": "11030",
                                    "3": "16321.90"
                                },
                                {
                                    "0": "HANAR",
                                    "1": "Hanari Carnes",
                                    "2": "10981",
                                    "3": "15810.00"
                                },
                                {
                                    "0": "KOENE",
                                    "1": "Königlich Essen",
                                    "2": "10817",
                                    "3": "11490.70"
                                },
                                {
                                    "0": "RATTC",
                                    "1": "Rattlesnake Canyon Grocery",
                                    "2": "10889",
                                    "3": "11380.00"
                                },
                                {
                                    "0": "HUNGO",
                                    "1": "Hungry Owl All-Night Grocers",
                                    "2": "10897",
                                    "3": "10835.24"
                                }
                            ]
                        },
                        "text/html": "<table><tr><th>CustomerID</th><th>CompanyName</th><th>OrderID</th><th>TotalOrderAmount</th></tr><tr><td>QUICK</td><td>QUICK-Stop</td><td>10865</td><td>17250.00</td></tr><tr><td>SAVEA</td><td>Save-a-lot Markets</td><td>11030</td><td>16321.90</td></tr><tr><td>HANAR</td><td>Hanari Carnes</td><td>10981</td><td>15810.00</td></tr><tr><td>KOENE</td><td>Königlich Essen</td><td>10817</td><td>11490.70</td></tr><tr><td>RATTC</td><td>Rattlesnake Canyon Grocery</td><td>10889</td><td>11380.00</td></tr><tr><td>HUNGO</td><td>Hungry Owl All-Night Grocers</td><td>10897</td><td>10835.24</td></tr></table>"
                    },
                    "metadata": {}
                }
            ],
            "execution_count": 9
        },
        {
            "cell_type": "markdown",
            "source": [
                "### 2\\. High-value customers - total orders\n",
                "\n",
                "The manager has changed his mind. Instead of requiring that customers have at least one individual orders totaling 10,000 or more, he wants to define high-value customers as those who have orders totaling 15,000 or more in 2016."
            ],
            "metadata": {
                "language": "sql",
                "azdata_cell_guid": "43a87573-bc43-4c8f-9720-fc0685dedfce"
            },
            "attachments": {}
        },
        {
            "cell_type": "code",
            "source": [
                "SELECT O.CustomerID, C.CompanyName, SUM(Quantity * UnitPrice) AS TotalOrderAmount\r\n",
                "FROM Orders AS O\r\n",
                "    INNER JOIN Customers AS C\r\n",
                "        ON O.CustomerID = C.CustomerID\r\n",
                "    INNER JOIN OrderDetails AS OD\r\n",
                "        ON O.OrderID = OD.OrderID\r\n",
                "WHERE CAST(OrderDate AS DATE) >= '20160101' AND CAST(OrderDate AS DATE) <= '20161231'\r\n",
                "GROUP BY O.CustomerID, C.CompanyName\r\n",
                "HAVING SUM(Quantity * UnitPrice) > 15000\r\n",
                "ORDER BY TotalOrderAmount DESC;\r\n",
                ""
            ],
            "metadata": {
                "language": "sql",
                "azdata_cell_guid": "24ef1dfd-45bd-4b08-81e5-f7250eea0323"
            },
            "outputs": [
                {
                    "output_type": "display_data",
                    "data": {
                        "text/html": "(9 rows affected)"
                    },
                    "metadata": {}
                },
                {
                    "output_type": "display_data",
                    "data": {
                        "text/html": "Total execution time: 00:00:00.034"
                    },
                    "metadata": {}
                },
                {
                    "output_type": "execute_result",
                    "execution_count": 41,
                    "data": {
                        "application/vnd.dataresource+json": {
                            "schema": {
                                "fields": [
                                    {
                                        "name": "CustomerID"
                                    },
                                    {
                                        "name": "CompanyName"
                                    },
                                    {
                                        "name": "TotalOrderAmount"
                                    }
                                ]
                            },
                            "data": [
                                {
                                    "0": "SAVEA",
                                    "1": "Save-a-lot Markets",
                                    "2": "42806.25"
                                },
                                {
                                    "0": "ERNSH",
                                    "1": "Ernst Handel",
                                    "2": "42598.90"
                                },
                                {
                                    "0": "QUICK",
                                    "1": "QUICK-Stop",
                                    "2": "40526.99"
                                },
                                {
                                    "0": "HANAR",
                                    "1": "Hanari Carnes",
                                    "2": "24238.05"
                                },
                                {
                                    "0": "HUNGO",
                                    "1": "Hungry Owl All-Night Grocers",
                                    "2": "22796.34"
                                },
                                {
                                    "0": "RATTC",
                                    "1": "Rattlesnake Canyon Grocery",
                                    "2": "21725.60"
                                },
                                {
                                    "0": "KOENE",
                                    "1": "Königlich Essen",
                                    "2": "20204.95"
                                },
                                {
                                    "0": "FOLKO",
                                    "1": "Folk och fä HB",
                                    "2": "15973.85"
                                },
                                {
                                    "0": "WHITC",
                                    "1": "White Clover Markets",
                                    "2": "15278.90"
                                }
                            ]
                        },
                        "text/html": "<table><tr><th>CustomerID</th><th>CompanyName</th><th>TotalOrderAmount</th></tr><tr><td>SAVEA</td><td>Save-a-lot Markets</td><td>42806.25</td></tr><tr><td>ERNSH</td><td>Ernst Handel</td><td>42598.90</td></tr><tr><td>QUICK</td><td>QUICK-Stop</td><td>40526.99</td></tr><tr><td>HANAR</td><td>Hanari Carnes</td><td>24238.05</td></tr><tr><td>HUNGO</td><td>Hungry Owl All-Night Grocers</td><td>22796.34</td></tr><tr><td>RATTC</td><td>Rattlesnake Canyon Grocery</td><td>21725.60</td></tr><tr><td>KOENE</td><td>Königlich Essen</td><td>20204.95</td></tr><tr><td>FOLKO</td><td>Folk och fä HB</td><td>15973.85</td></tr><tr><td>WHITC</td><td>White Clover Markets</td><td>15278.90</td></tr></table>"
                    },
                    "metadata": {}
                }
            ],
            "execution_count": 41
        },
        {
            "cell_type": "markdown",
            "source": [
                "### 3\\. High-value customers-with discount\n",
                "\n",
                "Change the above query to use the discount when calculating high-value customers. Order by the total amount which includes the discount."
            ],
            "metadata": {
                "language": "sql",
                "azdata_cell_guid": "55d5e7a5-17fa-4406-a978-2a2d2cebbc36"
            },
            "attachments": {}
        },
        {
            "cell_type": "code",
            "source": [
                "SELECT O.CustomerID,\r\n",
                "C.CompanyName, \r\n",
                "SUM(Quantity * UnitPrice) AS [Totals Without Discount], \r\n",
                "SUM((Quantity * UnitPrice) * (1 - Discount)) AS [Totals With Discount]\r\n",
                "FROM Orders AS O\r\n",
                "    INNER JOIN Customers AS C\r\n",
                "        ON O.CustomerID = C.CustomerID\r\n",
                "    INNER JOIN OrderDetails AS OD\r\n",
                "        ON O.OrderID = OD.OrderID\r\n",
                "WHERE CAST(OrderDate AS DATE) >= '20160101' AND CAST(OrderDate AS DATE) <= '20161231'\r\n",
                "GROUP BY O.CustomerID, C.CompanyName\r\n",
                "HAVING SUM((Quantity * UnitPrice) * (1 - Discount)) >= 15000\r\n",
                "ORDER BY [Totals With Discount] DESC;\r\n",
                ""
            ],
            "metadata": {
                "language": "sql",
                "azdata_cell_guid": "db104915-050e-4c74-b06b-bed701c0c443"
            },
            "outputs": [
                {
                    "output_type": "display_data",
                    "data": {
                        "text/html": "(8 rows affected)"
                    },
                    "metadata": {}
                },
                {
                    "output_type": "display_data",
                    "data": {
                        "text/html": "Total execution time: 00:00:00.016"
                    },
                    "metadata": {}
                },
                {
                    "output_type": "execute_result",
                    "execution_count": 23,
                    "data": {
                        "application/vnd.dataresource+json": {
                            "schema": {
                                "fields": [
                                    {
                                        "name": "CustomerID"
                                    },
                                    {
                                        "name": "CompanyName"
                                    },
                                    {
                                        "name": "Totals Without Discount"
                                    },
                                    {
                                        "name": "Totals With Discount"
                                    }
                                ]
                            },
                            "data": [
                                {
                                    "0": "ERNSH",
                                    "1": "Ernst Handel",
                                    "2": "42598.90",
                                    "3": "41210.65002441406"
                                },
                                {
                                    "0": "QUICK",
                                    "1": "QUICK-Stop",
                                    "2": "40526.99",
                                    "3": "37217.315002441406"
                                },
                                {
                                    "0": "SAVEA",
                                    "1": "Save-a-lot Markets",
                                    "2": "42806.25",
                                    "3": "36310.10977935791"
                                },
                                {
                                    "0": "HANAR",
                                    "1": "Hanari Carnes",
                                    "2": "24238.05",
                                    "3": "23821.199989318848"
                                },
                                {
                                    "0": "RATTC",
                                    "1": "Rattlesnake Canyon Grocery",
                                    "2": "21725.60",
                                    "3": "21238.270441055298"
                                },
                                {
                                    "0": "HUNGO",
                                    "1": "Hungry Owl All-Night Grocers",
                                    "2": "22796.34",
                                    "3": "20402.11993408203"
                                },
                                {
                                    "0": "KOENE",
                                    "1": "Königlich Essen",
                                    "2": "20204.95",
                                    "3": "19582.773986816406"
                                },
                                {
                                    "0": "WHITC",
                                    "1": "White Clover Markets",
                                    "2": "15278.90",
                                    "3": "15278.89998626709"
                                }
                            ]
                        },
                        "text/html": "<table><tr><th>CustomerID</th><th>CompanyName</th><th>Totals Without Discount</th><th>Totals With Discount</th></tr><tr><td>ERNSH</td><td>Ernst Handel</td><td>42598.90</td><td>41210.65002441406</td></tr><tr><td>QUICK</td><td>QUICK-Stop</td><td>40526.99</td><td>37217.315002441406</td></tr><tr><td>SAVEA</td><td>Save-a-lot Markets</td><td>42806.25</td><td>36310.10977935791</td></tr><tr><td>HANAR</td><td>Hanari Carnes</td><td>24238.05</td><td>23821.199989318848</td></tr><tr><td>RATTC</td><td>Rattlesnake Canyon Grocery</td><td>21725.60</td><td>21238.270441055298</td></tr><tr><td>HUNGO</td><td>Hungry Owl All-Night Grocers</td><td>22796.34</td><td>20402.11993408203</td></tr><tr><td>KOENE</td><td>Königlich Essen</td><td>20204.95</td><td>19582.773986816406</td></tr><tr><td>WHITC</td><td>White Clover Markets</td><td>15278.90</td><td>15278.89998626709</td></tr></table>"
                    },
                    "metadata": {}
                }
            ],
            "execution_count": 23
        },
        {
            "cell_type": "markdown",
            "source": [
                "### 4\\. Month-end orders\n",
                "\n",
                "At the end of the month, salespeople are likely to try much harder to get orders, to meet their month-end quotas. Show all orders made on the last day of the month. Order by EmployeeID and OrderID."
            ],
            "metadata": {
                "language": "sql",
                "azdata_cell_guid": "7cb3c8bf-8179-4657-8e0c-23d0b41cfbbf"
            },
            "attachments": {}
        },
        {
            "cell_type": "code",
            "source": [
                "\r\n",
                "SELECT EmployeeID, OrderID, OrderDate\r\n",
                "FROM Orders\r\n",
                "WHERE CAST(OrderDate AS DATE) = EOMONTH(OrderDate)\r\n",
                "ORDER BY EmployeeID, OrderID;\r\n",
                "\r\n",
                ""
            ],
            "metadata": {
                "language": "sql",
                "azdata_cell_guid": "745f04ec-463b-434b-a090-bfb91262542c",
                "tags": []
            },
            "outputs": [
                {
                    "output_type": "display_data",
                    "data": {
                        "text/html": "(26 rows affected)"
                    },
                    "metadata": {}
                },
                {
                    "output_type": "display_data",
                    "data": {
                        "text/html": "Total execution time: 00:00:00.006"
                    },
                    "metadata": {}
                },
                {
                    "output_type": "execute_result",
                    "execution_count": 35,
                    "data": {
                        "application/vnd.dataresource+json": {
                            "schema": {
                                "fields": [
                                    {
                                        "name": "EmployeeID"
                                    },
                                    {
                                        "name": "OrderID"
                                    },
                                    {
                                        "name": "OrderDate"
                                    }
                                ]
                            },
                            "data": [
                                {
                                    "0": "1",
                                    "1": "10461",
                                    "2": "2015-02-28 00:00:00.000"
                                },
                                {
                                    "0": "1",
                                    "1": "10616",
                                    "2": "2015-07-31 00:00:00.000"
                                },
                                {
                                    "0": "2",
                                    "1": "10583",
                                    "2": "2015-06-30 00:00:00.000"
                                },
                                {
                                    "0": "2",
                                    "1": "10686",
                                    "2": "2015-09-30 00:00:00.000"
                                },
                                {
                                    "0": "2",
                                    "1": "10989",
                                    "2": "2016-03-31 00:00:00.000"
                                },
                                {
                                    "0": "2",
                                    "1": "11060",
                                    "2": "2016-04-30 00:00:00.000"
                                },
                                {
                                    "0": "3",
                                    "1": "10432",
                                    "2": "2015-01-31 00:00:00.000"
                                },
                                {
                                    "0": "3",
                                    "1": "10806",
                                    "2": "2015-12-31 11:00:00.000"
                                },
                                {
                                    "0": "3",
                                    "1": "10988",
                                    "2": "2016-03-31 00:00:00.000"
                                },
                                {
                                    "0": "3",
                                    "1": "11063",
                                    "2": "2016-04-30 00:00:00.000"
                                },
                                {
                                    "0": "4",
                                    "1": "10343",
                                    "2": "2014-10-31 00:00:00.000"
                                },
                                {
                                    "0": "4",
                                    "1": "10522",
                                    "2": "2015-04-30 00:00:00.000"
                                },
                                {
                                    "0": "4",
                                    "1": "10584",
                                    "2": "2015-06-30 00:00:00.000"
                                },
                                {
                                    "0": "4",
                                    "1": "10617",
                                    "2": "2015-07-31 00:00:00.000"
                                },
                                {
                                    "0": "4",
                                    "1": "10725",
                                    "2": "2015-10-31 00:00:00.000"
                                },
                                {
                                    "0": "4",
                                    "1": "10807",
                                    "2": "2015-12-31 11:00:00.000"
                                },
                                {
                                    "0": "4",
                                    "1": "11061",
                                    "2": "2016-04-30 00:00:00.000"
                                },
                                {
                                    "0": "4",
                                    "1": "11062",
                                    "2": "2016-04-30 00:00:00.000"
                                },
                                {
                                    "0": "5",
                                    "1": "10269",
                                    "2": "2014-07-31 00:00:00.000"
                                },
                                {
                                    "0": "6",
                                    "1": "10317",
                                    "2": "2014-09-30 00:00:00.000"
                                },
                                {
                                    "0": "7",
                                    "1": "10490",
                                    "2": "2015-03-31 00:00:00.000"
                                },
                                {
                                    "0": "8",
                                    "1": "10399",
                                    "2": "2014-12-31 00:00:00.000"
                                },
                                {
                                    "0": "8",
                                    "1": "10460",
                                    "2": "2015-02-28 00:00:00.000"
                                },
                                {
                                    "0": "8",
                                    "1": "10491",
                                    "2": "2015-03-31 00:00:00.000"
                                },
                                {
                                    "0": "8",
                                    "1": "10987",
                                    "2": "2016-03-31 00:00:00.000"
                                },
                                {
                                    "0": "9",
                                    "1": "10687",
                                    "2": "2015-09-30 00:00:00.000"
                                }
                            ]
                        },
                        "text/html": "<table><tr><th>EmployeeID</th><th>OrderID</th><th>OrderDate</th></tr><tr><td>1</td><td>10461</td><td>2015-02-28 00:00:00.000</td></tr><tr><td>1</td><td>10616</td><td>2015-07-31 00:00:00.000</td></tr><tr><td>2</td><td>10583</td><td>2015-06-30 00:00:00.000</td></tr><tr><td>2</td><td>10686</td><td>2015-09-30 00:00:00.000</td></tr><tr><td>2</td><td>10989</td><td>2016-03-31 00:00:00.000</td></tr><tr><td>2</td><td>11060</td><td>2016-04-30 00:00:00.000</td></tr><tr><td>3</td><td>10432</td><td>2015-01-31 00:00:00.000</td></tr><tr><td>3</td><td>10806</td><td>2015-12-31 11:00:00.000</td></tr><tr><td>3</td><td>10988</td><td>2016-03-31 00:00:00.000</td></tr><tr><td>3</td><td>11063</td><td>2016-04-30 00:00:00.000</td></tr><tr><td>4</td><td>10343</td><td>2014-10-31 00:00:00.000</td></tr><tr><td>4</td><td>10522</td><td>2015-04-30 00:00:00.000</td></tr><tr><td>4</td><td>10584</td><td>2015-06-30 00:00:00.000</td></tr><tr><td>4</td><td>10617</td><td>2015-07-31 00:00:00.000</td></tr><tr><td>4</td><td>10725</td><td>2015-10-31 00:00:00.000</td></tr><tr><td>4</td><td>10807</td><td>2015-12-31 11:00:00.000</td></tr><tr><td>4</td><td>11061</td><td>2016-04-30 00:00:00.000</td></tr><tr><td>4</td><td>11062</td><td>2016-04-30 00:00:00.000</td></tr><tr><td>5</td><td>10269</td><td>2014-07-31 00:00:00.000</td></tr><tr><td>6</td><td>10317</td><td>2014-09-30 00:00:00.000</td></tr><tr><td>7</td><td>10490</td><td>2015-03-31 00:00:00.000</td></tr><tr><td>8</td><td>10399</td><td>2014-12-31 00:00:00.000</td></tr><tr><td>8</td><td>10460</td><td>2015-02-28 00:00:00.000</td></tr><tr><td>8</td><td>10491</td><td>2015-03-31 00:00:00.000</td></tr><tr><td>8</td><td>10987</td><td>2016-03-31 00:00:00.000</td></tr><tr><td>9</td><td>10687</td><td>2015-09-30 00:00:00.000</td></tr></table>"
                    },
                    "metadata": {}
                }
            ],
            "execution_count": 35
        },
        {
            "cell_type": "markdown",
            "source": [
                "### 5\\. Orders with many line items\n",
                "\n",
                "Show the 10 orders with the most line items, in order of total line items. If an order has the same number of line items, include it."
            ],
            "metadata": {
                "language": "sql",
                "azdata_cell_guid": "7bbafd04-5d2d-45f0-8803-e9362bac5fd0"
            },
            "attachments": {}
        },
        {
            "cell_type": "code",
            "source": [
                "SELECT TOP(10) WITH TIES\r\n",
                " OrderID, \r\n",
                " COUNT(*) AS TotalOrderDetails\r\n",
                "FROM OrderDetails\r\n",
                "GROUP BY OrderID\r\n",
                "ORDER BY TotalOrderDetails DESC;"
            ],
            "metadata": {
                "language": "sql",
                "azdata_cell_guid": "6e77b38c-0bb7-4919-bf18-2dee415cce51",
                "tags": []
            },
            "outputs": [
                {
                    "output_type": "display_data",
                    "data": {
                        "text/html": "(37 rows affected)"
                    },
                    "metadata": {}
                },
                {
                    "output_type": "display_data",
                    "data": {
                        "text/html": "Total execution time: 00:00:00.007"
                    },
                    "metadata": {}
                },
                {
                    "output_type": "execute_result",
                    "execution_count": 55,
                    "data": {
                        "application/vnd.dataresource+json": {
                            "schema": {
                                "fields": [
                                    {
                                        "name": "OrderID"
                                    },
                                    {
                                        "name": "TotalOrderDetails"
                                    }
                                ]
                            },
                            "data": [
                                {
                                    "0": "11077",
                                    "1": "25"
                                },
                                {
                                    "0": "10979",
                                    "1": "6"
                                },
                                {
                                    "0": "10657",
                                    "1": "6"
                                },
                                {
                                    "0": "10847",
                                    "1": "6"
                                },
                                {
                                    "0": "10845",
                                    "1": "5"
                                },
                                {
                                    "0": "10836",
                                    "1": "5"
                                },
                                {
                                    "0": "10714",
                                    "1": "5"
                                },
                                {
                                    "0": "10670",
                                    "1": "5"
                                },
                                {
                                    "0": "10691",
                                    "1": "5"
                                },
                                {
                                    "0": "10698",
                                    "1": "5"
                                },
                                {
                                    "0": "10553",
                                    "1": "5"
                                },
                                {
                                    "0": "10555",
                                    "1": "5"
                                },
                                {
                                    "0": "10558",
                                    "1": "5"
                                },
                                {
                                    "0": "10607",
                                    "1": "5"
                                },
                                {
                                    "0": "10612",
                                    "1": "5"
                                },
                                {
                                    "0": "10623",
                                    "1": "5"
                                },
                                {
                                    "0": "10273",
                                    "1": "5"
                                },
                                {
                                    "0": "10294",
                                    "1": "5"
                                },
                                {
                                    "0": "10309",
                                    "1": "5"
                                },
                                {
                                    "0": "10324",
                                    "1": "5"
                                },
                                {
                                    "0": "10325",
                                    "1": "5"
                                },
                                {
                                    "0": "10337",
                                    "1": "5"
                                },
                                {
                                    "0": "10360",
                                    "1": "5"
                                },
                                {
                                    "0": "10382",
                                    "1": "5"
                                },
                                {
                                    "0": "10393",
                                    "1": "5"
                                },
                                {
                                    "0": "10406",
                                    "1": "5"
                                },
                                {
                                    "0": "10458",
                                    "1": "5"
                                },
                                {
                                    "0": "10465",
                                    "1": "5"
                                },
                                {
                                    "0": "10514",
                                    "1": "5"
                                },
                                {
                                    "0": "10515",
                                    "1": "5"
                                },
                                {
                                    "0": "10537",
                                    "1": "5"
                                },
                                {
                                    "0": "10962",
                                    "1": "5"
                                },
                                {
                                    "0": "10861",
                                    "1": "5"
                                },
                                {
                                    "0": "10893",
                                    "1": "5"
                                },
                                {
                                    "0": "11021",
                                    "1": "5"
                                },
                                {
                                    "0": "11031",
                                    "1": "5"
                                },
                                {
                                    "0": "11064",
                                    "1": "5"
                                }
                            ]
                        },
                        "text/html": "<table><tr><th>OrderID</th><th>TotalOrderDetails</th></tr><tr><td>11077</td><td>25</td></tr><tr><td>10979</td><td>6</td></tr><tr><td>10657</td><td>6</td></tr><tr><td>10847</td><td>6</td></tr><tr><td>10845</td><td>5</td></tr><tr><td>10836</td><td>5</td></tr><tr><td>10714</td><td>5</td></tr><tr><td>10670</td><td>5</td></tr><tr><td>10691</td><td>5</td></tr><tr><td>10698</td><td>5</td></tr><tr><td>10553</td><td>5</td></tr><tr><td>10555</td><td>5</td></tr><tr><td>10558</td><td>5</td></tr><tr><td>10607</td><td>5</td></tr><tr><td>10612</td><td>5</td></tr><tr><td>10623</td><td>5</td></tr><tr><td>10273</td><td>5</td></tr><tr><td>10294</td><td>5</td></tr><tr><td>10309</td><td>5</td></tr><tr><td>10324</td><td>5</td></tr><tr><td>10325</td><td>5</td></tr><tr><td>10337</td><td>5</td></tr><tr><td>10360</td><td>5</td></tr><tr><td>10382</td><td>5</td></tr><tr><td>10393</td><td>5</td></tr><tr><td>10406</td><td>5</td></tr><tr><td>10458</td><td>5</td></tr><tr><td>10465</td><td>5</td></tr><tr><td>10514</td><td>5</td></tr><tr><td>10515</td><td>5</td></tr><tr><td>10537</td><td>5</td></tr><tr><td>10962</td><td>5</td></tr><tr><td>10861</td><td>5</td></tr><tr><td>10893</td><td>5</td></tr><tr><td>11021</td><td>5</td></tr><tr><td>11031</td><td>5</td></tr><tr><td>11064</td><td>5</td></tr></table>"
                    },
                    "metadata": {}
                }
            ],
            "execution_count": 55
        },
        {
            "cell_type": "markdown",
            "source": [
                "### 6\\. Orders-random assortment\n",
                "\n",
                "Show a random set of 2% of all orders. Return the OrderID and a column with a random number."
            ],
            "metadata": {
                "language": "sql",
                "azdata_cell_guid": "0770388e-f7dc-4e2f-be0c-03e13c21709e"
            },
            "attachments": {}
        },
        {
            "cell_type": "code",
            "source": [
                "SELECT TOP (2) PERCENT OrderID, ABS(CHECKSUM(NEWID())) AS RandomNumber\r\n",
                "FROM Orders\r\n",
                "ORDER BY ABS(CHECKSUM(NEWID()));\r\n",
                ""
            ],
            "metadata": {
                "language": "sql",
                "azdata_cell_guid": "5fdf14fb-f4e0-4501-bce3-bd5ff1a30ef3"
            },
            "outputs": [
                {
                    "output_type": "display_data",
                    "data": {
                        "text/html": "(17 rows affected)"
                    },
                    "metadata": {}
                },
                {
                    "output_type": "display_data",
                    "data": {
                        "text/html": "Total execution time: 00:00:00.011"
                    },
                    "metadata": {}
                },
                {
                    "output_type": "execute_result",
                    "execution_count": 76,
                    "data": {
                        "application/vnd.dataresource+json": {
                            "schema": {
                                "fields": [
                                    {
                                        "name": "OrderID"
                                    },
                                    {
                                        "name": "RandomNumber"
                                    }
                                ]
                            },
                            "data": [
                                {
                                    "0": "10293",
                                    "1": "8200421"
                                },
                                {
                                    "0": "10757",
                                    "1": "11064426"
                                },
                                {
                                    "0": "10423",
                                    "1": "17486814"
                                },
                                {
                                    "0": "10849",
                                    "1": "21733965"
                                },
                                {
                                    "0": "10737",
                                    "1": "24145417"
                                },
                                {
                                    "0": "10624",
                                    "1": "24243608"
                                },
                                {
                                    "0": "10946",
                                    "1": "27200990"
                                },
                                {
                                    "0": "10273",
                                    "1": "27632865"
                                },
                                {
                                    "0": "10461",
                                    "1": "33356595"
                                },
                                {
                                    "0": "10683",
                                    "1": "34730165"
                                },
                                {
                                    "0": "10367",
                                    "1": "35095170"
                                },
                                {
                                    "0": "10299",
                                    "1": "35280383"
                                },
                                {
                                    "0": "10471",
                                    "1": "39466612"
                                },
                                {
                                    "0": "10734",
                                    "1": "44146986"
                                },
                                {
                                    "0": "10715",
                                    "1": "45891370"
                                },
                                {
                                    "0": "10971",
                                    "1": "46515145"
                                },
                                {
                                    "0": "10905",
                                    "1": "46875342"
                                }
                            ]
                        },
                        "text/html": "<table><tr><th>OrderID</th><th>RandomNumber</th></tr><tr><td>10293</td><td>8200421</td></tr><tr><td>10757</td><td>11064426</td></tr><tr><td>10423</td><td>17486814</td></tr><tr><td>10849</td><td>21733965</td></tr><tr><td>10737</td><td>24145417</td></tr><tr><td>10624</td><td>24243608</td></tr><tr><td>10946</td><td>27200990</td></tr><tr><td>10273</td><td>27632865</td></tr><tr><td>10461</td><td>33356595</td></tr><tr><td>10683</td><td>34730165</td></tr><tr><td>10367</td><td>35095170</td></tr><tr><td>10299</td><td>35280383</td></tr><tr><td>10471</td><td>39466612</td></tr><tr><td>10734</td><td>44146986</td></tr><tr><td>10715</td><td>45891370</td></tr><tr><td>10971</td><td>46515145</td></tr><tr><td>10905</td><td>46875342</td></tr></table>"
                    },
                    "metadata": {}
                }
            ],
            "execution_count": 76
        },
        {
            "cell_type": "markdown",
            "source": [
                "### 7\\. Orders-accidental double-entry\n",
                "\n",
                "A line item was entered twice on an order, each time with a different ProductID, but the same quantity. The quantity is 60 or more, show all the OrderIDs with line items that match this in order of OrderID."
            ],
            "metadata": {
                "language": "sql",
                "azdata_cell_guid": "359731a6-67cf-44a5-80d1-f77068eddb95"
            },
            "attachments": {}
        },
        {
            "cell_type": "code",
            "source": [
                "SELECT OrderID\r\n",
                "FROM OrderDetails\r\n",
                "WHERE Quantity >= 60\r\n",
                "GROUP BY OrderID, Quantity\r\n",
                "HAVING COUNT(*) > 1\r\n",
                "ORDER BY OrderID;"
            ],
            "metadata": {
                "language": "sql",
                "azdata_cell_guid": "801c0f0f-4d66-4d89-a845-03645858d5ab",
                "tags": []
            },
            "outputs": [
                {
                    "output_type": "display_data",
                    "data": {
                        "text/html": "(5 rows affected)"
                    },
                    "metadata": {}
                },
                {
                    "output_type": "display_data",
                    "data": {
                        "text/html": "Total execution time: 00:00:00.002"
                    },
                    "metadata": {}
                },
                {
                    "output_type": "execute_result",
                    "execution_count": 103,
                    "data": {
                        "application/vnd.dataresource+json": {
                            "schema": {
                                "fields": [
                                    {
                                        "name": "OrderID"
                                    }
                                ]
                            },
                            "data": [
                                {
                                    "0": "10263"
                                },
                                {
                                    "0": "10263"
                                },
                                {
                                    "0": "10658"
                                },
                                {
                                    "0": "10990"
                                },
                                {
                                    "0": "11030"
                                }
                            ]
                        },
                        "text/html": "<table><tr><th>OrderID</th></tr><tr><td>10263</td></tr><tr><td>10263</td></tr><tr><td>10658</td></tr><tr><td>10990</td></tr><tr><td>11030</td></tr></table>"
                    },
                    "metadata": {}
                }
            ],
            "execution_count": 103
        },
        {
            "cell_type": "markdown",
            "source": [
                "### 8\\. Orders-accidental double-entry details\n",
                "\n",
                "Based on the previous question, we now want to show details of the order, for orders match the above criteria."
            ],
            "metadata": {
                "language": "sql",
                "azdata_cell_guid": "9406ebfa-7e8a-4f61-898f-04a28e61cafa"
            },
            "attachments": {}
        },
        {
            "cell_type": "code",
            "source": [
                "--First method using subquery only\r\n",
                "\r\n",
                "SELECT OrderID, ProductID, UnitPrice, Quantity, Discount\r\n",
                "FROM OrderDetails\r\n",
                "WHERE OrderID IN (  SELECT OrderID\r\n",
                "                    FROM OrderDetails\r\n",
                "                    WHERE Quantity >= 60\r\n",
                "                    GROUP BY OrderID, Quantity\r\n",
                "                    HAVING COUNT(*) > 1);\r\n",
                "\r\n",
                "GO\r\n",
                "\r\n",
                "--Second method using CTE and a subquery\r\n",
                "WITH Duplicates\r\n",
                "AS\r\n",
                "(   SELECT OrderID\r\n",
                "    FROM OrderDetails\r\n",
                "    WHERE Quantity >= 60\r\n",
                "    GROUP BY OrderID, Quantity\r\n",
                "    HAVING COUNT(*) > 1\r\n",
                ")\r\n",
                "\r\n",
                "SELECT OrderID, ProductID, UnitPrice, Quantity, Discount\r\n",
                "FROM OrderDetails\r\n",
                "WHERE OrderID IN (SELECT OrderID FROM Duplicates)\r\n",
                "ORDER BY OrderID;\r\n",
                "\r\n",
                "GO\r\n",
                "\r\n",
                "--Third method using a CTE and a JOIN\r\n",
                "WITH Duplicates\r\n",
                "AS\r\n",
                "(   SELECT DISTINCT OrderID\r\n",
                "    FROM OrderDetails\r\n",
                "    WHERE Quantity >= 60\r\n",
                "    GROUP BY OrderID, Quantity\r\n",
                "    HAVING COUNT(*) > 1\r\n",
                ")\r\n",
                "\r\n",
                "\r\n",
                "SELECT DISTINCT OD.OrderID, ProductID, UnitPrice, Quantity, Discount\r\n",
                "FROM OrderDetails AS OD\r\n",
                "    INNER JOIN Duplicates AS D\r\n",
                "        ON OD.OrderID = D.OrderID\r\n",
                "ORDER BY OrderID;"
            ],
            "metadata": {
                "language": "sql",
                "azdata_cell_guid": "53ca1690-df4c-4700-9b6b-ad84f86c345f",
                "tags": []
            },
            "outputs": [
                {
                    "output_type": "display_data",
                    "data": {
                        "text/html": "(16 rows affected)"
                    },
                    "metadata": {}
                },
                {
                    "output_type": "display_data",
                    "data": {
                        "text/html": "(16 rows affected)"
                    },
                    "metadata": {}
                },
                {
                    "output_type": "display_data",
                    "data": {
                        "text/html": "(16 rows affected)"
                    },
                    "metadata": {}
                },
                {
                    "output_type": "display_data",
                    "data": {
                        "text/html": "Total execution time: 00:00:00.013"
                    },
                    "metadata": {}
                },
                {
                    "output_type": "execute_result",
                    "execution_count": 107,
                    "data": {
                        "application/vnd.dataresource+json": {
                            "schema": {
                                "fields": [
                                    {
                                        "name": "OrderID"
                                    },
                                    {
                                        "name": "ProductID"
                                    },
                                    {
                                        "name": "UnitPrice"
                                    },
                                    {
                                        "name": "Quantity"
                                    },
                                    {
                                        "name": "Discount"
                                    }
                                ]
                            },
                            "data": [
                                {
                                    "0": "10263",
                                    "1": "16",
                                    "2": "13.90",
                                    "3": "60",
                                    "4": "0.25"
                                },
                                {
                                    "0": "10263",
                                    "1": "24",
                                    "2": "3.60",
                                    "3": "65",
                                    "4": "0"
                                },
                                {
                                    "0": "10263",
                                    "1": "30",
                                    "2": "20.70",
                                    "3": "60",
                                    "4": "0.25"
                                },
                                {
                                    "0": "10263",
                                    "1": "74",
                                    "2": "8.00",
                                    "3": "65",
                                    "4": "0.25"
                                },
                                {
                                    "0": "10658",
                                    "1": "21",
                                    "2": "10.00",
                                    "3": "60",
                                    "4": "0"
                                },
                                {
                                    "0": "10658",
                                    "1": "40",
                                    "2": "18.40",
                                    "3": "70",
                                    "4": "0.05"
                                },
                                {
                                    "0": "10658",
                                    "1": "60",
                                    "2": "34.00",
                                    "3": "55",
                                    "4": "0.05"
                                },
                                {
                                    "0": "10658",
                                    "1": "77",
                                    "2": "13.00",
                                    "3": "70",
                                    "4": "0.05"
                                },
                                {
                                    "0": "10990",
                                    "1": "21",
                                    "2": "10.00",
                                    "3": "65",
                                    "4": "0"
                                },
                                {
                                    "0": "10990",
                                    "1": "34",
                                    "2": "14.00",
                                    "3": "60",
                                    "4": "0.15"
                                },
                                {
                                    "0": "10990",
                                    "1": "55",
                                    "2": "24.00",
                                    "3": "65",
                                    "4": "0.15"
                                },
                                {
                                    "0": "10990",
                                    "1": "61",
                                    "2": "28.50",
                                    "3": "66",
                                    "4": "0.15"
                                },
                                {
                                    "0": "11030",
                                    "1": "2",
                                    "2": "19.00",
                                    "3": "100",
                                    "4": "0.25"
                                },
                                {
                                    "0": "11030",
                                    "1": "5",
                                    "2": "21.35",
                                    "3": "70",
                                    "4": "0"
                                },
                                {
                                    "0": "11030",
                                    "1": "29",
                                    "2": "123.79",
                                    "3": "60",
                                    "4": "0.25"
                                },
                                {
                                    "0": "11030",
                                    "1": "59",
                                    "2": "55.00",
                                    "3": "100",
                                    "4": "0.25"
                                }
                            ]
                        },
                        "text/html": "<table><tr><th>OrderID</th><th>ProductID</th><th>UnitPrice</th><th>Quantity</th><th>Discount</th></tr><tr><td>10263</td><td>16</td><td>13.90</td><td>60</td><td>0.25</td></tr><tr><td>10263</td><td>24</td><td>3.60</td><td>65</td><td>0</td></tr><tr><td>10263</td><td>30</td><td>20.70</td><td>60</td><td>0.25</td></tr><tr><td>10263</td><td>74</td><td>8.00</td><td>65</td><td>0.25</td></tr><tr><td>10658</td><td>21</td><td>10.00</td><td>60</td><td>0</td></tr><tr><td>10658</td><td>40</td><td>18.40</td><td>70</td><td>0.05</td></tr><tr><td>10658</td><td>60</td><td>34.00</td><td>55</td><td>0.05</td></tr><tr><td>10658</td><td>77</td><td>13.00</td><td>70</td><td>0.05</td></tr><tr><td>10990</td><td>21</td><td>10.00</td><td>65</td><td>0</td></tr><tr><td>10990</td><td>34</td><td>14.00</td><td>60</td><td>0.15</td></tr><tr><td>10990</td><td>55</td><td>24.00</td><td>65</td><td>0.15</td></tr><tr><td>10990</td><td>61</td><td>28.50</td><td>66</td><td>0.15</td></tr><tr><td>11030</td><td>2</td><td>19.00</td><td>100</td><td>0.25</td></tr><tr><td>11030</td><td>5</td><td>21.35</td><td>70</td><td>0</td></tr><tr><td>11030</td><td>29</td><td>123.79</td><td>60</td><td>0.25</td></tr><tr><td>11030</td><td>59</td><td>55.00</td><td>100</td><td>0.25</td></tr></table>"
                    },
                    "metadata": {}
                },
                {
                    "output_type": "execute_result",
                    "execution_count": 107,
                    "data": {
                        "application/vnd.dataresource+json": {
                            "schema": {
                                "fields": [
                                    {
                                        "name": "OrderID"
                                    },
                                    {
                                        "name": "ProductID"
                                    },
                                    {
                                        "name": "UnitPrice"
                                    },
                                    {
                                        "name": "Quantity"
                                    },
                                    {
                                        "name": "Discount"
                                    }
                                ]
                            },
                            "data": [
                                {
                                    "0": "10263",
                                    "1": "16",
                                    "2": "13.90",
                                    "3": "60",
                                    "4": "0.25"
                                },
                                {
                                    "0": "10263",
                                    "1": "24",
                                    "2": "3.60",
                                    "3": "65",
                                    "4": "0"
                                },
                                {
                                    "0": "10263",
                                    "1": "30",
                                    "2": "20.70",
                                    "3": "60",
                                    "4": "0.25"
                                },
                                {
                                    "0": "10263",
                                    "1": "74",
                                    "2": "8.00",
                                    "3": "65",
                                    "4": "0.25"
                                },
                                {
                                    "0": "10658",
                                    "1": "21",
                                    "2": "10.00",
                                    "3": "60",
                                    "4": "0"
                                },
                                {
                                    "0": "10658",
                                    "1": "40",
                                    "2": "18.40",
                                    "3": "70",
                                    "4": "0.05"
                                },
                                {
                                    "0": "10658",
                                    "1": "60",
                                    "2": "34.00",
                                    "3": "55",
                                    "4": "0.05"
                                },
                                {
                                    "0": "10658",
                                    "1": "77",
                                    "2": "13.00",
                                    "3": "70",
                                    "4": "0.05"
                                },
                                {
                                    "0": "10990",
                                    "1": "21",
                                    "2": "10.00",
                                    "3": "65",
                                    "4": "0"
                                },
                                {
                                    "0": "10990",
                                    "1": "34",
                                    "2": "14.00",
                                    "3": "60",
                                    "4": "0.15"
                                },
                                {
                                    "0": "10990",
                                    "1": "55",
                                    "2": "24.00",
                                    "3": "65",
                                    "4": "0.15"
                                },
                                {
                                    "0": "10990",
                                    "1": "61",
                                    "2": "28.50",
                                    "3": "66",
                                    "4": "0.15"
                                },
                                {
                                    "0": "11030",
                                    "1": "2",
                                    "2": "19.00",
                                    "3": "100",
                                    "4": "0.25"
                                },
                                {
                                    "0": "11030",
                                    "1": "5",
                                    "2": "21.35",
                                    "3": "70",
                                    "4": "0"
                                },
                                {
                                    "0": "11030",
                                    "1": "29",
                                    "2": "123.79",
                                    "3": "60",
                                    "4": "0.25"
                                },
                                {
                                    "0": "11030",
                                    "1": "59",
                                    "2": "55.00",
                                    "3": "100",
                                    "4": "0.25"
                                }
                            ]
                        },
                        "text/html": "<table><tr><th>OrderID</th><th>ProductID</th><th>UnitPrice</th><th>Quantity</th><th>Discount</th></tr><tr><td>10263</td><td>16</td><td>13.90</td><td>60</td><td>0.25</td></tr><tr><td>10263</td><td>24</td><td>3.60</td><td>65</td><td>0</td></tr><tr><td>10263</td><td>30</td><td>20.70</td><td>60</td><td>0.25</td></tr><tr><td>10263</td><td>74</td><td>8.00</td><td>65</td><td>0.25</td></tr><tr><td>10658</td><td>21</td><td>10.00</td><td>60</td><td>0</td></tr><tr><td>10658</td><td>40</td><td>18.40</td><td>70</td><td>0.05</td></tr><tr><td>10658</td><td>60</td><td>34.00</td><td>55</td><td>0.05</td></tr><tr><td>10658</td><td>77</td><td>13.00</td><td>70</td><td>0.05</td></tr><tr><td>10990</td><td>21</td><td>10.00</td><td>65</td><td>0</td></tr><tr><td>10990</td><td>34</td><td>14.00</td><td>60</td><td>0.15</td></tr><tr><td>10990</td><td>55</td><td>24.00</td><td>65</td><td>0.15</td></tr><tr><td>10990</td><td>61</td><td>28.50</td><td>66</td><td>0.15</td></tr><tr><td>11030</td><td>2</td><td>19.00</td><td>100</td><td>0.25</td></tr><tr><td>11030</td><td>5</td><td>21.35</td><td>70</td><td>0</td></tr><tr><td>11030</td><td>29</td><td>123.79</td><td>60</td><td>0.25</td></tr><tr><td>11030</td><td>59</td><td>55.00</td><td>100</td><td>0.25</td></tr></table>"
                    },
                    "metadata": {}
                },
                {
                    "output_type": "execute_result",
                    "execution_count": 107,
                    "data": {
                        "application/vnd.dataresource+json": {
                            "schema": {
                                "fields": [
                                    {
                                        "name": "OrderID"
                                    },
                                    {
                                        "name": "ProductID"
                                    },
                                    {
                                        "name": "UnitPrice"
                                    },
                                    {
                                        "name": "Quantity"
                                    },
                                    {
                                        "name": "Discount"
                                    }
                                ]
                            },
                            "data": [
                                {
                                    "0": "10263",
                                    "1": "16",
                                    "2": "13.90",
                                    "3": "60",
                                    "4": "0.25"
                                },
                                {
                                    "0": "10263",
                                    "1": "24",
                                    "2": "3.60",
                                    "3": "65",
                                    "4": "0"
                                },
                                {
                                    "0": "10263",
                                    "1": "30",
                                    "2": "20.70",
                                    "3": "60",
                                    "4": "0.25"
                                },
                                {
                                    "0": "10263",
                                    "1": "74",
                                    "2": "8.00",
                                    "3": "65",
                                    "4": "0.25"
                                },
                                {
                                    "0": "10658",
                                    "1": "21",
                                    "2": "10.00",
                                    "3": "60",
                                    "4": "0"
                                },
                                {
                                    "0": "10658",
                                    "1": "40",
                                    "2": "18.40",
                                    "3": "70",
                                    "4": "0.05"
                                },
                                {
                                    "0": "10658",
                                    "1": "60",
                                    "2": "34.00",
                                    "3": "55",
                                    "4": "0.05"
                                },
                                {
                                    "0": "10658",
                                    "1": "77",
                                    "2": "13.00",
                                    "3": "70",
                                    "4": "0.05"
                                },
                                {
                                    "0": "10990",
                                    "1": "21",
                                    "2": "10.00",
                                    "3": "65",
                                    "4": "0"
                                },
                                {
                                    "0": "10990",
                                    "1": "34",
                                    "2": "14.00",
                                    "3": "60",
                                    "4": "0.15"
                                },
                                {
                                    "0": "10990",
                                    "1": "55",
                                    "2": "24.00",
                                    "3": "65",
                                    "4": "0.15"
                                },
                                {
                                    "0": "10990",
                                    "1": "61",
                                    "2": "28.50",
                                    "3": "66",
                                    "4": "0.15"
                                },
                                {
                                    "0": "11030",
                                    "1": "2",
                                    "2": "19.00",
                                    "3": "100",
                                    "4": "0.25"
                                },
                                {
                                    "0": "11030",
                                    "1": "5",
                                    "2": "21.35",
                                    "3": "70",
                                    "4": "0"
                                },
                                {
                                    "0": "11030",
                                    "1": "29",
                                    "2": "123.79",
                                    "3": "60",
                                    "4": "0.25"
                                },
                                {
                                    "0": "11030",
                                    "1": "59",
                                    "2": "55.00",
                                    "3": "100",
                                    "4": "0.25"
                                }
                            ]
                        },
                        "text/html": "<table><tr><th>OrderID</th><th>ProductID</th><th>UnitPrice</th><th>Quantity</th><th>Discount</th></tr><tr><td>10263</td><td>16</td><td>13.90</td><td>60</td><td>0.25</td></tr><tr><td>10263</td><td>24</td><td>3.60</td><td>65</td><td>0</td></tr><tr><td>10263</td><td>30</td><td>20.70</td><td>60</td><td>0.25</td></tr><tr><td>10263</td><td>74</td><td>8.00</td><td>65</td><td>0.25</td></tr><tr><td>10658</td><td>21</td><td>10.00</td><td>60</td><td>0</td></tr><tr><td>10658</td><td>40</td><td>18.40</td><td>70</td><td>0.05</td></tr><tr><td>10658</td><td>60</td><td>34.00</td><td>55</td><td>0.05</td></tr><tr><td>10658</td><td>77</td><td>13.00</td><td>70</td><td>0.05</td></tr><tr><td>10990</td><td>21</td><td>10.00</td><td>65</td><td>0</td></tr><tr><td>10990</td><td>34</td><td>14.00</td><td>60</td><td>0.15</td></tr><tr><td>10990</td><td>55</td><td>24.00</td><td>65</td><td>0.15</td></tr><tr><td>10990</td><td>61</td><td>28.50</td><td>66</td><td>0.15</td></tr><tr><td>11030</td><td>2</td><td>19.00</td><td>100</td><td>0.25</td></tr><tr><td>11030</td><td>5</td><td>21.35</td><td>70</td><td>0</td></tr><tr><td>11030</td><td>29</td><td>123.79</td><td>60</td><td>0.25</td></tr><tr><td>11030</td><td>59</td><td>55.00</td><td>100</td><td>0.25</td></tr></table>"
                    },
                    "metadata": {}
                }
            ],
            "execution_count": 107
        },
        {
            "cell_type": "markdown",
            "source": [
                "### 9\\. Orders-accidental double-entry details, derived table\n",
                "\n",
                "Perform the same query as above but this time using a derived table."
            ],
            "metadata": {
                "language": "sql",
                "azdata_cell_guid": "42b97b13-a5a2-43bf-ad77-38e68a1bd0db"
            },
            "attachments": {}
        },
        {
            "cell_type": "code",
            "source": [
                "SELECT OrderDetails.OrderID, ProductID, UnitPrice, Quantity, Discount\r\n",
                "FROM OrderDetails\r\n",
                "    INNER JOIN (\r\n",
                "        SELECT DISTINCT OrderID\r\n",
                "        FROM OrderDetails\r\n",
                "        WHERE Quantity >= 60\r\n",
                "        GROUP BY OrderID, Quantity\r\n",
                "        HAVING COUNT(*) > 1\r\n",
                "    ) AS Duplicates\r\n",
                "        ON OrderDetails.OrderID = Duplicates.OrderID;"
            ],
            "metadata": {
                "language": "sql",
                "azdata_cell_guid": "082ae660-8020-4a32-8030-81763ab4b0d7"
            },
            "outputs": [
                {
                    "output_type": "display_data",
                    "data": {
                        "text/html": "(16 rows affected)"
                    },
                    "metadata": {}
                },
                {
                    "output_type": "display_data",
                    "data": {
                        "text/html": "Total execution time: 00:00:00.005"
                    },
                    "metadata": {}
                },
                {
                    "output_type": "execute_result",
                    "execution_count": 106,
                    "data": {
                        "application/vnd.dataresource+json": {
                            "schema": {
                                "fields": [
                                    {
                                        "name": "OrderID"
                                    },
                                    {
                                        "name": "ProductID"
                                    },
                                    {
                                        "name": "UnitPrice"
                                    },
                                    {
                                        "name": "Quantity"
                                    },
                                    {
                                        "name": "Discount"
                                    }
                                ]
                            },
                            "data": [
                                {
                                    "0": "10263",
                                    "1": "16",
                                    "2": "13.90",
                                    "3": "60",
                                    "4": "0.25"
                                },
                                {
                                    "0": "10263",
                                    "1": "24",
                                    "2": "3.60",
                                    "3": "65",
                                    "4": "0"
                                },
                                {
                                    "0": "10263",
                                    "1": "30",
                                    "2": "20.70",
                                    "3": "60",
                                    "4": "0.25"
                                },
                                {
                                    "0": "10263",
                                    "1": "74",
                                    "2": "8.00",
                                    "3": "65",
                                    "4": "0.25"
                                },
                                {
                                    "0": "10658",
                                    "1": "21",
                                    "2": "10.00",
                                    "3": "60",
                                    "4": "0"
                                },
                                {
                                    "0": "10658",
                                    "1": "40",
                                    "2": "18.40",
                                    "3": "70",
                                    "4": "0.05"
                                },
                                {
                                    "0": "10658",
                                    "1": "60",
                                    "2": "34.00",
                                    "3": "55",
                                    "4": "0.05"
                                },
                                {
                                    "0": "10658",
                                    "1": "77",
                                    "2": "13.00",
                                    "3": "70",
                                    "4": "0.05"
                                },
                                {
                                    "0": "10990",
                                    "1": "21",
                                    "2": "10.00",
                                    "3": "65",
                                    "4": "0"
                                },
                                {
                                    "0": "10990",
                                    "1": "34",
                                    "2": "14.00",
                                    "3": "60",
                                    "4": "0.15"
                                },
                                {
                                    "0": "10990",
                                    "1": "55",
                                    "2": "24.00",
                                    "3": "65",
                                    "4": "0.15"
                                },
                                {
                                    "0": "10990",
                                    "1": "61",
                                    "2": "28.50",
                                    "3": "66",
                                    "4": "0.15"
                                },
                                {
                                    "0": "11030",
                                    "1": "2",
                                    "2": "19.00",
                                    "3": "100",
                                    "4": "0.25"
                                },
                                {
                                    "0": "11030",
                                    "1": "5",
                                    "2": "21.35",
                                    "3": "70",
                                    "4": "0"
                                },
                                {
                                    "0": "11030",
                                    "1": "29",
                                    "2": "123.79",
                                    "3": "60",
                                    "4": "0.25"
                                },
                                {
                                    "0": "11030",
                                    "1": "59",
                                    "2": "55.00",
                                    "3": "100",
                                    "4": "0.25"
                                }
                            ]
                        },
                        "text/html": "<table><tr><th>OrderID</th><th>ProductID</th><th>UnitPrice</th><th>Quantity</th><th>Discount</th></tr><tr><td>10263</td><td>16</td><td>13.90</td><td>60</td><td>0.25</td></tr><tr><td>10263</td><td>24</td><td>3.60</td><td>65</td><td>0</td></tr><tr><td>10263</td><td>30</td><td>20.70</td><td>60</td><td>0.25</td></tr><tr><td>10263</td><td>74</td><td>8.00</td><td>65</td><td>0.25</td></tr><tr><td>10658</td><td>21</td><td>10.00</td><td>60</td><td>0</td></tr><tr><td>10658</td><td>40</td><td>18.40</td><td>70</td><td>0.05</td></tr><tr><td>10658</td><td>60</td><td>34.00</td><td>55</td><td>0.05</td></tr><tr><td>10658</td><td>77</td><td>13.00</td><td>70</td><td>0.05</td></tr><tr><td>10990</td><td>21</td><td>10.00</td><td>65</td><td>0</td></tr><tr><td>10990</td><td>34</td><td>14.00</td><td>60</td><td>0.15</td></tr><tr><td>10990</td><td>55</td><td>24.00</td><td>65</td><td>0.15</td></tr><tr><td>10990</td><td>61</td><td>28.50</td><td>66</td><td>0.15</td></tr><tr><td>11030</td><td>2</td><td>19.00</td><td>100</td><td>0.25</td></tr><tr><td>11030</td><td>5</td><td>21.35</td><td>70</td><td>0</td></tr><tr><td>11030</td><td>29</td><td>123.79</td><td>60</td><td>0.25</td></tr><tr><td>11030</td><td>59</td><td>55.00</td><td>100</td><td>0.25</td></tr></table>"
                    },
                    "metadata": {}
                }
            ],
            "execution_count": 106
        },
        {
            "cell_type": "markdown",
            "source": [
                "### 10\\. Late orders\n",
                "\n",
                "Some customers are complaining about their orders arriving late. Which orders are late? Sort the results by OrderID."
            ],
            "metadata": {
                "language": "sql",
                "azdata_cell_guid": "2ed212c2-d7f1-4b30-b495-760c73e4c116"
            },
            "attachments": {}
        },
        {
            "cell_type": "code",
            "source": [
                "SELECT OrderID, \r\n",
                "CAST(OrderDate AS DATE) AS OrderDate, \r\n",
                "CAST(RequiredDate AS DATE) AS RequiredDate, \r\n",
                "CAST(ShippedDate AS DATE) AS ShippedDate\r\n",
                "FROM Orders\r\n",
                "WHERE RequiredDate <= ShippedDate\r\n",
                "ORDER BY OrderID;"
            ],
            "metadata": {
                "language": "sql",
                "azdata_cell_guid": "5a9a4bfd-e031-4133-a8d6-da6d85d5c80a",
                "tags": []
            },
            "outputs": [
                {
                    "output_type": "display_data",
                    "data": {
                        "text/html": "(39 rows affected)"
                    },
                    "metadata": {}
                },
                {
                    "output_type": "display_data",
                    "data": {
                        "text/html": "Total execution time: 00:00:00.004"
                    },
                    "metadata": {}
                },
                {
                    "output_type": "execute_result",
                    "execution_count": 119,
                    "data": {
                        "application/vnd.dataresource+json": {
                            "schema": {
                                "fields": [
                                    {
                                        "name": "OrderID"
                                    },
                                    {
                                        "name": "OrderDate"
                                    },
                                    {
                                        "name": "RequiredDate"
                                    },
                                    {
                                        "name": "ShippedDate"
                                    }
                                ]
                            },
                            "data": [
                                {
                                    "0": "10264",
                                    "1": "2014-07-24",
                                    "2": "2014-08-21",
                                    "3": "2014-08-23"
                                },
                                {
                                    "0": "10271",
                                    "1": "2014-08-01",
                                    "2": "2014-08-29",
                                    "3": "2014-08-30"
                                },
                                {
                                    "0": "10280",
                                    "1": "2014-08-14",
                                    "2": "2014-09-11",
                                    "3": "2014-09-12"
                                },
                                {
                                    "0": "10302",
                                    "1": "2014-09-10",
                                    "2": "2014-10-08",
                                    "3": "2014-10-09"
                                },
                                {
                                    "0": "10309",
                                    "1": "2014-09-19",
                                    "2": "2014-10-17",
                                    "3": "2014-10-23"
                                },
                                {
                                    "0": "10380",
                                    "1": "2014-12-12",
                                    "2": "2015-01-09",
                                    "3": "2015-01-16"
                                },
                                {
                                    "0": "10423",
                                    "1": "2015-01-23",
                                    "2": "2015-02-06",
                                    "3": "2015-02-24"
                                },
                                {
                                    "0": "10427",
                                    "1": "2015-01-27",
                                    "2": "2015-02-24",
                                    "3": "2015-03-03"
                                },
                                {
                                    "0": "10433",
                                    "1": "2015-02-03",
                                    "2": "2015-03-03",
                                    "3": "2015-03-04"
                                },
                                {
                                    "0": "10451",
                                    "1": "2015-02-19",
                                    "2": "2015-03-05",
                                    "3": "2015-03-12"
                                },
                                {
                                    "0": "10483",
                                    "1": "2015-03-24",
                                    "2": "2015-04-21",
                                    "3": "2015-04-25"
                                },
                                {
                                    "0": "10515",
                                    "1": "2015-04-23",
                                    "2": "2015-05-07",
                                    "3": "2015-05-23"
                                },
                                {
                                    "0": "10523",
                                    "1": "2015-05-01",
                                    "2": "2015-05-29",
                                    "3": "2015-05-30"
                                },
                                {
                                    "0": "10545",
                                    "1": "2015-05-22",
                                    "2": "2015-06-19",
                                    "3": "2015-06-26"
                                },
                                {
                                    "0": "10578",
                                    "1": "2015-06-24",
                                    "2": "2015-07-22",
                                    "3": "2015-07-25"
                                },
                                {
                                    "0": "10593",
                                    "1": "2015-07-09",
                                    "2": "2015-08-06",
                                    "3": "2015-08-13"
                                },
                                {
                                    "0": "10596",
                                    "1": "2015-07-11",
                                    "2": "2015-08-08",
                                    "3": "2015-08-12"
                                },
                                {
                                    "0": "10660",
                                    "1": "2015-09-08",
                                    "2": "2015-10-06",
                                    "3": "2015-10-15"
                                },
                                {
                                    "0": "10663",
                                    "1": "2015-09-10",
                                    "2": "2015-09-24",
                                    "3": "2015-10-03"
                                },
                                {
                                    "0": "10687",
                                    "1": "2015-09-30",
                                    "2": "2015-10-28",
                                    "3": "2015-10-30"
                                },
                                {
                                    "0": "10705",
                                    "1": "2015-10-15",
                                    "2": "2015-11-12",
                                    "3": "2015-11-18"
                                },
                                {
                                    "0": "10709",
                                    "1": "2015-10-17",
                                    "2": "2015-11-14",
                                    "3": "2015-11-20"
                                },
                                {
                                    "0": "10726",
                                    "1": "2015-11-03",
                                    "2": "2015-11-17",
                                    "3": "2015-12-05"
                                },
                                {
                                    "0": "10727",
                                    "1": "2015-11-03",
                                    "2": "2015-12-01",
                                    "3": "2015-12-05"
                                },
                                {
                                    "0": "10749",
                                    "1": "2015-11-20",
                                    "2": "2015-12-18",
                                    "3": "2015-12-19"
                                },
                                {
                                    "0": "10777",
                                    "1": "2015-12-15",
                                    "2": "2015-12-29",
                                    "3": "2016-01-21"
                                },
                                {
                                    "0": "10779",
                                    "1": "2015-12-16",
                                    "2": "2016-01-13",
                                    "3": "2016-01-14"
                                },
                                {
                                    "0": "10788",
                                    "1": "2015-12-22",
                                    "2": "2016-01-19",
                                    "3": "2016-01-19"
                                },
                                {
                                    "0": "10807",
                                    "1": "2015-12-31",
                                    "2": "2016-01-28",
                                    "3": "2016-01-30"
                                },
                                {
                                    "0": "10816",
                                    "1": "2016-01-06",
                                    "2": "2016-02-03",
                                    "3": "2016-02-04"
                                },
                                {
                                    "0": "10827",
                                    "1": "2016-01-12",
                                    "2": "2016-01-26",
                                    "3": "2016-02-06"
                                },
                                {
                                    "0": "10828",
                                    "1": "2016-01-13",
                                    "2": "2016-01-27",
                                    "3": "2016-02-04"
                                },
                                {
                                    "0": "10847",
                                    "1": "2016-01-22",
                                    "2": "2016-02-05",
                                    "3": "2016-02-10"
                                },
                                {
                                    "0": "10924",
                                    "1": "2016-03-04",
                                    "2": "2016-04-01",
                                    "3": "2016-04-08"
                                },
                                {
                                    "0": "10927",
                                    "1": "2016-03-05",
                                    "2": "2016-04-02",
                                    "3": "2016-04-08"
                                },
                                {
                                    "0": "10960",
                                    "1": "2016-03-19",
                                    "2": "2016-04-02",
                                    "3": "2016-04-08"
                                },
                                {
                                    "0": "10970",
                                    "1": "2016-03-24",
                                    "2": "2016-04-07",
                                    "3": "2016-04-24"
                                },
                                {
                                    "0": "10978",
                                    "1": "2016-03-26",
                                    "2": "2016-04-23",
                                    "3": "2016-04-23"
                                },
                                {
                                    "0": "10998",
                                    "1": "2016-04-03",
                                    "2": "2016-04-17",
                                    "3": "2016-04-17"
                                }
                            ]
                        },
                        "text/html": "<table><tr><th>OrderID</th><th>OrderDate</th><th>RequiredDate</th><th>ShippedDate</th></tr><tr><td>10264</td><td>2014-07-24</td><td>2014-08-21</td><td>2014-08-23</td></tr><tr><td>10271</td><td>2014-08-01</td><td>2014-08-29</td><td>2014-08-30</td></tr><tr><td>10280</td><td>2014-08-14</td><td>2014-09-11</td><td>2014-09-12</td></tr><tr><td>10302</td><td>2014-09-10</td><td>2014-10-08</td><td>2014-10-09</td></tr><tr><td>10309</td><td>2014-09-19</td><td>2014-10-17</td><td>2014-10-23</td></tr><tr><td>10380</td><td>2014-12-12</td><td>2015-01-09</td><td>2015-01-16</td></tr><tr><td>10423</td><td>2015-01-23</td><td>2015-02-06</td><td>2015-02-24</td></tr><tr><td>10427</td><td>2015-01-27</td><td>2015-02-24</td><td>2015-03-03</td></tr><tr><td>10433</td><td>2015-02-03</td><td>2015-03-03</td><td>2015-03-04</td></tr><tr><td>10451</td><td>2015-02-19</td><td>2015-03-05</td><td>2015-03-12</td></tr><tr><td>10483</td><td>2015-03-24</td><td>2015-04-21</td><td>2015-04-25</td></tr><tr><td>10515</td><td>2015-04-23</td><td>2015-05-07</td><td>2015-05-23</td></tr><tr><td>10523</td><td>2015-05-01</td><td>2015-05-29</td><td>2015-05-30</td></tr><tr><td>10545</td><td>2015-05-22</td><td>2015-06-19</td><td>2015-06-26</td></tr><tr><td>10578</td><td>2015-06-24</td><td>2015-07-22</td><td>2015-07-25</td></tr><tr><td>10593</td><td>2015-07-09</td><td>2015-08-06</td><td>2015-08-13</td></tr><tr><td>10596</td><td>2015-07-11</td><td>2015-08-08</td><td>2015-08-12</td></tr><tr><td>10660</td><td>2015-09-08</td><td>2015-10-06</td><td>2015-10-15</td></tr><tr><td>10663</td><td>2015-09-10</td><td>2015-09-24</td><td>2015-10-03</td></tr><tr><td>10687</td><td>2015-09-30</td><td>2015-10-28</td><td>2015-10-30</td></tr><tr><td>10705</td><td>2015-10-15</td><td>2015-11-12</td><td>2015-11-18</td></tr><tr><td>10709</td><td>2015-10-17</td><td>2015-11-14</td><td>2015-11-20</td></tr><tr><td>10726</td><td>2015-11-03</td><td>2015-11-17</td><td>2015-12-05</td></tr><tr><td>10727</td><td>2015-11-03</td><td>2015-12-01</td><td>2015-12-05</td></tr><tr><td>10749</td><td>2015-11-20</td><td>2015-12-18</td><td>2015-12-19</td></tr><tr><td>10777</td><td>2015-12-15</td><td>2015-12-29</td><td>2016-01-21</td></tr><tr><td>10779</td><td>2015-12-16</td><td>2016-01-13</td><td>2016-01-14</td></tr><tr><td>10788</td><td>2015-12-22</td><td>2016-01-19</td><td>2016-01-19</td></tr><tr><td>10807</td><td>2015-12-31</td><td>2016-01-28</td><td>2016-01-30</td></tr><tr><td>10816</td><td>2016-01-06</td><td>2016-02-03</td><td>2016-02-04</td></tr><tr><td>10827</td><td>2016-01-12</td><td>2016-01-26</td><td>2016-02-06</td></tr><tr><td>10828</td><td>2016-01-13</td><td>2016-01-27</td><td>2016-02-04</td></tr><tr><td>10847</td><td>2016-01-22</td><td>2016-02-05</td><td>2016-02-10</td></tr><tr><td>10924</td><td>2016-03-04</td><td>2016-04-01</td><td>2016-04-08</td></tr><tr><td>10927</td><td>2016-03-05</td><td>2016-04-02</td><td>2016-04-08</td></tr><tr><td>10960</td><td>2016-03-19</td><td>2016-04-02</td><td>2016-04-08</td></tr><tr><td>10970</td><td>2016-03-24</td><td>2016-04-07</td><td>2016-04-24</td></tr><tr><td>10978</td><td>2016-03-26</td><td>2016-04-23</td><td>2016-04-23</td></tr><tr><td>10998</td><td>2016-04-03</td><td>2016-04-17</td><td>2016-04-17</td></tr></table>"
                    },
                    "metadata": {}
                }
            ],
            "execution_count": 119
        },
        {
            "cell_type": "markdown",
            "source": [
                "### 11\\. Late orders-which employees?\n",
                "\n",
                "Some salespeople have more orders arriving late than others. Maybe they're not following up on the order process, and need more training. Which salespeople have the most orders arriving late?"
            ],
            "metadata": {
                "azdata_cell_guid": "cb03652e-137f-47b2-99bf-5992c7b3d9d0"
            },
            "attachments": {}
        },
        {
            "cell_type": "code",
            "source": [
                "SELECT O.EmployeeID, E.LastName, COUNT(*) AS TotalLateOrders\r\n",
                "FROM Orders AS O\r\n",
                "    INNER JOIN Employees AS E\r\n",
                "        ON O.EmployeeID = E.EmployeeID\r\n",
                "WHERE RequiredDate <= ShippedDate\r\n",
                "GROUP BY O.EmployeeID, E.LastName\r\n",
                "ORDER BY TotalLateOrders DESC;\r\n",
                ""
            ],
            "metadata": {
                "azdata_cell_guid": "6918c29f-2c67-4915-92fc-9009270c1aa9",
                "language": "sql"
            },
            "outputs": [
                {
                    "output_type": "display_data",
                    "data": {
                        "text/html": "(8 rows affected)"
                    },
                    "metadata": {}
                },
                {
                    "output_type": "display_data",
                    "data": {
                        "text/html": "Total execution time: 00:00:00.005"
                    },
                    "metadata": {}
                },
                {
                    "output_type": "execute_result",
                    "metadata": {},
                    "execution_count": 2,
                    "data": {
                        "application/vnd.dataresource+json": {
                            "schema": {
                                "fields": [
                                    {
                                        "name": "EmployeeID"
                                    },
                                    {
                                        "name": "LastName"
                                    },
                                    {
                                        "name": "TotalLateOrders"
                                    }
                                ]
                            },
                            "data": [
                                {
                                    "0": "4",
                                    "1": "Peacock",
                                    "2": "10"
                                },
                                {
                                    "0": "3",
                                    "1": "Leverling",
                                    "2": "5"
                                },
                                {
                                    "0": "8",
                                    "1": "Callahan",
                                    "2": "5"
                                },
                                {
                                    "0": "9",
                                    "1": "Dodsworth",
                                    "2": "5"
                                },
                                {
                                    "0": "7",
                                    "1": "King",
                                    "2": "4"
                                },
                                {
                                    "0": "2",
                                    "1": "Fuller",
                                    "2": "4"
                                },
                                {
                                    "0": "1",
                                    "1": "Davolio",
                                    "2": "3"
                                },
                                {
                                    "0": "6",
                                    "1": "Suyama",
                                    "2": "3"
                                }
                            ]
                        },
                        "text/html": [
                            "<table>",
                            "<tr><th>EmployeeID</th><th>LastName</th><th>TotalLateOrders</th></tr>",
                            "<tr><td>4</td><td>Peacock</td><td>10</td></tr>",
                            "<tr><td>3</td><td>Leverling</td><td>5</td></tr>",
                            "<tr><td>8</td><td>Callahan</td><td>5</td></tr>",
                            "<tr><td>9</td><td>Dodsworth</td><td>5</td></tr>",
                            "<tr><td>7</td><td>King</td><td>4</td></tr>",
                            "<tr><td>2</td><td>Fuller</td><td>4</td></tr>",
                            "<tr><td>1</td><td>Davolio</td><td>3</td></tr>",
                            "<tr><td>6</td><td>Suyama</td><td>3</td></tr>",
                            "</table>"
                        ]
                    }
                }
            ],
            "execution_count": 2
        },
        {
            "cell_type": "markdown",
            "source": [
                "### 12\\. Late orders vs. total orders\n",
                "\n",
                "The VP of sales, has been doing some more thinking on the problem of late orders. She realizes that just looking at the number of orders arriving late for each salesperson isnt' a good idea. It needs to be compared against the _total_ number of orders per salesperson. Return the columns EmployeeID, LastName, AllOrders, LateOrders."
            ],
            "metadata": {
                "language": "sql",
                "azdata_cell_guid": "1ff4d4f2-03ea-4815-bc6b-b3c51d080693"
            },
            "attachments": {}
        },
        {
            "cell_type": "code",
            "source": [
                "WITH AllOrders\r\n",
                "AS\r\n",
                "(\r\n",
                "    SELECT EmployeeID, COUNT(*) AS AllOrders\r\n",
                "    FROM Orders\r\n",
                "    GROUP BY EmployeeID\r\n",
                "),\r\n",
                "LateOrders\r\n",
                "AS\r\n",
                "(\r\n",
                "    SELECT EmployeeID, COUNT(*) AS LateOrders\r\n",
                "    FROM Orders\r\n",
                "    WHERE RequiredDate <= ShippedDate\r\n",
                "    GROUP BY EmployeeID\r\n",
                ")\r\n",
                "SELECT LO.EmployeeID, E.LastName, AO.AllOrders, LO.LateOrders\r\n",
                "FROM Employees AS E\r\n",
                "    INNER JOIN AllOrders AS AO\r\n",
                "        ON E.EmployeeID = AO.EmployeeID\r\n",
                "    INNER JOIN LateOrders AS LO\r\n",
                "        ON E.EmployeeID = LO.EmployeeID\r\n",
                "ORDER BY EmployeeID;"
            ],
            "metadata": {
                "language": "sql",
                "azdata_cell_guid": "6c5144b9-7d78-4e06-801b-1d651c2bba3d"
            },
            "outputs": [
                {
                    "output_type": "display_data",
                    "data": {
                        "text/html": "(8 rows affected)"
                    },
                    "metadata": {}
                },
                {
                    "output_type": "display_data",
                    "data": {
                        "text/html": "Total execution time: 00:00:00.005"
                    },
                    "metadata": {}
                },
                {
                    "output_type": "execute_result",
                    "metadata": {},
                    "execution_count": 16,
                    "data": {
                        "application/vnd.dataresource+json": {
                            "schema": {
                                "fields": [
                                    {
                                        "name": "EmployeeID"
                                    },
                                    {
                                        "name": "LastName"
                                    },
                                    {
                                        "name": "AllOrders"
                                    },
                                    {
                                        "name": "LateOrders"
                                    }
                                ]
                            },
                            "data": [
                                {
                                    "0": "1",
                                    "1": "Davolio",
                                    "2": "123",
                                    "3": "3"
                                },
                                {
                                    "0": "2",
                                    "1": "Fuller",
                                    "2": "96",
                                    "3": "4"
                                },
                                {
                                    "0": "3",
                                    "1": "Leverling",
                                    "2": "127",
                                    "3": "5"
                                },
                                {
                                    "0": "4",
                                    "1": "Peacock",
                                    "2": "156",
                                    "3": "10"
                                },
                                {
                                    "0": "6",
                                    "1": "Suyama",
                                    "2": "67",
                                    "3": "3"
                                },
                                {
                                    "0": "7",
                                    "1": "King",
                                    "2": "72",
                                    "3": "4"
                                },
                                {
                                    "0": "8",
                                    "1": "Callahan",
                                    "2": "104",
                                    "3": "5"
                                },
                                {
                                    "0": "9",
                                    "1": "Dodsworth",
                                    "2": "43",
                                    "3": "5"
                                }
                            ]
                        },
                        "text/html": [
                            "<table>",
                            "<tr><th>EmployeeID</th><th>LastName</th><th>AllOrders</th><th>LateOrders</th></tr>",
                            "<tr><td>1</td><td>Davolio</td><td>123</td><td>3</td></tr>",
                            "<tr><td>2</td><td>Fuller</td><td>96</td><td>4</td></tr>",
                            "<tr><td>3</td><td>Leverling</td><td>127</td><td>5</td></tr>",
                            "<tr><td>4</td><td>Peacock</td><td>156</td><td>10</td></tr>",
                            "<tr><td>6</td><td>Suyama</td><td>67</td><td>3</td></tr>",
                            "<tr><td>7</td><td>King</td><td>72</td><td>4</td></tr>",
                            "<tr><td>8</td><td>Callahan</td><td>104</td><td>5</td></tr>",
                            "<tr><td>9</td><td>Dodsworth</td><td>43</td><td>5</td></tr>",
                            "</table>"
                        ]
                    }
                }
            ],
            "execution_count": 16
        },
        {
            "cell_type": "markdown",
            "source": [
                "### 13\\. Late orders vs total orders-missing employee\n",
                "\n",
                "There's an employee missing in the answer from the problem above. Fix the SQL to show all employees who have taken orders."
            ],
            "metadata": {
                "language": "sql",
                "azdata_cell_guid": "491c43e1-cf35-49e1-8f17-d698916999e4"
            },
            "attachments": {}
        },
        {
            "cell_type": "code",
            "source": [
                "With AllOrders\r\n",
                "AS\r\n",
                "(\r\n",
                "    SELECT EmployeeID, COUNT(*) AS AllOrders\r\n",
                "    FROM Orders\r\n",
                "    GROUP BY EmployeeID\r\n",
                "),\r\n",
                "LateOrders\r\n",
                "AS\r\n",
                "(\r\n",
                "    SELECT EmployeeID, COUNT(*) AS LateOrders\r\n",
                "    FROM Orders\r\n",
                "    WHERE RequiredDate <= ShippedDate\r\n",
                "    GROUP BY EmployeeID\r\n",
                ")\r\n",
                "SELECT E.EmployeeID, E.LastName, AO.AllOrders, LO.LateOrders\r\n",
                "FROM Employees AS E\r\n",
                "    INNER JOIN AllOrders AS AO\r\n",
                "        ON E.EmployeeID = AO.EmployeeID\r\n",
                "    LEFT OUTER JOIN LateOrders AS LO\r\n",
                "        ON E.EmployeeID = LO.EmployeeID\r\n",
                "ORDER BY EmployeeID;"
            ],
            "metadata": {
                "language": "sql",
                "azdata_cell_guid": "e57ee95c-e6df-479c-9e89-b0e1e071f134"
            },
            "outputs": [
                {
                    "output_type": "display_data",
                    "data": {
                        "text/html": "(9 rows affected)"
                    },
                    "metadata": {}
                },
                {
                    "output_type": "display_data",
                    "data": {
                        "text/html": "Total execution time: 00:00:00.007"
                    },
                    "metadata": {}
                },
                {
                    "output_type": "execute_result",
                    "metadata": {},
                    "execution_count": 12,
                    "data": {
                        "application/vnd.dataresource+json": {
                            "schema": {
                                "fields": [
                                    {
                                        "name": "EmployeeID"
                                    },
                                    {
                                        "name": "LastName"
                                    },
                                    {
                                        "name": "AllOrders"
                                    },
                                    {
                                        "name": "LateOrders"
                                    }
                                ]
                            },
                            "data": [
                                {
                                    "0": "1",
                                    "1": "Davolio",
                                    "2": "123",
                                    "3": "3"
                                },
                                {
                                    "0": "2",
                                    "1": "Fuller",
                                    "2": "96",
                                    "3": "4"
                                },
                                {
                                    "0": "3",
                                    "1": "Leverling",
                                    "2": "127",
                                    "3": "5"
                                },
                                {
                                    "0": "4",
                                    "1": "Peacock",
                                    "2": "156",
                                    "3": "10"
                                },
                                {
                                    "0": "5",
                                    "1": "Buchanan",
                                    "2": "42",
                                    "3": "NULL"
                                },
                                {
                                    "0": "6",
                                    "1": "Suyama",
                                    "2": "67",
                                    "3": "3"
                                },
                                {
                                    "0": "7",
                                    "1": "King",
                                    "2": "72",
                                    "3": "4"
                                },
                                {
                                    "0": "8",
                                    "1": "Callahan",
                                    "2": "104",
                                    "3": "5"
                                },
                                {
                                    "0": "9",
                                    "1": "Dodsworth",
                                    "2": "43",
                                    "3": "5"
                                }
                            ]
                        },
                        "text/html": [
                            "<table>",
                            "<tr><th>EmployeeID</th><th>LastName</th><th>AllOrders</th><th>LateOrders</th></tr>",
                            "<tr><td>1</td><td>Davolio</td><td>123</td><td>3</td></tr>",
                            "<tr><td>2</td><td>Fuller</td><td>96</td><td>4</td></tr>",
                            "<tr><td>3</td><td>Leverling</td><td>127</td><td>5</td></tr>",
                            "<tr><td>4</td><td>Peacock</td><td>156</td><td>10</td></tr>",
                            "<tr><td>5</td><td>Buchanan</td><td>42</td><td>NULL</td></tr>",
                            "<tr><td>6</td><td>Suyama</td><td>67</td><td>3</td></tr>",
                            "<tr><td>7</td><td>King</td><td>72</td><td>4</td></tr>",
                            "<tr><td>8</td><td>Callahan</td><td>104</td><td>5</td></tr>",
                            "<tr><td>9</td><td>Dodsworth</td><td>43</td><td>5</td></tr>",
                            "</table>"
                        ]
                    }
                }
            ],
            "execution_count": 12
        },
        {
            "cell_type": "markdown",
            "source": [
                "### 14\\. Late orders vs. total orders-fix null\n",
                "\n",
                "Continuing on the answer from the above query, fix the results for row 5 - Buchanan. He should have a 0 instead of NULL in LateOrders."
            ],
            "metadata": {
                "language": "sql",
                "azdata_cell_guid": "5d1df4ba-4de4-4821-b719-8cbdce46ce82"
            },
            "attachments": {}
        },
        {
            "cell_type": "code",
            "source": [
                "With AllOrders\r\n",
                "AS\r\n",
                "(\r\n",
                "    SELECT EmployeeID, COUNT(*) AS AllOrders\r\n",
                "    FROM Orders\r\n",
                "    GROUP BY EmployeeID\r\n",
                "),\r\n",
                "LateOrders\r\n",
                "AS\r\n",
                "(\r\n",
                "    SELECT EmployeeID, COUNT(*) AS LateOrders\r\n",
                "    FROM Orders\r\n",
                "    WHERE RequiredDate <= ShippedDate\r\n",
                "    GROUP BY EmployeeID\r\n",
                ")\r\n",
                "SELECT E.EmployeeID, E.LastName, AO.AllOrders, COALESCE(LO.LateOrders, 0) AS LateOrders\r\n",
                "FROM Employees AS E\r\n",
                "    INNER JOIN AllOrders AS AO\r\n",
                "        ON E.EmployeeID = AO.EmployeeID\r\n",
                "    LEFT OUTER JOIN LateOrders AS LO\r\n",
                "        ON E.EmployeeID = LO.EmployeeID\r\n",
                "ORDER BY EmployeeID;"
            ],
            "metadata": {
                "language": "sql",
                "azdata_cell_guid": "e5a061e1-d60a-4c38-83f0-c8391c7638b1"
            },
            "outputs": [
                {
                    "output_type": "display_data",
                    "data": {
                        "text/html": "(9 rows affected)"
                    },
                    "metadata": {}
                },
                {
                    "output_type": "display_data",
                    "data": {
                        "text/html": "Total execution time: 00:00:00.007"
                    },
                    "metadata": {}
                },
                {
                    "output_type": "execute_result",
                    "metadata": {},
                    "execution_count": 15,
                    "data": {
                        "application/vnd.dataresource+json": {
                            "schema": {
                                "fields": [
                                    {
                                        "name": "EmployeeID"
                                    },
                                    {
                                        "name": "LastName"
                                    },
                                    {
                                        "name": "AllOrders"
                                    },
                                    {
                                        "name": "LateOrders"
                                    }
                                ]
                            },
                            "data": [
                                {
                                    "0": "1",
                                    "1": "Davolio",
                                    "2": "123",
                                    "3": "3"
                                },
                                {
                                    "0": "2",
                                    "1": "Fuller",
                                    "2": "96",
                                    "3": "4"
                                },
                                {
                                    "0": "3",
                                    "1": "Leverling",
                                    "2": "127",
                                    "3": "5"
                                },
                                {
                                    "0": "4",
                                    "1": "Peacock",
                                    "2": "156",
                                    "3": "10"
                                },
                                {
                                    "0": "5",
                                    "1": "Buchanan",
                                    "2": "42",
                                    "3": "0"
                                },
                                {
                                    "0": "6",
                                    "1": "Suyama",
                                    "2": "67",
                                    "3": "3"
                                },
                                {
                                    "0": "7",
                                    "1": "King",
                                    "2": "72",
                                    "3": "4"
                                },
                                {
                                    "0": "8",
                                    "1": "Callahan",
                                    "2": "104",
                                    "3": "5"
                                },
                                {
                                    "0": "9",
                                    "1": "Dodsworth",
                                    "2": "43",
                                    "3": "5"
                                }
                            ]
                        },
                        "text/html": [
                            "<table>",
                            "<tr><th>EmployeeID</th><th>LastName</th><th>AllOrders</th><th>LateOrders</th></tr>",
                            "<tr><td>1</td><td>Davolio</td><td>123</td><td>3</td></tr>",
                            "<tr><td>2</td><td>Fuller</td><td>96</td><td>4</td></tr>",
                            "<tr><td>3</td><td>Leverling</td><td>127</td><td>5</td></tr>",
                            "<tr><td>4</td><td>Peacock</td><td>156</td><td>10</td></tr>",
                            "<tr><td>5</td><td>Buchanan</td><td>42</td><td>0</td></tr>",
                            "<tr><td>6</td><td>Suyama</td><td>67</td><td>3</td></tr>",
                            "<tr><td>7</td><td>King</td><td>72</td><td>4</td></tr>",
                            "<tr><td>8</td><td>Callahan</td><td>104</td><td>5</td></tr>",
                            "<tr><td>9</td><td>Dodsworth</td><td>43</td><td>5</td></tr>",
                            "</table>"
                        ]
                    }
                }
            ],
            "execution_count": 15
        },
        {
            "cell_type": "markdown",
            "source": [
                "### 15\\. Late orders vs. total orders-percentage\n",
                "\n",
                "Using the same query as above, get the percentage of late orders over total orders."
            ],
            "metadata": {
                "language": "sql",
                "azdata_cell_guid": "9ea9eef9-6aa4-4424-ad76-064cb5ae2e84"
            },
            "attachments": {}
        },
        {
            "cell_type": "code",
            "source": [
                "With AllOrders\r\n",
                "AS\r\n",
                "(\r\n",
                "    SELECT EmployeeID, COUNT(*) AS AllOrders\r\n",
                "    FROM Orders\r\n",
                "    GROUP BY EmployeeID\r\n",
                "),\r\n",
                "LateOrders\r\n",
                "AS\r\n",
                "(\r\n",
                "    SELECT EmployeeID, COUNT(*) AS LateOrders\r\n",
                "    FROM Orders\r\n",
                "    WHERE RequiredDate <= ShippedDate\r\n",
                "    GROUP BY EmployeeID\r\n",
                ")\r\n",
                "SELECT E.EmployeeID AS [Employee ID], \r\n",
                "E.LastName AS [Last Name], \r\n",
                "AO.AllOrders AS [All Orders], \r\n",
                "COALESCE(LO.LateOrders, 0) AS [Late Orders],\r\n",
                "(CAST(COALESCE(LO.LateOrders, 0) AS FLOAT) / CAST(AO.AllOrders AS FLOAT)) AS [Percent Late Orders]\r\n",
                "FROM Employees AS E\r\n",
                "    INNER JOIN AllOrders AS AO\r\n",
                "        ON E.EmployeeID = AO.EmployeeID\r\n",
                "    LEFT OUTER JOIN LateOrders AS LO\r\n",
                "        ON E.EmployeeID = LO.EmployeeID\r\n",
                "ORDER BY [Employee ID];"
            ],
            "metadata": {
                "language": "sql",
                "azdata_cell_guid": "c15a9a5e-34e8-4ac8-ba1b-8d205528723e"
            },
            "outputs": [
                {
                    "output_type": "display_data",
                    "data": {
                        "text/html": "(9 rows affected)"
                    },
                    "metadata": {}
                },
                {
                    "output_type": "display_data",
                    "data": {
                        "text/html": "Total execution time: 00:00:00.008"
                    },
                    "metadata": {}
                },
                {
                    "output_type": "execute_result",
                    "metadata": {},
                    "execution_count": 19,
                    "data": {
                        "application/vnd.dataresource+json": {
                            "schema": {
                                "fields": [
                                    {
                                        "name": "Employee ID"
                                    },
                                    {
                                        "name": "Last Name"
                                    },
                                    {
                                        "name": "All Orders"
                                    },
                                    {
                                        "name": "Late Orders"
                                    },
                                    {
                                        "name": "Percent Late Orders"
                                    }
                                ]
                            },
                            "data": [
                                {
                                    "0": "1",
                                    "1": "Davolio",
                                    "2": "123",
                                    "3": "3",
                                    "4": "0.024390243902439025"
                                },
                                {
                                    "0": "2",
                                    "1": "Fuller",
                                    "2": "96",
                                    "3": "4",
                                    "4": "0.041666666666666664"
                                },
                                {
                                    "0": "3",
                                    "1": "Leverling",
                                    "2": "127",
                                    "3": "5",
                                    "4": "0.03937007874015748"
                                },
                                {
                                    "0": "4",
                                    "1": "Peacock",
                                    "2": "156",
                                    "3": "10",
                                    "4": "0.0641025641025641"
                                },
                                {
                                    "0": "5",
                                    "1": "Buchanan",
                                    "2": "42",
                                    "3": "0",
                                    "4": "0"
                                },
                                {
                                    "0": "6",
                                    "1": "Suyama",
                                    "2": "67",
                                    "3": "3",
                                    "4": "0.04477611940298507"
                                },
                                {
                                    "0": "7",
                                    "1": "King",
                                    "2": "72",
                                    "3": "4",
                                    "4": "0.05555555555555555"
                                },
                                {
                                    "0": "8",
                                    "1": "Callahan",
                                    "2": "104",
                                    "3": "5",
                                    "4": "0.04807692307692308"
                                },
                                {
                                    "0": "9",
                                    "1": "Dodsworth",
                                    "2": "43",
                                    "3": "5",
                                    "4": "0.11627906976744186"
                                }
                            ]
                        },
                        "text/html": [
                            "<table>",
                            "<tr><th>Employee ID</th><th>Last Name</th><th>All Orders</th><th>Late Orders</th><th>Percent Late Orders</th></tr>",
                            "<tr><td>1</td><td>Davolio</td><td>123</td><td>3</td><td>0.024390243902439025</td></tr>",
                            "<tr><td>2</td><td>Fuller</td><td>96</td><td>4</td><td>0.041666666666666664</td></tr>",
                            "<tr><td>3</td><td>Leverling</td><td>127</td><td>5</td><td>0.03937007874015748</td></tr>",
                            "<tr><td>4</td><td>Peacock</td><td>156</td><td>10</td><td>0.0641025641025641</td></tr>",
                            "<tr><td>5</td><td>Buchanan</td><td>42</td><td>0</td><td>0</td></tr>",
                            "<tr><td>6</td><td>Suyama</td><td>67</td><td>3</td><td>0.04477611940298507</td></tr>",
                            "<tr><td>7</td><td>King</td><td>72</td><td>4</td><td>0.05555555555555555</td></tr>",
                            "<tr><td>8</td><td>Callahan</td><td>104</td><td>5</td><td>0.04807692307692308</td></tr>",
                            "<tr><td>9</td><td>Dodsworth</td><td>43</td><td>5</td><td>0.11627906976744186</td></tr>",
                            "</table>"
                        ]
                    }
                }
            ],
            "execution_count": 19
        },
        {
            "cell_type": "markdown",
            "source": [
                "### 16\\. Late orders vs. total orders-fix decimal\n",
                "\n",
                "The above query returns the percent late orders column as a decimal. Now to make the output easier to read, cut the PercentLateOrders off at 2 digits to the right of the decimal point."
            ],
            "metadata": {
                "language": "sql",
                "azdata_cell_guid": "2aa067c5-ead7-44a5-b544-3b3da73abc10"
            },
            "attachments": {}
        },
        {
            "cell_type": "code",
            "source": [
                "With AllOrders\r\n",
                "AS\r\n",
                "(\r\n",
                "    SELECT EmployeeID, COUNT(*) AS AllOrders\r\n",
                "    FROM Orders\r\n",
                "    GROUP BY EmployeeID\r\n",
                "),\r\n",
                "LateOrders\r\n",
                "AS\r\n",
                "(\r\n",
                "    SELECT EmployeeID, COUNT(*) AS LateOrders\r\n",
                "    FROM Orders\r\n",
                "    WHERE RequiredDate <= ShippedDate\r\n",
                "    GROUP BY EmployeeID\r\n",
                ")\r\n",
                "SELECT E.EmployeeID AS [Employee ID], \r\n",
                "E.LastName AS [Last Name], \r\n",
                "AO.AllOrders AS [All Orders], \r\n",
                "COALESCE(LO.LateOrders, 0) AS [Late Orders],\r\n",
                "CAST(\r\n",
                "        CAST(COALESCE(LO.LateOrders, 0) AS FLOAT) / CAST(AO.AllOrders AS FLOAT) \r\n",
                "    AS DECIMAL(10,2))\r\n",
                "    AS [Percent Late Orders]\r\n",
                "FROM Employees AS E\r\n",
                "    INNER JOIN AllOrders AS AO\r\n",
                "        ON E.EmployeeID = AO.EmployeeID\r\n",
                "    LEFT OUTER JOIN LateOrders AS LO\r\n",
                "        ON E.EmployeeID = LO.EmployeeID\r\n",
                "ORDER BY [Employee ID];"
            ],
            "metadata": {
                "language": "sql",
                "azdata_cell_guid": "6092a75c-470f-4b19-a38e-a58d4ee6882e"
            },
            "outputs": [
                {
                    "output_type": "display_data",
                    "data": {
                        "text/html": "(9 rows affected)"
                    },
                    "metadata": {}
                },
                {
                    "output_type": "display_data",
                    "data": {
                        "text/html": "Total execution time: 00:00:00.007"
                    },
                    "metadata": {}
                },
                {
                    "output_type": "execute_result",
                    "metadata": {},
                    "execution_count": 39,
                    "data": {
                        "application/vnd.dataresource+json": {
                            "schema": {
                                "fields": [
                                    {
                                        "name": "Employee ID"
                                    },
                                    {
                                        "name": "Last Name"
                                    },
                                    {
                                        "name": "All Orders"
                                    },
                                    {
                                        "name": "Late Orders"
                                    },
                                    {
                                        "name": "Percent Late Orders"
                                    }
                                ]
                            },
                            "data": [
                                {
                                    "0": "1",
                                    "1": "Davolio",
                                    "2": "123",
                                    "3": "3",
                                    "4": "0.02"
                                },
                                {
                                    "0": "2",
                                    "1": "Fuller",
                                    "2": "96",
                                    "3": "4",
                                    "4": "0.04"
                                },
                                {
                                    "0": "3",
                                    "1": "Leverling",
                                    "2": "127",
                                    "3": "5",
                                    "4": "0.04"
                                },
                                {
                                    "0": "4",
                                    "1": "Peacock",
                                    "2": "156",
                                    "3": "10",
                                    "4": "0.06"
                                },
                                {
                                    "0": "5",
                                    "1": "Buchanan",
                                    "2": "42",
                                    "3": "0",
                                    "4": "0.00"
                                },
                                {
                                    "0": "6",
                                    "1": "Suyama",
                                    "2": "67",
                                    "3": "3",
                                    "4": "0.04"
                                },
                                {
                                    "0": "7",
                                    "1": "King",
                                    "2": "72",
                                    "3": "4",
                                    "4": "0.06"
                                },
                                {
                                    "0": "8",
                                    "1": "Callahan",
                                    "2": "104",
                                    "3": "5",
                                    "4": "0.05"
                                },
                                {
                                    "0": "9",
                                    "1": "Dodsworth",
                                    "2": "43",
                                    "3": "5",
                                    "4": "0.12"
                                }
                            ]
                        },
                        "text/html": [
                            "<table>",
                            "<tr><th>Employee ID</th><th>Last Name</th><th>All Orders</th><th>Late Orders</th><th>Percent Late Orders</th></tr>",
                            "<tr><td>1</td><td>Davolio</td><td>123</td><td>3</td><td>0.02</td></tr>",
                            "<tr><td>2</td><td>Fuller</td><td>96</td><td>4</td><td>0.04</td></tr>",
                            "<tr><td>3</td><td>Leverling</td><td>127</td><td>5</td><td>0.04</td></tr>",
                            "<tr><td>4</td><td>Peacock</td><td>156</td><td>10</td><td>0.06</td></tr>",
                            "<tr><td>5</td><td>Buchanan</td><td>42</td><td>0</td><td>0.00</td></tr>",
                            "<tr><td>6</td><td>Suyama</td><td>67</td><td>3</td><td>0.04</td></tr>",
                            "<tr><td>7</td><td>King</td><td>72</td><td>4</td><td>0.06</td></tr>",
                            "<tr><td>8</td><td>Callahan</td><td>104</td><td>5</td><td>0.05</td></tr>",
                            "<tr><td>9</td><td>Dodsworth</td><td>43</td><td>5</td><td>0.12</td></tr>",
                            "</table>"
                        ]
                    }
                }
            ],
            "execution_count": 39
        },
        {
            "cell_type": "markdown",
            "source": [
                "### 17\\. Customer grouping\n",
                "\n",
                "The VP of sales would like to do a sales campaign for existing customers. He'd like to categorize customers into groups, based on how much they ordered in 2016. Then, depending on which group the customer is in, he will target the customer with different sales materials. The customer grouping categories are 0 to 1,000, 1,000 to 5,000, 5,000 to 10,000 and over 10,000."
            ],
            "metadata": {
                "azdata_cell_guid": "3100035c-db72-462b-baef-a863daafe101"
            },
            "attachments": {}
        },
        {
            "cell_type": "code",
            "source": [
                "WITH Orders2016\r\n",
                "AS\r\n",
                "(\r\n",
                "    SELECT O.CustomerID, \r\n",
                "           CompanyName, \r\n",
                "           SUM(Quantity * UnitPrice) AS TotalOrderAmount\r\n",
                "    FROM Orders AS O\r\n",
                "        INNER JOIN OrderDetails AS OD\r\n",
                "            ON O.OrderID = OD.OrderID\r\n",
                "        INNER JOIN Customers AS C\r\n",
                "            ON O.CustomerID = C.CustomerID\r\n",
                "    WHERE CAST(OrderDate AS DATE) >= '01/01/2016' AND CAST(OrderDate AS DATE) <= '12/31/2016'\r\n",
                "    GROUP BY O.CustomerID, CompanyName\r\n",
                ") \r\n",
                "SELECT  CustomerID, \r\n",
                "        CompanyName,\r\n",
                "        TotalOrderAmount,\r\n",
                "        CASE\r\n",
                "            WHEN TotalOrderAmount BETWEEN 0 AND 1000 THEN 'Low'\r\n",
                "            WHEN TotalOrderAmount BETWEEN 1001 AND 5000 THEN 'Medium'\r\n",
                "            WHEN TotalOrderAmount BETWEEN 5001 AND 10000 THEN 'High'\r\n",
                "            WHEN TotalOrderAmount > 10000 THEN 'Very High'\r\n",
                "        END AS CustomerGroup\r\n",
                "FROM Orders2016\r\n",
                "ORDER BY CustomerID;\r\n",
                "\r\n",
                ""
            ],
            "metadata": {
                "azdata_cell_guid": "473fa2cc-05ef-4959-8e4f-e4764abc5e01",
                "language": "sql"
            },
            "outputs": [
                {
                    "output_type": "display_data",
                    "data": {
                        "text/html": "(81 rows affected)"
                    },
                    "metadata": {}
                },
                {
                    "output_type": "display_data",
                    "data": {
                        "text/html": "Total execution time: 00:00:00.013"
                    },
                    "metadata": {}
                },
                {
                    "output_type": "execute_result",
                    "metadata": {},
                    "execution_count": 227,
                    "data": {
                        "application/vnd.dataresource+json": {
                            "schema": {
                                "fields": [
                                    {
                                        "name": "CustomerID"
                                    },
                                    {
                                        "name": "CompanyName"
                                    },
                                    {
                                        "name": "TotalOrderAmount"
                                    },
                                    {
                                        "name": "CustomerGroup"
                                    }
                                ]
                            },
                            "data": [
                                {
                                    "0": "ALFKI",
                                    "1": "Alfreds Futterkiste",
                                    "2": "2302.20",
                                    "3": "Medium"
                                },
                                {
                                    "0": "ANATR",
                                    "1": "Ana Trujillo Emparedados y helados",
                                    "2": "514.40",
                                    "3": "Low"
                                },
                                {
                                    "0": "ANTON",
                                    "1": "Antonio Moreno Taquería",
                                    "2": "660.00",
                                    "3": "Low"
                                },
                                {
                                    "0": "AROUT",
                                    "1": "Around the Horn",
                                    "2": "5838.50",
                                    "3": "High"
                                },
                                {
                                    "0": "BERGS",
                                    "1": "Berglunds snabbköp",
                                    "2": "8110.55",
                                    "3": "High"
                                },
                                {
                                    "0": "BLAUS",
                                    "1": "Blauer See Delikatessen",
                                    "2": "2160.00",
                                    "3": "Medium"
                                },
                                {
                                    "0": "BLONP",
                                    "1": "Blondesddsl père et fils",
                                    "2": "730.00",
                                    "3": "Low"
                                },
                                {
                                    "0": "BOLID",
                                    "1": "Bólido Comidas preparadas",
                                    "2": "280.00",
                                    "3": "Low"
                                },
                                {
                                    "0": "BONAP",
                                    "1": "Bon app'",
                                    "2": "7185.90",
                                    "3": "High"
                                },
                                {
                                    "0": "BOTTM",
                                    "1": "Bottom-Dollar Markets",
                                    "2": "12227.40",
                                    "3": "Very High"
                                },
                                {
                                    "0": "BSBEV",
                                    "1": "B's Beverages",
                                    "2": "2431.00",
                                    "3": "Medium"
                                },
                                {
                                    "0": "CACTU",
                                    "1": "Cactus Comidas para llevar",
                                    "2": "1576.80",
                                    "3": "Medium"
                                },
                                {
                                    "0": "CHOPS",
                                    "1": "Chop-suey Chinese",
                                    "2": "4429.40",
                                    "3": "Medium"
                                },
                                {
                                    "0": "COMMI",
                                    "1": "Comércio Mineiro",
                                    "2": "513.75",
                                    "3": "Low"
                                },
                                {
                                    "0": "CONSH",
                                    "1": "Consolidated Holdings",
                                    "2": "931.50",
                                    "3": "Low"
                                },
                                {
                                    "0": "DRACD",
                                    "1": "Drachenblut Delikatessen",
                                    "2": "2809.61",
                                    "3": "Medium"
                                },
                                {
                                    "0": "DUMON",
                                    "1": "Du monde entier",
                                    "2": "860.10",
                                    "3": "Low"
                                },
                                {
                                    "0": "EASTC",
                                    "1": "Eastern Connection",
                                    "2": "9569.31",
                                    "3": "High"
                                },
                                {
                                    "0": "ERNSH",
                                    "1": "Ernst Handel",
                                    "2": "42598.90",
                                    "3": "Very High"
                                },
                                {
                                    "0": "FOLKO",
                                    "1": "Folk och fä HB",
                                    "2": "15973.85",
                                    "3": "Very High"
                                },
                                {
                                    "0": "FRANK",
                                    "1": "Frankenversand",
                                    "2": "5587.00",
                                    "3": "High"
                                },
                                {
                                    "0": "FRANR",
                                    "1": "France restauration",
                                    "2": "2252.06",
                                    "3": "Medium"
                                },
                                {
                                    "0": "FRANS",
                                    "1": "Franchi S.p.A.",
                                    "2": "1296.00",
                                    "3": "Medium"
                                },
                                {
                                    "0": "FURIB",
                                    "1": "Furia Bacalhau e Frutos do Mar",
                                    "2": "68.00",
                                    "3": "Low"
                                },
                                {
                                    "0": "GALED",
                                    "1": "Galería del gastrónomo",
                                    "2": "207.50",
                                    "3": "Low"
                                },
                                {
                                    "0": "GODOS",
                                    "1": "Godos Cocina Típica",
                                    "2": "7064.05",
                                    "3": "High"
                                },
                                {
                                    "0": "GOURL",
                                    "1": "Gourmet Lanchonetes",
                                    "2": "497.00",
                                    "3": "Low"
                                },
                                {
                                    "0": "GREAL",
                                    "1": "Great Lakes Food Market",
                                    "2": "10562.58",
                                    "3": "Very High"
                                },
                                {
                                    "0": "HANAR",
                                    "1": "Hanari Carnes",
                                    "2": "24238.05",
                                    "3": "Very High"
                                },
                                {
                                    "0": "HILAA",
                                    "1": "HILARION-Abastos",
                                    "2": "6132.30",
                                    "3": "High"
                                },
                                {
                                    "0": "HUNGO",
                                    "1": "Hungry Owl All-Night Grocers",
                                    "2": "22796.34",
                                    "3": "Very High"
                                },
                                {
                                    "0": "ISLAT",
                                    "1": "Island Trading",
                                    "2": "2684.60",
                                    "3": "Medium"
                                },
                                {
                                    "0": "KOENE",
                                    "1": "Königlich Essen",
                                    "2": "20204.95",
                                    "3": "Very High"
                                },
                                {
                                    "0": "LACOR",
                                    "1": "La corne d'abondance",
                                    "2": "1992.05",
                                    "3": "Medium"
                                },
                                {
                                    "0": "LAMAI",
                                    "1": "La maison d'Asie",
                                    "2": "1549.95",
                                    "3": "Medium"
                                },
                                {
                                    "0": "LAUGB",
                                    "1": "Laughing Bacchus Wine Cellars",
                                    "2": "187.00",
                                    "3": "Low"
                                },
                                {
                                    "0": "LEHMS",
                                    "1": "Lehmanns Marktstand",
                                    "2": "3342.85",
                                    "3": "Medium"
                                },
                                {
                                    "0": "LETSS",
                                    "1": "Let's Stop N Shop",
                                    "2": "1450.60",
                                    "3": "Medium"
                                },
                                {
                                    "0": "LILAS",
                                    "1": "LILA-Supermercado",
                                    "2": "5994.06",
                                    "3": "High"
                                },
                                {
                                    "0": "LINOD",
                                    "1": "LINO-Delicateses",
                                    "2": "10085.60",
                                    "3": "Very High"
                                },
                                {
                                    "0": "LONEP",
                                    "1": "Lonesome Pine Restaurant",
                                    "2": "1709.40",
                                    "3": "Medium"
                                },
                                {
                                    "0": "MAGAA",
                                    "1": "Magazzini Alimentari Riuniti",
                                    "2": "1693.00",
                                    "3": "Medium"
                                },
                                {
                                    "0": "MAISD",
                                    "1": "Maison Dewey",
                                    "2": "5000.20",
                                    "3": "NULL"
                                },
                                {
                                    "0": "MORGK",
                                    "1": "Morgenstern Gesundkost",
                                    "2": "245.00",
                                    "3": "Low"
                                },
                                {
                                    "0": "NORTS",
                                    "1": "North/South",
                                    "2": "45.00",
                                    "3": "Low"
                                },
                                {
                                    "0": "OCEAN",
                                    "1": "Océano Atlántico Ltda.",
                                    "2": "3031.00",
                                    "3": "Medium"
                                },
                                {
                                    "0": "OLDWO",
                                    "1": "Old World Delicatessen",
                                    "2": "5337.65",
                                    "3": "High"
                                },
                                {
                                    "0": "OTTIK",
                                    "1": "Ottilies Käseladen",
                                    "2": "3012.70",
                                    "3": "Medium"
                                },
                                {
                                    "0": "PERIC",
                                    "1": "Pericles Comidas clásicas",
                                    "2": "1496.00",
                                    "3": "Medium"
                                },
                                {
                                    "0": "PICCO",
                                    "1": "Piccolo und mehr",
                                    "2": "4393.75",
                                    "3": "Medium"
                                },
                                {
                                    "0": "PRINI",
                                    "1": "Princesa Isabel Vinhos",
                                    "2": "2633.90",
                                    "3": "Medium"
                                },
                                {
                                    "0": "QUEDE",
                                    "1": "Que Delícia",
                                    "2": "1353.60",
                                    "3": "Medium"
                                },
                                {
                                    "0": "QUEEN",
                                    "1": "Queen Cozinha",
                                    "2": "7007.65",
                                    "3": "High"
                                },
                                {
                                    "0": "QUICK",
                                    "1": "QUICK-Stop",
                                    "2": "40526.99",
                                    "3": "Very High"
                                },
                                {
                                    "0": "RANCH",
                                    "1": "Rancho grande",
                                    "2": "1694.70",
                                    "3": "Medium"
                                },
                                {
                                    "0": "RATTC",
                                    "1": "Rattlesnake Canyon Grocery",
                                    "2": "21725.60",
                                    "3": "Very High"
                                },
                                {
                                    "0": "REGGC",
                                    "1": "Reggiani Caseifici",
                                    "2": "4263.00",
                                    "3": "Medium"
                                },
                                {
                                    "0": "RICAR",
                                    "1": "Ricardo Adocicados",
                                    "2": "7312.00",
                                    "3": "High"
                                },
                                {
                                    "0": "RICSU",
                                    "1": "Richter Supermarkt",
                                    "2": "5497.90",
                                    "3": "High"
                                },
                                {
                                    "0": "ROMEY",
                                    "1": "Romero y tomillo",
                                    "2": "726.89",
                                    "3": "Low"
                                },
                                {
                                    "0": "SANTG",
                                    "1": "Santé Gourmet",
                                    "2": "3976.75",
                                    "3": "Medium"
                                },
                                {
                                    "0": "SAVEA",
                                    "1": "Save-a-lot Markets",
                                    "2": "42806.25",
                                    "3": "Very High"
                                },
                                {
                                    "0": "SEVES",
                                    "1": "Seven Seas Imports",
                                    "2": "1630.00",
                                    "3": "Medium"
                                },
                                {
                                    "0": "SIMOB",
                                    "1": "Simons bistro",
                                    "2": "244.30",
                                    "3": "Low"
                                },
                                {
                                    "0": "SPECD",
                                    "1": "Spécialités du monde",
                                    "2": "2371.00",
                                    "3": "Medium"
                                },
                                {
                                    "0": "SPLIR",
                                    "1": "Split Rail Beer & Ale",
                                    "2": "1117.00",
                                    "3": "Medium"
                                },
                                {
                                    "0": "SUPRD",
                                    "1": "Suprêmes délices",
                                    "2": "11862.50",
                                    "3": "Very High"
                                },
                                {
                                    "0": "THEBI",
                                    "1": "The Big Cheese",
                                    "2": "69.60",
                                    "3": "Low"
                                },
                                {
                                    "0": "THECR",
                                    "1": "The Cracker Box",
                                    "2": "326.00",
                                    "3": "Low"
                                },
                                {
                                    "0": "TOMSP",
                                    "1": "Toms Spezialitäten",
                                    "2": "910.40",
                                    "3": "Low"
                                },
                                {
                                    "0": "TORTU",
                                    "1": "Tortuga Restaurante",
                                    "2": "1874.50",
                                    "3": "Medium"
                                },
                                {
                                    "0": "TRADH",
                                    "1": "Tradição Hipermercados",
                                    "2": "4401.62",
                                    "3": "Medium"
                                },
                                {
                                    "0": "TRAIH",
                                    "1": "Trail's Head Gourmet Provisioners",
                                    "2": "237.90",
                                    "3": "Low"
                                },
                                {
                                    "0": "VAFFE",
                                    "1": "Vaffeljernet",
                                    "2": "4333.50",
                                    "3": "Medium"
                                },
                                {
                                    "0": "VICTE",
                                    "1": "Victuailles en stock",
                                    "2": "3022.00",
                                    "3": "Medium"
                                },
                                {
                                    "0": "WANDK",
                                    "1": "Die Wandernde Kuh",
                                    "2": "1564.00",
                                    "3": "Medium"
                                },
                                {
                                    "0": "WARTH",
                                    "1": "Wartian Herkku",
                                    "2": "300.00",
                                    "3": "Low"
                                },
                                {
                                    "0": "WELLI",
                                    "1": "Wellington Importadora",
                                    "2": "1245.00",
                                    "3": "Medium"
                                },
                                {
                                    "0": "WHITC",
                                    "1": "White Clover Markets",
                                    "2": "15278.90",
                                    "3": "Very High"
                                },
                                {
                                    "0": "WILMK",
                                    "1": "Wilman Kala",
                                    "2": "1987.00",
                                    "3": "Medium"
                                },
                                {
                                    "0": "WOLZA",
                                    "1": "Wolski  Zajazd",
                                    "2": "1865.10",
                                    "3": "Medium"
                                }
                            ]
                        },
                        "text/html": [
                            "<table>",
                            "<tr><th>CustomerID</th><th>CompanyName</th><th>TotalOrderAmount</th><th>CustomerGroup</th></tr>",
                            "<tr><td>ALFKI</td><td>Alfreds Futterkiste</td><td>2302.20</td><td>Medium</td></tr>",
                            "<tr><td>ANATR</td><td>Ana Trujillo Emparedados y helados</td><td>514.40</td><td>Low</td></tr>",
                            "<tr><td>ANTON</td><td>Antonio Moreno Taquería</td><td>660.00</td><td>Low</td></tr>",
                            "<tr><td>AROUT</td><td>Around the Horn</td><td>5838.50</td><td>High</td></tr>",
                            "<tr><td>BERGS</td><td>Berglunds snabbköp</td><td>8110.55</td><td>High</td></tr>",
                            "<tr><td>BLAUS</td><td>Blauer See Delikatessen</td><td>2160.00</td><td>Medium</td></tr>",
                            "<tr><td>BLONP</td><td>Blondesddsl père et fils</td><td>730.00</td><td>Low</td></tr>",
                            "<tr><td>BOLID</td><td>Bólido Comidas preparadas</td><td>280.00</td><td>Low</td></tr>",
                            "<tr><td>BONAP</td><td>Bon app'</td><td>7185.90</td><td>High</td></tr>",
                            "<tr><td>BOTTM</td><td>Bottom-Dollar Markets</td><td>12227.40</td><td>Very High</td></tr>",
                            "<tr><td>BSBEV</td><td>B's Beverages</td><td>2431.00</td><td>Medium</td></tr>",
                            "<tr><td>CACTU</td><td>Cactus Comidas para llevar</td><td>1576.80</td><td>Medium</td></tr>",
                            "<tr><td>CHOPS</td><td>Chop-suey Chinese</td><td>4429.40</td><td>Medium</td></tr>",
                            "<tr><td>COMMI</td><td>Comércio Mineiro</td><td>513.75</td><td>Low</td></tr>",
                            "<tr><td>CONSH</td><td>Consolidated Holdings</td><td>931.50</td><td>Low</td></tr>",
                            "<tr><td>DRACD</td><td>Drachenblut Delikatessen</td><td>2809.61</td><td>Medium</td></tr>",
                            "<tr><td>DUMON</td><td>Du monde entier</td><td>860.10</td><td>Low</td></tr>",
                            "<tr><td>EASTC</td><td>Eastern Connection</td><td>9569.31</td><td>High</td></tr>",
                            "<tr><td>ERNSH</td><td>Ernst Handel</td><td>42598.90</td><td>Very High</td></tr>",
                            "<tr><td>FOLKO</td><td>Folk och fä HB</td><td>15973.85</td><td>Very High</td></tr>",
                            "<tr><td>FRANK</td><td>Frankenversand</td><td>5587.00</td><td>High</td></tr>",
                            "<tr><td>FRANR</td><td>France restauration</td><td>2252.06</td><td>Medium</td></tr>",
                            "<tr><td>FRANS</td><td>Franchi S.p.A.</td><td>1296.00</td><td>Medium</td></tr>",
                            "<tr><td>FURIB</td><td>Furia Bacalhau e Frutos do Mar</td><td>68.00</td><td>Low</td></tr>",
                            "<tr><td>GALED</td><td>Galería del gastrónomo</td><td>207.50</td><td>Low</td></tr>",
                            "<tr><td>GODOS</td><td>Godos Cocina Típica</td><td>7064.05</td><td>High</td></tr>",
                            "<tr><td>GOURL</td><td>Gourmet Lanchonetes</td><td>497.00</td><td>Low</td></tr>",
                            "<tr><td>GREAL</td><td>Great Lakes Food Market</td><td>10562.58</td><td>Very High</td></tr>",
                            "<tr><td>HANAR</td><td>Hanari Carnes</td><td>24238.05</td><td>Very High</td></tr>",
                            "<tr><td>HILAA</td><td>HILARION-Abastos</td><td>6132.30</td><td>High</td></tr>",
                            "<tr><td>HUNGO</td><td>Hungry Owl All-Night Grocers</td><td>22796.34</td><td>Very High</td></tr>",
                            "<tr><td>ISLAT</td><td>Island Trading</td><td>2684.60</td><td>Medium</td></tr>",
                            "<tr><td>KOENE</td><td>Königlich Essen</td><td>20204.95</td><td>Very High</td></tr>",
                            "<tr><td>LACOR</td><td>La corne d'abondance</td><td>1992.05</td><td>Medium</td></tr>",
                            "<tr><td>LAMAI</td><td>La maison d'Asie</td><td>1549.95</td><td>Medium</td></tr>",
                            "<tr><td>LAUGB</td><td>Laughing Bacchus Wine Cellars</td><td>187.00</td><td>Low</td></tr>",
                            "<tr><td>LEHMS</td><td>Lehmanns Marktstand</td><td>3342.85</td><td>Medium</td></tr>",
                            "<tr><td>LETSS</td><td>Let's Stop N Shop</td><td>1450.60</td><td>Medium</td></tr>",
                            "<tr><td>LILAS</td><td>LILA-Supermercado</td><td>5994.06</td><td>High</td></tr>",
                            "<tr><td>LINOD</td><td>LINO-Delicateses</td><td>10085.60</td><td>Very High</td></tr>",
                            "<tr><td>LONEP</td><td>Lonesome Pine Restaurant</td><td>1709.40</td><td>Medium</td></tr>",
                            "<tr><td>MAGAA</td><td>Magazzini Alimentari Riuniti</td><td>1693.00</td><td>Medium</td></tr>",
                            "<tr><td>MAISD</td><td>Maison Dewey</td><td>5000.20</td><td>NULL</td></tr>",
                            "<tr><td>MORGK</td><td>Morgenstern Gesundkost</td><td>245.00</td><td>Low</td></tr>",
                            "<tr><td>NORTS</td><td>North/South</td><td>45.00</td><td>Low</td></tr>",
                            "<tr><td>OCEAN</td><td>Océano Atlántico Ltda.</td><td>3031.00</td><td>Medium</td></tr>",
                            "<tr><td>OLDWO</td><td>Old World Delicatessen</td><td>5337.65</td><td>High</td></tr>",
                            "<tr><td>OTTIK</td><td>Ottilies Käseladen</td><td>3012.70</td><td>Medium</td></tr>",
                            "<tr><td>PERIC</td><td>Pericles Comidas clásicas</td><td>1496.00</td><td>Medium</td></tr>",
                            "<tr><td>PICCO</td><td>Piccolo und mehr</td><td>4393.75</td><td>Medium</td></tr>",
                            "<tr><td>PRINI</td><td>Princesa Isabel Vinhos</td><td>2633.90</td><td>Medium</td></tr>",
                            "<tr><td>QUEDE</td><td>Que Delícia</td><td>1353.60</td><td>Medium</td></tr>",
                            "<tr><td>QUEEN</td><td>Queen Cozinha</td><td>7007.65</td><td>High</td></tr>",
                            "<tr><td>QUICK</td><td>QUICK-Stop</td><td>40526.99</td><td>Very High</td></tr>",
                            "<tr><td>RANCH</td><td>Rancho grande</td><td>1694.70</td><td>Medium</td></tr>",
                            "<tr><td>RATTC</td><td>Rattlesnake Canyon Grocery</td><td>21725.60</td><td>Very High</td></tr>",
                            "<tr><td>REGGC</td><td>Reggiani Caseifici</td><td>4263.00</td><td>Medium</td></tr>",
                            "<tr><td>RICAR</td><td>Ricardo Adocicados</td><td>7312.00</td><td>High</td></tr>",
                            "<tr><td>RICSU</td><td>Richter Supermarkt</td><td>5497.90</td><td>High</td></tr>",
                            "<tr><td>ROMEY</td><td>Romero y tomillo</td><td>726.89</td><td>Low</td></tr>",
                            "<tr><td>SANTG</td><td>Santé Gourmet</td><td>3976.75</td><td>Medium</td></tr>",
                            "<tr><td>SAVEA</td><td>Save-a-lot Markets</td><td>42806.25</td><td>Very High</td></tr>",
                            "<tr><td>SEVES</td><td>Seven Seas Imports</td><td>1630.00</td><td>Medium</td></tr>",
                            "<tr><td>SIMOB</td><td>Simons bistro</td><td>244.30</td><td>Low</td></tr>",
                            "<tr><td>SPECD</td><td>Spécialités du monde</td><td>2371.00</td><td>Medium</td></tr>",
                            "<tr><td>SPLIR</td><td>Split Rail Beer &amp; Ale</td><td>1117.00</td><td>Medium</td></tr>",
                            "<tr><td>SUPRD</td><td>Suprêmes délices</td><td>11862.50</td><td>Very High</td></tr>",
                            "<tr><td>THEBI</td><td>The Big Cheese</td><td>69.60</td><td>Low</td></tr>",
                            "<tr><td>THECR</td><td>The Cracker Box</td><td>326.00</td><td>Low</td></tr>",
                            "<tr><td>TOMSP</td><td>Toms Spezialitäten</td><td>910.40</td><td>Low</td></tr>",
                            "<tr><td>TORTU</td><td>Tortuga Restaurante</td><td>1874.50</td><td>Medium</td></tr>",
                            "<tr><td>TRADH</td><td>Tradição Hipermercados</td><td>4401.62</td><td>Medium</td></tr>",
                            "<tr><td>TRAIH</td><td>Trail's Head Gourmet Provisioners</td><td>237.90</td><td>Low</td></tr>",
                            "<tr><td>VAFFE</td><td>Vaffeljernet</td><td>4333.50</td><td>Medium</td></tr>",
                            "<tr><td>VICTE</td><td>Victuailles en stock</td><td>3022.00</td><td>Medium</td></tr>",
                            "<tr><td>WANDK</td><td>Die Wandernde Kuh</td><td>1564.00</td><td>Medium</td></tr>",
                            "<tr><td>WARTH</td><td>Wartian Herkku</td><td>300.00</td><td>Low</td></tr>",
                            "<tr><td>WELLI</td><td>Wellington Importadora</td><td>1245.00</td><td>Medium</td></tr>",
                            "<tr><td>WHITC</td><td>White Clover Markets</td><td>15278.90</td><td>Very High</td></tr>",
                            "<tr><td>WILMK</td><td>Wilman Kala</td><td>1987.00</td><td>Medium</td></tr>",
                            "<tr><td>WOLZA</td><td>Wolski  Zajazd</td><td>1865.10</td><td>Medium</td></tr>",
                            "</table>"
                        ]
                    }
                }
            ],
            "execution_count": 227
        },
        {
            "cell_type": "markdown",
            "source": [
                "### 18\\. Customer grouping-fix null\n",
                "\n",
                "There's a problem with the answer for the previous question. The CustomerGroup value for one of the rows is null. Fix the SQL so that there are no nulls in the CustomerGroup field."
            ],
            "metadata": {
                "language": "sql",
                "azdata_cell_guid": "fe6b4a40-fb20-40b9-8481-34bae4748031"
            },
            "attachments": {}
        },
        {
            "cell_type": "code",
            "source": [
                "WITH Orders2016\r\n",
                "AS\r\n",
                "(\r\n",
                "    SELECT O.CustomerID, \r\n",
                "           CompanyName, \r\n",
                "           SUM(Quantity * UnitPrice) AS TotalOrderAmount\r\n",
                "    FROM Orders AS O\r\n",
                "        INNER JOIN OrderDetails AS OD\r\n",
                "            ON O.OrderID = OD.OrderID\r\n",
                "        INNER JOIN Customers AS C\r\n",
                "            ON O.CustomerID = C.CustomerID\r\n",
                "    WHERE CAST(OrderDate AS DATE) >= '01/01/2016' AND CAST(OrderDate AS DATE) <= '12/31/2016'\r\n",
                "    GROUP BY O.CustomerID, CompanyName\r\n",
                ") \r\n",
                "SELECT  CustomerID, \r\n",
                "        CompanyName, \r\n",
                "        TotalOrderAmount,\r\n",
                "        CASE\r\n",
                "            WHEN TotalOrderAmount >= 0 AND TotalOrderAmount < 1000 THEN 'Low'\r\n",
                "            WHEN TotalOrderAmount >= 1000 AND TotalOrderAmount < 5000  THEN 'Medium'\r\n",
                "            WHEN TotalOrderAmount >= 5000 AND TotalOrderAmount < 10000  THEN 'High'\r\n",
                "            WHEN TotalOrderAmount >= 10000 THEN 'Very High'\r\n",
                "        END AS CustomerGroup\r\n",
                "FROM Orders2016\r\n",
                "ORDER BY CustomerID;"
            ],
            "metadata": {
                "language": "sql",
                "azdata_cell_guid": "37c93520-936b-42b6-8486-f74f654a1bc1"
            },
            "outputs": [
                {
                    "output_type": "display_data",
                    "data": {
                        "text/html": "(81 rows affected)"
                    },
                    "metadata": {}
                },
                {
                    "output_type": "display_data",
                    "data": {
                        "text/html": "Total execution time: 00:00:00.013"
                    },
                    "metadata": {}
                },
                {
                    "output_type": "execute_result",
                    "metadata": {},
                    "execution_count": 77,
                    "data": {
                        "application/vnd.dataresource+json": {
                            "schema": {
                                "fields": [
                                    {
                                        "name": "CustomerID"
                                    },
                                    {
                                        "name": "CompanyName"
                                    },
                                    {
                                        "name": "TotalOrderAmount"
                                    },
                                    {
                                        "name": "CustomerGroup"
                                    }
                                ]
                            },
                            "data": [
                                {
                                    "0": "ALFKI",
                                    "1": "Alfreds Futterkiste",
                                    "2": "2302.20",
                                    "3": "Medium"
                                },
                                {
                                    "0": "ANATR",
                                    "1": "Ana Trujillo Emparedados y helados",
                                    "2": "514.40",
                                    "3": "Low"
                                },
                                {
                                    "0": "ANTON",
                                    "1": "Antonio Moreno Taquería",
                                    "2": "660.00",
                                    "3": "Low"
                                },
                                {
                                    "0": "AROUT",
                                    "1": "Around the Horn",
                                    "2": "5838.50",
                                    "3": "High"
                                },
                                {
                                    "0": "BERGS",
                                    "1": "Berglunds snabbköp",
                                    "2": "8110.55",
                                    "3": "High"
                                },
                                {
                                    "0": "BLAUS",
                                    "1": "Blauer See Delikatessen",
                                    "2": "2160.00",
                                    "3": "Medium"
                                },
                                {
                                    "0": "BLONP",
                                    "1": "Blondesddsl père et fils",
                                    "2": "730.00",
                                    "3": "Low"
                                },
                                {
                                    "0": "BOLID",
                                    "1": "Bólido Comidas preparadas",
                                    "2": "280.00",
                                    "3": "Low"
                                },
                                {
                                    "0": "BONAP",
                                    "1": "Bon app'",
                                    "2": "7185.90",
                                    "3": "High"
                                },
                                {
                                    "0": "BOTTM",
                                    "1": "Bottom-Dollar Markets",
                                    "2": "12227.40",
                                    "3": "Very High"
                                },
                                {
                                    "0": "BSBEV",
                                    "1": "B's Beverages",
                                    "2": "2431.00",
                                    "3": "Medium"
                                },
                                {
                                    "0": "CACTU",
                                    "1": "Cactus Comidas para llevar",
                                    "2": "1576.80",
                                    "3": "Medium"
                                },
                                {
                                    "0": "CHOPS",
                                    "1": "Chop-suey Chinese",
                                    "2": "4429.40",
                                    "3": "Medium"
                                },
                                {
                                    "0": "COMMI",
                                    "1": "Comércio Mineiro",
                                    "2": "513.75",
                                    "3": "Low"
                                },
                                {
                                    "0": "CONSH",
                                    "1": "Consolidated Holdings",
                                    "2": "931.50",
                                    "3": "Low"
                                },
                                {
                                    "0": "DRACD",
                                    "1": "Drachenblut Delikatessen",
                                    "2": "2809.61",
                                    "3": "Medium"
                                },
                                {
                                    "0": "DUMON",
                                    "1": "Du monde entier",
                                    "2": "860.10",
                                    "3": "Low"
                                },
                                {
                                    "0": "EASTC",
                                    "1": "Eastern Connection",
                                    "2": "9569.31",
                                    "3": "High"
                                },
                                {
                                    "0": "ERNSH",
                                    "1": "Ernst Handel",
                                    "2": "42598.90",
                                    "3": "Very High"
                                },
                                {
                                    "0": "FOLKO",
                                    "1": "Folk och fä HB",
                                    "2": "15973.85",
                                    "3": "Very High"
                                },
                                {
                                    "0": "FRANK",
                                    "1": "Frankenversand",
                                    "2": "5587.00",
                                    "3": "High"
                                },
                                {
                                    "0": "FRANR",
                                    "1": "France restauration",
                                    "2": "2252.06",
                                    "3": "Medium"
                                },
                                {
                                    "0": "FRANS",
                                    "1": "Franchi S.p.A.",
                                    "2": "1296.00",
                                    "3": "Medium"
                                },
                                {
                                    "0": "FURIB",
                                    "1": "Furia Bacalhau e Frutos do Mar",
                                    "2": "68.00",
                                    "3": "Low"
                                },
                                {
                                    "0": "GALED",
                                    "1": "Galería del gastrónomo",
                                    "2": "207.50",
                                    "3": "Low"
                                },
                                {
                                    "0": "GODOS",
                                    "1": "Godos Cocina Típica",
                                    "2": "7064.05",
                                    "3": "High"
                                },
                                {
                                    "0": "GOURL",
                                    "1": "Gourmet Lanchonetes",
                                    "2": "497.00",
                                    "3": "Low"
                                },
                                {
                                    "0": "GREAL",
                                    "1": "Great Lakes Food Market",
                                    "2": "10562.58",
                                    "3": "Very High"
                                },
                                {
                                    "0": "HANAR",
                                    "1": "Hanari Carnes",
                                    "2": "24238.05",
                                    "3": "Very High"
                                },
                                {
                                    "0": "HILAA",
                                    "1": "HILARION-Abastos",
                                    "2": "6132.30",
                                    "3": "High"
                                },
                                {
                                    "0": "HUNGO",
                                    "1": "Hungry Owl All-Night Grocers",
                                    "2": "22796.34",
                                    "3": "Very High"
                                },
                                {
                                    "0": "ISLAT",
                                    "1": "Island Trading",
                                    "2": "2684.60",
                                    "3": "Medium"
                                },
                                {
                                    "0": "KOENE",
                                    "1": "Königlich Essen",
                                    "2": "20204.95",
                                    "3": "Very High"
                                },
                                {
                                    "0": "LACOR",
                                    "1": "La corne d'abondance",
                                    "2": "1992.05",
                                    "3": "Medium"
                                },
                                {
                                    "0": "LAMAI",
                                    "1": "La maison d'Asie",
                                    "2": "1549.95",
                                    "3": "Medium"
                                },
                                {
                                    "0": "LAUGB",
                                    "1": "Laughing Bacchus Wine Cellars",
                                    "2": "187.00",
                                    "3": "Low"
                                },
                                {
                                    "0": "LEHMS",
                                    "1": "Lehmanns Marktstand",
                                    "2": "3342.85",
                                    "3": "Medium"
                                },
                                {
                                    "0": "LETSS",
                                    "1": "Let's Stop N Shop",
                                    "2": "1450.60",
                                    "3": "Medium"
                                },
                                {
                                    "0": "LILAS",
                                    "1": "LILA-Supermercado",
                                    "2": "5994.06",
                                    "3": "High"
                                },
                                {
                                    "0": "LINOD",
                                    "1": "LINO-Delicateses",
                                    "2": "10085.60",
                                    "3": "Very High"
                                },
                                {
                                    "0": "LONEP",
                                    "1": "Lonesome Pine Restaurant",
                                    "2": "1709.40",
                                    "3": "Medium"
                                },
                                {
                                    "0": "MAGAA",
                                    "1": "Magazzini Alimentari Riuniti",
                                    "2": "1693.00",
                                    "3": "Medium"
                                },
                                {
                                    "0": "MAISD",
                                    "1": "Maison Dewey",
                                    "2": "5000.20",
                                    "3": "High"
                                },
                                {
                                    "0": "MORGK",
                                    "1": "Morgenstern Gesundkost",
                                    "2": "245.00",
                                    "3": "Low"
                                },
                                {
                                    "0": "NORTS",
                                    "1": "North/South",
                                    "2": "45.00",
                                    "3": "Low"
                                },
                                {
                                    "0": "OCEAN",
                                    "1": "Océano Atlántico Ltda.",
                                    "2": "3031.00",
                                    "3": "Medium"
                                },
                                {
                                    "0": "OLDWO",
                                    "1": "Old World Delicatessen",
                                    "2": "5337.65",
                                    "3": "High"
                                },
                                {
                                    "0": "OTTIK",
                                    "1": "Ottilies Käseladen",
                                    "2": "3012.70",
                                    "3": "Medium"
                                },
                                {
                                    "0": "PERIC",
                                    "1": "Pericles Comidas clásicas",
                                    "2": "1496.00",
                                    "3": "Medium"
                                },
                                {
                                    "0": "PICCO",
                                    "1": "Piccolo und mehr",
                                    "2": "4393.75",
                                    "3": "Medium"
                                },
                                {
                                    "0": "PRINI",
                                    "1": "Princesa Isabel Vinhos",
                                    "2": "2633.90",
                                    "3": "Medium"
                                },
                                {
                                    "0": "QUEDE",
                                    "1": "Que Delícia",
                                    "2": "1353.60",
                                    "3": "Medium"
                                },
                                {
                                    "0": "QUEEN",
                                    "1": "Queen Cozinha",
                                    "2": "7007.65",
                                    "3": "High"
                                },
                                {
                                    "0": "QUICK",
                                    "1": "QUICK-Stop",
                                    "2": "40526.99",
                                    "3": "Very High"
                                },
                                {
                                    "0": "RANCH",
                                    "1": "Rancho grande",
                                    "2": "1694.70",
                                    "3": "Medium"
                                },
                                {
                                    "0": "RATTC",
                                    "1": "Rattlesnake Canyon Grocery",
                                    "2": "21725.60",
                                    "3": "Very High"
                                },
                                {
                                    "0": "REGGC",
                                    "1": "Reggiani Caseifici",
                                    "2": "4263.00",
                                    "3": "Medium"
                                },
                                {
                                    "0": "RICAR",
                                    "1": "Ricardo Adocicados",
                                    "2": "7312.00",
                                    "3": "High"
                                },
                                {
                                    "0": "RICSU",
                                    "1": "Richter Supermarkt",
                                    "2": "5497.90",
                                    "3": "High"
                                },
                                {
                                    "0": "ROMEY",
                                    "1": "Romero y tomillo",
                                    "2": "726.89",
                                    "3": "Low"
                                },
                                {
                                    "0": "SANTG",
                                    "1": "Santé Gourmet",
                                    "2": "3976.75",
                                    "3": "Medium"
                                },
                                {
                                    "0": "SAVEA",
                                    "1": "Save-a-lot Markets",
                                    "2": "42806.25",
                                    "3": "Very High"
                                },
                                {
                                    "0": "SEVES",
                                    "1": "Seven Seas Imports",
                                    "2": "1630.00",
                                    "3": "Medium"
                                },
                                {
                                    "0": "SIMOB",
                                    "1": "Simons bistro",
                                    "2": "244.30",
                                    "3": "Low"
                                },
                                {
                                    "0": "SPECD",
                                    "1": "Spécialités du monde",
                                    "2": "2371.00",
                                    "3": "Medium"
                                },
                                {
                                    "0": "SPLIR",
                                    "1": "Split Rail Beer & Ale",
                                    "2": "1117.00",
                                    "3": "Medium"
                                },
                                {
                                    "0": "SUPRD",
                                    "1": "Suprêmes délices",
                                    "2": "11862.50",
                                    "3": "Very High"
                                },
                                {
                                    "0": "THEBI",
                                    "1": "The Big Cheese",
                                    "2": "69.60",
                                    "3": "Low"
                                },
                                {
                                    "0": "THECR",
                                    "1": "The Cracker Box",
                                    "2": "326.00",
                                    "3": "Low"
                                },
                                {
                                    "0": "TOMSP",
                                    "1": "Toms Spezialitäten",
                                    "2": "910.40",
                                    "3": "Low"
                                },
                                {
                                    "0": "TORTU",
                                    "1": "Tortuga Restaurante",
                                    "2": "1874.50",
                                    "3": "Medium"
                                },
                                {
                                    "0": "TRADH",
                                    "1": "Tradição Hipermercados",
                                    "2": "4401.62",
                                    "3": "Medium"
                                },
                                {
                                    "0": "TRAIH",
                                    "1": "Trail's Head Gourmet Provisioners",
                                    "2": "237.90",
                                    "3": "Low"
                                },
                                {
                                    "0": "VAFFE",
                                    "1": "Vaffeljernet",
                                    "2": "4333.50",
                                    "3": "Medium"
                                },
                                {
                                    "0": "VICTE",
                                    "1": "Victuailles en stock",
                                    "2": "3022.00",
                                    "3": "Medium"
                                },
                                {
                                    "0": "WANDK",
                                    "1": "Die Wandernde Kuh",
                                    "2": "1564.00",
                                    "3": "Medium"
                                },
                                {
                                    "0": "WARTH",
                                    "1": "Wartian Herkku",
                                    "2": "300.00",
                                    "3": "Low"
                                },
                                {
                                    "0": "WELLI",
                                    "1": "Wellington Importadora",
                                    "2": "1245.00",
                                    "3": "Medium"
                                },
                                {
                                    "0": "WHITC",
                                    "1": "White Clover Markets",
                                    "2": "15278.90",
                                    "3": "Very High"
                                },
                                {
                                    "0": "WILMK",
                                    "1": "Wilman Kala",
                                    "2": "1987.00",
                                    "3": "Medium"
                                },
                                {
                                    "0": "WOLZA",
                                    "1": "Wolski  Zajazd",
                                    "2": "1865.10",
                                    "3": "Medium"
                                }
                            ]
                        },
                        "text/html": [
                            "<table>",
                            "<tr><th>CustomerID</th><th>CompanyName</th><th>TotalOrderAmount</th><th>CustomerGroup</th></tr>",
                            "<tr><td>ALFKI</td><td>Alfreds Futterkiste</td><td>2302.20</td><td>Medium</td></tr>",
                            "<tr><td>ANATR</td><td>Ana Trujillo Emparedados y helados</td><td>514.40</td><td>Low</td></tr>",
                            "<tr><td>ANTON</td><td>Antonio Moreno Taquería</td><td>660.00</td><td>Low</td></tr>",
                            "<tr><td>AROUT</td><td>Around the Horn</td><td>5838.50</td><td>High</td></tr>",
                            "<tr><td>BERGS</td><td>Berglunds snabbköp</td><td>8110.55</td><td>High</td></tr>",
                            "<tr><td>BLAUS</td><td>Blauer See Delikatessen</td><td>2160.00</td><td>Medium</td></tr>",
                            "<tr><td>BLONP</td><td>Blondesddsl père et fils</td><td>730.00</td><td>Low</td></tr>",
                            "<tr><td>BOLID</td><td>Bólido Comidas preparadas</td><td>280.00</td><td>Low</td></tr>",
                            "<tr><td>BONAP</td><td>Bon app'</td><td>7185.90</td><td>High</td></tr>",
                            "<tr><td>BOTTM</td><td>Bottom-Dollar Markets</td><td>12227.40</td><td>Very High</td></tr>",
                            "<tr><td>BSBEV</td><td>B's Beverages</td><td>2431.00</td><td>Medium</td></tr>",
                            "<tr><td>CACTU</td><td>Cactus Comidas para llevar</td><td>1576.80</td><td>Medium</td></tr>",
                            "<tr><td>CHOPS</td><td>Chop-suey Chinese</td><td>4429.40</td><td>Medium</td></tr>",
                            "<tr><td>COMMI</td><td>Comércio Mineiro</td><td>513.75</td><td>Low</td></tr>",
                            "<tr><td>CONSH</td><td>Consolidated Holdings</td><td>931.50</td><td>Low</td></tr>",
                            "<tr><td>DRACD</td><td>Drachenblut Delikatessen</td><td>2809.61</td><td>Medium</td></tr>",
                            "<tr><td>DUMON</td><td>Du monde entier</td><td>860.10</td><td>Low</td></tr>",
                            "<tr><td>EASTC</td><td>Eastern Connection</td><td>9569.31</td><td>High</td></tr>",
                            "<tr><td>ERNSH</td><td>Ernst Handel</td><td>42598.90</td><td>Very High</td></tr>",
                            "<tr><td>FOLKO</td><td>Folk och fä HB</td><td>15973.85</td><td>Very High</td></tr>",
                            "<tr><td>FRANK</td><td>Frankenversand</td><td>5587.00</td><td>High</td></tr>",
                            "<tr><td>FRANR</td><td>France restauration</td><td>2252.06</td><td>Medium</td></tr>",
                            "<tr><td>FRANS</td><td>Franchi S.p.A.</td><td>1296.00</td><td>Medium</td></tr>",
                            "<tr><td>FURIB</td><td>Furia Bacalhau e Frutos do Mar</td><td>68.00</td><td>Low</td></tr>",
                            "<tr><td>GALED</td><td>Galería del gastrónomo</td><td>207.50</td><td>Low</td></tr>",
                            "<tr><td>GODOS</td><td>Godos Cocina Típica</td><td>7064.05</td><td>High</td></tr>",
                            "<tr><td>GOURL</td><td>Gourmet Lanchonetes</td><td>497.00</td><td>Low</td></tr>",
                            "<tr><td>GREAL</td><td>Great Lakes Food Market</td><td>10562.58</td><td>Very High</td></tr>",
                            "<tr><td>HANAR</td><td>Hanari Carnes</td><td>24238.05</td><td>Very High</td></tr>",
                            "<tr><td>HILAA</td><td>HILARION-Abastos</td><td>6132.30</td><td>High</td></tr>",
                            "<tr><td>HUNGO</td><td>Hungry Owl All-Night Grocers</td><td>22796.34</td><td>Very High</td></tr>",
                            "<tr><td>ISLAT</td><td>Island Trading</td><td>2684.60</td><td>Medium</td></tr>",
                            "<tr><td>KOENE</td><td>Königlich Essen</td><td>20204.95</td><td>Very High</td></tr>",
                            "<tr><td>LACOR</td><td>La corne d'abondance</td><td>1992.05</td><td>Medium</td></tr>",
                            "<tr><td>LAMAI</td><td>La maison d'Asie</td><td>1549.95</td><td>Medium</td></tr>",
                            "<tr><td>LAUGB</td><td>Laughing Bacchus Wine Cellars</td><td>187.00</td><td>Low</td></tr>",
                            "<tr><td>LEHMS</td><td>Lehmanns Marktstand</td><td>3342.85</td><td>Medium</td></tr>",
                            "<tr><td>LETSS</td><td>Let's Stop N Shop</td><td>1450.60</td><td>Medium</td></tr>",
                            "<tr><td>LILAS</td><td>LILA-Supermercado</td><td>5994.06</td><td>High</td></tr>",
                            "<tr><td>LINOD</td><td>LINO-Delicateses</td><td>10085.60</td><td>Very High</td></tr>",
                            "<tr><td>LONEP</td><td>Lonesome Pine Restaurant</td><td>1709.40</td><td>Medium</td></tr>",
                            "<tr><td>MAGAA</td><td>Magazzini Alimentari Riuniti</td><td>1693.00</td><td>Medium</td></tr>",
                            "<tr><td>MAISD</td><td>Maison Dewey</td><td>5000.20</td><td>High</td></tr>",
                            "<tr><td>MORGK</td><td>Morgenstern Gesundkost</td><td>245.00</td><td>Low</td></tr>",
                            "<tr><td>NORTS</td><td>North/South</td><td>45.00</td><td>Low</td></tr>",
                            "<tr><td>OCEAN</td><td>Océano Atlántico Ltda.</td><td>3031.00</td><td>Medium</td></tr>",
                            "<tr><td>OLDWO</td><td>Old World Delicatessen</td><td>5337.65</td><td>High</td></tr>",
                            "<tr><td>OTTIK</td><td>Ottilies Käseladen</td><td>3012.70</td><td>Medium</td></tr>",
                            "<tr><td>PERIC</td><td>Pericles Comidas clásicas</td><td>1496.00</td><td>Medium</td></tr>",
                            "<tr><td>PICCO</td><td>Piccolo und mehr</td><td>4393.75</td><td>Medium</td></tr>",
                            "<tr><td>PRINI</td><td>Princesa Isabel Vinhos</td><td>2633.90</td><td>Medium</td></tr>",
                            "<tr><td>QUEDE</td><td>Que Delícia</td><td>1353.60</td><td>Medium</td></tr>",
                            "<tr><td>QUEEN</td><td>Queen Cozinha</td><td>7007.65</td><td>High</td></tr>",
                            "<tr><td>QUICK</td><td>QUICK-Stop</td><td>40526.99</td><td>Very High</td></tr>",
                            "<tr><td>RANCH</td><td>Rancho grande</td><td>1694.70</td><td>Medium</td></tr>",
                            "<tr><td>RATTC</td><td>Rattlesnake Canyon Grocery</td><td>21725.60</td><td>Very High</td></tr>",
                            "<tr><td>REGGC</td><td>Reggiani Caseifici</td><td>4263.00</td><td>Medium</td></tr>",
                            "<tr><td>RICAR</td><td>Ricardo Adocicados</td><td>7312.00</td><td>High</td></tr>",
                            "<tr><td>RICSU</td><td>Richter Supermarkt</td><td>5497.90</td><td>High</td></tr>",
                            "<tr><td>ROMEY</td><td>Romero y tomillo</td><td>726.89</td><td>Low</td></tr>",
                            "<tr><td>SANTG</td><td>Santé Gourmet</td><td>3976.75</td><td>Medium</td></tr>",
                            "<tr><td>SAVEA</td><td>Save-a-lot Markets</td><td>42806.25</td><td>Very High</td></tr>",
                            "<tr><td>SEVES</td><td>Seven Seas Imports</td><td>1630.00</td><td>Medium</td></tr>",
                            "<tr><td>SIMOB</td><td>Simons bistro</td><td>244.30</td><td>Low</td></tr>",
                            "<tr><td>SPECD</td><td>Spécialités du monde</td><td>2371.00</td><td>Medium</td></tr>",
                            "<tr><td>SPLIR</td><td>Split Rail Beer &amp; Ale</td><td>1117.00</td><td>Medium</td></tr>",
                            "<tr><td>SUPRD</td><td>Suprêmes délices</td><td>11862.50</td><td>Very High</td></tr>",
                            "<tr><td>THEBI</td><td>The Big Cheese</td><td>69.60</td><td>Low</td></tr>",
                            "<tr><td>THECR</td><td>The Cracker Box</td><td>326.00</td><td>Low</td></tr>",
                            "<tr><td>TOMSP</td><td>Toms Spezialitäten</td><td>910.40</td><td>Low</td></tr>",
                            "<tr><td>TORTU</td><td>Tortuga Restaurante</td><td>1874.50</td><td>Medium</td></tr>",
                            "<tr><td>TRADH</td><td>Tradição Hipermercados</td><td>4401.62</td><td>Medium</td></tr>",
                            "<tr><td>TRAIH</td><td>Trail's Head Gourmet Provisioners</td><td>237.90</td><td>Low</td></tr>",
                            "<tr><td>VAFFE</td><td>Vaffeljernet</td><td>4333.50</td><td>Medium</td></tr>",
                            "<tr><td>VICTE</td><td>Victuailles en stock</td><td>3022.00</td><td>Medium</td></tr>",
                            "<tr><td>WANDK</td><td>Die Wandernde Kuh</td><td>1564.00</td><td>Medium</td></tr>",
                            "<tr><td>WARTH</td><td>Wartian Herkku</td><td>300.00</td><td>Low</td></tr>",
                            "<tr><td>WELLI</td><td>Wellington Importadora</td><td>1245.00</td><td>Medium</td></tr>",
                            "<tr><td>WHITC</td><td>White Clover Markets</td><td>15278.90</td><td>Very High</td></tr>",
                            "<tr><td>WILMK</td><td>Wilman Kala</td><td>1987.00</td><td>Medium</td></tr>",
                            "<tr><td>WOLZA</td><td>Wolski  Zajazd</td><td>1865.10</td><td>Medium</td></tr>",
                            "</table>"
                        ]
                    }
                }
            ],
            "execution_count": 77
        },
        {
            "cell_type": "markdown",
            "source": [
                "### 19\\. Customer grouping with percentage\n",
                "\n",
                "Based on the above query, show all the defined CustomerGroups, and the percentage in each. Sort by the total in each group, in descending order."
            ],
            "metadata": {
                "azdata_cell_guid": "5e1ecfee-b922-43e4-b98b-745491b9a596"
            },
            "attachments": {}
        },
        {
            "cell_type": "code",
            "source": [
                "WITH Orders2016\r\n",
                "AS\r\n",
                "(\r\n",
                "    SELECT  O.CustomerID, \r\n",
                "        SUM(OD.Quantity * OD.UnitPrice) AS TotalOrderAmount\r\n",
                "    FROM Orders AS O\r\n",
                "        INNER JOIN OrderDetails AS OD\r\n",
                "        ON O.OrderID = OD.OrderID\r\n",
                "    WHERE CAST(OrderDate AS DATE) >= '01/01/2016' AND CAST(OrderDate AS DATE) <= '12/31/2016'\r\n",
                "    GROUP BY O.CustomerID\r\n",
                "\r\n",
                "),\r\n",
                "CustomerGrouping\r\n",
                "AS\r\n",
                "(\r\n",
                "    SELECT  CustomerID,\r\n",
                "            TotalOrderAmount,\r\n",
                "    CASE\r\n",
                "        WHEN TotalOrderAmount >= 0 AND TotalOrderAmount < 1000 THEN 'Low'\r\n",
                "        WHEN TotalOrderAmount >= 1000 AND TotalOrderAmount < 5000  THEN 'Medium'\r\n",
                "        WHEN TotalOrderAmount >= 5000 AND TotalOrderAmount < 10000  THEN 'High'\r\n",
                "        WHEN TotalOrderAmount >= 10000 THEN 'Very High'\r\n",
                "    END AS CustomerGroup\r\n",
                "    FROM Orders2016\r\n",
                "    GROUP BY TotalOrderAmount,CustomerID\r\n",
                ")\r\n",
                "\r\n",
                "SELECT  CustomerGroup, \r\n",
                "        COUNT(*) AS TotalInGroup,\r\n",
                "        COUNT(*) / CAST((SELECT COUNT(*) FROM CustomerGrouping) AS FLOAT) AS PercentageInGroup\r\n",
                "FROM CustomerGrouping\r\n",
                "GROUP BY CustomerGroup\r\n",
                "ORDER BY PercentageInGroup DESC;\r\n",
                "\r\n",
                "\r\n",
                ""
            ],
            "metadata": {
                "azdata_cell_guid": "db35b36e-b7a5-43cb-91c6-e273a5c4245a",
                "language": "sql"
            },
            "outputs": [
                {
                    "output_type": "display_data",
                    "data": {
                        "text/html": "(4 rows affected)"
                    },
                    "metadata": {}
                },
                {
                    "output_type": "display_data",
                    "data": {
                        "text/html": "Total execution time: 00:00:00.012"
                    },
                    "metadata": {}
                },
                {
                    "output_type": "execute_result",
                    "metadata": {},
                    "execution_count": 110,
                    "data": {
                        "application/vnd.dataresource+json": {
                            "schema": {
                                "fields": [
                                    {
                                        "name": "CustomerGroup"
                                    },
                                    {
                                        "name": "TotalInGroup"
                                    },
                                    {
                                        "name": "PercentageInGroup"
                                    }
                                ]
                            },
                            "data": [
                                {
                                    "0": "Medium",
                                    "1": "35",
                                    "2": "0.43209876543209874"
                                },
                                {
                                    "0": "Low",
                                    "1": "20",
                                    "2": "0.24691358024691357"
                                },
                                {
                                    "0": "High",
                                    "1": "13",
                                    "2": "0.16049382716049382"
                                },
                                {
                                    "0": "Very High",
                                    "1": "13",
                                    "2": "0.16049382716049382"
                                }
                            ]
                        },
                        "text/html": [
                            "<table>",
                            "<tr><th>CustomerGroup</th><th>TotalInGroup</th><th>PercentageInGroup</th></tr>",
                            "<tr><td>Medium</td><td>35</td><td>0.43209876543209874</td></tr>",
                            "<tr><td>Low</td><td>20</td><td>0.24691358024691357</td></tr>",
                            "<tr><td>High</td><td>13</td><td>0.16049382716049382</td></tr>",
                            "<tr><td>Very High</td><td>13</td><td>0.16049382716049382</td></tr>",
                            "</table>"
                        ]
                    }
                }
            ],
            "execution_count": 110
        },
        {
            "cell_type": "markdown",
            "source": [
                "### 20\\. Customer grouping-flexible\n",
                "\n",
                "The VP of sales now wants complete flexibility in grouping the customers based on the dollar amount they ordered and the order dates.  Write the SQL to accommodate him."
            ],
            "metadata": {
                "azdata_cell_guid": "fae7ac36-311e-403b-a1b0-804d182c5583"
            },
            "attachments": {}
        },
        {
            "cell_type": "code",
            "source": [
                "DECLARE @BeginOrderDate AS DATE\r\n",
                "DECLARE @EndOrderDate AS DATE\r\n",
                "DECLARE @Low AS INT\r\n",
                "DECLARE @Medium AS INT\r\n",
                "DECLARE @High AS INT\r\n",
                "\r\n",
                "--Set values here\r\n",
                "------------------------------------------------------------------------------------------------------------------\r\n",
                "SET @BeginOrderDate = '01/01/2016';\r\n",
                "SET @EndOrderDate = '12/31/2016';\r\n",
                "SET @Low = 1000;\r\n",
                "SET @Medium = 5000;\r\n",
                "SET @High = 10000;\r\n",
                "------------------------------------------------------------------------------------------------------------------\r\n",
                "WITH Orders2016\r\n",
                "AS\r\n",
                "(\r\n",
                "    SELECT  O.CustomerID AS CustomerID, \r\n",
                "        CompanyName,\r\n",
                "        SUM(Quantity * UnitPrice) AS TotalOrderAmount\r\n",
                "    FROM Orders AS O\r\n",
                "        INNER JOIN OrderDetails AS OD\r\n",
                "            ON O.OrderID = OD.OrderID\r\n",
                "        INNER JOIN Customers AS C\r\n",
                "        ON O.CustomerID = C.CustomerID\r\n",
                "    WHERE CAST(OrderDate AS DATE) >= @BeginOrderDate AND CAST(OrderDate AS DATE) <= @EndOrderDate\r\n",
                "    GROUP BY O.CustomerID, CompanyName\r\n",
                ")\r\n",
                "SELECT  CustomerID,\r\n",
                "        CompanyName,\r\n",
                "        TotalOrderAmount,\r\n",
                "        CASE\r\n",
                "            WHEN TotalOrderAmount >= 0 AND TotalOrderAmount < @Low THEN 'Low'\r\n",
                "            WHEN TotalOrderAmount >= @Low AND TotalOrderAmount < @Medium  THEN 'Medium'\r\n",
                "            WHEN TotalOrderAmount >= @Medium AND TotalOrderAmount < @High  THEN 'High'\r\n",
                "            WHEN TotalOrderAmount >= @High THEN 'Very High'\r\n",
                "        END AS CustomerGroup\r\n",
                "        FROM Orders2016;\r\n",
                ""
            ],
            "metadata": {
                "azdata_cell_guid": "7542ffd6-c675-443f-a677-36734bcd3ad4",
                "language": "sql"
            },
            "outputs": [
                {
                    "output_type": "display_data",
                    "data": {
                        "text/html": "(81 rows affected)"
                    },
                    "metadata": {}
                },
                {
                    "output_type": "display_data",
                    "data": {
                        "text/html": "Total execution time: 00:00:00.018"
                    },
                    "metadata": {}
                },
                {
                    "output_type": "execute_result",
                    "metadata": {},
                    "execution_count": 119,
                    "data": {
                        "application/vnd.dataresource+json": {
                            "schema": {
                                "fields": [
                                    {
                                        "name": "CustomerID"
                                    },
                                    {
                                        "name": "CompanyName"
                                    },
                                    {
                                        "name": "TotalOrderAmount"
                                    },
                                    {
                                        "name": "CustomerGroup"
                                    }
                                ]
                            },
                            "data": [
                                {
                                    "0": "ALFKI",
                                    "1": "Alfreds Futterkiste",
                                    "2": "2302.20",
                                    "3": "Medium"
                                },
                                {
                                    "0": "ANATR",
                                    "1": "Ana Trujillo Emparedados y helados",
                                    "2": "514.40",
                                    "3": "Low"
                                },
                                {
                                    "0": "ANTON",
                                    "1": "Antonio Moreno Taquería",
                                    "2": "660.00",
                                    "3": "Low"
                                },
                                {
                                    "0": "AROUT",
                                    "1": "Around the Horn",
                                    "2": "5838.50",
                                    "3": "High"
                                },
                                {
                                    "0": "BERGS",
                                    "1": "Berglunds snabbköp",
                                    "2": "8110.55",
                                    "3": "High"
                                },
                                {
                                    "0": "BLAUS",
                                    "1": "Blauer See Delikatessen",
                                    "2": "2160.00",
                                    "3": "Medium"
                                },
                                {
                                    "0": "BLONP",
                                    "1": "Blondesddsl père et fils",
                                    "2": "730.00",
                                    "3": "Low"
                                },
                                {
                                    "0": "BOLID",
                                    "1": "Bólido Comidas preparadas",
                                    "2": "280.00",
                                    "3": "Low"
                                },
                                {
                                    "0": "BONAP",
                                    "1": "Bon app'",
                                    "2": "7185.90",
                                    "3": "High"
                                },
                                {
                                    "0": "BOTTM",
                                    "1": "Bottom-Dollar Markets",
                                    "2": "12227.40",
                                    "3": "Very High"
                                },
                                {
                                    "0": "BSBEV",
                                    "1": "B's Beverages",
                                    "2": "2431.00",
                                    "3": "Medium"
                                },
                                {
                                    "0": "CACTU",
                                    "1": "Cactus Comidas para llevar",
                                    "2": "1576.80",
                                    "3": "Medium"
                                },
                                {
                                    "0": "CHOPS",
                                    "1": "Chop-suey Chinese",
                                    "2": "4429.40",
                                    "3": "Medium"
                                },
                                {
                                    "0": "COMMI",
                                    "1": "Comércio Mineiro",
                                    "2": "513.75",
                                    "3": "Low"
                                },
                                {
                                    "0": "CONSH",
                                    "1": "Consolidated Holdings",
                                    "2": "931.50",
                                    "3": "Low"
                                },
                                {
                                    "0": "DRACD",
                                    "1": "Drachenblut Delikatessen",
                                    "2": "2809.61",
                                    "3": "Medium"
                                },
                                {
                                    "0": "DUMON",
                                    "1": "Du monde entier",
                                    "2": "860.10",
                                    "3": "Low"
                                },
                                {
                                    "0": "EASTC",
                                    "1": "Eastern Connection",
                                    "2": "9569.31",
                                    "3": "High"
                                },
                                {
                                    "0": "ERNSH",
                                    "1": "Ernst Handel",
                                    "2": "42598.90",
                                    "3": "Very High"
                                },
                                {
                                    "0": "FOLKO",
                                    "1": "Folk och fä HB",
                                    "2": "15973.85",
                                    "3": "Very High"
                                },
                                {
                                    "0": "FRANK",
                                    "1": "Frankenversand",
                                    "2": "5587.00",
                                    "3": "High"
                                },
                                {
                                    "0": "FRANR",
                                    "1": "France restauration",
                                    "2": "2252.06",
                                    "3": "Medium"
                                },
                                {
                                    "0": "FRANS",
                                    "1": "Franchi S.p.A.",
                                    "2": "1296.00",
                                    "3": "Medium"
                                },
                                {
                                    "0": "FURIB",
                                    "1": "Furia Bacalhau e Frutos do Mar",
                                    "2": "68.00",
                                    "3": "Low"
                                },
                                {
                                    "0": "GALED",
                                    "1": "Galería del gastrónomo",
                                    "2": "207.50",
                                    "3": "Low"
                                },
                                {
                                    "0": "GODOS",
                                    "1": "Godos Cocina Típica",
                                    "2": "7064.05",
                                    "3": "High"
                                },
                                {
                                    "0": "GOURL",
                                    "1": "Gourmet Lanchonetes",
                                    "2": "497.00",
                                    "3": "Low"
                                },
                                {
                                    "0": "GREAL",
                                    "1": "Great Lakes Food Market",
                                    "2": "10562.58",
                                    "3": "Very High"
                                },
                                {
                                    "0": "HANAR",
                                    "1": "Hanari Carnes",
                                    "2": "24238.05",
                                    "3": "Very High"
                                },
                                {
                                    "0": "HILAA",
                                    "1": "HILARION-Abastos",
                                    "2": "6132.30",
                                    "3": "High"
                                },
                                {
                                    "0": "HUNGO",
                                    "1": "Hungry Owl All-Night Grocers",
                                    "2": "22796.34",
                                    "3": "Very High"
                                },
                                {
                                    "0": "ISLAT",
                                    "1": "Island Trading",
                                    "2": "2684.60",
                                    "3": "Medium"
                                },
                                {
                                    "0": "KOENE",
                                    "1": "Königlich Essen",
                                    "2": "20204.95",
                                    "3": "Very High"
                                },
                                {
                                    "0": "LACOR",
                                    "1": "La corne d'abondance",
                                    "2": "1992.05",
                                    "3": "Medium"
                                },
                                {
                                    "0": "LAMAI",
                                    "1": "La maison d'Asie",
                                    "2": "1549.95",
                                    "3": "Medium"
                                },
                                {
                                    "0": "LAUGB",
                                    "1": "Laughing Bacchus Wine Cellars",
                                    "2": "187.00",
                                    "3": "Low"
                                },
                                {
                                    "0": "LEHMS",
                                    "1": "Lehmanns Marktstand",
                                    "2": "3342.85",
                                    "3": "Medium"
                                },
                                {
                                    "0": "LETSS",
                                    "1": "Let's Stop N Shop",
                                    "2": "1450.60",
                                    "3": "Medium"
                                },
                                {
                                    "0": "LILAS",
                                    "1": "LILA-Supermercado",
                                    "2": "5994.06",
                                    "3": "High"
                                },
                                {
                                    "0": "LINOD",
                                    "1": "LINO-Delicateses",
                                    "2": "10085.60",
                                    "3": "Very High"
                                },
                                {
                                    "0": "LONEP",
                                    "1": "Lonesome Pine Restaurant",
                                    "2": "1709.40",
                                    "3": "Medium"
                                },
                                {
                                    "0": "MAGAA",
                                    "1": "Magazzini Alimentari Riuniti",
                                    "2": "1693.00",
                                    "3": "Medium"
                                },
                                {
                                    "0": "MAISD",
                                    "1": "Maison Dewey",
                                    "2": "5000.20",
                                    "3": "High"
                                },
                                {
                                    "0": "MORGK",
                                    "1": "Morgenstern Gesundkost",
                                    "2": "245.00",
                                    "3": "Low"
                                },
                                {
                                    "0": "NORTS",
                                    "1": "North/South",
                                    "2": "45.00",
                                    "3": "Low"
                                },
                                {
                                    "0": "OCEAN",
                                    "1": "Océano Atlántico Ltda.",
                                    "2": "3031.00",
                                    "3": "Medium"
                                },
                                {
                                    "0": "OLDWO",
                                    "1": "Old World Delicatessen",
                                    "2": "5337.65",
                                    "3": "High"
                                },
                                {
                                    "0": "OTTIK",
                                    "1": "Ottilies Käseladen",
                                    "2": "3012.70",
                                    "3": "Medium"
                                },
                                {
                                    "0": "PERIC",
                                    "1": "Pericles Comidas clásicas",
                                    "2": "1496.00",
                                    "3": "Medium"
                                },
                                {
                                    "0": "PICCO",
                                    "1": "Piccolo und mehr",
                                    "2": "4393.75",
                                    "3": "Medium"
                                },
                                {
                                    "0": "PRINI",
                                    "1": "Princesa Isabel Vinhos",
                                    "2": "2633.90",
                                    "3": "Medium"
                                },
                                {
                                    "0": "QUEDE",
                                    "1": "Que Delícia",
                                    "2": "1353.60",
                                    "3": "Medium"
                                },
                                {
                                    "0": "QUEEN",
                                    "1": "Queen Cozinha",
                                    "2": "7007.65",
                                    "3": "High"
                                },
                                {
                                    "0": "QUICK",
                                    "1": "QUICK-Stop",
                                    "2": "40526.99",
                                    "3": "Very High"
                                },
                                {
                                    "0": "RANCH",
                                    "1": "Rancho grande",
                                    "2": "1694.70",
                                    "3": "Medium"
                                },
                                {
                                    "0": "RATTC",
                                    "1": "Rattlesnake Canyon Grocery",
                                    "2": "21725.60",
                                    "3": "Very High"
                                },
                                {
                                    "0": "REGGC",
                                    "1": "Reggiani Caseifici",
                                    "2": "4263.00",
                                    "3": "Medium"
                                },
                                {
                                    "0": "RICAR",
                                    "1": "Ricardo Adocicados",
                                    "2": "7312.00",
                                    "3": "High"
                                },
                                {
                                    "0": "RICSU",
                                    "1": "Richter Supermarkt",
                                    "2": "5497.90",
                                    "3": "High"
                                },
                                {
                                    "0": "ROMEY",
                                    "1": "Romero y tomillo",
                                    "2": "726.89",
                                    "3": "Low"
                                },
                                {
                                    "0": "SANTG",
                                    "1": "Santé Gourmet",
                                    "2": "3976.75",
                                    "3": "Medium"
                                },
                                {
                                    "0": "SAVEA",
                                    "1": "Save-a-lot Markets",
                                    "2": "42806.25",
                                    "3": "Very High"
                                },
                                {
                                    "0": "SEVES",
                                    "1": "Seven Seas Imports",
                                    "2": "1630.00",
                                    "3": "Medium"
                                },
                                {
                                    "0": "SIMOB",
                                    "1": "Simons bistro",
                                    "2": "244.30",
                                    "3": "Low"
                                },
                                {
                                    "0": "SPECD",
                                    "1": "Spécialités du monde",
                                    "2": "2371.00",
                                    "3": "Medium"
                                },
                                {
                                    "0": "SPLIR",
                                    "1": "Split Rail Beer & Ale",
                                    "2": "1117.00",
                                    "3": "Medium"
                                },
                                {
                                    "0": "SUPRD",
                                    "1": "Suprêmes délices",
                                    "2": "11862.50",
                                    "3": "Very High"
                                },
                                {
                                    "0": "THEBI",
                                    "1": "The Big Cheese",
                                    "2": "69.60",
                                    "3": "Low"
                                },
                                {
                                    "0": "THECR",
                                    "1": "The Cracker Box",
                                    "2": "326.00",
                                    "3": "Low"
                                },
                                {
                                    "0": "TOMSP",
                                    "1": "Toms Spezialitäten",
                                    "2": "910.40",
                                    "3": "Low"
                                },
                                {
                                    "0": "TORTU",
                                    "1": "Tortuga Restaurante",
                                    "2": "1874.50",
                                    "3": "Medium"
                                },
                                {
                                    "0": "TRADH",
                                    "1": "Tradição Hipermercados",
                                    "2": "4401.62",
                                    "3": "Medium"
                                },
                                {
                                    "0": "TRAIH",
                                    "1": "Trail's Head Gourmet Provisioners",
                                    "2": "237.90",
                                    "3": "Low"
                                },
                                {
                                    "0": "VAFFE",
                                    "1": "Vaffeljernet",
                                    "2": "4333.50",
                                    "3": "Medium"
                                },
                                {
                                    "0": "VICTE",
                                    "1": "Victuailles en stock",
                                    "2": "3022.00",
                                    "3": "Medium"
                                },
                                {
                                    "0": "WANDK",
                                    "1": "Die Wandernde Kuh",
                                    "2": "1564.00",
                                    "3": "Medium"
                                },
                                {
                                    "0": "WARTH",
                                    "1": "Wartian Herkku",
                                    "2": "300.00",
                                    "3": "Low"
                                },
                                {
                                    "0": "WELLI",
                                    "1": "Wellington Importadora",
                                    "2": "1245.00",
                                    "3": "Medium"
                                },
                                {
                                    "0": "WHITC",
                                    "1": "White Clover Markets",
                                    "2": "15278.90",
                                    "3": "Very High"
                                },
                                {
                                    "0": "WILMK",
                                    "1": "Wilman Kala",
                                    "2": "1987.00",
                                    "3": "Medium"
                                },
                                {
                                    "0": "WOLZA",
                                    "1": "Wolski  Zajazd",
                                    "2": "1865.10",
                                    "3": "Medium"
                                }
                            ]
                        },
                        "text/html": [
                            "<table>",
                            "<tr><th>CustomerID</th><th>CompanyName</th><th>TotalOrderAmount</th><th>CustomerGroup</th></tr>",
                            "<tr><td>ALFKI</td><td>Alfreds Futterkiste</td><td>2302.20</td><td>Medium</td></tr>",
                            "<tr><td>ANATR</td><td>Ana Trujillo Emparedados y helados</td><td>514.40</td><td>Low</td></tr>",
                            "<tr><td>ANTON</td><td>Antonio Moreno Taquería</td><td>660.00</td><td>Low</td></tr>",
                            "<tr><td>AROUT</td><td>Around the Horn</td><td>5838.50</td><td>High</td></tr>",
                            "<tr><td>BERGS</td><td>Berglunds snabbköp</td><td>8110.55</td><td>High</td></tr>",
                            "<tr><td>BLAUS</td><td>Blauer See Delikatessen</td><td>2160.00</td><td>Medium</td></tr>",
                            "<tr><td>BLONP</td><td>Blondesddsl père et fils</td><td>730.00</td><td>Low</td></tr>",
                            "<tr><td>BOLID</td><td>Bólido Comidas preparadas</td><td>280.00</td><td>Low</td></tr>",
                            "<tr><td>BONAP</td><td>Bon app'</td><td>7185.90</td><td>High</td></tr>",
                            "<tr><td>BOTTM</td><td>Bottom-Dollar Markets</td><td>12227.40</td><td>Very High</td></tr>",
                            "<tr><td>BSBEV</td><td>B's Beverages</td><td>2431.00</td><td>Medium</td></tr>",
                            "<tr><td>CACTU</td><td>Cactus Comidas para llevar</td><td>1576.80</td><td>Medium</td></tr>",
                            "<tr><td>CHOPS</td><td>Chop-suey Chinese</td><td>4429.40</td><td>Medium</td></tr>",
                            "<tr><td>COMMI</td><td>Comércio Mineiro</td><td>513.75</td><td>Low</td></tr>",
                            "<tr><td>CONSH</td><td>Consolidated Holdings</td><td>931.50</td><td>Low</td></tr>",
                            "<tr><td>DRACD</td><td>Drachenblut Delikatessen</td><td>2809.61</td><td>Medium</td></tr>",
                            "<tr><td>DUMON</td><td>Du monde entier</td><td>860.10</td><td>Low</td></tr>",
                            "<tr><td>EASTC</td><td>Eastern Connection</td><td>9569.31</td><td>High</td></tr>",
                            "<tr><td>ERNSH</td><td>Ernst Handel</td><td>42598.90</td><td>Very High</td></tr>",
                            "<tr><td>FOLKO</td><td>Folk och fä HB</td><td>15973.85</td><td>Very High</td></tr>",
                            "<tr><td>FRANK</td><td>Frankenversand</td><td>5587.00</td><td>High</td></tr>",
                            "<tr><td>FRANR</td><td>France restauration</td><td>2252.06</td><td>Medium</td></tr>",
                            "<tr><td>FRANS</td><td>Franchi S.p.A.</td><td>1296.00</td><td>Medium</td></tr>",
                            "<tr><td>FURIB</td><td>Furia Bacalhau e Frutos do Mar</td><td>68.00</td><td>Low</td></tr>",
                            "<tr><td>GALED</td><td>Galería del gastrónomo</td><td>207.50</td><td>Low</td></tr>",
                            "<tr><td>GODOS</td><td>Godos Cocina Típica</td><td>7064.05</td><td>High</td></tr>",
                            "<tr><td>GOURL</td><td>Gourmet Lanchonetes</td><td>497.00</td><td>Low</td></tr>",
                            "<tr><td>GREAL</td><td>Great Lakes Food Market</td><td>10562.58</td><td>Very High</td></tr>",
                            "<tr><td>HANAR</td><td>Hanari Carnes</td><td>24238.05</td><td>Very High</td></tr>",
                            "<tr><td>HILAA</td><td>HILARION-Abastos</td><td>6132.30</td><td>High</td></tr>",
                            "<tr><td>HUNGO</td><td>Hungry Owl All-Night Grocers</td><td>22796.34</td><td>Very High</td></tr>",
                            "<tr><td>ISLAT</td><td>Island Trading</td><td>2684.60</td><td>Medium</td></tr>",
                            "<tr><td>KOENE</td><td>Königlich Essen</td><td>20204.95</td><td>Very High</td></tr>",
                            "<tr><td>LACOR</td><td>La corne d'abondance</td><td>1992.05</td><td>Medium</td></tr>",
                            "<tr><td>LAMAI</td><td>La maison d'Asie</td><td>1549.95</td><td>Medium</td></tr>",
                            "<tr><td>LAUGB</td><td>Laughing Bacchus Wine Cellars</td><td>187.00</td><td>Low</td></tr>",
                            "<tr><td>LEHMS</td><td>Lehmanns Marktstand</td><td>3342.85</td><td>Medium</td></tr>",
                            "<tr><td>LETSS</td><td>Let's Stop N Shop</td><td>1450.60</td><td>Medium</td></tr>",
                            "<tr><td>LILAS</td><td>LILA-Supermercado</td><td>5994.06</td><td>High</td></tr>",
                            "<tr><td>LINOD</td><td>LINO-Delicateses</td><td>10085.60</td><td>Very High</td></tr>",
                            "<tr><td>LONEP</td><td>Lonesome Pine Restaurant</td><td>1709.40</td><td>Medium</td></tr>",
                            "<tr><td>MAGAA</td><td>Magazzini Alimentari Riuniti</td><td>1693.00</td><td>Medium</td></tr>",
                            "<tr><td>MAISD</td><td>Maison Dewey</td><td>5000.20</td><td>High</td></tr>",
                            "<tr><td>MORGK</td><td>Morgenstern Gesundkost</td><td>245.00</td><td>Low</td></tr>",
                            "<tr><td>NORTS</td><td>North/South</td><td>45.00</td><td>Low</td></tr>",
                            "<tr><td>OCEAN</td><td>Océano Atlántico Ltda.</td><td>3031.00</td><td>Medium</td></tr>",
                            "<tr><td>OLDWO</td><td>Old World Delicatessen</td><td>5337.65</td><td>High</td></tr>",
                            "<tr><td>OTTIK</td><td>Ottilies Käseladen</td><td>3012.70</td><td>Medium</td></tr>",
                            "<tr><td>PERIC</td><td>Pericles Comidas clásicas</td><td>1496.00</td><td>Medium</td></tr>",
                            "<tr><td>PICCO</td><td>Piccolo und mehr</td><td>4393.75</td><td>Medium</td></tr>",
                            "<tr><td>PRINI</td><td>Princesa Isabel Vinhos</td><td>2633.90</td><td>Medium</td></tr>",
                            "<tr><td>QUEDE</td><td>Que Delícia</td><td>1353.60</td><td>Medium</td></tr>",
                            "<tr><td>QUEEN</td><td>Queen Cozinha</td><td>7007.65</td><td>High</td></tr>",
                            "<tr><td>QUICK</td><td>QUICK-Stop</td><td>40526.99</td><td>Very High</td></tr>",
                            "<tr><td>RANCH</td><td>Rancho grande</td><td>1694.70</td><td>Medium</td></tr>",
                            "<tr><td>RATTC</td><td>Rattlesnake Canyon Grocery</td><td>21725.60</td><td>Very High</td></tr>",
                            "<tr><td>REGGC</td><td>Reggiani Caseifici</td><td>4263.00</td><td>Medium</td></tr>",
                            "<tr><td>RICAR</td><td>Ricardo Adocicados</td><td>7312.00</td><td>High</td></tr>",
                            "<tr><td>RICSU</td><td>Richter Supermarkt</td><td>5497.90</td><td>High</td></tr>",
                            "<tr><td>ROMEY</td><td>Romero y tomillo</td><td>726.89</td><td>Low</td></tr>",
                            "<tr><td>SANTG</td><td>Santé Gourmet</td><td>3976.75</td><td>Medium</td></tr>",
                            "<tr><td>SAVEA</td><td>Save-a-lot Markets</td><td>42806.25</td><td>Very High</td></tr>",
                            "<tr><td>SEVES</td><td>Seven Seas Imports</td><td>1630.00</td><td>Medium</td></tr>",
                            "<tr><td>SIMOB</td><td>Simons bistro</td><td>244.30</td><td>Low</td></tr>",
                            "<tr><td>SPECD</td><td>Spécialités du monde</td><td>2371.00</td><td>Medium</td></tr>",
                            "<tr><td>SPLIR</td><td>Split Rail Beer &amp; Ale</td><td>1117.00</td><td>Medium</td></tr>",
                            "<tr><td>SUPRD</td><td>Suprêmes délices</td><td>11862.50</td><td>Very High</td></tr>",
                            "<tr><td>THEBI</td><td>The Big Cheese</td><td>69.60</td><td>Low</td></tr>",
                            "<tr><td>THECR</td><td>The Cracker Box</td><td>326.00</td><td>Low</td></tr>",
                            "<tr><td>TOMSP</td><td>Toms Spezialitäten</td><td>910.40</td><td>Low</td></tr>",
                            "<tr><td>TORTU</td><td>Tortuga Restaurante</td><td>1874.50</td><td>Medium</td></tr>",
                            "<tr><td>TRADH</td><td>Tradição Hipermercados</td><td>4401.62</td><td>Medium</td></tr>",
                            "<tr><td>TRAIH</td><td>Trail's Head Gourmet Provisioners</td><td>237.90</td><td>Low</td></tr>",
                            "<tr><td>VAFFE</td><td>Vaffeljernet</td><td>4333.50</td><td>Medium</td></tr>",
                            "<tr><td>VICTE</td><td>Victuailles en stock</td><td>3022.00</td><td>Medium</td></tr>",
                            "<tr><td>WANDK</td><td>Die Wandernde Kuh</td><td>1564.00</td><td>Medium</td></tr>",
                            "<tr><td>WARTH</td><td>Wartian Herkku</td><td>300.00</td><td>Low</td></tr>",
                            "<tr><td>WELLI</td><td>Wellington Importadora</td><td>1245.00</td><td>Medium</td></tr>",
                            "<tr><td>WHITC</td><td>White Clover Markets</td><td>15278.90</td><td>Very High</td></tr>",
                            "<tr><td>WILMK</td><td>Wilman Kala</td><td>1987.00</td><td>Medium</td></tr>",
                            "<tr><td>WOLZA</td><td>Wolski  Zajazd</td><td>1865.10</td><td>Medium</td></tr>",
                            "</table>"
                        ]
                    }
                }
            ],
            "execution_count": 119
        },
        {
            "cell_type": "markdown",
            "source": [
                "### 21\\. Countries with suppliers or customers\n",
                "\n",
                "Some employees are planning a business trip, and would like to visit as many suppliers and customers as possible. For their planning, they'd like to see a list of all countries where suppliers and/or customers are based."
            ],
            "metadata": {
                "azdata_cell_guid": "5b255adc-ad4c-44da-9dfe-1aee808eb4a2"
            },
            "attachments": {}
        },
        {
            "cell_type": "code",
            "source": [
                "SELECT Country\r\n",
                "FROM Customers\r\n",
                "\r\n",
                "UNION\r\n",
                "\r\n",
                "SELECT Country\r\n",
                "FROM Suppliers;"
            ],
            "metadata": {
                "azdata_cell_guid": "d49837ac-039d-4046-a491-0d7a6eda7b92",
                "language": "sql",
                "tags": []
            },
            "outputs": [
                {
                    "output_type": "display_data",
                    "data": {
                        "text/html": "(25 rows affected)"
                    },
                    "metadata": {}
                },
                {
                    "output_type": "display_data",
                    "data": {
                        "text/html": "Total execution time: 00:00:00.003"
                    },
                    "metadata": {}
                },
                {
                    "output_type": "execute_result",
                    "metadata": {},
                    "execution_count": 123,
                    "data": {
                        "application/vnd.dataresource+json": {
                            "schema": {
                                "fields": [
                                    {
                                        "name": "Country"
                                    }
                                ]
                            },
                            "data": [
                                {
                                    "0": "Argentina"
                                },
                                {
                                    "0": "Australia"
                                },
                                {
                                    "0": "Austria"
                                },
                                {
                                    "0": "Belgium"
                                },
                                {
                                    "0": "Brazil"
                                },
                                {
                                    "0": "Canada"
                                },
                                {
                                    "0": "Denmark"
                                },
                                {
                                    "0": "Finland"
                                },
                                {
                                    "0": "France"
                                },
                                {
                                    "0": "Germany"
                                },
                                {
                                    "0": "Ireland"
                                },
                                {
                                    "0": "Italy"
                                },
                                {
                                    "0": "Japan"
                                },
                                {
                                    "0": "Mexico"
                                },
                                {
                                    "0": "Netherlands"
                                },
                                {
                                    "0": "Norway"
                                },
                                {
                                    "0": "Poland"
                                },
                                {
                                    "0": "Portugal"
                                },
                                {
                                    "0": "Singapore"
                                },
                                {
                                    "0": "Spain"
                                },
                                {
                                    "0": "Sweden"
                                },
                                {
                                    "0": "Switzerland"
                                },
                                {
                                    "0": "UK"
                                },
                                {
                                    "0": "USA"
                                },
                                {
                                    "0": "Venezuela"
                                }
                            ]
                        },
                        "text/html": [
                            "<table>",
                            "<tr><th>Country</th></tr>",
                            "<tr><td>Argentina</td></tr>",
                            "<tr><td>Australia</td></tr>",
                            "<tr><td>Austria</td></tr>",
                            "<tr><td>Belgium</td></tr>",
                            "<tr><td>Brazil</td></tr>",
                            "<tr><td>Canada</td></tr>",
                            "<tr><td>Denmark</td></tr>",
                            "<tr><td>Finland</td></tr>",
                            "<tr><td>France</td></tr>",
                            "<tr><td>Germany</td></tr>",
                            "<tr><td>Ireland</td></tr>",
                            "<tr><td>Italy</td></tr>",
                            "<tr><td>Japan</td></tr>",
                            "<tr><td>Mexico</td></tr>",
                            "<tr><td>Netherlands</td></tr>",
                            "<tr><td>Norway</td></tr>",
                            "<tr><td>Poland</td></tr>",
                            "<tr><td>Portugal</td></tr>",
                            "<tr><td>Singapore</td></tr>",
                            "<tr><td>Spain</td></tr>",
                            "<tr><td>Sweden</td></tr>",
                            "<tr><td>Switzerland</td></tr>",
                            "<tr><td>UK</td></tr>",
                            "<tr><td>USA</td></tr>",
                            "<tr><td>Venezuela</td></tr>",
                            "</table>"
                        ]
                    }
                }
            ],
            "execution_count": 123
        },
        {
            "cell_type": "markdown",
            "source": [
                "### 22\\. Countries with suppliers or customers, version 2\n",
                "\n",
                "The employees going on the business trip don't want just a raw list of countries, they want more details, we'd like to see output with a column for SupplierCountry and a CustomerCountry column."
            ],
            "metadata": {
                "language": "sql",
                "azdata_cell_guid": "a54b80e4-2ebb-4944-9044-9057d164deaa"
            },
            "attachments": {}
        },
        {
            "cell_type": "code",
            "source": [
                "SELECT DISTINCT Suppliers.Country AS SupplierCountry, Customers.Country AS CustomerCountry\r\n",
                "FROM Suppliers\r\n",
                "    FULL OUTER JOIN Customers\r\n",
                "        ON Suppliers.Country = Customers.Country;\r\n",
                "\r\n",
                "--With CTEs\r\n",
                "WITH SupplierCountries \r\n",
                "AS\r\n",
                "(\r\n",
                "    SELECT DISTINCT Country FROM Suppliers\r\n",
                "),\r\n",
                "CustomerCountries\r\n",
                "AS\r\n",
                "(\r\n",
                "    SELECT DISTINCT Country FROM Customers\r\n",
                ")\r\n",
                "\r\n",
                "SELECT SupplierCountries.Country, CustomerCountries.Country\r\n",
                "FROM SupplierCountries\r\n",
                "    FULL OUTER JOIN CustomerCountries\r\n",
                "        ON SupplierCountries.Country = CustomerCountries.Country;"
            ],
            "metadata": {
                "language": "sql",
                "azdata_cell_guid": "70757abc-84c9-4ea3-bfda-e83c09d3ddf3"
            },
            "outputs": [
                {
                    "output_type": "display_data",
                    "data": {
                        "text/html": "(25 rows affected)"
                    },
                    "metadata": {}
                },
                {
                    "output_type": "display_data",
                    "data": {
                        "text/html": "(25 rows affected)"
                    },
                    "metadata": {}
                },
                {
                    "output_type": "display_data",
                    "data": {
                        "text/html": "Total execution time: 00:00:00.009"
                    },
                    "metadata": {}
                },
                {
                    "output_type": "execute_result",
                    "metadata": {},
                    "execution_count": 132,
                    "data": {
                        "application/vnd.dataresource+json": {
                            "schema": {
                                "fields": [
                                    {
                                        "name": "SupplierCountry"
                                    },
                                    {
                                        "name": "CustomerCountry"
                                    }
                                ]
                            },
                            "data": [
                                {
                                    "0": "NULL",
                                    "1": "Argentina"
                                },
                                {
                                    "0": "NULL",
                                    "1": "Austria"
                                },
                                {
                                    "0": "NULL",
                                    "1": "Belgium"
                                },
                                {
                                    "0": "NULL",
                                    "1": "Ireland"
                                },
                                {
                                    "0": "NULL",
                                    "1": "Mexico"
                                },
                                {
                                    "0": "NULL",
                                    "1": "Poland"
                                },
                                {
                                    "0": "NULL",
                                    "1": "Portugal"
                                },
                                {
                                    "0": "NULL",
                                    "1": "Switzerland"
                                },
                                {
                                    "0": "NULL",
                                    "1": "Venezuela"
                                },
                                {
                                    "0": "Australia",
                                    "1": "NULL"
                                },
                                {
                                    "0": "Brazil",
                                    "1": "Brazil"
                                },
                                {
                                    "0": "Canada",
                                    "1": "Canada"
                                },
                                {
                                    "0": "Denmark",
                                    "1": "Denmark"
                                },
                                {
                                    "0": "Finland",
                                    "1": "Finland"
                                },
                                {
                                    "0": "France",
                                    "1": "France"
                                },
                                {
                                    "0": "Germany",
                                    "1": "Germany"
                                },
                                {
                                    "0": "Italy",
                                    "1": "Italy"
                                },
                                {
                                    "0": "Japan",
                                    "1": "NULL"
                                },
                                {
                                    "0": "Netherlands",
                                    "1": "NULL"
                                },
                                {
                                    "0": "Norway",
                                    "1": "Norway"
                                },
                                {
                                    "0": "Singapore",
                                    "1": "NULL"
                                },
                                {
                                    "0": "Spain",
                                    "1": "Spain"
                                },
                                {
                                    "0": "Sweden",
                                    "1": "Sweden"
                                },
                                {
                                    "0": "UK",
                                    "1": "UK"
                                },
                                {
                                    "0": "USA",
                                    "1": "USA"
                                }
                            ]
                        },
                        "text/html": [
                            "<table>",
                            "<tr><th>SupplierCountry</th><th>CustomerCountry</th></tr>",
                            "<tr><td>NULL</td><td>Argentina</td></tr>",
                            "<tr><td>NULL</td><td>Austria</td></tr>",
                            "<tr><td>NULL</td><td>Belgium</td></tr>",
                            "<tr><td>NULL</td><td>Ireland</td></tr>",
                            "<tr><td>NULL</td><td>Mexico</td></tr>",
                            "<tr><td>NULL</td><td>Poland</td></tr>",
                            "<tr><td>NULL</td><td>Portugal</td></tr>",
                            "<tr><td>NULL</td><td>Switzerland</td></tr>",
                            "<tr><td>NULL</td><td>Venezuela</td></tr>",
                            "<tr><td>Australia</td><td>NULL</td></tr>",
                            "<tr><td>Brazil</td><td>Brazil</td></tr>",
                            "<tr><td>Canada</td><td>Canada</td></tr>",
                            "<tr><td>Denmark</td><td>Denmark</td></tr>",
                            "<tr><td>Finland</td><td>Finland</td></tr>",
                            "<tr><td>France</td><td>France</td></tr>",
                            "<tr><td>Germany</td><td>Germany</td></tr>",
                            "<tr><td>Italy</td><td>Italy</td></tr>",
                            "<tr><td>Japan</td><td>NULL</td></tr>",
                            "<tr><td>Netherlands</td><td>NULL</td></tr>",
                            "<tr><td>Norway</td><td>Norway</td></tr>",
                            "<tr><td>Singapore</td><td>NULL</td></tr>",
                            "<tr><td>Spain</td><td>Spain</td></tr>",
                            "<tr><td>Sweden</td><td>Sweden</td></tr>",
                            "<tr><td>UK</td><td>UK</td></tr>",
                            "<tr><td>USA</td><td>USA</td></tr>",
                            "</table>"
                        ]
                    }
                },
                {
                    "output_type": "execute_result",
                    "metadata": {},
                    "execution_count": 132,
                    "data": {
                        "application/vnd.dataresource+json": {
                            "schema": {
                                "fields": [
                                    {
                                        "name": "Country"
                                    },
                                    {
                                        "name": "Country"
                                    }
                                ]
                            },
                            "data": [
                                {
                                    "0": "NULL",
                                    "1": "Argentina"
                                },
                                {
                                    "0": "Australia",
                                    "1": "NULL"
                                },
                                {
                                    "0": "NULL",
                                    "1": "Austria"
                                },
                                {
                                    "0": "NULL",
                                    "1": "Belgium"
                                },
                                {
                                    "0": "Brazil",
                                    "1": "Brazil"
                                },
                                {
                                    "0": "Canada",
                                    "1": "Canada"
                                },
                                {
                                    "0": "Denmark",
                                    "1": "Denmark"
                                },
                                {
                                    "0": "Finland",
                                    "1": "Finland"
                                },
                                {
                                    "0": "France",
                                    "1": "France"
                                },
                                {
                                    "0": "Germany",
                                    "1": "Germany"
                                },
                                {
                                    "0": "NULL",
                                    "1": "Ireland"
                                },
                                {
                                    "0": "Italy",
                                    "1": "Italy"
                                },
                                {
                                    "0": "Japan",
                                    "1": "NULL"
                                },
                                {
                                    "0": "NULL",
                                    "1": "Mexico"
                                },
                                {
                                    "0": "Netherlands",
                                    "1": "NULL"
                                },
                                {
                                    "0": "Norway",
                                    "1": "Norway"
                                },
                                {
                                    "0": "NULL",
                                    "1": "Poland"
                                },
                                {
                                    "0": "NULL",
                                    "1": "Portugal"
                                },
                                {
                                    "0": "Singapore",
                                    "1": "NULL"
                                },
                                {
                                    "0": "Spain",
                                    "1": "Spain"
                                },
                                {
                                    "0": "Sweden",
                                    "1": "Sweden"
                                },
                                {
                                    "0": "NULL",
                                    "1": "Switzerland"
                                },
                                {
                                    "0": "UK",
                                    "1": "UK"
                                },
                                {
                                    "0": "USA",
                                    "1": "USA"
                                },
                                {
                                    "0": "NULL",
                                    "1": "Venezuela"
                                }
                            ]
                        },
                        "text/html": [
                            "<table>",
                            "<tr><th>Country</th><th>Country</th></tr>",
                            "<tr><td>NULL</td><td>Argentina</td></tr>",
                            "<tr><td>Australia</td><td>NULL</td></tr>",
                            "<tr><td>NULL</td><td>Austria</td></tr>",
                            "<tr><td>NULL</td><td>Belgium</td></tr>",
                            "<tr><td>Brazil</td><td>Brazil</td></tr>",
                            "<tr><td>Canada</td><td>Canada</td></tr>",
                            "<tr><td>Denmark</td><td>Denmark</td></tr>",
                            "<tr><td>Finland</td><td>Finland</td></tr>",
                            "<tr><td>France</td><td>France</td></tr>",
                            "<tr><td>Germany</td><td>Germany</td></tr>",
                            "<tr><td>NULL</td><td>Ireland</td></tr>",
                            "<tr><td>Italy</td><td>Italy</td></tr>",
                            "<tr><td>Japan</td><td>NULL</td></tr>",
                            "<tr><td>NULL</td><td>Mexico</td></tr>",
                            "<tr><td>Netherlands</td><td>NULL</td></tr>",
                            "<tr><td>Norway</td><td>Norway</td></tr>",
                            "<tr><td>NULL</td><td>Poland</td></tr>",
                            "<tr><td>NULL</td><td>Portugal</td></tr>",
                            "<tr><td>Singapore</td><td>NULL</td></tr>",
                            "<tr><td>Spain</td><td>Spain</td></tr>",
                            "<tr><td>Sweden</td><td>Sweden</td></tr>",
                            "<tr><td>NULL</td><td>Switzerland</td></tr>",
                            "<tr><td>UK</td><td>UK</td></tr>",
                            "<tr><td>USA</td><td>USA</td></tr>",
                            "<tr><td>NULL</td><td>Venezuela</td></tr>",
                            "</table>"
                        ]
                    }
                }
            ],
            "execution_count": 132
        },
        {
            "cell_type": "markdown",
            "source": [
                "### 23\\. Countries with suppliers or customers, version 3\n",
                "\n",
                "The output in the above practice problem is improved, but it's still not ideal. What we'd really like to see is the country name, the total suppliers, and the total customers."
            ],
            "metadata": {
                "azdata_cell_guid": "dd3e3a1d-20c2-4c26-96db-670b0aa9aa8f"
            },
            "attachments": {}
        },
        {
            "cell_type": "code",
            "source": [
                "WITH SupplierCount\r\n",
                "AS\r\n",
                "(\r\n",
                "    SELECT Country, COUNT(*) AS TotalSuppliers\r\n",
                "    FROM Suppliers\r\n",
                "    GROUP BY Country\r\n",
                "),\r\n",
                "CustomerCount\r\n",
                "AS\r\n",
                "(\r\n",
                "    SELECT Country, COUNT(*) AS TotalCustomers\r\n",
                "    FROM Customers\r\n",
                "    GROUP BY Country\r\n",
                ")\r\n",
                "\r\n",
                "SELECT  COALESCE(SC.Country, CC.Country) AS Country,\r\n",
                "        COALESCE(SC.TotalSuppliers, 0) AS TotalSuppliers, \r\n",
                "        COALESCE(CC.TotalCustomers, 0) AS TotalCustomers\r\n",
                "FROM SupplierCount AS SC\r\n",
                "    FULL OUTER JOIN CustomerCount AS CC\r\n",
                "        ON SC.Country = CC.Country;"
            ],
            "metadata": {
                "azdata_cell_guid": "b0e413ab-b0ff-4cf5-b6a8-bda57a081a80",
                "language": "sql",
                "tags": []
            },
            "outputs": [
                {
                    "output_type": "display_data",
                    "data": {
                        "text/html": "(25 rows affected)"
                    },
                    "metadata": {}
                },
                {
                    "output_type": "display_data",
                    "data": {
                        "text/html": "Total execution time: 00:00:00.007"
                    },
                    "metadata": {}
                },
                {
                    "output_type": "execute_result",
                    "metadata": {},
                    "execution_count": 164,
                    "data": {
                        "application/vnd.dataresource+json": {
                            "schema": {
                                "fields": [
                                    {
                                        "name": "Country"
                                    },
                                    {
                                        "name": "TotalSuppliers"
                                    },
                                    {
                                        "name": "TotalCustomers"
                                    }
                                ]
                            },
                            "data": [
                                {
                                    "0": "Argentina",
                                    "1": "0",
                                    "2": "3"
                                },
                                {
                                    "0": "Australia",
                                    "1": "2",
                                    "2": "0"
                                },
                                {
                                    "0": "Austria",
                                    "1": "0",
                                    "2": "2"
                                },
                                {
                                    "0": "Belgium",
                                    "1": "0",
                                    "2": "2"
                                },
                                {
                                    "0": "Brazil",
                                    "1": "1",
                                    "2": "9"
                                },
                                {
                                    "0": "Canada",
                                    "1": "2",
                                    "2": "3"
                                },
                                {
                                    "0": "Denmark",
                                    "1": "1",
                                    "2": "2"
                                },
                                {
                                    "0": "Finland",
                                    "1": "1",
                                    "2": "2"
                                },
                                {
                                    "0": "France",
                                    "1": "3",
                                    "2": "11"
                                },
                                {
                                    "0": "Germany",
                                    "1": "3",
                                    "2": "11"
                                },
                                {
                                    "0": "Ireland",
                                    "1": "0",
                                    "2": "1"
                                },
                                {
                                    "0": "Italy",
                                    "1": "2",
                                    "2": "3"
                                },
                                {
                                    "0": "Japan",
                                    "1": "2",
                                    "2": "0"
                                },
                                {
                                    "0": "Mexico",
                                    "1": "0",
                                    "2": "5"
                                },
                                {
                                    "0": "Netherlands",
                                    "1": "1",
                                    "2": "0"
                                },
                                {
                                    "0": "Norway",
                                    "1": "1",
                                    "2": "1"
                                },
                                {
                                    "0": "Poland",
                                    "1": "0",
                                    "2": "1"
                                },
                                {
                                    "0": "Portugal",
                                    "1": "0",
                                    "2": "2"
                                },
                                {
                                    "0": "Singapore",
                                    "1": "1",
                                    "2": "0"
                                },
                                {
                                    "0": "Spain",
                                    "1": "1",
                                    "2": "5"
                                },
                                {
                                    "0": "Sweden",
                                    "1": "2",
                                    "2": "2"
                                },
                                {
                                    "0": "Switzerland",
                                    "1": "0",
                                    "2": "2"
                                },
                                {
                                    "0": "UK",
                                    "1": "2",
                                    "2": "7"
                                },
                                {
                                    "0": "USA",
                                    "1": "4",
                                    "2": "13"
                                },
                                {
                                    "0": "Venezuela",
                                    "1": "0",
                                    "2": "4"
                                }
                            ]
                        },
                        "text/html": [
                            "<table>",
                            "<tr><th>Country</th><th>TotalSuppliers</th><th>TotalCustomers</th></tr>",
                            "<tr><td>Argentina</td><td>0</td><td>3</td></tr>",
                            "<tr><td>Australia</td><td>2</td><td>0</td></tr>",
                            "<tr><td>Austria</td><td>0</td><td>2</td></tr>",
                            "<tr><td>Belgium</td><td>0</td><td>2</td></tr>",
                            "<tr><td>Brazil</td><td>1</td><td>9</td></tr>",
                            "<tr><td>Canada</td><td>2</td><td>3</td></tr>",
                            "<tr><td>Denmark</td><td>1</td><td>2</td></tr>",
                            "<tr><td>Finland</td><td>1</td><td>2</td></tr>",
                            "<tr><td>France</td><td>3</td><td>11</td></tr>",
                            "<tr><td>Germany</td><td>3</td><td>11</td></tr>",
                            "<tr><td>Ireland</td><td>0</td><td>1</td></tr>",
                            "<tr><td>Italy</td><td>2</td><td>3</td></tr>",
                            "<tr><td>Japan</td><td>2</td><td>0</td></tr>",
                            "<tr><td>Mexico</td><td>0</td><td>5</td></tr>",
                            "<tr><td>Netherlands</td><td>1</td><td>0</td></tr>",
                            "<tr><td>Norway</td><td>1</td><td>1</td></tr>",
                            "<tr><td>Poland</td><td>0</td><td>1</td></tr>",
                            "<tr><td>Portugal</td><td>0</td><td>2</td></tr>",
                            "<tr><td>Singapore</td><td>1</td><td>0</td></tr>",
                            "<tr><td>Spain</td><td>1</td><td>5</td></tr>",
                            "<tr><td>Sweden</td><td>2</td><td>2</td></tr>",
                            "<tr><td>Switzerland</td><td>0</td><td>2</td></tr>",
                            "<tr><td>UK</td><td>2</td><td>7</td></tr>",
                            "<tr><td>USA</td><td>4</td><td>13</td></tr>",
                            "<tr><td>Venezuela</td><td>0</td><td>4</td></tr>",
                            "</table>"
                        ]
                    }
                }
            ],
            "execution_count": 164
        },
        {
            "cell_type": "markdown",
            "source": [
                "### 24\\. First order in each country\n",
                "\n",
                "Looking at the orders table - show details for each order that was the first in that particular country, ordered by OrderID. So for each country there should be one row. That row should contain the earliest order for that country, with the associated ShipCountry, CustomerID, OrderID, and OrderDate."
            ],
            "metadata": {
                "azdata_cell_guid": "922d868e-466d-4434-b1ff-f92e580c2506"
            },
            "attachments": {}
        },
        {
            "cell_type": "code",
            "source": [
                "WITH CountryFirstOrder\r\n",
                "AS\r\n",
                "(\r\n",
                "    SELECT ShipCountry, MIN(OrderDate) AS FirstOrderDate\r\n",
                "    FROM Orders\r\n",
                "    GROUP BY ShipCountry\r\n",
                ")\r\n",
                "\r\n",
                "SELECT CFO.ShipCountry, CustomerID, OrderID, CAST(OrderDate AS DATE) AS OrderDate\r\n",
                "FROM Orders AS O\r\n",
                "    INNER JOIN CountryFirstOrder AS CFO\r\n",
                "        ON O.OrderDate = CFO.FirstOrderDate;\r\n",
                "GO\r\n",
                "\r\n",
                "--With windows function\r\n",
                "WITH CountryOrderRow\r\n",
                "AS\r\n",
                "(\r\n",
                "    SELECT ShipCountry, CustomerID, OrderID, OrderDate, ROW_NUMBER() OVER(PARTITION BY ShipCountry ORDER BY OrderDate) AS RowPerOrder\r\n",
                "    FROM Orders\r\n",
                ")\r\n",
                "\r\n",
                "SELECT ShipCountry, CustomerID, OrderID, CAST(OrderDate AS DATE) AS OrderDate\r\n",
                "FROM CountryOrderRow\r\n",
                "WHERE RowPerOrder = 1;\r\n",
                ""
            ],
            "metadata": {
                "azdata_cell_guid": "069db5e5-0def-44d7-80bf-fb7219c4ed8d",
                "language": "sql"
            },
            "outputs": [
                {
                    "output_type": "display_data",
                    "data": {
                        "text/html": "(21 rows affected)"
                    },
                    "metadata": {}
                },
                {
                    "output_type": "display_data",
                    "data": {
                        "text/html": "(21 rows affected)"
                    },
                    "metadata": {}
                },
                {
                    "output_type": "display_data",
                    "data": {
                        "text/html": "Total execution time: 00:00:00.009"
                    },
                    "metadata": {}
                },
                {
                    "output_type": "execute_result",
                    "metadata": {},
                    "execution_count": 170,
                    "data": {
                        "application/vnd.dataresource+json": {
                            "schema": {
                                "fields": [
                                    {
                                        "name": "ShipCountry"
                                    },
                                    {
                                        "name": "CustomerID"
                                    },
                                    {
                                        "name": "OrderID"
                                    },
                                    {
                                        "name": "OrderDate"
                                    }
                                ]
                            },
                            "data": [
                                {
                                    "0": "France",
                                    "1": "VINET",
                                    "2": "10248",
                                    "3": "2014-07-04"
                                },
                                {
                                    "0": "Germany",
                                    "1": "TOMSP",
                                    "2": "10249",
                                    "3": "2014-07-05"
                                },
                                {
                                    "0": "Brazil",
                                    "1": "HANAR",
                                    "2": "10250",
                                    "3": "2014-07-08"
                                },
                                {
                                    "0": "Belgium",
                                    "1": "SUPRD",
                                    "2": "10252",
                                    "3": "2014-07-09"
                                },
                                {
                                    "0": "Switzerland",
                                    "1": "CHOPS",
                                    "2": "10254",
                                    "3": "2014-07-11"
                                },
                                {
                                    "0": "Venezuela",
                                    "1": "HILAA",
                                    "2": "10257",
                                    "3": "2014-07-16"
                                },
                                {
                                    "0": "Austria",
                                    "1": "ERNSH",
                                    "2": "10258",
                                    "3": "2014-07-17"
                                },
                                {
                                    "0": "Mexico",
                                    "1": "CENTC",
                                    "2": "10259",
                                    "3": "2014-07-18"
                                },
                                {
                                    "0": "USA",
                                    "1": "RATTC",
                                    "2": "10262",
                                    "3": "2014-07-22"
                                },
                                {
                                    "0": "Sweden",
                                    "1": "FOLKO",
                                    "2": "10264",
                                    "3": "2014-07-24"
                                },
                                {
                                    "0": "Finland",
                                    "1": "WARTH",
                                    "2": "10266",
                                    "3": "2014-07-26"
                                },
                                {
                                    "0": "Italy",
                                    "1": "MAGAA",
                                    "2": "10275",
                                    "3": "2014-08-07"
                                },
                                {
                                    "0": "Spain",
                                    "1": "ROMEY",
                                    "2": "10281",
                                    "3": "2014-08-14"
                                },
                                {
                                    "0": "UK",
                                    "1": "BSBEV",
                                    "2": "10289",
                                    "3": "2014-08-26"
                                },
                                {
                                    "0": "Ireland",
                                    "1": "HUNGO",
                                    "2": "10298",
                                    "3": "2014-09-05"
                                },
                                {
                                    "0": "Portugal",
                                    "1": "FURIB",
                                    "2": "10328",
                                    "3": "2014-10-14"
                                },
                                {
                                    "0": "Canada",
                                    "1": "MEREP",
                                    "2": "10332",
                                    "3": "2014-10-17"
                                },
                                {
                                    "0": "Denmark",
                                    "1": "SIMOB",
                                    "2": "10341",
                                    "3": "2014-10-29"
                                },
                                {
                                    "0": "Poland",
                                    "1": "WOLZA",
                                    "2": "10374",
                                    "3": "2014-12-05"
                                },
                                {
                                    "0": "Norway",
                                    "1": "SANTG",
                                    "2": "10387",
                                    "3": "2014-12-18"
                                },
                                {
                                    "0": "Argentina",
                                    "1": "OCEAN",
                                    "2": "10409",
                                    "3": "2015-01-09"
                                }
                            ]
                        },
                        "text/html": [
                            "<table>",
                            "<tr><th>ShipCountry</th><th>CustomerID</th><th>OrderID</th><th>OrderDate</th></tr>",
                            "<tr><td>France</td><td>VINET</td><td>10248</td><td>2014-07-04</td></tr>",
                            "<tr><td>Germany</td><td>TOMSP</td><td>10249</td><td>2014-07-05</td></tr>",
                            "<tr><td>Brazil</td><td>HANAR</td><td>10250</td><td>2014-07-08</td></tr>",
                            "<tr><td>Belgium</td><td>SUPRD</td><td>10252</td><td>2014-07-09</td></tr>",
                            "<tr><td>Switzerland</td><td>CHOPS</td><td>10254</td><td>2014-07-11</td></tr>",
                            "<tr><td>Venezuela</td><td>HILAA</td><td>10257</td><td>2014-07-16</td></tr>",
                            "<tr><td>Austria</td><td>ERNSH</td><td>10258</td><td>2014-07-17</td></tr>",
                            "<tr><td>Mexico</td><td>CENTC</td><td>10259</td><td>2014-07-18</td></tr>",
                            "<tr><td>USA</td><td>RATTC</td><td>10262</td><td>2014-07-22</td></tr>",
                            "<tr><td>Sweden</td><td>FOLKO</td><td>10264</td><td>2014-07-24</td></tr>",
                            "<tr><td>Finland</td><td>WARTH</td><td>10266</td><td>2014-07-26</td></tr>",
                            "<tr><td>Italy</td><td>MAGAA</td><td>10275</td><td>2014-08-07</td></tr>",
                            "<tr><td>Spain</td><td>ROMEY</td><td>10281</td><td>2014-08-14</td></tr>",
                            "<tr><td>UK</td><td>BSBEV</td><td>10289</td><td>2014-08-26</td></tr>",
                            "<tr><td>Ireland</td><td>HUNGO</td><td>10298</td><td>2014-09-05</td></tr>",
                            "<tr><td>Portugal</td><td>FURIB</td><td>10328</td><td>2014-10-14</td></tr>",
                            "<tr><td>Canada</td><td>MEREP</td><td>10332</td><td>2014-10-17</td></tr>",
                            "<tr><td>Denmark</td><td>SIMOB</td><td>10341</td><td>2014-10-29</td></tr>",
                            "<tr><td>Poland</td><td>WOLZA</td><td>10374</td><td>2014-12-05</td></tr>",
                            "<tr><td>Norway</td><td>SANTG</td><td>10387</td><td>2014-12-18</td></tr>",
                            "<tr><td>Argentina</td><td>OCEAN</td><td>10409</td><td>2015-01-09</td></tr>",
                            "</table>"
                        ]
                    }
                },
                {
                    "output_type": "execute_result",
                    "metadata": {},
                    "execution_count": 170,
                    "data": {
                        "application/vnd.dataresource+json": {
                            "schema": {
                                "fields": [
                                    {
                                        "name": "ShipCountry"
                                    },
                                    {
                                        "name": "CustomerID"
                                    },
                                    {
                                        "name": "OrderID"
                                    },
                                    {
                                        "name": "OrderDate"
                                    }
                                ]
                            },
                            "data": [
                                {
                                    "0": "Argentina",
                                    "1": "OCEAN",
                                    "2": "10409",
                                    "3": "2015-01-09"
                                },
                                {
                                    "0": "Austria",
                                    "1": "ERNSH",
                                    "2": "10258",
                                    "3": "2014-07-17"
                                },
                                {
                                    "0": "Belgium",
                                    "1": "SUPRD",
                                    "2": "10252",
                                    "3": "2014-07-09"
                                },
                                {
                                    "0": "Brazil",
                                    "1": "HANAR",
                                    "2": "10250",
                                    "3": "2014-07-08"
                                },
                                {
                                    "0": "Canada",
                                    "1": "MEREP",
                                    "2": "10332",
                                    "3": "2014-10-17"
                                },
                                {
                                    "0": "Denmark",
                                    "1": "SIMOB",
                                    "2": "10341",
                                    "3": "2014-10-29"
                                },
                                {
                                    "0": "Finland",
                                    "1": "WARTH",
                                    "2": "10266",
                                    "3": "2014-07-26"
                                },
                                {
                                    "0": "France",
                                    "1": "VINET",
                                    "2": "10248",
                                    "3": "2014-07-04"
                                },
                                {
                                    "0": "Germany",
                                    "1": "TOMSP",
                                    "2": "10249",
                                    "3": "2014-07-05"
                                },
                                {
                                    "0": "Ireland",
                                    "1": "HUNGO",
                                    "2": "10298",
                                    "3": "2014-09-05"
                                },
                                {
                                    "0": "Italy",
                                    "1": "MAGAA",
                                    "2": "10275",
                                    "3": "2014-08-07"
                                },
                                {
                                    "0": "Mexico",
                                    "1": "CENTC",
                                    "2": "10259",
                                    "3": "2014-07-18"
                                },
                                {
                                    "0": "Norway",
                                    "1": "SANTG",
                                    "2": "10387",
                                    "3": "2014-12-18"
                                },
                                {
                                    "0": "Poland",
                                    "1": "WOLZA",
                                    "2": "10374",
                                    "3": "2014-12-05"
                                },
                                {
                                    "0": "Portugal",
                                    "1": "FURIB",
                                    "2": "10328",
                                    "3": "2014-10-14"
                                },
                                {
                                    "0": "Spain",
                                    "1": "ROMEY",
                                    "2": "10281",
                                    "3": "2014-08-14"
                                },
                                {
                                    "0": "Sweden",
                                    "1": "FOLKO",
                                    "2": "10264",
                                    "3": "2014-07-24"
                                },
                                {
                                    "0": "Switzerland",
                                    "1": "CHOPS",
                                    "2": "10254",
                                    "3": "2014-07-11"
                                },
                                {
                                    "0": "UK",
                                    "1": "BSBEV",
                                    "2": "10289",
                                    "3": "2014-08-26"
                                },
                                {
                                    "0": "USA",
                                    "1": "RATTC",
                                    "2": "10262",
                                    "3": "2014-07-22"
                                },
                                {
                                    "0": "Venezuela",
                                    "1": "HILAA",
                                    "2": "10257",
                                    "3": "2014-07-16"
                                }
                            ]
                        },
                        "text/html": [
                            "<table>",
                            "<tr><th>ShipCountry</th><th>CustomerID</th><th>OrderID</th><th>OrderDate</th></tr>",
                            "<tr><td>Argentina</td><td>OCEAN</td><td>10409</td><td>2015-01-09</td></tr>",
                            "<tr><td>Austria</td><td>ERNSH</td><td>10258</td><td>2014-07-17</td></tr>",
                            "<tr><td>Belgium</td><td>SUPRD</td><td>10252</td><td>2014-07-09</td></tr>",
                            "<tr><td>Brazil</td><td>HANAR</td><td>10250</td><td>2014-07-08</td></tr>",
                            "<tr><td>Canada</td><td>MEREP</td><td>10332</td><td>2014-10-17</td></tr>",
                            "<tr><td>Denmark</td><td>SIMOB</td><td>10341</td><td>2014-10-29</td></tr>",
                            "<tr><td>Finland</td><td>WARTH</td><td>10266</td><td>2014-07-26</td></tr>",
                            "<tr><td>France</td><td>VINET</td><td>10248</td><td>2014-07-04</td></tr>",
                            "<tr><td>Germany</td><td>TOMSP</td><td>10249</td><td>2014-07-05</td></tr>",
                            "<tr><td>Ireland</td><td>HUNGO</td><td>10298</td><td>2014-09-05</td></tr>",
                            "<tr><td>Italy</td><td>MAGAA</td><td>10275</td><td>2014-08-07</td></tr>",
                            "<tr><td>Mexico</td><td>CENTC</td><td>10259</td><td>2014-07-18</td></tr>",
                            "<tr><td>Norway</td><td>SANTG</td><td>10387</td><td>2014-12-18</td></tr>",
                            "<tr><td>Poland</td><td>WOLZA</td><td>10374</td><td>2014-12-05</td></tr>",
                            "<tr><td>Portugal</td><td>FURIB</td><td>10328</td><td>2014-10-14</td></tr>",
                            "<tr><td>Spain</td><td>ROMEY</td><td>10281</td><td>2014-08-14</td></tr>",
                            "<tr><td>Sweden</td><td>FOLKO</td><td>10264</td><td>2014-07-24</td></tr>",
                            "<tr><td>Switzerland</td><td>CHOPS</td><td>10254</td><td>2014-07-11</td></tr>",
                            "<tr><td>UK</td><td>BSBEV</td><td>10289</td><td>2014-08-26</td></tr>",
                            "<tr><td>USA</td><td>RATTC</td><td>10262</td><td>2014-07-22</td></tr>",
                            "<tr><td>Venezuela</td><td>HILAA</td><td>10257</td><td>2014-07-16</td></tr>",
                            "</table>"
                        ]
                    }
                }
            ],
            "execution_count": 170
        },
        {
            "cell_type": "markdown",
            "source": [
                "### 25\\. Customers with multiple orders in 5 day period\n",
                "\n",
                "There are some customers for whom freight is a major expense when ordering. However, by batching up their orders, and making one larger order instead of multiple smaller orders in a short period of time, they could reduce their freight costs significantly.\n",
                "\n",
                "  \n",
                "\n",
                "Show those customers who have made more than 1 order in a 5 day period. The sales people will use this to help their customers reduce their freight costs."
            ],
            "metadata": {
                "azdata_cell_guid": "379897db-291d-43a8-9135-97fc986e492a"
            },
            "attachments": {}
        },
        {
            "cell_type": "code",
            "source": [
                "SELECT  InitialOrder.CustomerID AS CustomerID,\r\n",
                "        InitialOrder.OrderID AS InitialOrderID,\r\n",
                "        CAST(InitialOrder.OrderDate AS DATE) AS InitialOrderDate,\r\n",
                "        NextOrder.OrderID AS NextOrderID,\r\n",
                "        CAST(NextOrder.OrderDate AS DATE) AS NextOrderDate,\r\n",
                "        DATEDIFF(DAY, InitialOrder.OrderDate, NextOrder.OrderDate) AS DaysBetweenOrders\r\n",
                "FROM Orders AS InitialOrder\r\n",
                "    INNER JOIN Orders AS NextOrder\r\n",
                "       ON InitialOrder.CustomerID = NextOrder.CustomerID\r\n",
                "       AND InitialOrder.OrderID < NextOrder.OrderID\r\n",
                "GROUP BY  InitialOrder.CustomerID,\r\n",
                "        InitialOrder.OrderID,\r\n",
                "        InitialOrder.OrderDate,\r\n",
                "        NextOrder.OrderID,\r\n",
                "        NextOrder.OrderDate\r\n",
                "HAVING DATEDIFF(DAY, InitialOrder.OrderDate, NextOrder.OrderDate) < 6\r\n",
                "ORDER BY InitialOrder.CustomerID, InitialOrder.OrderID;"
            ],
            "metadata": {
                "azdata_cell_guid": "3d08089d-483d-48e4-9132-b68e7f26570f",
                "language": "sql"
            },
            "outputs": [
                {
                    "output_type": "display_data",
                    "data": {
                        "text/html": "(71 rows affected)"
                    },
                    "metadata": {}
                },
                {
                    "output_type": "display_data",
                    "data": {
                        "text/html": "Total execution time: 00:00:00.017"
                    },
                    "metadata": {}
                },
                {
                    "output_type": "execute_result",
                    "metadata": {},
                    "execution_count": 196,
                    "data": {
                        "application/vnd.dataresource+json": {
                            "schema": {
                                "fields": [
                                    {
                                        "name": "CustomerID"
                                    },
                                    {
                                        "name": "InitialOrderID"
                                    },
                                    {
                                        "name": "InitialOrderDate"
                                    },
                                    {
                                        "name": "NextOrderID"
                                    },
                                    {
                                        "name": "NextOrderDate"
                                    },
                                    {
                                        "name": "DaysBetweenOrders"
                                    }
                                ]
                            },
                            "data": [
                                {
                                    "0": "ANTON",
                                    "1": "10677",
                                    "2": "2015-09-22",
                                    "3": "10682",
                                    "4": "2015-09-25",
                                    "5": "3"
                                },
                                {
                                    "0": "AROUT",
                                    "1": "10741",
                                    "2": "2015-11-14",
                                    "3": "10743",
                                    "4": "2015-11-17",
                                    "5": "3"
                                },
                                {
                                    "0": "BERGS",
                                    "1": "10278",
                                    "2": "2014-08-12",
                                    "3": "10280",
                                    "4": "2014-08-14",
                                    "5": "2"
                                },
                                {
                                    "0": "BERGS",
                                    "1": "10444",
                                    "2": "2015-02-12",
                                    "3": "10445",
                                    "4": "2015-02-13",
                                    "5": "1"
                                },
                                {
                                    "0": "BERGS",
                                    "1": "10866",
                                    "2": "2016-02-03",
                                    "3": "10875",
                                    "4": "2016-02-06",
                                    "5": "3"
                                },
                                {
                                    "0": "BONAP",
                                    "1": "10730",
                                    "2": "2015-11-05",
                                    "3": "10732",
                                    "4": "2015-11-06",
                                    "5": "1"
                                },
                                {
                                    "0": "BONAP",
                                    "1": "10871",
                                    "2": "2016-02-05",
                                    "3": "10876",
                                    "4": "2016-02-09",
                                    "5": "4"
                                },
                                {
                                    "0": "BONAP",
                                    "1": "10932",
                                    "2": "2016-03-06",
                                    "3": "10940",
                                    "4": "2016-03-11",
                                    "5": "5"
                                },
                                {
                                    "0": "BOTTM",
                                    "1": "10410",
                                    "2": "2015-01-10",
                                    "3": "10411",
                                    "4": "2015-01-10",
                                    "5": "0"
                                },
                                {
                                    "0": "BOTTM",
                                    "1": "10944",
                                    "2": "2016-03-12",
                                    "3": "10949",
                                    "4": "2016-03-13",
                                    "5": "1"
                                },
                                {
                                    "0": "BOTTM",
                                    "1": "10975",
                                    "2": "2016-03-25",
                                    "3": "10982",
                                    "4": "2016-03-27",
                                    "5": "2"
                                },
                                {
                                    "0": "BOTTM",
                                    "1": "11045",
                                    "2": "2016-04-23",
                                    "3": "11048",
                                    "4": "2016-04-24",
                                    "5": "1"
                                },
                                {
                                    "0": "BSBEV",
                                    "1": "10538",
                                    "2": "2015-05-15",
                                    "3": "10539",
                                    "4": "2015-05-16",
                                    "5": "1"
                                },
                                {
                                    "0": "BSBEV",
                                    "1": "10943",
                                    "2": "2016-03-11",
                                    "3": "10947",
                                    "4": "2016-03-13",
                                    "5": "2"
                                },
                                {
                                    "0": "EASTC",
                                    "1": "11047",
                                    "2": "2016-04-24",
                                    "3": "11056",
                                    "4": "2016-04-28",
                                    "5": "4"
                                },
                                {
                                    "0": "ERNSH",
                                    "1": "10402",
                                    "2": "2015-01-02",
                                    "3": "10403",
                                    "4": "2015-01-03",
                                    "5": "1"
                                },
                                {
                                    "0": "ERNSH",
                                    "1": "10771",
                                    "2": "2015-12-10",
                                    "3": "10773",
                                    "4": "2015-12-11",
                                    "5": "1"
                                },
                                {
                                    "0": "ERNSH",
                                    "1": "10771",
                                    "2": "2015-12-10",
                                    "3": "10776",
                                    "4": "2015-12-15",
                                    "5": "5"
                                },
                                {
                                    "0": "ERNSH",
                                    "1": "10773",
                                    "2": "2015-12-11",
                                    "3": "10776",
                                    "4": "2015-12-15",
                                    "5": "4"
                                },
                                {
                                    "0": "ERNSH",
                                    "1": "10968",
                                    "2": "2016-03-23",
                                    "3": "10979",
                                    "4": "2016-03-26",
                                    "5": "3"
                                },
                                {
                                    "0": "ERNSH",
                                    "1": "11008",
                                    "2": "2016-04-08",
                                    "3": "11017",
                                    "4": "2016-04-13",
                                    "5": "5"
                                },
                                {
                                    "0": "FOLKO",
                                    "1": "10977",
                                    "2": "2016-03-26",
                                    "3": "10980",
                                    "4": "2016-03-27",
                                    "5": "1"
                                },
                                {
                                    "0": "FOLKO",
                                    "1": "10980",
                                    "2": "2016-03-27",
                                    "3": "10993",
                                    "4": "2016-04-01",
                                    "5": "5"
                                },
                                {
                                    "0": "FOLKO",
                                    "1": "10993",
                                    "2": "2016-04-01",
                                    "3": "11001",
                                    "4": "2016-04-06",
                                    "5": "5"
                                },
                                {
                                    "0": "FRANK",
                                    "1": "10670",
                                    "2": "2015-09-16",
                                    "3": "10675",
                                    "4": "2015-09-19",
                                    "5": "3"
                                },
                                {
                                    "0": "GODOS",
                                    "1": "10872",
                                    "2": "2016-02-05",
                                    "3": "10874",
                                    "4": "2016-02-06",
                                    "5": "1"
                                },
                                {
                                    "0": "GREAL",
                                    "1": "10616",
                                    "2": "2015-07-31",
                                    "3": "10617",
                                    "4": "2015-07-31",
                                    "5": "0"
                                },
                                {
                                    "0": "HANAR",
                                    "1": "10250",
                                    "2": "2014-07-08",
                                    "3": "10253",
                                    "4": "2014-07-10",
                                    "5": "2"
                                },
                                {
                                    "0": "HANAR",
                                    "1": "10922",
                                    "2": "2016-03-03",
                                    "3": "10925",
                                    "4": "2016-03-04",
                                    "5": "1"
                                },
                                {
                                    "0": "HILAA",
                                    "1": "10486",
                                    "2": "2015-03-26",
                                    "3": "10490",
                                    "4": "2015-03-31",
                                    "5": "5"
                                },
                                {
                                    "0": "HILAA",
                                    "1": "10957",
                                    "2": "2016-03-18",
                                    "3": "10960",
                                    "4": "2016-03-19",
                                    "5": "1"
                                },
                                {
                                    "0": "ISLAT",
                                    "1": "10315",
                                    "2": "2014-09-26",
                                    "3": "10318",
                                    "4": "2014-10-01",
                                    "5": "5"
                                },
                                {
                                    "0": "ISLAT",
                                    "1": "10318",
                                    "2": "2014-10-01",
                                    "3": "10321",
                                    "4": "2014-10-03",
                                    "5": "2"
                                },
                                {
                                    "0": "KOENE",
                                    "1": "10323",
                                    "2": "2014-10-07",
                                    "3": "10325",
                                    "4": "2014-10-09",
                                    "5": "2"
                                },
                                {
                                    "0": "KOENE",
                                    "1": "10456",
                                    "2": "2015-02-25",
                                    "3": "10457",
                                    "4": "2015-02-25",
                                    "5": "0"
                                },
                                {
                                    "0": "LACOR",
                                    "1": "10972",
                                    "2": "2016-03-24",
                                    "3": "10973",
                                    "4": "2016-03-24",
                                    "5": "0"
                                },
                                {
                                    "0": "LEHMS",
                                    "1": "10534",
                                    "2": "2015-05-12",
                                    "3": "10536",
                                    "4": "2015-05-14",
                                    "5": "2"
                                },
                                {
                                    "0": "LEHMS",
                                    "1": "10592",
                                    "2": "2015-07-08",
                                    "3": "10593",
                                    "4": "2015-07-09",
                                    "5": "1"
                                },
                                {
                                    "0": "LILAS",
                                    "1": "11065",
                                    "2": "2016-05-01",
                                    "3": "11071",
                                    "4": "2016-05-05",
                                    "5": "4"
                                },
                                {
                                    "0": "LINOD",
                                    "1": "10838",
                                    "2": "2016-01-19",
                                    "3": "10840",
                                    "4": "2016-01-19",
                                    "5": "0"
                                },
                                {
                                    "0": "LONEP",
                                    "1": "10662",
                                    "2": "2015-09-09",
                                    "3": "10665",
                                    "4": "2015-09-11",
                                    "5": "2"
                                },
                                {
                                    "0": "MAISD",
                                    "1": "10892",
                                    "2": "2016-02-17",
                                    "3": "10896",
                                    "4": "2016-02-19",
                                    "5": "2"
                                },
                                {
                                    "0": "MEREP",
                                    "1": "10618",
                                    "2": "2015-08-01",
                                    "3": "10619",
                                    "4": "2015-08-04",
                                    "5": "3"
                                },
                                {
                                    "0": "QUEEN",
                                    "1": "10913",
                                    "2": "2016-02-26",
                                    "3": "10914",
                                    "4": "2016-02-27",
                                    "5": "1"
                                },
                                {
                                    "0": "QUICK",
                                    "1": "10285",
                                    "2": "2014-08-20",
                                    "3": "10286",
                                    "4": "2014-08-21",
                                    "5": "1"
                                },
                                {
                                    "0": "QUICK",
                                    "1": "10691",
                                    "2": "2015-10-03",
                                    "3": "10694",
                                    "4": "2015-10-06",
                                    "5": "3"
                                },
                                {
                                    "0": "QUICK",
                                    "1": "10991",
                                    "2": "2016-04-01",
                                    "3": "10996",
                                    "4": "2016-04-02",
                                    "5": "1"
                                },
                                {
                                    "0": "RATTC",
                                    "1": "10314",
                                    "2": "2014-09-25",
                                    "3": "10316",
                                    "4": "2014-09-27",
                                    "5": "2"
                                },
                                {
                                    "0": "RICSU",
                                    "1": "10751",
                                    "2": "2015-11-24",
                                    "3": "10758",
                                    "4": "2015-11-28",
                                    "5": "4"
                                },
                                {
                                    "0": "ROMEY",
                                    "1": "10281",
                                    "2": "2014-08-14",
                                    "3": "10282",
                                    "4": "2014-08-15",
                                    "5": "1"
                                },
                                {
                                    "0": "SAVEA",
                                    "1": "10393",
                                    "2": "2014-12-25",
                                    "3": "10398",
                                    "4": "2014-12-30",
                                    "5": "5"
                                },
                                {
                                    "0": "SAVEA",
                                    "1": "10603",
                                    "2": "2015-07-18",
                                    "3": "10607",
                                    "4": "2015-07-22",
                                    "5": "4"
                                },
                                {
                                    "0": "SAVEA",
                                    "1": "10711",
                                    "2": "2015-10-21",
                                    "3": "10713",
                                    "4": "2015-10-22",
                                    "5": "1"
                                },
                                {
                                    "0": "SAVEA",
                                    "1": "10711",
                                    "2": "2015-10-21",
                                    "3": "10714",
                                    "4": "2015-10-22",
                                    "5": "1"
                                },
                                {
                                    "0": "SAVEA",
                                    "1": "10713",
                                    "2": "2015-10-22",
                                    "3": "10714",
                                    "4": "2015-10-22",
                                    "5": "0"
                                },
                                {
                                    "0": "SAVEA",
                                    "1": "10983",
                                    "2": "2016-03-27",
                                    "3": "10984",
                                    "4": "2016-03-30",
                                    "5": "3"
                                },
                                {
                                    "0": "SAVEA",
                                    "1": "11030",
                                    "2": "2016-04-17",
                                    "3": "11031",
                                    "4": "2016-04-17",
                                    "5": "0"
                                },
                                {
                                    "0": "SEVES",
                                    "1": "10800",
                                    "2": "2015-12-26",
                                    "3": "10804",
                                    "4": "2015-12-30",
                                    "5": "4"
                                },
                                {
                                    "0": "SUPRD",
                                    "1": "10841",
                                    "2": "2016-01-20",
                                    "3": "10846",
                                    "4": "2016-01-22",
                                    "5": "2"
                                },
                                {
                                    "0": "SUPRD",
                                    "1": "11035",
                                    "2": "2016-04-20",
                                    "3": "11038",
                                    "4": "2016-04-21",
                                    "5": "1"
                                },
                                {
                                    "0": "TRADH",
                                    "1": "10830",
                                    "2": "2016-01-13",
                                    "3": "10834",
                                    "4": "2016-01-15",
                                    "5": "2"
                                },
                                {
                                    "0": "TRADH",
                                    "1": "10834",
                                    "2": "2016-01-15",
                                    "3": "10839",
                                    "4": "2016-01-19",
                                    "5": "4"
                                },
                                {
                                    "0": "TRAIH",
                                    "1": "10574",
                                    "2": "2015-06-19",
                                    "3": "10577",
                                    "4": "2015-06-23",
                                    "5": "4"
                                },
                                {
                                    "0": "VICTE",
                                    "1": "10806",
                                    "2": "2015-12-31",
                                    "3": "10814",
                                    "4": "2016-01-05",
                                    "5": "5"
                                },
                                {
                                    "0": "VICTE",
                                    "1": "10843",
                                    "2": "2016-01-21",
                                    "3": "10850",
                                    "4": "2016-01-23",
                                    "5": "2"
                                },
                                {
                                    "0": "VINET",
                                    "1": "10737",
                                    "2": "2015-11-11",
                                    "3": "10739",
                                    "4": "2015-11-12",
                                    "5": "1"
                                },
                                {
                                    "0": "WARTH",
                                    "1": "10412",
                                    "2": "2015-01-13",
                                    "3": "10416",
                                    "4": "2015-01-16",
                                    "5": "3"
                                },
                                {
                                    "0": "WELLI",
                                    "1": "10803",
                                    "2": "2015-12-30",
                                    "3": "10809",
                                    "4": "2016-01-01",
                                    "5": "2"
                                },
                                {
                                    "0": "WELLI",
                                    "1": "10900",
                                    "2": "2016-02-20",
                                    "3": "10905",
                                    "4": "2016-02-24",
                                    "5": "4"
                                },
                                {
                                    "0": "WHITC",
                                    "1": "10693",
                                    "2": "2015-10-06",
                                    "3": "10696",
                                    "4": "2015-10-08",
                                    "5": "2"
                                },
                                {
                                    "0": "WILMK",
                                    "1": "10873",
                                    "2": "2016-02-06",
                                    "3": "10879",
                                    "4": "2016-02-10",
                                    "5": "4"
                                }
                            ]
                        },
                        "text/html": [
                            "<table>",
                            "<tr><th>CustomerID</th><th>InitialOrderID</th><th>InitialOrderDate</th><th>NextOrderID</th><th>NextOrderDate</th><th>DaysBetweenOrders</th></tr>",
                            "<tr><td>ANTON</td><td>10677</td><td>2015-09-22</td><td>10682</td><td>2015-09-25</td><td>3</td></tr>",
                            "<tr><td>AROUT</td><td>10741</td><td>2015-11-14</td><td>10743</td><td>2015-11-17</td><td>3</td></tr>",
                            "<tr><td>BERGS</td><td>10278</td><td>2014-08-12</td><td>10280</td><td>2014-08-14</td><td>2</td></tr>",
                            "<tr><td>BERGS</td><td>10444</td><td>2015-02-12</td><td>10445</td><td>2015-02-13</td><td>1</td></tr>",
                            "<tr><td>BERGS</td><td>10866</td><td>2016-02-03</td><td>10875</td><td>2016-02-06</td><td>3</td></tr>",
                            "<tr><td>BONAP</td><td>10730</td><td>2015-11-05</td><td>10732</td><td>2015-11-06</td><td>1</td></tr>",
                            "<tr><td>BONAP</td><td>10871</td><td>2016-02-05</td><td>10876</td><td>2016-02-09</td><td>4</td></tr>",
                            "<tr><td>BONAP</td><td>10932</td><td>2016-03-06</td><td>10940</td><td>2016-03-11</td><td>5</td></tr>",
                            "<tr><td>BOTTM</td><td>10410</td><td>2015-01-10</td><td>10411</td><td>2015-01-10</td><td>0</td></tr>",
                            "<tr><td>BOTTM</td><td>10944</td><td>2016-03-12</td><td>10949</td><td>2016-03-13</td><td>1</td></tr>",
                            "<tr><td>BOTTM</td><td>10975</td><td>2016-03-25</td><td>10982</td><td>2016-03-27</td><td>2</td></tr>",
                            "<tr><td>BOTTM</td><td>11045</td><td>2016-04-23</td><td>11048</td><td>2016-04-24</td><td>1</td></tr>",
                            "<tr><td>BSBEV</td><td>10538</td><td>2015-05-15</td><td>10539</td><td>2015-05-16</td><td>1</td></tr>",
                            "<tr><td>BSBEV</td><td>10943</td><td>2016-03-11</td><td>10947</td><td>2016-03-13</td><td>2</td></tr>",
                            "<tr><td>EASTC</td><td>11047</td><td>2016-04-24</td><td>11056</td><td>2016-04-28</td><td>4</td></tr>",
                            "<tr><td>ERNSH</td><td>10402</td><td>2015-01-02</td><td>10403</td><td>2015-01-03</td><td>1</td></tr>",
                            "<tr><td>ERNSH</td><td>10771</td><td>2015-12-10</td><td>10773</td><td>2015-12-11</td><td>1</td></tr>",
                            "<tr><td>ERNSH</td><td>10771</td><td>2015-12-10</td><td>10776</td><td>2015-12-15</td><td>5</td></tr>",
                            "<tr><td>ERNSH</td><td>10773</td><td>2015-12-11</td><td>10776</td><td>2015-12-15</td><td>4</td></tr>",
                            "<tr><td>ERNSH</td><td>10968</td><td>2016-03-23</td><td>10979</td><td>2016-03-26</td><td>3</td></tr>",
                            "<tr><td>ERNSH</td><td>11008</td><td>2016-04-08</td><td>11017</td><td>2016-04-13</td><td>5</td></tr>",
                            "<tr><td>FOLKO</td><td>10977</td><td>2016-03-26</td><td>10980</td><td>2016-03-27</td><td>1</td></tr>",
                            "<tr><td>FOLKO</td><td>10980</td><td>2016-03-27</td><td>10993</td><td>2016-04-01</td><td>5</td></tr>",
                            "<tr><td>FOLKO</td><td>10993</td><td>2016-04-01</td><td>11001</td><td>2016-04-06</td><td>5</td></tr>",
                            "<tr><td>FRANK</td><td>10670</td><td>2015-09-16</td><td>10675</td><td>2015-09-19</td><td>3</td></tr>",
                            "<tr><td>GODOS</td><td>10872</td><td>2016-02-05</td><td>10874</td><td>2016-02-06</td><td>1</td></tr>",
                            "<tr><td>GREAL</td><td>10616</td><td>2015-07-31</td><td>10617</td><td>2015-07-31</td><td>0</td></tr>",
                            "<tr><td>HANAR</td><td>10250</td><td>2014-07-08</td><td>10253</td><td>2014-07-10</td><td>2</td></tr>",
                            "<tr><td>HANAR</td><td>10922</td><td>2016-03-03</td><td>10925</td><td>2016-03-04</td><td>1</td></tr>",
                            "<tr><td>HILAA</td><td>10486</td><td>2015-03-26</td><td>10490</td><td>2015-03-31</td><td>5</td></tr>",
                            "<tr><td>HILAA</td><td>10957</td><td>2016-03-18</td><td>10960</td><td>2016-03-19</td><td>1</td></tr>",
                            "<tr><td>ISLAT</td><td>10315</td><td>2014-09-26</td><td>10318</td><td>2014-10-01</td><td>5</td></tr>",
                            "<tr><td>ISLAT</td><td>10318</td><td>2014-10-01</td><td>10321</td><td>2014-10-03</td><td>2</td></tr>",
                            "<tr><td>KOENE</td><td>10323</td><td>2014-10-07</td><td>10325</td><td>2014-10-09</td><td>2</td></tr>",
                            "<tr><td>KOENE</td><td>10456</td><td>2015-02-25</td><td>10457</td><td>2015-02-25</td><td>0</td></tr>",
                            "<tr><td>LACOR</td><td>10972</td><td>2016-03-24</td><td>10973</td><td>2016-03-24</td><td>0</td></tr>",
                            "<tr><td>LEHMS</td><td>10534</td><td>2015-05-12</td><td>10536</td><td>2015-05-14</td><td>2</td></tr>",
                            "<tr><td>LEHMS</td><td>10592</td><td>2015-07-08</td><td>10593</td><td>2015-07-09</td><td>1</td></tr>",
                            "<tr><td>LILAS</td><td>11065</td><td>2016-05-01</td><td>11071</td><td>2016-05-05</td><td>4</td></tr>",
                            "<tr><td>LINOD</td><td>10838</td><td>2016-01-19</td><td>10840</td><td>2016-01-19</td><td>0</td></tr>",
                            "<tr><td>LONEP</td><td>10662</td><td>2015-09-09</td><td>10665</td><td>2015-09-11</td><td>2</td></tr>",
                            "<tr><td>MAISD</td><td>10892</td><td>2016-02-17</td><td>10896</td><td>2016-02-19</td><td>2</td></tr>",
                            "<tr><td>MEREP</td><td>10618</td><td>2015-08-01</td><td>10619</td><td>2015-08-04</td><td>3</td></tr>",
                            "<tr><td>QUEEN</td><td>10913</td><td>2016-02-26</td><td>10914</td><td>2016-02-27</td><td>1</td></tr>",
                            "<tr><td>QUICK</td><td>10285</td><td>2014-08-20</td><td>10286</td><td>2014-08-21</td><td>1</td></tr>",
                            "<tr><td>QUICK</td><td>10691</td><td>2015-10-03</td><td>10694</td><td>2015-10-06</td><td>3</td></tr>",
                            "<tr><td>QUICK</td><td>10991</td><td>2016-04-01</td><td>10996</td><td>2016-04-02</td><td>1</td></tr>",
                            "<tr><td>RATTC</td><td>10314</td><td>2014-09-25</td><td>10316</td><td>2014-09-27</td><td>2</td></tr>",
                            "<tr><td>RICSU</td><td>10751</td><td>2015-11-24</td><td>10758</td><td>2015-11-28</td><td>4</td></tr>",
                            "<tr><td>ROMEY</td><td>10281</td><td>2014-08-14</td><td>10282</td><td>2014-08-15</td><td>1</td></tr>",
                            "<tr><td>SAVEA</td><td>10393</td><td>2014-12-25</td><td>10398</td><td>2014-12-30</td><td>5</td></tr>",
                            "<tr><td>SAVEA</td><td>10603</td><td>2015-07-18</td><td>10607</td><td>2015-07-22</td><td>4</td></tr>",
                            "<tr><td>SAVEA</td><td>10711</td><td>2015-10-21</td><td>10713</td><td>2015-10-22</td><td>1</td></tr>",
                            "<tr><td>SAVEA</td><td>10711</td><td>2015-10-21</td><td>10714</td><td>2015-10-22</td><td>1</td></tr>",
                            "<tr><td>SAVEA</td><td>10713</td><td>2015-10-22</td><td>10714</td><td>2015-10-22</td><td>0</td></tr>",
                            "<tr><td>SAVEA</td><td>10983</td><td>2016-03-27</td><td>10984</td><td>2016-03-30</td><td>3</td></tr>",
                            "<tr><td>SAVEA</td><td>11030</td><td>2016-04-17</td><td>11031</td><td>2016-04-17</td><td>0</td></tr>",
                            "<tr><td>SEVES</td><td>10800</td><td>2015-12-26</td><td>10804</td><td>2015-12-30</td><td>4</td></tr>",
                            "<tr><td>SUPRD</td><td>10841</td><td>2016-01-20</td><td>10846</td><td>2016-01-22</td><td>2</td></tr>",
                            "<tr><td>SUPRD</td><td>11035</td><td>2016-04-20</td><td>11038</td><td>2016-04-21</td><td>1</td></tr>",
                            "<tr><td>TRADH</td><td>10830</td><td>2016-01-13</td><td>10834</td><td>2016-01-15</td><td>2</td></tr>",
                            "<tr><td>TRADH</td><td>10834</td><td>2016-01-15</td><td>10839</td><td>2016-01-19</td><td>4</td></tr>",
                            "<tr><td>TRAIH</td><td>10574</td><td>2015-06-19</td><td>10577</td><td>2015-06-23</td><td>4</td></tr>",
                            "<tr><td>VICTE</td><td>10806</td><td>2015-12-31</td><td>10814</td><td>2016-01-05</td><td>5</td></tr>",
                            "<tr><td>VICTE</td><td>10843</td><td>2016-01-21</td><td>10850</td><td>2016-01-23</td><td>2</td></tr>",
                            "<tr><td>VINET</td><td>10737</td><td>2015-11-11</td><td>10739</td><td>2015-11-12</td><td>1</td></tr>",
                            "<tr><td>WARTH</td><td>10412</td><td>2015-01-13</td><td>10416</td><td>2015-01-16</td><td>3</td></tr>",
                            "<tr><td>WELLI</td><td>10803</td><td>2015-12-30</td><td>10809</td><td>2016-01-01</td><td>2</td></tr>",
                            "<tr><td>WELLI</td><td>10900</td><td>2016-02-20</td><td>10905</td><td>2016-02-24</td><td>4</td></tr>",
                            "<tr><td>WHITC</td><td>10693</td><td>2015-10-06</td><td>10696</td><td>2015-10-08</td><td>2</td></tr>",
                            "<tr><td>WILMK</td><td>10873</td><td>2016-02-06</td><td>10879</td><td>2016-02-10</td><td>4</td></tr>",
                            "</table>"
                        ]
                    }
                }
            ],
            "execution_count": 196
        },
        {
            "cell_type": "markdown",
            "source": [
                "### 26\\. Customers with multiple orders in 5 day period, version 2\n",
                "\n",
                "There is another way to solve the problem above, using window functions."
            ],
            "metadata": {
                "language": "sql",
                "azdata_cell_guid": "fec6e265-ee38-43d7-a18c-4ac486be4915"
            },
            "attachments": {}
        },
        {
            "cell_type": "code",
            "source": [
                "WITH NextOrderDate\r\n",
                "AS\r\n",
                "(\r\n",
                "    SELECT  CustomerID, \r\n",
                "        CAST(OrderDate AS DATE) AS OrderDate,\r\n",
                "        CAST(LEAD(OrderDate, 1) OVER(PARTITION BY CustomerID ORDER BY OrderDate) AS DATE) AS NextOrderDate\r\n",
                "    FROM Orders\r\n",
                "   \r\n",
                ")\r\n",
                "\r\n",
                "SELECT CustomerID, OrderDate, NextOrderDate, DATEDIFF(DAY, OrderDate, NextOrderDate) AS DaysBetweenOrders\r\n",
                "FROM NextOrderDate\r\n",
                "WHERE DATEDIFF(DAY, OrderDate, NextOrderDate) < 6\r\n",
                "ORDER BY CustomerID;"
            ],
            "metadata": {
                "language": "sql",
                "azdata_cell_guid": "91255544-250e-45db-85de-7b0c3e24ceab",
                "tags": []
            },
            "outputs": [
                {
                    "output_type": "display_data",
                    "data": {
                        "text/html": "(69 rows affected)"
                    },
                    "metadata": {}
                },
                {
                    "output_type": "display_data",
                    "data": {
                        "text/html": "Total execution time: 00:00:00.014"
                    },
                    "metadata": {}
                },
                {
                    "output_type": "execute_result",
                    "metadata": {},
                    "execution_count": 211,
                    "data": {
                        "application/vnd.dataresource+json": {
                            "schema": {
                                "fields": [
                                    {
                                        "name": "CustomerID"
                                    },
                                    {
                                        "name": "OrderDate"
                                    },
                                    {
                                        "name": "NextOrderDate"
                                    },
                                    {
                                        "name": "DaysBetweenOrders"
                                    }
                                ]
                            },
                            "data": [
                                {
                                    "0": "ANTON",
                                    "1": "2015-09-22",
                                    "2": "2015-09-25",
                                    "3": "3"
                                },
                                {
                                    "0": "AROUT",
                                    "1": "2015-11-14",
                                    "2": "2015-11-17",
                                    "3": "3"
                                },
                                {
                                    "0": "BERGS",
                                    "1": "2014-08-12",
                                    "2": "2014-08-14",
                                    "3": "2"
                                },
                                {
                                    "0": "BERGS",
                                    "1": "2015-02-12",
                                    "2": "2015-02-13",
                                    "3": "1"
                                },
                                {
                                    "0": "BERGS",
                                    "1": "2016-02-03",
                                    "2": "2016-02-06",
                                    "3": "3"
                                },
                                {
                                    "0": "BONAP",
                                    "1": "2015-11-05",
                                    "2": "2015-11-06",
                                    "3": "1"
                                },
                                {
                                    "0": "BONAP",
                                    "1": "2016-02-05",
                                    "2": "2016-02-09",
                                    "3": "4"
                                },
                                {
                                    "0": "BONAP",
                                    "1": "2016-03-06",
                                    "2": "2016-03-11",
                                    "3": "5"
                                },
                                {
                                    "0": "BOTTM",
                                    "1": "2015-01-10",
                                    "2": "2015-01-10",
                                    "3": "0"
                                },
                                {
                                    "0": "BOTTM",
                                    "1": "2016-03-12",
                                    "2": "2016-03-13",
                                    "3": "1"
                                },
                                {
                                    "0": "BOTTM",
                                    "1": "2016-03-25",
                                    "2": "2016-03-27",
                                    "3": "2"
                                },
                                {
                                    "0": "BOTTM",
                                    "1": "2016-04-23",
                                    "2": "2016-04-24",
                                    "3": "1"
                                },
                                {
                                    "0": "BSBEV",
                                    "1": "2015-05-15",
                                    "2": "2015-05-16",
                                    "3": "1"
                                },
                                {
                                    "0": "BSBEV",
                                    "1": "2016-03-11",
                                    "2": "2016-03-13",
                                    "3": "2"
                                },
                                {
                                    "0": "EASTC",
                                    "1": "2016-04-24",
                                    "2": "2016-04-28",
                                    "3": "4"
                                },
                                {
                                    "0": "ERNSH",
                                    "1": "2015-01-02",
                                    "2": "2015-01-03",
                                    "3": "1"
                                },
                                {
                                    "0": "ERNSH",
                                    "1": "2015-12-10",
                                    "2": "2015-12-11",
                                    "3": "1"
                                },
                                {
                                    "0": "ERNSH",
                                    "1": "2015-12-11",
                                    "2": "2015-12-15",
                                    "3": "4"
                                },
                                {
                                    "0": "ERNSH",
                                    "1": "2016-03-23",
                                    "2": "2016-03-26",
                                    "3": "3"
                                },
                                {
                                    "0": "ERNSH",
                                    "1": "2016-04-08",
                                    "2": "2016-04-13",
                                    "3": "5"
                                },
                                {
                                    "0": "FOLKO",
                                    "1": "2016-03-26",
                                    "2": "2016-03-27",
                                    "3": "1"
                                },
                                {
                                    "0": "FOLKO",
                                    "1": "2016-03-27",
                                    "2": "2016-04-01",
                                    "3": "5"
                                },
                                {
                                    "0": "FOLKO",
                                    "1": "2016-04-01",
                                    "2": "2016-04-06",
                                    "3": "5"
                                },
                                {
                                    "0": "FRANK",
                                    "1": "2015-09-16",
                                    "2": "2015-09-19",
                                    "3": "3"
                                },
                                {
                                    "0": "GODOS",
                                    "1": "2016-02-05",
                                    "2": "2016-02-06",
                                    "3": "1"
                                },
                                {
                                    "0": "GREAL",
                                    "1": "2015-07-31",
                                    "2": "2015-07-31",
                                    "3": "0"
                                },
                                {
                                    "0": "HANAR",
                                    "1": "2014-07-08",
                                    "2": "2014-07-10",
                                    "3": "2"
                                },
                                {
                                    "0": "HANAR",
                                    "1": "2016-03-03",
                                    "2": "2016-03-04",
                                    "3": "1"
                                },
                                {
                                    "0": "HILAA",
                                    "1": "2015-03-26",
                                    "2": "2015-03-31",
                                    "3": "5"
                                },
                                {
                                    "0": "HILAA",
                                    "1": "2016-03-18",
                                    "2": "2016-03-19",
                                    "3": "1"
                                },
                                {
                                    "0": "ISLAT",
                                    "1": "2014-09-26",
                                    "2": "2014-10-01",
                                    "3": "5"
                                },
                                {
                                    "0": "ISLAT",
                                    "1": "2014-10-01",
                                    "2": "2014-10-03",
                                    "3": "2"
                                },
                                {
                                    "0": "KOENE",
                                    "1": "2014-10-07",
                                    "2": "2014-10-09",
                                    "3": "2"
                                },
                                {
                                    "0": "KOENE",
                                    "1": "2015-02-25",
                                    "2": "2015-02-25",
                                    "3": "0"
                                },
                                {
                                    "0": "LACOR",
                                    "1": "2016-03-24",
                                    "2": "2016-03-24",
                                    "3": "0"
                                },
                                {
                                    "0": "LEHMS",
                                    "1": "2015-05-12",
                                    "2": "2015-05-14",
                                    "3": "2"
                                },
                                {
                                    "0": "LEHMS",
                                    "1": "2015-07-08",
                                    "2": "2015-07-09",
                                    "3": "1"
                                },
                                {
                                    "0": "LILAS",
                                    "1": "2016-05-01",
                                    "2": "2016-05-05",
                                    "3": "4"
                                },
                                {
                                    "0": "LINOD",
                                    "1": "2016-01-19",
                                    "2": "2016-01-19",
                                    "3": "0"
                                },
                                {
                                    "0": "LONEP",
                                    "1": "2015-09-09",
                                    "2": "2015-09-11",
                                    "3": "2"
                                },
                                {
                                    "0": "MAISD",
                                    "1": "2016-02-17",
                                    "2": "2016-02-19",
                                    "3": "2"
                                },
                                {
                                    "0": "MEREP",
                                    "1": "2015-08-01",
                                    "2": "2015-08-04",
                                    "3": "3"
                                },
                                {
                                    "0": "QUEEN",
                                    "1": "2016-02-26",
                                    "2": "2016-02-27",
                                    "3": "1"
                                },
                                {
                                    "0": "QUICK",
                                    "1": "2014-08-20",
                                    "2": "2014-08-21",
                                    "3": "1"
                                },
                                {
                                    "0": "QUICK",
                                    "1": "2015-10-03",
                                    "2": "2015-10-06",
                                    "3": "3"
                                },
                                {
                                    "0": "QUICK",
                                    "1": "2016-04-01",
                                    "2": "2016-04-02",
                                    "3": "1"
                                },
                                {
                                    "0": "RATTC",
                                    "1": "2014-09-25",
                                    "2": "2014-09-27",
                                    "3": "2"
                                },
                                {
                                    "0": "RICSU",
                                    "1": "2015-11-24",
                                    "2": "2015-11-28",
                                    "3": "4"
                                },
                                {
                                    "0": "ROMEY",
                                    "1": "2014-08-14",
                                    "2": "2014-08-15",
                                    "3": "1"
                                },
                                {
                                    "0": "SAVEA",
                                    "1": "2014-12-25",
                                    "2": "2014-12-30",
                                    "3": "5"
                                },
                                {
                                    "0": "SAVEA",
                                    "1": "2015-07-18",
                                    "2": "2015-07-22",
                                    "3": "4"
                                },
                                {
                                    "0": "SAVEA",
                                    "1": "2015-10-21",
                                    "2": "2015-10-22",
                                    "3": "1"
                                },
                                {
                                    "0": "SAVEA",
                                    "1": "2015-10-22",
                                    "2": "2015-10-22",
                                    "3": "0"
                                },
                                {
                                    "0": "SAVEA",
                                    "1": "2016-03-27",
                                    "2": "2016-03-30",
                                    "3": "3"
                                },
                                {
                                    "0": "SAVEA",
                                    "1": "2016-04-17",
                                    "2": "2016-04-17",
                                    "3": "0"
                                },
                                {
                                    "0": "SEVES",
                                    "1": "2015-12-26",
                                    "2": "2015-12-30",
                                    "3": "4"
                                },
                                {
                                    "0": "SUPRD",
                                    "1": "2016-01-20",
                                    "2": "2016-01-22",
                                    "3": "2"
                                },
                                {
                                    "0": "SUPRD",
                                    "1": "2016-04-20",
                                    "2": "2016-04-21",
                                    "3": "1"
                                },
                                {
                                    "0": "TRADH",
                                    "1": "2016-01-13",
                                    "2": "2016-01-15",
                                    "3": "2"
                                },
                                {
                                    "0": "TRADH",
                                    "1": "2016-01-15",
                                    "2": "2016-01-19",
                                    "3": "4"
                                },
                                {
                                    "0": "TRAIH",
                                    "1": "2015-06-19",
                                    "2": "2015-06-23",
                                    "3": "4"
                                },
                                {
                                    "0": "VICTE",
                                    "1": "2015-12-31",
                                    "2": "2016-01-05",
                                    "3": "5"
                                },
                                {
                                    "0": "VICTE",
                                    "1": "2016-01-21",
                                    "2": "2016-01-23",
                                    "3": "2"
                                },
                                {
                                    "0": "VINET",
                                    "1": "2015-11-11",
                                    "2": "2015-11-12",
                                    "3": "1"
                                },
                                {
                                    "0": "WARTH",
                                    "1": "2015-01-13",
                                    "2": "2015-01-16",
                                    "3": "3"
                                },
                                {
                                    "0": "WELLI",
                                    "1": "2015-12-30",
                                    "2": "2016-01-01",
                                    "3": "2"
                                },
                                {
                                    "0": "WELLI",
                                    "1": "2016-02-20",
                                    "2": "2016-02-24",
                                    "3": "4"
                                },
                                {
                                    "0": "WHITC",
                                    "1": "2015-10-06",
                                    "2": "2015-10-08",
                                    "3": "2"
                                },
                                {
                                    "0": "WILMK",
                                    "1": "2016-02-06",
                                    "2": "2016-02-10",
                                    "3": "4"
                                }
                            ]
                        },
                        "text/html": [
                            "<table>",
                            "<tr><th>CustomerID</th><th>OrderDate</th><th>NextOrderDate</th><th>DaysBetweenOrders</th></tr>",
                            "<tr><td>ANTON</td><td>2015-09-22</td><td>2015-09-25</td><td>3</td></tr>",
                            "<tr><td>AROUT</td><td>2015-11-14</td><td>2015-11-17</td><td>3</td></tr>",
                            "<tr><td>BERGS</td><td>2014-08-12</td><td>2014-08-14</td><td>2</td></tr>",
                            "<tr><td>BERGS</td><td>2015-02-12</td><td>2015-02-13</td><td>1</td></tr>",
                            "<tr><td>BERGS</td><td>2016-02-03</td><td>2016-02-06</td><td>3</td></tr>",
                            "<tr><td>BONAP</td><td>2015-11-05</td><td>2015-11-06</td><td>1</td></tr>",
                            "<tr><td>BONAP</td><td>2016-02-05</td><td>2016-02-09</td><td>4</td></tr>",
                            "<tr><td>BONAP</td><td>2016-03-06</td><td>2016-03-11</td><td>5</td></tr>",
                            "<tr><td>BOTTM</td><td>2015-01-10</td><td>2015-01-10</td><td>0</td></tr>",
                            "<tr><td>BOTTM</td><td>2016-03-12</td><td>2016-03-13</td><td>1</td></tr>",
                            "<tr><td>BOTTM</td><td>2016-03-25</td><td>2016-03-27</td><td>2</td></tr>",
                            "<tr><td>BOTTM</td><td>2016-04-23</td><td>2016-04-24</td><td>1</td></tr>",
                            "<tr><td>BSBEV</td><td>2015-05-15</td><td>2015-05-16</td><td>1</td></tr>",
                            "<tr><td>BSBEV</td><td>2016-03-11</td><td>2016-03-13</td><td>2</td></tr>",
                            "<tr><td>EASTC</td><td>2016-04-24</td><td>2016-04-28</td><td>4</td></tr>",
                            "<tr><td>ERNSH</td><td>2015-01-02</td><td>2015-01-03</td><td>1</td></tr>",
                            "<tr><td>ERNSH</td><td>2015-12-10</td><td>2015-12-11</td><td>1</td></tr>",
                            "<tr><td>ERNSH</td><td>2015-12-11</td><td>2015-12-15</td><td>4</td></tr>",
                            "<tr><td>ERNSH</td><td>2016-03-23</td><td>2016-03-26</td><td>3</td></tr>",
                            "<tr><td>ERNSH</td><td>2016-04-08</td><td>2016-04-13</td><td>5</td></tr>",
                            "<tr><td>FOLKO</td><td>2016-03-26</td><td>2016-03-27</td><td>1</td></tr>",
                            "<tr><td>FOLKO</td><td>2016-03-27</td><td>2016-04-01</td><td>5</td></tr>",
                            "<tr><td>FOLKO</td><td>2016-04-01</td><td>2016-04-06</td><td>5</td></tr>",
                            "<tr><td>FRANK</td><td>2015-09-16</td><td>2015-09-19</td><td>3</td></tr>",
                            "<tr><td>GODOS</td><td>2016-02-05</td><td>2016-02-06</td><td>1</td></tr>",
                            "<tr><td>GREAL</td><td>2015-07-31</td><td>2015-07-31</td><td>0</td></tr>",
                            "<tr><td>HANAR</td><td>2014-07-08</td><td>2014-07-10</td><td>2</td></tr>",
                            "<tr><td>HANAR</td><td>2016-03-03</td><td>2016-03-04</td><td>1</td></tr>",
                            "<tr><td>HILAA</td><td>2015-03-26</td><td>2015-03-31</td><td>5</td></tr>",
                            "<tr><td>HILAA</td><td>2016-03-18</td><td>2016-03-19</td><td>1</td></tr>",
                            "<tr><td>ISLAT</td><td>2014-09-26</td><td>2014-10-01</td><td>5</td></tr>",
                            "<tr><td>ISLAT</td><td>2014-10-01</td><td>2014-10-03</td><td>2</td></tr>",
                            "<tr><td>KOENE</td><td>2014-10-07</td><td>2014-10-09</td><td>2</td></tr>",
                            "<tr><td>KOENE</td><td>2015-02-25</td><td>2015-02-25</td><td>0</td></tr>",
                            "<tr><td>LACOR</td><td>2016-03-24</td><td>2016-03-24</td><td>0</td></tr>",
                            "<tr><td>LEHMS</td><td>2015-05-12</td><td>2015-05-14</td><td>2</td></tr>",
                            "<tr><td>LEHMS</td><td>2015-07-08</td><td>2015-07-09</td><td>1</td></tr>",
                            "<tr><td>LILAS</td><td>2016-05-01</td><td>2016-05-05</td><td>4</td></tr>",
                            "<tr><td>LINOD</td><td>2016-01-19</td><td>2016-01-19</td><td>0</td></tr>",
                            "<tr><td>LONEP</td><td>2015-09-09</td><td>2015-09-11</td><td>2</td></tr>",
                            "<tr><td>MAISD</td><td>2016-02-17</td><td>2016-02-19</td><td>2</td></tr>",
                            "<tr><td>MEREP</td><td>2015-08-01</td><td>2015-08-04</td><td>3</td></tr>",
                            "<tr><td>QUEEN</td><td>2016-02-26</td><td>2016-02-27</td><td>1</td></tr>",
                            "<tr><td>QUICK</td><td>2014-08-20</td><td>2014-08-21</td><td>1</td></tr>",
                            "<tr><td>QUICK</td><td>2015-10-03</td><td>2015-10-06</td><td>3</td></tr>",
                            "<tr><td>QUICK</td><td>2016-04-01</td><td>2016-04-02</td><td>1</td></tr>",
                            "<tr><td>RATTC</td><td>2014-09-25</td><td>2014-09-27</td><td>2</td></tr>",
                            "<tr><td>RICSU</td><td>2015-11-24</td><td>2015-11-28</td><td>4</td></tr>",
                            "<tr><td>ROMEY</td><td>2014-08-14</td><td>2014-08-15</td><td>1</td></tr>",
                            "<tr><td>SAVEA</td><td>2014-12-25</td><td>2014-12-30</td><td>5</td></tr>",
                            "<tr><td>SAVEA</td><td>2015-07-18</td><td>2015-07-22</td><td>4</td></tr>",
                            "<tr><td>SAVEA</td><td>2015-10-21</td><td>2015-10-22</td><td>1</td></tr>",
                            "<tr><td>SAVEA</td><td>2015-10-22</td><td>2015-10-22</td><td>0</td></tr>",
                            "<tr><td>SAVEA</td><td>2016-03-27</td><td>2016-03-30</td><td>3</td></tr>",
                            "<tr><td>SAVEA</td><td>2016-04-17</td><td>2016-04-17</td><td>0</td></tr>",
                            "<tr><td>SEVES</td><td>2015-12-26</td><td>2015-12-30</td><td>4</td></tr>",
                            "<tr><td>SUPRD</td><td>2016-01-20</td><td>2016-01-22</td><td>2</td></tr>",
                            "<tr><td>SUPRD</td><td>2016-04-20</td><td>2016-04-21</td><td>1</td></tr>",
                            "<tr><td>TRADH</td><td>2016-01-13</td><td>2016-01-15</td><td>2</td></tr>",
                            "<tr><td>TRADH</td><td>2016-01-15</td><td>2016-01-19</td><td>4</td></tr>",
                            "<tr><td>TRAIH</td><td>2015-06-19</td><td>2015-06-23</td><td>4</td></tr>",
                            "<tr><td>VICTE</td><td>2015-12-31</td><td>2016-01-05</td><td>5</td></tr>",
                            "<tr><td>VICTE</td><td>2016-01-21</td><td>2016-01-23</td><td>2</td></tr>",
                            "<tr><td>VINET</td><td>2015-11-11</td><td>2015-11-12</td><td>1</td></tr>",
                            "<tr><td>WARTH</td><td>2015-01-13</td><td>2015-01-16</td><td>3</td></tr>",
                            "<tr><td>WELLI</td><td>2015-12-30</td><td>2016-01-01</td><td>2</td></tr>",
                            "<tr><td>WELLI</td><td>2016-02-20</td><td>2016-02-24</td><td>4</td></tr>",
                            "<tr><td>WHITC</td><td>2015-10-06</td><td>2015-10-08</td><td>2</td></tr>",
                            "<tr><td>WILMK</td><td>2016-02-06</td><td>2016-02-10</td><td>4</td></tr>",
                            "</table>"
                        ]
                    }
                }
            ],
            "execution_count": 211
        }
    ]
}