{
    "metadata": {
        "kernelspec": {
            "name": "SQL",
            "display_name": "SQL",
            "language": "sql"
        },
        "language_info": {
            "name": "sql",
            "version": ""
        }
    },
    "nbformat_minor": 2,
    "nbformat": 4,
    "cells": [
        {
            "cell_type": "markdown",
            "source": [
                "## Beginner Problems"
            ],
            "metadata": {
                "azdata_cell_guid": "c83281de-26f3-4018-aff8-36e7c794826f"
            },
            "attachments": {}
        },
        {
            "cell_type": "markdown",
            "source": [
                "### 1\\. Which shippers do we have?\n",
                "\n",
                "There is a table called shippers. Return all the fields from all the shippers."
            ],
            "metadata": {
                "azdata_cell_guid": "0f238d0d-73ab-4a6f-9948-35f830a546b3"
            },
            "attachments": {}
        },
        {
            "cell_type": "code",
            "source": [
                "SELECT * FROM Shippers;"
            ],
            "metadata": {
                "azdata_cell_guid": "2e7ea615-8fb2-4cf1-b738-2307eeb6af30",
                "language": "sql"
            },
            "outputs": [
                {
                    "output_type": "display_data",
                    "data": {
                        "text/html": "(3 rows affected)"
                    },
                    "metadata": {}
                },
                {
                    "output_type": "display_data",
                    "data": {
                        "text/html": "Total execution time: 00:00:00.061"
                    },
                    "metadata": {}
                },
                {
                    "output_type": "execute_result",
                    "execution_count": 1,
                    "data": {
                        "application/vnd.dataresource+json": {
                            "schema": {
                                "fields": [
                                    {
                                        "name": "ShipperID"
                                    },
                                    {
                                        "name": "CompanyName"
                                    },
                                    {
                                        "name": "Phone"
                                    }
                                ]
                            },
                            "data": [
                                {
                                    "0": "1",
                                    "1": "Speedy Express",
                                    "2": "(503) 555-9831"
                                },
                                {
                                    "0": "2",
                                    "1": "United Package",
                                    "2": "(503) 555-3199"
                                },
                                {
                                    "0": "3",
                                    "1": "Federal Shipping",
                                    "2": "(503) 555-9931"
                                }
                            ]
                        },
                        "text/html": "<table><tr><th>ShipperID</th><th>CompanyName</th><th>Phone</th></tr><tr><td>1</td><td>Speedy Express</td><td>(503) 555-9831</td></tr><tr><td>2</td><td>United Package</td><td>(503) 555-3199</td></tr><tr><td>3</td><td>Federal Shipping</td><td>(503) 555-9931</td></tr></table>"
                    },
                    "metadata": {}
                }
            ],
            "execution_count": 1
        },
        {
            "cell_type": "markdown",
            "source": [
                "### 2\\. Certain fields from Categories\n",
                "\n",
                "In the Categories table, return only the columns CategoryName and Description."
            ],
            "metadata": {
                "azdata_cell_guid": "8da8f8c4-d673-4f54-8eb2-ffd6e6edbee1"
            },
            "attachments": {}
        },
        {
            "cell_type": "code",
            "source": [
                "SELECT CategoryName, [Description]\r\n",
                "FROM Categories;"
            ],
            "metadata": {
                "azdata_cell_guid": "6d7443e8-57f9-4d37-8354-4776f2dfadfd",
                "language": "sql"
            },
            "outputs": [
                {
                    "output_type": "display_data",
                    "data": {
                        "text/html": "(8 rows affected)"
                    },
                    "metadata": {}
                },
                {
                    "output_type": "display_data",
                    "data": {
                        "text/html": "Total execution time: 00:00:00.011"
                    },
                    "metadata": {}
                },
                {
                    "output_type": "execute_result",
                    "execution_count": 3,
                    "data": {
                        "application/vnd.dataresource+json": {
                            "schema": {
                                "fields": [
                                    {
                                        "name": "CategoryName"
                                    },
                                    {
                                        "name": "Description"
                                    }
                                ]
                            },
                            "data": [
                                {
                                    "0": "Beverages",
                                    "1": "Soft drinks, coffees, teas, beers, and ales"
                                },
                                {
                                    "0": "Condiments",
                                    "1": "Sweet and savory sauces, relishes, spreads, and seasonings"
                                },
                                {
                                    "0": "Confections",
                                    "1": "Desserts, candies, and sweet breads"
                                },
                                {
                                    "0": "Dairy Products",
                                    "1": "Cheeses"
                                },
                                {
                                    "0": "Grains/Cereals",
                                    "1": "Breads, crackers, pasta, and cereal"
                                },
                                {
                                    "0": "Meat/Poultry",
                                    "1": "Prepared meats"
                                },
                                {
                                    "0": "Produce",
                                    "1": "Dried fruit and bean curd"
                                },
                                {
                                    "0": "Seafood",
                                    "1": "Seaweed and fish"
                                }
                            ]
                        },
                        "text/html": "<table><tr><th>CategoryName</th><th>Description</th></tr><tr><td>Beverages</td><td>Soft drinks, coffees, teas, beers, and ales</td></tr><tr><td>Condiments</td><td>Sweet and savory sauces, relishes, spreads, and seasonings</td></tr><tr><td>Confections</td><td>Desserts, candies, and sweet breads</td></tr><tr><td>Dairy Products</td><td>Cheeses</td></tr><tr><td>Grains/Cereals</td><td>Breads, crackers, pasta, and cereal</td></tr><tr><td>Meat/Poultry</td><td>Prepared meats</td></tr><tr><td>Produce</td><td>Dried fruit and bean curd</td></tr><tr><td>Seafood</td><td>Seaweed and fish</td></tr></table>"
                    },
                    "metadata": {}
                }
            ],
            "execution_count": 3
        },
        {
            "cell_type": "markdown",
            "source": [
                "### 3\\. Sales Representatives\n",
                "\n",
                "Show just the FirstName, LastName, and HireDate of all the employees with the title of 'Sales Representative'."
            ],
            "metadata": {
                "language": "sql",
                "azdata_cell_guid": "2e2eba36-cbf9-4e2e-9ea0-f5b519d08fb4"
            },
            "attachments": {}
        },
        {
            "cell_type": "code",
            "source": [
                "SELECT FirstName, LastName, HireDate\r\n",
                "FROM Employees\r\n",
                "WHERE TItle = 'Sales Representative';"
            ],
            "metadata": {
                "language": "sql",
                "azdata_cell_guid": "ecd713f3-3022-437b-bbcc-7f33f0eb9646"
            },
            "outputs": [
                {
                    "output_type": "display_data",
                    "data": {
                        "text/html": "(6 rows affected)"
                    },
                    "metadata": {}
                },
                {
                    "output_type": "display_data",
                    "data": {
                        "text/html": "Total execution time: 00:00:00.005"
                    },
                    "metadata": {}
                },
                {
                    "output_type": "execute_result",
                    "execution_count": 2,
                    "data": {
                        "application/vnd.dataresource+json": {
                            "schema": {
                                "fields": [
                                    {
                                        "name": "FirstName"
                                    },
                                    {
                                        "name": "LastName"
                                    },
                                    {
                                        "name": "HireDate"
                                    }
                                ]
                            },
                            "data": [
                                {
                                    "0": "Nancy",
                                    "1": "Davolio",
                                    "2": "2010-05-01 00:00:00.000"
                                },
                                {
                                    "0": "Janet",
                                    "1": "Leverling",
                                    "2": "2010-04-01 00:00:00.000"
                                },
                                {
                                    "0": "Margaret",
                                    "1": "Peacock",
                                    "2": "2011-05-03 00:00:00.000"
                                },
                                {
                                    "0": "Michael",
                                    "1": "Suyama",
                                    "2": "2011-10-17 00:00:00.000"
                                },
                                {
                                    "0": "Robert",
                                    "1": "King",
                                    "2": "2012-01-02 00:00:00.000"
                                },
                                {
                                    "0": "Anne",
                                    "1": "Dodsworth",
                                    "2": "2012-11-15 00:00:00.000"
                                }
                            ]
                        },
                        "text/html": "<table><tr><th>FirstName</th><th>LastName</th><th>HireDate</th></tr><tr><td>Nancy</td><td>Davolio</td><td>2010-05-01 00:00:00.000</td></tr><tr><td>Janet</td><td>Leverling</td><td>2010-04-01 00:00:00.000</td></tr><tr><td>Margaret</td><td>Peacock</td><td>2011-05-03 00:00:00.000</td></tr><tr><td>Michael</td><td>Suyama</td><td>2011-10-17 00:00:00.000</td></tr><tr><td>Robert</td><td>King</td><td>2012-01-02 00:00:00.000</td></tr><tr><td>Anne</td><td>Dodsworth</td><td>2012-11-15 00:00:00.000</td></tr></table>"
                    },
                    "metadata": {}
                }
            ],
            "execution_count": 2
        },
        {
            "cell_type": "markdown",
            "source": [
                "### 4\\. Sales Representatives in the United States\n",
                "\n",
                "Show same columns as above but only for those employees that both have the title 'Sales Representative' and also are in the United States."
            ],
            "metadata": {
                "language": "sql",
                "azdata_cell_guid": "2780a7e3-fc33-4e3f-91f9-43e0259dc54c"
            },
            "attachments": {}
        },
        {
            "cell_type": "code",
            "source": [
                "SELECT FirstName, LastName, HireDate\r\n",
                "FROM Employees\r\n",
                "WHERE Title = 'Sales Representative' AND Country = 'USA';"
            ],
            "metadata": {
                "language": "sql",
                "azdata_cell_guid": "8b80b8b3-b417-4d43-8755-823cfc0e37fb"
            },
            "outputs": [
                {
                    "output_type": "display_data",
                    "data": {
                        "text/html": "(3 rows affected)"
                    },
                    "metadata": {}
                },
                {
                    "output_type": "display_data",
                    "data": {
                        "text/html": "Total execution time: 00:00:00.012"
                    },
                    "metadata": {}
                },
                {
                    "output_type": "execute_result",
                    "execution_count": 6,
                    "data": {
                        "application/vnd.dataresource+json": {
                            "schema": {
                                "fields": [
                                    {
                                        "name": "FirstName"
                                    },
                                    {
                                        "name": "LastName"
                                    },
                                    {
                                        "name": "HireDate"
                                    }
                                ]
                            },
                            "data": [
                                {
                                    "0": "Nancy",
                                    "1": "Davolio",
                                    "2": "2010-05-01 00:00:00.000"
                                },
                                {
                                    "0": "Janet",
                                    "1": "Leverling",
                                    "2": "2010-04-01 00:00:00.000"
                                },
                                {
                                    "0": "Margaret",
                                    "1": "Peacock",
                                    "2": "2011-05-03 00:00:00.000"
                                }
                            ]
                        },
                        "text/html": "<table><tr><th>FirstName</th><th>LastName</th><th>HireDate</th></tr><tr><td>Nancy</td><td>Davolio</td><td>2010-05-01 00:00:00.000</td></tr><tr><td>Janet</td><td>Leverling</td><td>2010-04-01 00:00:00.000</td></tr><tr><td>Margaret</td><td>Peacock</td><td>2011-05-03 00:00:00.000</td></tr></table>"
                    },
                    "metadata": {}
                }
            ],
            "execution_count": 6
        },
        {
            "cell_type": "markdown",
            "source": [
                "### 5\\. Orders placed by specific EmployeeID\n",
                "\n",
                "Show all orders placed by the employee Steven Buchanan. The employee id is 5."
            ],
            "metadata": {
                "language": "sql",
                "azdata_cell_guid": "15cf4d8e-9ae8-4a09-9ebd-9ab226bdf29a"
            },
            "attachments": {}
        },
        {
            "cell_type": "code",
            "source": [
                "SELECT OrderID, OrderDate\r\n",
                "FROM Orders\r\n",
                "WHERE EmployeeID = 5;"
            ],
            "metadata": {
                "language": "sql",
                "azdata_cell_guid": "e47e90ec-ded4-4d13-9241-400f24f807f4"
            },
            "outputs": [
                {
                    "output_type": "display_data",
                    "data": {
                        "text/html": "(42 rows affected)"
                    },
                    "metadata": {}
                },
                {
                    "output_type": "display_data",
                    "data": {
                        "text/html": "Total execution time: 00:00:00.019"
                    },
                    "metadata": {}
                },
                {
                    "output_type": "execute_result",
                    "execution_count": 7,
                    "data": {
                        "application/vnd.dataresource+json": {
                            "schema": {
                                "fields": [
                                    {
                                        "name": "OrderID"
                                    },
                                    {
                                        "name": "OrderDate"
                                    }
                                ]
                            },
                            "data": [
                                {
                                    "0": "10248",
                                    "1": "2014-07-04 08:00:00.000"
                                },
                                {
                                    "0": "10254",
                                    "1": "2014-07-11 02:00:00.000"
                                },
                                {
                                    "0": "10269",
                                    "1": "2014-07-31 00:00:00.000"
                                },
                                {
                                    "0": "10297",
                                    "1": "2014-09-04 21:00:00.000"
                                },
                                {
                                    "0": "10320",
                                    "1": "2014-10-03 12:00:00.000"
                                },
                                {
                                    "0": "10333",
                                    "1": "2014-10-18 18:00:00.000"
                                },
                                {
                                    "0": "10358",
                                    "1": "2014-11-20 05:00:00.000"
                                },
                                {
                                    "0": "10359",
                                    "1": "2014-11-21 14:00:00.000"
                                },
                                {
                                    "0": "10372",
                                    "1": "2014-12-04 10:00:00.000"
                                },
                                {
                                    "0": "10378",
                                    "1": "2014-12-10 00:00:00.000"
                                },
                                {
                                    "0": "10397",
                                    "1": "2014-12-27 17:00:00.000"
                                },
                                {
                                    "0": "10463",
                                    "1": "2015-03-04 13:00:00.000"
                                },
                                {
                                    "0": "10474",
                                    "1": "2015-03-13 16:00:00.000"
                                },
                                {
                                    "0": "10477",
                                    "1": "2015-03-17 02:00:00.000"
                                },
                                {
                                    "0": "10529",
                                    "1": "2015-05-07 01:00:00.000"
                                },
                                {
                                    "0": "10549",
                                    "1": "2015-05-27 03:00:00.000"
                                },
                                {
                                    "0": "10569",
                                    "1": "2015-06-16 15:00:00.000"
                                },
                                {
                                    "0": "10575",
                                    "1": "2015-06-20 22:00:00.000"
                                },
                                {
                                    "0": "10607",
                                    "1": "2015-07-22 09:00:00.000"
                                },
                                {
                                    "0": "10648",
                                    "1": "2015-08-28 22:00:00.000"
                                },
                                {
                                    "0": "10649",
                                    "1": "2015-08-28 00:00:00.000"
                                },
                                {
                                    "0": "10650",
                                    "1": "2015-08-29 06:00:00.000"
                                },
                                {
                                    "0": "10654",
                                    "1": "2015-09-02 07:00:00.000"
                                },
                                {
                                    "0": "10675",
                                    "1": "2015-09-19 06:00:00.000"
                                },
                                {
                                    "0": "10711",
                                    "1": "2015-10-21 03:00:00.000"
                                },
                                {
                                    "0": "10714",
                                    "1": "2015-10-22 03:00:00.000"
                                },
                                {
                                    "0": "10721",
                                    "1": "2015-10-29 08:00:00.000"
                                },
                                {
                                    "0": "10730",
                                    "1": "2015-11-05 07:00:00.000"
                                },
                                {
                                    "0": "10761",
                                    "1": "2015-12-02 08:00:00.000"
                                },
                                {
                                    "0": "10812",
                                    "1": "2016-01-02 02:00:00.000"
                                },
                                {
                                    "0": "10823",
                                    "1": "2016-01-09 17:00:00.000"
                                },
                                {
                                    "0": "10841",
                                    "1": "2016-01-20 21:00:00.000"
                                },
                                {
                                    "0": "10851",
                                    "1": "2016-01-26 00:00:00.000"
                                },
                                {
                                    "0": "10866",
                                    "1": "2016-02-03 01:00:00.000"
                                },
                                {
                                    "0": "10869",
                                    "1": "2016-02-04 09:00:00.000"
                                },
                                {
                                    "0": "10870",
                                    "1": "2016-02-04 12:00:00.000"
                                },
                                {
                                    "0": "10872",
                                    "1": "2016-02-05 06:00:00.000"
                                },
                                {
                                    "0": "10874",
                                    "1": "2016-02-06 14:00:00.000"
                                },
                                {
                                    "0": "10899",
                                    "1": "2016-02-20 09:00:00.000"
                                },
                                {
                                    "0": "10922",
                                    "1": "2016-03-03 02:00:00.000"
                                },
                                {
                                    "0": "10954",
                                    "1": "2016-03-17 16:00:00.000"
                                },
                                {
                                    "0": "11043",
                                    "1": "2016-04-22 17:00:00.000"
                                }
                            ]
                        },
                        "text/html": "<table><tr><th>OrderID</th><th>OrderDate</th></tr><tr><td>10248</td><td>2014-07-04 08:00:00.000</td></tr><tr><td>10254</td><td>2014-07-11 02:00:00.000</td></tr><tr><td>10269</td><td>2014-07-31 00:00:00.000</td></tr><tr><td>10297</td><td>2014-09-04 21:00:00.000</td></tr><tr><td>10320</td><td>2014-10-03 12:00:00.000</td></tr><tr><td>10333</td><td>2014-10-18 18:00:00.000</td></tr><tr><td>10358</td><td>2014-11-20 05:00:00.000</td></tr><tr><td>10359</td><td>2014-11-21 14:00:00.000</td></tr><tr><td>10372</td><td>2014-12-04 10:00:00.000</td></tr><tr><td>10378</td><td>2014-12-10 00:00:00.000</td></tr><tr><td>10397</td><td>2014-12-27 17:00:00.000</td></tr><tr><td>10463</td><td>2015-03-04 13:00:00.000</td></tr><tr><td>10474</td><td>2015-03-13 16:00:00.000</td></tr><tr><td>10477</td><td>2015-03-17 02:00:00.000</td></tr><tr><td>10529</td><td>2015-05-07 01:00:00.000</td></tr><tr><td>10549</td><td>2015-05-27 03:00:00.000</td></tr><tr><td>10569</td><td>2015-06-16 15:00:00.000</td></tr><tr><td>10575</td><td>2015-06-20 22:00:00.000</td></tr><tr><td>10607</td><td>2015-07-22 09:00:00.000</td></tr><tr><td>10648</td><td>2015-08-28 22:00:00.000</td></tr><tr><td>10649</td><td>2015-08-28 00:00:00.000</td></tr><tr><td>10650</td><td>2015-08-29 06:00:00.000</td></tr><tr><td>10654</td><td>2015-09-02 07:00:00.000</td></tr><tr><td>10675</td><td>2015-09-19 06:00:00.000</td></tr><tr><td>10711</td><td>2015-10-21 03:00:00.000</td></tr><tr><td>10714</td><td>2015-10-22 03:00:00.000</td></tr><tr><td>10721</td><td>2015-10-29 08:00:00.000</td></tr><tr><td>10730</td><td>2015-11-05 07:00:00.000</td></tr><tr><td>10761</td><td>2015-12-02 08:00:00.000</td></tr><tr><td>10812</td><td>2016-01-02 02:00:00.000</td></tr><tr><td>10823</td><td>2016-01-09 17:00:00.000</td></tr><tr><td>10841</td><td>2016-01-20 21:00:00.000</td></tr><tr><td>10851</td><td>2016-01-26 00:00:00.000</td></tr><tr><td>10866</td><td>2016-02-03 01:00:00.000</td></tr><tr><td>10869</td><td>2016-02-04 09:00:00.000</td></tr><tr><td>10870</td><td>2016-02-04 12:00:00.000</td></tr><tr><td>10872</td><td>2016-02-05 06:00:00.000</td></tr><tr><td>10874</td><td>2016-02-06 14:00:00.000</td></tr><tr><td>10899</td><td>2016-02-20 09:00:00.000</td></tr><tr><td>10922</td><td>2016-03-03 02:00:00.000</td></tr><tr><td>10954</td><td>2016-03-17 16:00:00.000</td></tr><tr><td>11043</td><td>2016-04-22 17:00:00.000</td></tr></table>"
                    },
                    "metadata": {}
                }
            ],
            "execution_count": 7
        },
        {
            "cell_type": "markdown",
            "source": [
                "### 6\\. Suppliers and ContactTitles\n",
                "\n",
                "From the Suppliers table, show the SupplierID, ContactName, and ContactTitle for those suppliers whose ContactTitle is _not_ Marketing Manager."
            ],
            "metadata": {
                "language": "sql",
                "azdata_cell_guid": "c1983189-4bde-44b6-9a27-baba7b25b45f"
            },
            "attachments": {}
        },
        {
            "cell_type": "code",
            "source": [
                "SELECT SupplierID, ContactName, ContactTitle\r\n",
                "FROM Suppliers\r\n",
                "WHERE ContactTitle <> 'Marketing Manager';"
            ],
            "metadata": {
                "azdata_cell_guid": "121eac19-7f8e-4885-8923-074bf30092d1",
                "language": "sql"
            },
            "outputs": [
                {
                    "output_type": "display_data",
                    "data": {
                        "text/html": "(24 rows affected)"
                    },
                    "metadata": {}
                },
                {
                    "output_type": "display_data",
                    "data": {
                        "text/html": "Total execution time: 00:00:00.024"
                    },
                    "metadata": {}
                },
                {
                    "output_type": "execute_result",
                    "execution_count": 8,
                    "data": {
                        "application/vnd.dataresource+json": {
                            "schema": {
                                "fields": [
                                    {
                                        "name": "SupplierID"
                                    },
                                    {
                                        "name": "ContactName"
                                    },
                                    {
                                        "name": "ContactTitle"
                                    }
                                ]
                            },
                            "data": [
                                {
                                    "0": "1",
                                    "1": "Charlotte Cooper",
                                    "2": "Purchasing Manager"
                                },
                                {
                                    "0": "2",
                                    "1": "Shelley Burke",
                                    "2": "Order Administrator"
                                },
                                {
                                    "0": "3",
                                    "1": "Regina Murphy",
                                    "2": "Sales Representative"
                                },
                                {
                                    "0": "5",
                                    "1": "Antonio del Valle Saavedra",
                                    "2": "Export Administrator"
                                },
                                {
                                    "0": "6",
                                    "1": "Mayumi Ohno",
                                    "2": "Marketing Representative"
                                },
                                {
                                    "0": "8",
                                    "1": "Peter Wilson",
                                    "2": "Sales Representative"
                                },
                                {
                                    "0": "9",
                                    "1": "Lars Peterson",
                                    "2": "Sales Agent"
                                },
                                {
                                    "0": "11",
                                    "1": "Petra Winkler",
                                    "2": "Sales Manager"
                                },
                                {
                                    "0": "12",
                                    "1": "Martin Bein",
                                    "2": "International Marketing Mgr."
                                },
                                {
                                    "0": "13",
                                    "1": "Sven Petersen",
                                    "2": "Coordinator Foreign Markets"
                                },
                                {
                                    "0": "14",
                                    "1": "Elio Rossi",
                                    "2": "Sales Representative"
                                },
                                {
                                    "0": "16",
                                    "1": "Cheryl Saylor",
                                    "2": "Regional Account Rep."
                                },
                                {
                                    "0": "17",
                                    "1": "Michael Björn",
                                    "2": "Sales Representative"
                                },
                                {
                                    "0": "18",
                                    "1": "Guylène Nodier",
                                    "2": "Sales Manager"
                                },
                                {
                                    "0": "19",
                                    "1": "Robb Merchant",
                                    "2": "Wholesale Account Agent"
                                },
                                {
                                    "0": "20",
                                    "1": "Chandra Leka",
                                    "2": "Owner"
                                },
                                {
                                    "0": "21",
                                    "1": "Niels Petersen",
                                    "2": "Sales Manager"
                                },
                                {
                                    "0": "22",
                                    "1": "Dirk Luchte",
                                    "2": "Accounting Manager"
                                },
                                {
                                    "0": "23",
                                    "1": "Anne Heikkonen",
                                    "2": "Product Manager"
                                },
                                {
                                    "0": "24",
                                    "1": "Wendy Mackenzie",
                                    "2": "Sales Representative"
                                },
                                {
                                    "0": "26",
                                    "1": "Giovanni Giudici",
                                    "2": "Order Administrator"
                                },
                                {
                                    "0": "27",
                                    "1": "Marie Delamare",
                                    "2": "Sales Manager"
                                },
                                {
                                    "0": "28",
                                    "1": "Eliane Noz",
                                    "2": "Sales Representative"
                                },
                                {
                                    "0": "29",
                                    "1": "Chantal Goulet",
                                    "2": "Accounting Manager"
                                }
                            ]
                        },
                        "text/html": "<table><tr><th>SupplierID</th><th>ContactName</th><th>ContactTitle</th></tr><tr><td>1</td><td>Charlotte Cooper</td><td>Purchasing Manager</td></tr><tr><td>2</td><td>Shelley Burke</td><td>Order Administrator</td></tr><tr><td>3</td><td>Regina Murphy</td><td>Sales Representative</td></tr><tr><td>5</td><td>Antonio del Valle Saavedra</td><td>Export Administrator</td></tr><tr><td>6</td><td>Mayumi Ohno</td><td>Marketing Representative</td></tr><tr><td>8</td><td>Peter Wilson</td><td>Sales Representative</td></tr><tr><td>9</td><td>Lars Peterson</td><td>Sales Agent</td></tr><tr><td>11</td><td>Petra Winkler</td><td>Sales Manager</td></tr><tr><td>12</td><td>Martin Bein</td><td>International Marketing Mgr.</td></tr><tr><td>13</td><td>Sven Petersen</td><td>Coordinator Foreign Markets</td></tr><tr><td>14</td><td>Elio Rossi</td><td>Sales Representative</td></tr><tr><td>16</td><td>Cheryl Saylor</td><td>Regional Account Rep.</td></tr><tr><td>17</td><td>Michael Björn</td><td>Sales Representative</td></tr><tr><td>18</td><td>Guylène Nodier</td><td>Sales Manager</td></tr><tr><td>19</td><td>Robb Merchant</td><td>Wholesale Account Agent</td></tr><tr><td>20</td><td>Chandra Leka</td><td>Owner</td></tr><tr><td>21</td><td>Niels Petersen</td><td>Sales Manager</td></tr><tr><td>22</td><td>Dirk Luchte</td><td>Accounting Manager</td></tr><tr><td>23</td><td>Anne Heikkonen</td><td>Product Manager</td></tr><tr><td>24</td><td>Wendy Mackenzie</td><td>Sales Representative</td></tr><tr><td>26</td><td>Giovanni Giudici</td><td>Order Administrator</td></tr><tr><td>27</td><td>Marie Delamare</td><td>Sales Manager</td></tr><tr><td>28</td><td>Eliane Noz</td><td>Sales Representative</td></tr><tr><td>29</td><td>Chantal Goulet</td><td>Accounting Manager</td></tr></table>"
                    },
                    "metadata": {}
                }
            ],
            "execution_count": 8
        },
        {
            "cell_type": "markdown",
            "source": [
                "### 7\\. Products with \"queso\" in ProductName\n",
                "\n",
                "In the Products table, show ProductID and ProductName for those products where the ProductName includes the string \"queso\"."
            ],
            "metadata": {
                "azdata_cell_guid": "0a9d75f6-7e71-4332-b7a7-d07fc9901962"
            },
            "attachments": {}
        },
        {
            "cell_type": "code",
            "source": [
                "SELECT ProductID, ProductName\r\n",
                "FROM Products\r\n",
                "WHERE ProductName LIKE '%queso%';"
            ],
            "metadata": {
                "azdata_cell_guid": "1e1cc077-a197-4f51-ac5e-9aa1901e287f",
                "language": "sql"
            },
            "outputs": [
                {
                    "output_type": "display_data",
                    "data": {
                        "text/html": "(2 rows affected)"
                    },
                    "metadata": {}
                },
                {
                    "output_type": "display_data",
                    "data": {
                        "text/html": "Total execution time: 00:00:00.012"
                    },
                    "metadata": {}
                },
                {
                    "output_type": "execute_result",
                    "execution_count": 9,
                    "data": {
                        "application/vnd.dataresource+json": {
                            "schema": {
                                "fields": [
                                    {
                                        "name": "ProductID"
                                    },
                                    {
                                        "name": "ProductName"
                                    }
                                ]
                            },
                            "data": [
                                {
                                    "0": "11",
                                    "1": "Queso Cabrales"
                                },
                                {
                                    "0": "12",
                                    "1": "Queso Manchego La Pastora"
                                }
                            ]
                        },
                        "text/html": "<table><tr><th>ProductID</th><th>ProductName</th></tr><tr><td>11</td><td>Queso Cabrales</td></tr><tr><td>12</td><td>Queso Manchego La Pastora</td></tr></table>"
                    },
                    "metadata": {}
                }
            ],
            "execution_count": 9
        },
        {
            "cell_type": "markdown",
            "source": [
                "### 8\\. Orders shipping to France or Belgium\n",
                "\n",
                "Write a query that shows the OrderID, CustomerID, and ShipCountry for the orders where the ShipCountry is either France or Belgium."
            ],
            "metadata": {
                "azdata_cell_guid": "f41c60d0-0906-4916-b528-86095e96ca84"
            },
            "attachments": {}
        },
        {
            "cell_type": "code",
            "source": [
                "SELECT OrderID, CustomerID, ShipCountry\r\n",
                "FROM Orders\r\n",
                "WHERE ShipCountry = 'France' OR ShipCountry = 'Belgium';"
            ],
            "metadata": {
                "azdata_cell_guid": "f891f382-1f3e-4c60-baa0-95454e7e08db",
                "language": "sql"
            },
            "outputs": [
                {
                    "output_type": "display_data",
                    "data": {
                        "text/html": "(96 rows affected)"
                    },
                    "metadata": {}
                },
                {
                    "output_type": "display_data",
                    "data": {
                        "text/html": "Total execution time: 00:00:00.023"
                    },
                    "metadata": {}
                },
                {
                    "output_type": "execute_result",
                    "execution_count": 10,
                    "data": {
                        "application/vnd.dataresource+json": {
                            "schema": {
                                "fields": [
                                    {
                                        "name": "OrderID"
                                    },
                                    {
                                        "name": "CustomerID"
                                    },
                                    {
                                        "name": "ShipCountry"
                                    }
                                ]
                            },
                            "data": [
                                {
                                    "0": "10248",
                                    "1": "VINET",
                                    "2": "France"
                                },
                                {
                                    "0": "10251",
                                    "1": "VICTE",
                                    "2": "France"
                                },
                                {
                                    "0": "10252",
                                    "1": "SUPRD",
                                    "2": "Belgium"
                                },
                                {
                                    "0": "10265",
                                    "1": "BLONP",
                                    "2": "France"
                                },
                                {
                                    "0": "10274",
                                    "1": "VINET",
                                    "2": "France"
                                },
                                {
                                    "0": "10295",
                                    "1": "VINET",
                                    "2": "France"
                                },
                                {
                                    "0": "10297",
                                    "1": "BLONP",
                                    "2": "France"
                                },
                                {
                                    "0": "10302",
                                    "1": "SUPRD",
                                    "2": "Belgium"
                                },
                                {
                                    "0": "10311",
                                    "1": "DUMON",
                                    "2": "France"
                                },
                                {
                                    "0": "10331",
                                    "1": "BONAP",
                                    "2": "France"
                                },
                                {
                                    "0": "10334",
                                    "1": "VICTE",
                                    "2": "France"
                                },
                                {
                                    "0": "10340",
                                    "1": "BONAP",
                                    "2": "France"
                                },
                                {
                                    "0": "10350",
                                    "1": "LAMAI",
                                    "2": "France"
                                },
                                {
                                    "0": "10358",
                                    "1": "LAMAI",
                                    "2": "France"
                                },
                                {
                                    "0": "10360",
                                    "1": "BLONP",
                                    "2": "France"
                                },
                                {
                                    "0": "10362",
                                    "1": "BONAP",
                                    "2": "France"
                                },
                                {
                                    "0": "10371",
                                    "1": "LAMAI",
                                    "2": "France"
                                },
                                {
                                    "0": "10408",
                                    "1": "FOLIG",
                                    "2": "France"
                                },
                                {
                                    "0": "10413",
                                    "1": "LAMAI",
                                    "2": "France"
                                },
                                {
                                    "0": "10425",
                                    "1": "LAMAI",
                                    "2": "France"
                                },
                                {
                                    "0": "10436",
                                    "1": "BLONP",
                                    "2": "France"
                                },
                                {
                                    "0": "10449",
                                    "1": "BLONP",
                                    "2": "France"
                                },
                                {
                                    "0": "10450",
                                    "1": "VICTE",
                                    "2": "France"
                                },
                                {
                                    "0": "10454",
                                    "1": "LAMAI",
                                    "2": "France"
                                },
                                {
                                    "0": "10458",
                                    "1": "SUPRD",
                                    "2": "Belgium"
                                },
                                {
                                    "0": "10459",
                                    "1": "VICTE",
                                    "2": "France"
                                },
                                {
                                    "0": "10463",
                                    "1": "SUPRD",
                                    "2": "Belgium"
                                },
                                {
                                    "0": "10470",
                                    "1": "BONAP",
                                    "2": "France"
                                },
                                {
                                    "0": "10475",
                                    "1": "SUPRD",
                                    "2": "Belgium"
                                },
                                {
                                    "0": "10478",
                                    "1": "VICTE",
                                    "2": "France"
                                },
                                {
                                    "0": "10480",
                                    "1": "FOLIG",
                                    "2": "France"
                                },
                                {
                                    "0": "10493",
                                    "1": "LAMAI",
                                    "2": "France"
                                },
                                {
                                    "0": "10500",
                                    "1": "LAMAI",
                                    "2": "France"
                                },
                                {
                                    "0": "10511",
                                    "1": "BONAP",
                                    "2": "France"
                                },
                                {
                                    "0": "10525",
                                    "1": "BONAP",
                                    "2": "France"
                                },
                                {
                                    "0": "10529",
                                    "1": "MAISD",
                                    "2": "Belgium"
                                },
                                {
                                    "0": "10546",
                                    "1": "VICTE",
                                    "2": "France"
                                },
                                {
                                    "0": "10559",
                                    "1": "BLONP",
                                    "2": "France"
                                },
                                {
                                    "0": "10566",
                                    "1": "BLONP",
                                    "2": "France"
                                },
                                {
                                    "0": "10584",
                                    "1": "BLONP",
                                    "2": "France"
                                },
                                {
                                    "0": "10609",
                                    "1": "DUMON",
                                    "2": "France"
                                },
                                {
                                    "0": "10610",
                                    "1": "LAMAI",
                                    "2": "France"
                                },
                                {
                                    "0": "10628",
                                    "1": "BLONP",
                                    "2": "France"
                                },
                                {
                                    "0": "10631",
                                    "1": "LAMAI",
                                    "2": "France"
                                },
                                {
                                    "0": "10634",
                                    "1": "FOLIG",
                                    "2": "France"
                                },
                                {
                                    "0": "10649",
                                    "1": "MAISD",
                                    "2": "Belgium"
                                },
                                {
                                    "0": "10663",
                                    "1": "BONAP",
                                    "2": "France"
                                },
                                {
                                    "0": "10671",
                                    "1": "FRANR",
                                    "2": "France"
                                },
                                {
                                    "0": "10679",
                                    "1": "BLONP",
                                    "2": "France"
                                },
                                {
                                    "0": "10683",
                                    "1": "DUMON",
                                    "2": "France"
                                },
                                {
                                    "0": "10715",
                                    "1": "BONAP",
                                    "2": "France"
                                },
                                {
                                    "0": "10730",
                                    "1": "BONAP",
                                    "2": "France"
                                },
                                {
                                    "0": "10732",
                                    "1": "BONAP",
                                    "2": "France"
                                },
                                {
                                    "0": "10737",
                                    "1": "VINET",
                                    "2": "France"
                                },
                                {
                                    "0": "10738",
                                    "1": "SPECD",
                                    "2": "France"
                                },
                                {
                                    "0": "10739",
                                    "1": "VINET",
                                    "2": "France"
                                },
                                {
                                    "0": "10755",
                                    "1": "BONAP",
                                    "2": "France"
                                },
                                {
                                    "0": "10760",
                                    "1": "MAISD",
                                    "2": "Belgium"
                                },
                                {
                                    "0": "10763",
                                    "1": "FOLIG",
                                    "2": "France"
                                },
                                {
                                    "0": "10767",
                                    "1": "SUPRD",
                                    "2": "Belgium"
                                },
                                {
                                    "0": "10787",
                                    "1": "LAMAI",
                                    "2": "France"
                                },
                                {
                                    "0": "10789",
                                    "1": "FOLIG",
                                    "2": "France"
                                },
                                {
                                    "0": "10806",
                                    "1": "VICTE",
                                    "2": "France"
                                },
                                {
                                    "0": "10814",
                                    "1": "VICTE",
                                    "2": "France"
                                },
                                {
                                    "0": "10826",
                                    "1": "BLONP",
                                    "2": "France"
                                },
                                {
                                    "0": "10827",
                                    "1": "BONAP",
                                    "2": "France"
                                },
                                {
                                    "0": "10832",
                                    "1": "LAMAI",
                                    "2": "France"
                                },
                                {
                                    "0": "10841",
                                    "1": "SUPRD",
                                    "2": "Belgium"
                                },
                                {
                                    "0": "10843",
                                    "1": "VICTE",
                                    "2": "France"
                                },
                                {
                                    "0": "10846",
                                    "1": "SUPRD",
                                    "2": "Belgium"
                                },
                                {
                                    "0": "10850",
                                    "1": "VICTE",
                                    "2": "France"
                                },
                                {
                                    "0": "10858",
                                    "1": "LACOR",
                                    "2": "France"
                                },
                                {
                                    "0": "10860",
                                    "1": "FRANR",
                                    "2": "France"
                                },
                                {
                                    "0": "10871",
                                    "1": "BONAP",
                                    "2": "France"
                                },
                                {
                                    "0": "10876",
                                    "1": "BONAP",
                                    "2": "France"
                                },
                                {
                                    "0": "10885",
                                    "1": "SUPRD",
                                    "2": "Belgium"
                                },
                                {
                                    "0": "10890",
                                    "1": "DUMON",
                                    "2": "France"
                                },
                                {
                                    "0": "10892",
                                    "1": "MAISD",
                                    "2": "Belgium"
                                },
                                {
                                    "0": "10896",
                                    "1": "MAISD",
                                    "2": "Belgium"
                                },
                                {
                                    "0": "10907",
                                    "1": "SPECD",
                                    "2": "France"
                                },
                                {
                                    "0": "10923",
                                    "1": "LAMAI",
                                    "2": "France"
                                },
                                {
                                    "0": "10927",
                                    "1": "LACOR",
                                    "2": "France"
                                },
                                {
                                    "0": "10930",
                                    "1": "SUPRD",
                                    "2": "Belgium"
                                },
                                {
                                    "0": "10932",
                                    "1": "BONAP",
                                    "2": "France"
                                },
                                {
                                    "0": "10940",
                                    "1": "BONAP",
                                    "2": "France"
                                },
                                {
                                    "0": "10964",
                                    "1": "SPECD",
                                    "2": "France"
                                },
                                {
                                    "0": "10971",
                                    "1": "FRANR",
                                    "2": "France"
                                },
                                {
                                    "0": "10972",
                                    "1": "LACOR",
                                    "2": "France"
                                },
                                {
                                    "0": "10973",
                                    "1": "LACOR",
                                    "2": "France"
                                },
                                {
                                    "0": "10978",
                                    "1": "MAISD",
                                    "2": "Belgium"
                                },
                                {
                                    "0": "11004",
                                    "1": "MAISD",
                                    "2": "Belgium"
                                },
                                {
                                    "0": "11035",
                                    "1": "SUPRD",
                                    "2": "Belgium"
                                },
                                {
                                    "0": "11038",
                                    "1": "SUPRD",
                                    "2": "Belgium"
                                },
                                {
                                    "0": "11043",
                                    "1": "SPECD",
                                    "2": "France"
                                },
                                {
                                    "0": "11051",
                                    "1": "LAMAI",
                                    "2": "France"
                                },
                                {
                                    "0": "11076",
                                    "1": "BONAP",
                                    "2": "France"
                                }
                            ]
                        },
                        "text/html": "<table><tr><th>OrderID</th><th>CustomerID</th><th>ShipCountry</th></tr><tr><td>10248</td><td>VINET</td><td>France</td></tr><tr><td>10251</td><td>VICTE</td><td>France</td></tr><tr><td>10252</td><td>SUPRD</td><td>Belgium</td></tr><tr><td>10265</td><td>BLONP</td><td>France</td></tr><tr><td>10274</td><td>VINET</td><td>France</td></tr><tr><td>10295</td><td>VINET</td><td>France</td></tr><tr><td>10297</td><td>BLONP</td><td>France</td></tr><tr><td>10302</td><td>SUPRD</td><td>Belgium</td></tr><tr><td>10311</td><td>DUMON</td><td>France</td></tr><tr><td>10331</td><td>BONAP</td><td>France</td></tr><tr><td>10334</td><td>VICTE</td><td>France</td></tr><tr><td>10340</td><td>BONAP</td><td>France</td></tr><tr><td>10350</td><td>LAMAI</td><td>France</td></tr><tr><td>10358</td><td>LAMAI</td><td>France</td></tr><tr><td>10360</td><td>BLONP</td><td>France</td></tr><tr><td>10362</td><td>BONAP</td><td>France</td></tr><tr><td>10371</td><td>LAMAI</td><td>France</td></tr><tr><td>10408</td><td>FOLIG</td><td>France</td></tr><tr><td>10413</td><td>LAMAI</td><td>France</td></tr><tr><td>10425</td><td>LAMAI</td><td>France</td></tr><tr><td>10436</td><td>BLONP</td><td>France</td></tr><tr><td>10449</td><td>BLONP</td><td>France</td></tr><tr><td>10450</td><td>VICTE</td><td>France</td></tr><tr><td>10454</td><td>LAMAI</td><td>France</td></tr><tr><td>10458</td><td>SUPRD</td><td>Belgium</td></tr><tr><td>10459</td><td>VICTE</td><td>France</td></tr><tr><td>10463</td><td>SUPRD</td><td>Belgium</td></tr><tr><td>10470</td><td>BONAP</td><td>France</td></tr><tr><td>10475</td><td>SUPRD</td><td>Belgium</td></tr><tr><td>10478</td><td>VICTE</td><td>France</td></tr><tr><td>10480</td><td>FOLIG</td><td>France</td></tr><tr><td>10493</td><td>LAMAI</td><td>France</td></tr><tr><td>10500</td><td>LAMAI</td><td>France</td></tr><tr><td>10511</td><td>BONAP</td><td>France</td></tr><tr><td>10525</td><td>BONAP</td><td>France</td></tr><tr><td>10529</td><td>MAISD</td><td>Belgium</td></tr><tr><td>10546</td><td>VICTE</td><td>France</td></tr><tr><td>10559</td><td>BLONP</td><td>France</td></tr><tr><td>10566</td><td>BLONP</td><td>France</td></tr><tr><td>10584</td><td>BLONP</td><td>France</td></tr><tr><td>10609</td><td>DUMON</td><td>France</td></tr><tr><td>10610</td><td>LAMAI</td><td>France</td></tr><tr><td>10628</td><td>BLONP</td><td>France</td></tr><tr><td>10631</td><td>LAMAI</td><td>France</td></tr><tr><td>10634</td><td>FOLIG</td><td>France</td></tr><tr><td>10649</td><td>MAISD</td><td>Belgium</td></tr><tr><td>10663</td><td>BONAP</td><td>France</td></tr><tr><td>10671</td><td>FRANR</td><td>France</td></tr><tr><td>10679</td><td>BLONP</td><td>France</td></tr><tr><td>10683</td><td>DUMON</td><td>France</td></tr><tr><td>10715</td><td>BONAP</td><td>France</td></tr><tr><td>10730</td><td>BONAP</td><td>France</td></tr><tr><td>10732</td><td>BONAP</td><td>France</td></tr><tr><td>10737</td><td>VINET</td><td>France</td></tr><tr><td>10738</td><td>SPECD</td><td>France</td></tr><tr><td>10739</td><td>VINET</td><td>France</td></tr><tr><td>10755</td><td>BONAP</td><td>France</td></tr><tr><td>10760</td><td>MAISD</td><td>Belgium</td></tr><tr><td>10763</td><td>FOLIG</td><td>France</td></tr><tr><td>10767</td><td>SUPRD</td><td>Belgium</td></tr><tr><td>10787</td><td>LAMAI</td><td>France</td></tr><tr><td>10789</td><td>FOLIG</td><td>France</td></tr><tr><td>10806</td><td>VICTE</td><td>France</td></tr><tr><td>10814</td><td>VICTE</td><td>France</td></tr><tr><td>10826</td><td>BLONP</td><td>France</td></tr><tr><td>10827</td><td>BONAP</td><td>France</td></tr><tr><td>10832</td><td>LAMAI</td><td>France</td></tr><tr><td>10841</td><td>SUPRD</td><td>Belgium</td></tr><tr><td>10843</td><td>VICTE</td><td>France</td></tr><tr><td>10846</td><td>SUPRD</td><td>Belgium</td></tr><tr><td>10850</td><td>VICTE</td><td>France</td></tr><tr><td>10858</td><td>LACOR</td><td>France</td></tr><tr><td>10860</td><td>FRANR</td><td>France</td></tr><tr><td>10871</td><td>BONAP</td><td>France</td></tr><tr><td>10876</td><td>BONAP</td><td>France</td></tr><tr><td>10885</td><td>SUPRD</td><td>Belgium</td></tr><tr><td>10890</td><td>DUMON</td><td>France</td></tr><tr><td>10892</td><td>MAISD</td><td>Belgium</td></tr><tr><td>10896</td><td>MAISD</td><td>Belgium</td></tr><tr><td>10907</td><td>SPECD</td><td>France</td></tr><tr><td>10923</td><td>LAMAI</td><td>France</td></tr><tr><td>10927</td><td>LACOR</td><td>France</td></tr><tr><td>10930</td><td>SUPRD</td><td>Belgium</td></tr><tr><td>10932</td><td>BONAP</td><td>France</td></tr><tr><td>10940</td><td>BONAP</td><td>France</td></tr><tr><td>10964</td><td>SPECD</td><td>France</td></tr><tr><td>10971</td><td>FRANR</td><td>France</td></tr><tr><td>10972</td><td>LACOR</td><td>France</td></tr><tr><td>10973</td><td>LACOR</td><td>France</td></tr><tr><td>10978</td><td>MAISD</td><td>Belgium</td></tr><tr><td>11004</td><td>MAISD</td><td>Belgium</td></tr><tr><td>11035</td><td>SUPRD</td><td>Belgium</td></tr><tr><td>11038</td><td>SUPRD</td><td>Belgium</td></tr><tr><td>11043</td><td>SPECD</td><td>France</td></tr><tr><td>11051</td><td>LAMAI</td><td>France</td></tr><tr><td>11076</td><td>BONAP</td><td>France</td></tr></table>"
                    },
                    "metadata": {}
                }
            ],
            "execution_count": 10
        },
        {
            "cell_type": "markdown",
            "source": [
                "### 9\\. Orders shipping to any country in Latin America\n",
                "\n",
                "Show all the orders from any Latin American country. There is no list of Latin American countryes in a table in the Northwind database. Use the following list instead:\n",
                "\n",
                "Brazil\n",
                "\n",
                "Mexico\n",
                "\n",
                "Argentina\n",
                "\n",
                "Venezuela"
            ],
            "metadata": {
                "language": "sql",
                "azdata_cell_guid": "fff574c9-7bcc-41d0-a7f0-6e1806cf67dc"
            },
            "attachments": {}
        },
        {
            "cell_type": "code",
            "source": [
                "SELECT OrderID, CustomerID, ShipCountry\r\n",
                "FROM Orders\r\n",
                "WHERE ShipCountry IN ('Brazil', 'Mexico', 'Argentina', 'Venezuela');"
            ],
            "metadata": {
                "language": "sql",
                "azdata_cell_guid": "297da5af-157c-4096-80ef-f47698ba0789"
            },
            "outputs": [
                {
                    "output_type": "display_data",
                    "data": {
                        "text/html": "(173 rows affected)"
                    },
                    "metadata": {}
                },
                {
                    "output_type": "display_data",
                    "data": {
                        "text/html": "Total execution time: 00:00:00.023"
                    },
                    "metadata": {}
                },
                {
                    "output_type": "execute_result",
                    "execution_count": 12,
                    "data": {
                        "application/vnd.dataresource+json": {
                            "schema": {
                                "fields": [
                                    {
                                        "name": "OrderID"
                                    },
                                    {
                                        "name": "CustomerID"
                                    },
                                    {
                                        "name": "ShipCountry"
                                    }
                                ]
                            },
                            "data": [
                                {
                                    "0": "10250",
                                    "1": "HANAR",
                                    "2": "Brazil"
                                },
                                {
                                    "0": "10253",
                                    "1": "HANAR",
                                    "2": "Brazil"
                                },
                                {
                                    "0": "10256",
                                    "1": "WELLI",
                                    "2": "Brazil"
                                },
                                {
                                    "0": "10257",
                                    "1": "HILAA",
                                    "2": "Venezuela"
                                },
                                {
                                    "0": "10259",
                                    "1": "CENTC",
                                    "2": "Mexico"
                                },
                                {
                                    "0": "10261",
                                    "1": "QUEDE",
                                    "2": "Brazil"
                                },
                                {
                                    "0": "10268",
                                    "1": "GROSR",
                                    "2": "Venezuela"
                                },
                                {
                                    "0": "10276",
                                    "1": "TORTU",
                                    "2": "Mexico"
                                },
                                {
                                    "0": "10283",
                                    "1": "LILAS",
                                    "2": "Venezuela"
                                },
                                {
                                    "0": "10287",
                                    "1": "RICAR",
                                    "2": "Brazil"
                                },
                                {
                                    "0": "10290",
                                    "1": "COMMI",
                                    "2": "Brazil"
                                },
                                {
                                    "0": "10291",
                                    "1": "QUEDE",
                                    "2": "Brazil"
                                },
                                {
                                    "0": "10292",
                                    "1": "TRADH",
                                    "2": "Brazil"
                                },
                                {
                                    "0": "10293",
                                    "1": "TORTU",
                                    "2": "Mexico"
                                },
                                {
                                    "0": "10296",
                                    "1": "LILAS",
                                    "2": "Venezuela"
                                },
                                {
                                    "0": "10299",
                                    "1": "RICAR",
                                    "2": "Brazil"
                                },
                                {
                                    "0": "10304",
                                    "1": "TORTU",
                                    "2": "Mexico"
                                },
                                {
                                    "0": "10308",
                                    "1": "ANATR",
                                    "2": "Mexico"
                                },
                                {
                                    "0": "10319",
                                    "1": "TORTU",
                                    "2": "Mexico"
                                },
                                {
                                    "0": "10322",
                                    "1": "PERIC",
                                    "2": "Mexico"
                                },
                                {
                                    "0": "10330",
                                    "1": "LILAS",
                                    "2": "Venezuela"
                                },
                                {
                                    "0": "10347",
                                    "1": "FAMIA",
                                    "2": "Brazil"
                                },
                                {
                                    "0": "10354",
                                    "1": "PERIC",
                                    "2": "Mexico"
                                },
                                {
                                    "0": "10357",
                                    "1": "LILAS",
                                    "2": "Venezuela"
                                },
                                {
                                    "0": "10365",
                                    "1": "ANTON",
                                    "2": "Mexico"
                                },
                                {
                                    "0": "10372",
                                    "1": "QUEEN",
                                    "2": "Brazil"
                                },
                                {
                                    "0": "10379",
                                    "1": "QUEDE",
                                    "2": "Brazil"
                                },
                                {
                                    "0": "10381",
                                    "1": "LILAS",
                                    "2": "Venezuela"
                                },
                                {
                                    "0": "10386",
                                    "1": "FAMIA",
                                    "2": "Brazil"
                                },
                                {
                                    "0": "10395",
                                    "1": "HILAA",
                                    "2": "Venezuela"
                                },
                                {
                                    "0": "10405",
                                    "1": "LINOD",
                                    "2": "Venezuela"
                                },
                                {
                                    "0": "10406",
                                    "1": "QUEEN",
                                    "2": "Brazil"
                                },
                                {
                                    "0": "10409",
                                    "1": "OCEAN",
                                    "2": "Argentina"
                                },
                                {
                                    "0": "10414",
                                    "1": "FAMIA",
                                    "2": "Brazil"
                                },
                                {
                                    "0": "10420",
                                    "1": "WELLI",
                                    "2": "Brazil"
                                },
                                {
                                    "0": "10421",
                                    "1": "QUEDE",
                                    "2": "Brazil"
                                },
                                {
                                    "0": "10423",
                                    "1": "GOURL",
                                    "2": "Brazil"
                                },
                                {
                                    "0": "10447",
                                    "1": "RICAR",
                                    "2": "Brazil"
                                },
                                {
                                    "0": "10448",
                                    "1": "RANCH",
                                    "2": "Argentina"
                                },
                                {
                                    "0": "10461",
                                    "1": "LILAS",
                                    "2": "Venezuela"
                                },
                                {
                                    "0": "10466",
                                    "1": "COMMI",
                                    "2": "Brazil"
                                },
                                {
                                    "0": "10474",
                                    "1": "PERIC",
                                    "2": "Mexico"
                                },
                                {
                                    "0": "10476",
                                    "1": "HILAA",
                                    "2": "Venezuela"
                                },
                                {
                                    "0": "10481",
                                    "1": "RICAR",
                                    "2": "Brazil"
                                },
                                {
                                    "0": "10485",
                                    "1": "LINOD",
                                    "2": "Venezuela"
                                },
                                {
                                    "0": "10486",
                                    "1": "HILAA",
                                    "2": "Venezuela"
                                },
                                {
                                    "0": "10487",
                                    "1": "QUEEN",
                                    "2": "Brazil"
                                },
                                {
                                    "0": "10490",
                                    "1": "HILAA",
                                    "2": "Venezuela"
                                },
                                {
                                    "0": "10494",
                                    "1": "COMMI",
                                    "2": "Brazil"
                                },
                                {
                                    "0": "10496",
                                    "1": "TRADH",
                                    "2": "Brazil"
                                },
                                {
                                    "0": "10498",
                                    "1": "HILAA",
                                    "2": "Venezuela"
                                },
                                {
                                    "0": "10499",
                                    "1": "LILAS",
                                    "2": "Venezuela"
                                },
                                {
                                    "0": "10502",
                                    "1": "PERIC",
                                    "2": "Mexico"
                                },
                                {
                                    "0": "10507",
                                    "1": "ANTON",
                                    "2": "Mexico"
                                },
                                {
                                    "0": "10512",
                                    "1": "FAMIA",
                                    "2": "Brazil"
                                },
                                {
                                    "0": "10518",
                                    "1": "TORTU",
                                    "2": "Mexico"
                                },
                                {
                                    "0": "10521",
                                    "1": "CACTU",
                                    "2": "Argentina"
                                },
                                {
                                    "0": "10531",
                                    "1": "OCEAN",
                                    "2": "Argentina"
                                },
                                {
                                    "0": "10535",
                                    "1": "ANTON",
                                    "2": "Mexico"
                                },
                                {
                                    "0": "10541",
                                    "1": "HANAR",
                                    "2": "Brazil"
                                },
                                {
                                    "0": "10543",
                                    "1": "LILAS",
                                    "2": "Venezuela"
                                },
                                {
                                    "0": "10552",
                                    "1": "HILAA",
                                    "2": "Venezuela"
                                },
                                {
                                    "0": "10563",
                                    "1": "RICAR",
                                    "2": "Brazil"
                                },
                                {
                                    "0": "10573",
                                    "1": "ANTON",
                                    "2": "Mexico"
                                },
                                {
                                    "0": "10576",
                                    "1": "TORTU",
                                    "2": "Mexico"
                                },
                                {
                                    "0": "10581",
                                    "1": "FAMIA",
                                    "2": "Brazil"
                                },
                                {
                                    "0": "10585",
                                    "1": "WELLI",
                                    "2": "Brazil"
                                },
                                {
                                    "0": "10587",
                                    "1": "QUEDE",
                                    "2": "Brazil"
                                },
                                {
                                    "0": "10601",
                                    "1": "HILAA",
                                    "2": "Venezuela"
                                },
                                {
                                    "0": "10606",
                                    "1": "TRADH",
                                    "2": "Brazil"
                                },
                                {
                                    "0": "10613",
                                    "1": "HILAA",
                                    "2": "Venezuela"
                                },
                                {
                                    "0": "10622",
                                    "1": "RICAR",
                                    "2": "Brazil"
                                },
                                {
                                    "0": "10625",
                                    "1": "ANATR",
                                    "2": "Mexico"
                                },
                                {
                                    "0": "10637",
                                    "1": "QUEEN",
                                    "2": "Brazil"
                                },
                                {
                                    "0": "10638",
                                    "1": "LINOD",
                                    "2": "Venezuela"
                                },
                                {
                                    "0": "10641",
                                    "1": "HILAA",
                                    "2": "Venezuela"
                                },
                                {
                                    "0": "10644",
                                    "1": "WELLI",
                                    "2": "Brazil"
                                },
                                {
                                    "0": "10645",
                                    "1": "HANAR",
                                    "2": "Brazil"
                                },
                                {
                                    "0": "10647",
                                    "1": "QUEDE",
                                    "2": "Brazil"
                                },
                                {
                                    "0": "10648",
                                    "1": "RICAR",
                                    "2": "Brazil"
                                },
                                {
                                    "0": "10650",
                                    "1": "FAMIA",
                                    "2": "Brazil"
                                },
                                {
                                    "0": "10652",
                                    "1": "GOURL",
                                    "2": "Brazil"
                                },
                                {
                                    "0": "10659",
                                    "1": "QUEEN",
                                    "2": "Brazil"
                                },
                                {
                                    "0": "10676",
                                    "1": "TORTU",
                                    "2": "Mexico"
                                },
                                {
                                    "0": "10677",
                                    "1": "ANTON",
                                    "2": "Mexico"
                                },
                                {
                                    "0": "10682",
                                    "1": "ANTON",
                                    "2": "Mexico"
                                },
                                {
                                    "0": "10685",
                                    "1": "GOURL",
                                    "2": "Brazil"
                                },
                                {
                                    "0": "10690",
                                    "1": "HANAR",
                                    "2": "Brazil"
                                },
                                {
                                    "0": "10697",
                                    "1": "LINOD",
                                    "2": "Venezuela"
                                },
                                {
                                    "0": "10704",
                                    "1": "QUEEN",
                                    "2": "Brazil"
                                },
                                {
                                    "0": "10705",
                                    "1": "HILAA",
                                    "2": "Venezuela"
                                },
                                {
                                    "0": "10709",
                                    "1": "GOURL",
                                    "2": "Brazil"
                                },
                                {
                                    "0": "10716",
                                    "1": "RANCH",
                                    "2": "Argentina"
                                },
                                {
                                    "0": "10720",
                                    "1": "QUEDE",
                                    "2": "Brazil"
                                },
                                {
                                    "0": "10725",
                                    "1": "FAMIA",
                                    "2": "Brazil"
                                },
                                {
                                    "0": "10728",
                                    "1": "QUEEN",
                                    "2": "Brazil"
                                },
                                {
                                    "0": "10729",
                                    "1": "LINOD",
                                    "2": "Venezuela"
                                },
                                {
                                    "0": "10734",
                                    "1": "GOURL",
                                    "2": "Brazil"
                                },
                                {
                                    "0": "10759",
                                    "1": "ANATR",
                                    "2": "Mexico"
                                },
                                {
                                    "0": "10770",
                                    "1": "HANAR",
                                    "2": "Brazil"
                                },
                                {
                                    "0": "10777",
                                    "1": "GOURL",
                                    "2": "Brazil"
                                },
                                {
                                    "0": "10780",
                                    "1": "LILAS",
                                    "2": "Venezuela"
                                },
                                {
                                    "0": "10782",
                                    "1": "CACTU",
                                    "2": "Argentina"
                                },
                                {
                                    "0": "10783",
                                    "1": "HANAR",
                                    "2": "Brazil"
                                },
                                {
                                    "0": "10785",
                                    "1": "GROSR",
                                    "2": "Venezuela"
                                },
                                {
                                    "0": "10786",
                                    "1": "QUEEN",
                                    "2": "Brazil"
                                },
                                {
                                    "0": "10790",
                                    "1": "GOURL",
                                    "2": "Brazil"
                                },
                                {
                                    "0": "10794",
                                    "1": "QUEDE",
                                    "2": "Brazil"
                                },
                                {
                                    "0": "10796",
                                    "1": "HILAA",
                                    "2": "Venezuela"
                                },
                                {
                                    "0": "10803",
                                    "1": "WELLI",
                                    "2": "Brazil"
                                },
                                {
                                    "0": "10809",
                                    "1": "WELLI",
                                    "2": "Brazil"
                                },
                                {
                                    "0": "10811",
                                    "1": "LINOD",
                                    "2": "Venezuela"
                                },
                                {
                                    "0": "10813",
                                    "1": "RICAR",
                                    "2": "Brazil"
                                },
                                {
                                    "0": "10819",
                                    "1": "CACTU",
                                    "2": "Argentina"
                                },
                                {
                                    "0": "10823",
                                    "1": "LILAS",
                                    "2": "Venezuela"
                                },
                                {
                                    "0": "10828",
                                    "1": "RANCH",
                                    "2": "Argentina"
                                },
                                {
                                    "0": "10830",
                                    "1": "TRADH",
                                    "2": "Brazil"
                                },
                                {
                                    "0": "10834",
                                    "1": "TRADH",
                                    "2": "Brazil"
                                },
                                {
                                    "0": "10838",
                                    "1": "LINOD",
                                    "2": "Venezuela"
                                },
                                {
                                    "0": "10839",
                                    "1": "TRADH",
                                    "2": "Brazil"
                                },
                                {
                                    "0": "10840",
                                    "1": "LINOD",
                                    "2": "Venezuela"
                                },
                                {
                                    "0": "10842",
                                    "1": "TORTU",
                                    "2": "Mexico"
                                },
                                {
                                    "0": "10851",
                                    "1": "RICAR",
                                    "2": "Brazil"
                                },
                                {
                                    "0": "10856",
                                    "1": "ANTON",
                                    "2": "Mexico"
                                },
                                {
                                    "0": "10863",
                                    "1": "HILAA",
                                    "2": "Venezuela"
                                },
                                {
                                    "0": "10868",
                                    "1": "QUEEN",
                                    "2": "Brazil"
                                },
                                {
                                    "0": "10877",
                                    "1": "RICAR",
                                    "2": "Brazil"
                                },
                                {
                                    "0": "10881",
                                    "1": "CACTU",
                                    "2": "Argentina"
                                },
                                {
                                    "0": "10886",
                                    "1": "HANAR",
                                    "2": "Brazil"
                                },
                                {
                                    "0": "10898",
                                    "1": "OCEAN",
                                    "2": "Argentina"
                                },
                                {
                                    "0": "10899",
                                    "1": "LILAS",
                                    "2": "Venezuela"
                                },
                                {
                                    "0": "10900",
                                    "1": "WELLI",
                                    "2": "Brazil"
                                },
                                {
                                    "0": "10901",
                                    "1": "HILAA",
                                    "2": "Venezuela"
                                },
                                {
                                    "0": "10903",
                                    "1": "HANAR",
                                    "2": "Brazil"
                                },
                                {
                                    "0": "10905",
                                    "1": "WELLI",
                                    "2": "Brazil"
                                },
                                {
                                    "0": "10913",
                                    "1": "QUEEN",
                                    "2": "Brazil"
                                },
                                {
                                    "0": "10914",
                                    "1": "QUEEN",
                                    "2": "Brazil"
                                },
                                {
                                    "0": "10915",
                                    "1": "TORTU",
                                    "2": "Mexico"
                                },
                                {
                                    "0": "10916",
                                    "1": "RANCH",
                                    "2": "Argentina"
                                },
                                {
                                    "0": "10919",
                                    "1": "LINOD",
                                    "2": "Venezuela"
                                },
                                {
                                    "0": "10922",
                                    "1": "HANAR",
                                    "2": "Brazil"
                                },
                                {
                                    "0": "10925",
                                    "1": "HANAR",
                                    "2": "Brazil"
                                },
                                {
                                    "0": "10926",
                                    "1": "ANATR",
                                    "2": "Mexico"
                                },
                                {
                                    "0": "10935",
                                    "1": "WELLI",
                                    "2": "Brazil"
                                },
                                {
                                    "0": "10937",
                                    "1": "CACTU",
                                    "2": "Argentina"
                                },
                                {
                                    "0": "10954",
                                    "1": "LINOD",
                                    "2": "Venezuela"
                                },
                                {
                                    "0": "10957",
                                    "1": "HILAA",
                                    "2": "Venezuela"
                                },
                                {
                                    "0": "10958",
                                    "1": "OCEAN",
                                    "2": "Argentina"
                                },
                                {
                                    "0": "10959",
                                    "1": "GOURL",
                                    "2": "Brazil"
                                },
                                {
                                    "0": "10960",
                                    "1": "HILAA",
                                    "2": "Venezuela"
                                },
                                {
                                    "0": "10961",
                                    "1": "QUEEN",
                                    "2": "Brazil"
                                },
                                {
                                    "0": "10969",
                                    "1": "COMMI",
                                    "2": "Brazil"
                                },
                                {
                                    "0": "10976",
                                    "1": "HILAA",
                                    "2": "Venezuela"
                                },
                                {
                                    "0": "10981",
                                    "1": "HANAR",
                                    "2": "Brazil"
                                },
                                {
                                    "0": "10986",
                                    "1": "OCEAN",
                                    "2": "Argentina"
                                },
                                {
                                    "0": "10989",
                                    "1": "QUEDE",
                                    "2": "Brazil"
                                },
                                {
                                    "0": "10995",
                                    "1": "PERIC",
                                    "2": "Mexico"
                                },
                                {
                                    "0": "10997",
                                    "1": "LILAS",
                                    "2": "Venezuela"
                                },
                                {
                                    "0": "11014",
                                    "1": "LINOD",
                                    "2": "Venezuela"
                                },
                                {
                                    "0": "11019",
                                    "1": "RANCH",
                                    "2": "Argentina"
                                },
                                {
                                    "0": "11022",
                                    "1": "HANAR",
                                    "2": "Brazil"
                                },
                                {
                                    "0": "11039",
                                    "1": "LINOD",
                                    "2": "Venezuela"
                                },
                                {
                                    "0": "11042",
                                    "1": "COMMI",
                                    "2": "Brazil"
                                },
                                {
                                    "0": "11049",
                                    "1": "GOURL",
                                    "2": "Brazil"
                                },
                                {
                                    "0": "11052",
                                    "1": "HANAR",
                                    "2": "Brazil"
                                },
                                {
                                    "0": "11054",
                                    "1": "CACTU",
                                    "2": "Argentina"
                                },
                                {
                                    "0": "11055",
                                    "1": "HILAA",
                                    "2": "Venezuela"
                                },
                                {
                                    "0": "11059",
                                    "1": "RICAR",
                                    "2": "Brazil"
                                },
                                {
                                    "0": "11065",
                                    "1": "LILAS",
                                    "2": "Venezuela"
                                },
                                {
                                    "0": "11068",
                                    "1": "QUEEN",
                                    "2": "Brazil"
                                },
                                {
                                    "0": "11069",
                                    "1": "TORTU",
                                    "2": "Mexico"
                                },
                                {
                                    "0": "11071",
                                    "1": "LILAS",
                                    "2": "Venezuela"
                                },
                                {
                                    "0": "11073",
                                    "1": "PERIC",
                                    "2": "Mexico"
                                }
                            ]
                        },
                        "text/html": "<table><tr><th>OrderID</th><th>CustomerID</th><th>ShipCountry</th></tr><tr><td>10250</td><td>HANAR</td><td>Brazil</td></tr><tr><td>10253</td><td>HANAR</td><td>Brazil</td></tr><tr><td>10256</td><td>WELLI</td><td>Brazil</td></tr><tr><td>10257</td><td>HILAA</td><td>Venezuela</td></tr><tr><td>10259</td><td>CENTC</td><td>Mexico</td></tr><tr><td>10261</td><td>QUEDE</td><td>Brazil</td></tr><tr><td>10268</td><td>GROSR</td><td>Venezuela</td></tr><tr><td>10276</td><td>TORTU</td><td>Mexico</td></tr><tr><td>10283</td><td>LILAS</td><td>Venezuela</td></tr><tr><td>10287</td><td>RICAR</td><td>Brazil</td></tr><tr><td>10290</td><td>COMMI</td><td>Brazil</td></tr><tr><td>10291</td><td>QUEDE</td><td>Brazil</td></tr><tr><td>10292</td><td>TRADH</td><td>Brazil</td></tr><tr><td>10293</td><td>TORTU</td><td>Mexico</td></tr><tr><td>10296</td><td>LILAS</td><td>Venezuela</td></tr><tr><td>10299</td><td>RICAR</td><td>Brazil</td></tr><tr><td>10304</td><td>TORTU</td><td>Mexico</td></tr><tr><td>10308</td><td>ANATR</td><td>Mexico</td></tr><tr><td>10319</td><td>TORTU</td><td>Mexico</td></tr><tr><td>10322</td><td>PERIC</td><td>Mexico</td></tr><tr><td>10330</td><td>LILAS</td><td>Venezuela</td></tr><tr><td>10347</td><td>FAMIA</td><td>Brazil</td></tr><tr><td>10354</td><td>PERIC</td><td>Mexico</td></tr><tr><td>10357</td><td>LILAS</td><td>Venezuela</td></tr><tr><td>10365</td><td>ANTON</td><td>Mexico</td></tr><tr><td>10372</td><td>QUEEN</td><td>Brazil</td></tr><tr><td>10379</td><td>QUEDE</td><td>Brazil</td></tr><tr><td>10381</td><td>LILAS</td><td>Venezuela</td></tr><tr><td>10386</td><td>FAMIA</td><td>Brazil</td></tr><tr><td>10395</td><td>HILAA</td><td>Venezuela</td></tr><tr><td>10405</td><td>LINOD</td><td>Venezuela</td></tr><tr><td>10406</td><td>QUEEN</td><td>Brazil</td></tr><tr><td>10409</td><td>OCEAN</td><td>Argentina</td></tr><tr><td>10414</td><td>FAMIA</td><td>Brazil</td></tr><tr><td>10420</td><td>WELLI</td><td>Brazil</td></tr><tr><td>10421</td><td>QUEDE</td><td>Brazil</td></tr><tr><td>10423</td><td>GOURL</td><td>Brazil</td></tr><tr><td>10447</td><td>RICAR</td><td>Brazil</td></tr><tr><td>10448</td><td>RANCH</td><td>Argentina</td></tr><tr><td>10461</td><td>LILAS</td><td>Venezuela</td></tr><tr><td>10466</td><td>COMMI</td><td>Brazil</td></tr><tr><td>10474</td><td>PERIC</td><td>Mexico</td></tr><tr><td>10476</td><td>HILAA</td><td>Venezuela</td></tr><tr><td>10481</td><td>RICAR</td><td>Brazil</td></tr><tr><td>10485</td><td>LINOD</td><td>Venezuela</td></tr><tr><td>10486</td><td>HILAA</td><td>Venezuela</td></tr><tr><td>10487</td><td>QUEEN</td><td>Brazil</td></tr><tr><td>10490</td><td>HILAA</td><td>Venezuela</td></tr><tr><td>10494</td><td>COMMI</td><td>Brazil</td></tr><tr><td>10496</td><td>TRADH</td><td>Brazil</td></tr><tr><td>10498</td><td>HILAA</td><td>Venezuela</td></tr><tr><td>10499</td><td>LILAS</td><td>Venezuela</td></tr><tr><td>10502</td><td>PERIC</td><td>Mexico</td></tr><tr><td>10507</td><td>ANTON</td><td>Mexico</td></tr><tr><td>10512</td><td>FAMIA</td><td>Brazil</td></tr><tr><td>10518</td><td>TORTU</td><td>Mexico</td></tr><tr><td>10521</td><td>CACTU</td><td>Argentina</td></tr><tr><td>10531</td><td>OCEAN</td><td>Argentina</td></tr><tr><td>10535</td><td>ANTON</td><td>Mexico</td></tr><tr><td>10541</td><td>HANAR</td><td>Brazil</td></tr><tr><td>10543</td><td>LILAS</td><td>Venezuela</td></tr><tr><td>10552</td><td>HILAA</td><td>Venezuela</td></tr><tr><td>10563</td><td>RICAR</td><td>Brazil</td></tr><tr><td>10573</td><td>ANTON</td><td>Mexico</td></tr><tr><td>10576</td><td>TORTU</td><td>Mexico</td></tr><tr><td>10581</td><td>FAMIA</td><td>Brazil</td></tr><tr><td>10585</td><td>WELLI</td><td>Brazil</td></tr><tr><td>10587</td><td>QUEDE</td><td>Brazil</td></tr><tr><td>10601</td><td>HILAA</td><td>Venezuela</td></tr><tr><td>10606</td><td>TRADH</td><td>Brazil</td></tr><tr><td>10613</td><td>HILAA</td><td>Venezuela</td></tr><tr><td>10622</td><td>RICAR</td><td>Brazil</td></tr><tr><td>10625</td><td>ANATR</td><td>Mexico</td></tr><tr><td>10637</td><td>QUEEN</td><td>Brazil</td></tr><tr><td>10638</td><td>LINOD</td><td>Venezuela</td></tr><tr><td>10641</td><td>HILAA</td><td>Venezuela</td></tr><tr><td>10644</td><td>WELLI</td><td>Brazil</td></tr><tr><td>10645</td><td>HANAR</td><td>Brazil</td></tr><tr><td>10647</td><td>QUEDE</td><td>Brazil</td></tr><tr><td>10648</td><td>RICAR</td><td>Brazil</td></tr><tr><td>10650</td><td>FAMIA</td><td>Brazil</td></tr><tr><td>10652</td><td>GOURL</td><td>Brazil</td></tr><tr><td>10659</td><td>QUEEN</td><td>Brazil</td></tr><tr><td>10676</td><td>TORTU</td><td>Mexico</td></tr><tr><td>10677</td><td>ANTON</td><td>Mexico</td></tr><tr><td>10682</td><td>ANTON</td><td>Mexico</td></tr><tr><td>10685</td><td>GOURL</td><td>Brazil</td></tr><tr><td>10690</td><td>HANAR</td><td>Brazil</td></tr><tr><td>10697</td><td>LINOD</td><td>Venezuela</td></tr><tr><td>10704</td><td>QUEEN</td><td>Brazil</td></tr><tr><td>10705</td><td>HILAA</td><td>Venezuela</td></tr><tr><td>10709</td><td>GOURL</td><td>Brazil</td></tr><tr><td>10716</td><td>RANCH</td><td>Argentina</td></tr><tr><td>10720</td><td>QUEDE</td><td>Brazil</td></tr><tr><td>10725</td><td>FAMIA</td><td>Brazil</td></tr><tr><td>10728</td><td>QUEEN</td><td>Brazil</td></tr><tr><td>10729</td><td>LINOD</td><td>Venezuela</td></tr><tr><td>10734</td><td>GOURL</td><td>Brazil</td></tr><tr><td>10759</td><td>ANATR</td><td>Mexico</td></tr><tr><td>10770</td><td>HANAR</td><td>Brazil</td></tr><tr><td>10777</td><td>GOURL</td><td>Brazil</td></tr><tr><td>10780</td><td>LILAS</td><td>Venezuela</td></tr><tr><td>10782</td><td>CACTU</td><td>Argentina</td></tr><tr><td>10783</td><td>HANAR</td><td>Brazil</td></tr><tr><td>10785</td><td>GROSR</td><td>Venezuela</td></tr><tr><td>10786</td><td>QUEEN</td><td>Brazil</td></tr><tr><td>10790</td><td>GOURL</td><td>Brazil</td></tr><tr><td>10794</td><td>QUEDE</td><td>Brazil</td></tr><tr><td>10796</td><td>HILAA</td><td>Venezuela</td></tr><tr><td>10803</td><td>WELLI</td><td>Brazil</td></tr><tr><td>10809</td><td>WELLI</td><td>Brazil</td></tr><tr><td>10811</td><td>LINOD</td><td>Venezuela</td></tr><tr><td>10813</td><td>RICAR</td><td>Brazil</td></tr><tr><td>10819</td><td>CACTU</td><td>Argentina</td></tr><tr><td>10823</td><td>LILAS</td><td>Venezuela</td></tr><tr><td>10828</td><td>RANCH</td><td>Argentina</td></tr><tr><td>10830</td><td>TRADH</td><td>Brazil</td></tr><tr><td>10834</td><td>TRADH</td><td>Brazil</td></tr><tr><td>10838</td><td>LINOD</td><td>Venezuela</td></tr><tr><td>10839</td><td>TRADH</td><td>Brazil</td></tr><tr><td>10840</td><td>LINOD</td><td>Venezuela</td></tr><tr><td>10842</td><td>TORTU</td><td>Mexico</td></tr><tr><td>10851</td><td>RICAR</td><td>Brazil</td></tr><tr><td>10856</td><td>ANTON</td><td>Mexico</td></tr><tr><td>10863</td><td>HILAA</td><td>Venezuela</td></tr><tr><td>10868</td><td>QUEEN</td><td>Brazil</td></tr><tr><td>10877</td><td>RICAR</td><td>Brazil</td></tr><tr><td>10881</td><td>CACTU</td><td>Argentina</td></tr><tr><td>10886</td><td>HANAR</td><td>Brazil</td></tr><tr><td>10898</td><td>OCEAN</td><td>Argentina</td></tr><tr><td>10899</td><td>LILAS</td><td>Venezuela</td></tr><tr><td>10900</td><td>WELLI</td><td>Brazil</td></tr><tr><td>10901</td><td>HILAA</td><td>Venezuela</td></tr><tr><td>10903</td><td>HANAR</td><td>Brazil</td></tr><tr><td>10905</td><td>WELLI</td><td>Brazil</td></tr><tr><td>10913</td><td>QUEEN</td><td>Brazil</td></tr><tr><td>10914</td><td>QUEEN</td><td>Brazil</td></tr><tr><td>10915</td><td>TORTU</td><td>Mexico</td></tr><tr><td>10916</td><td>RANCH</td><td>Argentina</td></tr><tr><td>10919</td><td>LINOD</td><td>Venezuela</td></tr><tr><td>10922</td><td>HANAR</td><td>Brazil</td></tr><tr><td>10925</td><td>HANAR</td><td>Brazil</td></tr><tr><td>10926</td><td>ANATR</td><td>Mexico</td></tr><tr><td>10935</td><td>WELLI</td><td>Brazil</td></tr><tr><td>10937</td><td>CACTU</td><td>Argentina</td></tr><tr><td>10954</td><td>LINOD</td><td>Venezuela</td></tr><tr><td>10957</td><td>HILAA</td><td>Venezuela</td></tr><tr><td>10958</td><td>OCEAN</td><td>Argentina</td></tr><tr><td>10959</td><td>GOURL</td><td>Brazil</td></tr><tr><td>10960</td><td>HILAA</td><td>Venezuela</td></tr><tr><td>10961</td><td>QUEEN</td><td>Brazil</td></tr><tr><td>10969</td><td>COMMI</td><td>Brazil</td></tr><tr><td>10976</td><td>HILAA</td><td>Venezuela</td></tr><tr><td>10981</td><td>HANAR</td><td>Brazil</td></tr><tr><td>10986</td><td>OCEAN</td><td>Argentina</td></tr><tr><td>10989</td><td>QUEDE</td><td>Brazil</td></tr><tr><td>10995</td><td>PERIC</td><td>Mexico</td></tr><tr><td>10997</td><td>LILAS</td><td>Venezuela</td></tr><tr><td>11014</td><td>LINOD</td><td>Venezuela</td></tr><tr><td>11019</td><td>RANCH</td><td>Argentina</td></tr><tr><td>11022</td><td>HANAR</td><td>Brazil</td></tr><tr><td>11039</td><td>LINOD</td><td>Venezuela</td></tr><tr><td>11042</td><td>COMMI</td><td>Brazil</td></tr><tr><td>11049</td><td>GOURL</td><td>Brazil</td></tr><tr><td>11052</td><td>HANAR</td><td>Brazil</td></tr><tr><td>11054</td><td>CACTU</td><td>Argentina</td></tr><tr><td>11055</td><td>HILAA</td><td>Venezuela</td></tr><tr><td>11059</td><td>RICAR</td><td>Brazil</td></tr><tr><td>11065</td><td>LILAS</td><td>Venezuela</td></tr><tr><td>11068</td><td>QUEEN</td><td>Brazil</td></tr><tr><td>11069</td><td>TORTU</td><td>Mexico</td></tr><tr><td>11071</td><td>LILAS</td><td>Venezuela</td></tr><tr><td>11073</td><td>PERIC</td><td>Mexico</td></tr></table>"
                    },
                    "metadata": {}
                }
            ],
            "execution_count": 12
        },
        {
            "cell_type": "markdown",
            "source": [
                "### 10\\. Employees, in order of age\n",
                "\n",
                "For all the employees in the Employees table, show the FirstName, LastName, Title, and BirthDate. Order the results by BirthDate, so that the oldest employee is first."
            ],
            "metadata": {
                "language": "sql",
                "azdata_cell_guid": "12f890b3-3f14-429e-9bb4-7a33c34eff66"
            },
            "attachments": {}
        },
        {
            "cell_type": "code",
            "source": [
                "SELECT FirstName, LastName, Title, BirthDate\r\n",
                "FROM Employees\r\n",
                "ORDER BY BirthDate;"
            ],
            "metadata": {
                "language": "sql",
                "azdata_cell_guid": "f80d5e8b-f804-48e6-8ada-e192912ee94a"
            },
            "outputs": [
                {
                    "output_type": "display_data",
                    "data": {
                        "text/html": "(9 rows affected)"
                    },
                    "metadata": {}
                },
                {
                    "output_type": "display_data",
                    "data": {
                        "text/html": "Total execution time: 00:00:00.010"
                    },
                    "metadata": {}
                },
                {
                    "output_type": "execute_result",
                    "execution_count": 14,
                    "data": {
                        "application/vnd.dataresource+json": {
                            "schema": {
                                "fields": [
                                    {
                                        "name": "FirstName"
                                    },
                                    {
                                        "name": "LastName"
                                    },
                                    {
                                        "name": "Title"
                                    },
                                    {
                                        "name": "BirthDate"
                                    }
                                ]
                            },
                            "data": [
                                {
                                    "0": "Margaret",
                                    "1": "Peacock",
                                    "2": "Sales Representative",
                                    "3": "1955-09-19 00:00:00.000"
                                },
                                {
                                    "0": "Nancy",
                                    "1": "Davolio",
                                    "2": "Sales Representative",
                                    "3": "1966-12-08 00:00:00.000"
                                },
                                {
                                    "0": "Andrew",
                                    "1": "Fuller",
                                    "2": "Vice President, Sales",
                                    "3": "1970-02-19 00:00:00.000"
                                },
                                {
                                    "0": "Steven",
                                    "1": "Buchanan",
                                    "2": "Sales Manager",
                                    "3": "1973-03-04 00:00:00.000"
                                },
                                {
                                    "0": "Laura",
                                    "1": "Callahan",
                                    "2": "Inside Sales Coordinator",
                                    "3": "1976-01-09 00:00:00.000"
                                },
                                {
                                    "0": "Robert",
                                    "1": "King",
                                    "2": "Sales Representative",
                                    "3": "1978-05-29 00:00:00.000"
                                },
                                {
                                    "0": "Michael",
                                    "1": "Suyama",
                                    "2": "Sales Representative",
                                    "3": "1981-07-02 00:00:00.000"
                                },
                                {
                                    "0": "Janet",
                                    "1": "Leverling",
                                    "2": "Sales Representative",
                                    "3": "1981-08-30 00:00:00.000"
                                },
                                {
                                    "0": "Anne",
                                    "1": "Dodsworth",
                                    "2": "Sales Representative",
                                    "3": "1984-01-27 00:00:00.000"
                                }
                            ]
                        },
                        "text/html": "<table><tr><th>FirstName</th><th>LastName</th><th>Title</th><th>BirthDate</th></tr><tr><td>Margaret</td><td>Peacock</td><td>Sales Representative</td><td>1955-09-19 00:00:00.000</td></tr><tr><td>Nancy</td><td>Davolio</td><td>Sales Representative</td><td>1966-12-08 00:00:00.000</td></tr><tr><td>Andrew</td><td>Fuller</td><td>Vice President, Sales</td><td>1970-02-19 00:00:00.000</td></tr><tr><td>Steven</td><td>Buchanan</td><td>Sales Manager</td><td>1973-03-04 00:00:00.000</td></tr><tr><td>Laura</td><td>Callahan</td><td>Inside Sales Coordinator</td><td>1976-01-09 00:00:00.000</td></tr><tr><td>Robert</td><td>King</td><td>Sales Representative</td><td>1978-05-29 00:00:00.000</td></tr><tr><td>Michael</td><td>Suyama</td><td>Sales Representative</td><td>1981-07-02 00:00:00.000</td></tr><tr><td>Janet</td><td>Leverling</td><td>Sales Representative</td><td>1981-08-30 00:00:00.000</td></tr><tr><td>Anne</td><td>Dodsworth</td><td>Sales Representative</td><td>1984-01-27 00:00:00.000</td></tr></table>"
                    },
                    "metadata": {}
                }
            ],
            "execution_count": 14
        },
        {
            "cell_type": "markdown",
            "source": [
                "### 11\\. Showing only the Date with a DateTime field\n",
                "\n",
                "Use the same query as #10 but show only the date portion of the BirthDate field."
            ],
            "metadata": {
                "language": "sql",
                "azdata_cell_guid": "c59ac475-2c67-4471-b347-e0ab593ce0c3"
            },
            "attachments": {}
        },
        {
            "cell_type": "code",
            "source": [
                "SELECT FirstName, LastName, Title, CAST(BirthDate AS DATE) AS DateOnlyBirthDate\r\n",
                "FROM Employees;"
            ],
            "metadata": {
                "language": "sql",
                "azdata_cell_guid": "72254614-be81-4f55-9a29-5fa299bfe1d9"
            },
            "outputs": [
                {
                    "output_type": "display_data",
                    "data": {
                        "text/html": "(9 rows affected)"
                    },
                    "metadata": {}
                },
                {
                    "output_type": "display_data",
                    "data": {
                        "text/html": "Total execution time: 00:00:00.009"
                    },
                    "metadata": {}
                },
                {
                    "output_type": "execute_result",
                    "execution_count": 15,
                    "data": {
                        "application/vnd.dataresource+json": {
                            "schema": {
                                "fields": [
                                    {
                                        "name": "FirstName"
                                    },
                                    {
                                        "name": "LastName"
                                    },
                                    {
                                        "name": "Title"
                                    },
                                    {
                                        "name": "DateOnlyBirthDate"
                                    }
                                ]
                            },
                            "data": [
                                {
                                    "0": "Nancy",
                                    "1": "Davolio",
                                    "2": "Sales Representative",
                                    "3": "1966-12-08"
                                },
                                {
                                    "0": "Andrew",
                                    "1": "Fuller",
                                    "2": "Vice President, Sales",
                                    "3": "1970-02-19"
                                },
                                {
                                    "0": "Janet",
                                    "1": "Leverling",
                                    "2": "Sales Representative",
                                    "3": "1981-08-30"
                                },
                                {
                                    "0": "Margaret",
                                    "1": "Peacock",
                                    "2": "Sales Representative",
                                    "3": "1955-09-19"
                                },
                                {
                                    "0": "Steven",
                                    "1": "Buchanan",
                                    "2": "Sales Manager",
                                    "3": "1973-03-04"
                                },
                                {
                                    "0": "Michael",
                                    "1": "Suyama",
                                    "2": "Sales Representative",
                                    "3": "1981-07-02"
                                },
                                {
                                    "0": "Robert",
                                    "1": "King",
                                    "2": "Sales Representative",
                                    "3": "1978-05-29"
                                },
                                {
                                    "0": "Laura",
                                    "1": "Callahan",
                                    "2": "Inside Sales Coordinator",
                                    "3": "1976-01-09"
                                },
                                {
                                    "0": "Anne",
                                    "1": "Dodsworth",
                                    "2": "Sales Representative",
                                    "3": "1984-01-27"
                                }
                            ]
                        },
                        "text/html": "<table><tr><th>FirstName</th><th>LastName</th><th>Title</th><th>DateOnlyBirthDate</th></tr><tr><td>Nancy</td><td>Davolio</td><td>Sales Representative</td><td>1966-12-08</td></tr><tr><td>Andrew</td><td>Fuller</td><td>Vice President, Sales</td><td>1970-02-19</td></tr><tr><td>Janet</td><td>Leverling</td><td>Sales Representative</td><td>1981-08-30</td></tr><tr><td>Margaret</td><td>Peacock</td><td>Sales Representative</td><td>1955-09-19</td></tr><tr><td>Steven</td><td>Buchanan</td><td>Sales Manager</td><td>1973-03-04</td></tr><tr><td>Michael</td><td>Suyama</td><td>Sales Representative</td><td>1981-07-02</td></tr><tr><td>Robert</td><td>King</td><td>Sales Representative</td><td>1978-05-29</td></tr><tr><td>Laura</td><td>Callahan</td><td>Inside Sales Coordinator</td><td>1976-01-09</td></tr><tr><td>Anne</td><td>Dodsworth</td><td>Sales Representative</td><td>1984-01-27</td></tr></table>"
                    },
                    "metadata": {}
                }
            ],
            "execution_count": 15
        },
        {
            "cell_type": "markdown",
            "source": [
                "### 12\\. Employees full name\n",
                "\n",
                "Show the FirstName and LastName columns from the Employees table, and then create a new column called FullName, showing FirstName and LastName joined together in one column with a space in-between,"
            ],
            "metadata": {
                "language": "sql",
                "azdata_cell_guid": "744b150b-aca6-40a2-8dbd-8e41f39e21ce"
            },
            "attachments": {}
        },
        {
            "cell_type": "code",
            "source": [
                "SELECT FirstName, LastName, (FirstName + ' ' + LastName) AS FullName\r\n",
                "FROM Employees;"
            ],
            "metadata": {
                "language": "sql",
                "azdata_cell_guid": "e0871297-7608-4d75-bf0b-fc67efe16e0a"
            },
            "outputs": [
                {
                    "output_type": "display_data",
                    "data": {
                        "text/html": "(9 rows affected)"
                    },
                    "metadata": {}
                },
                {
                    "output_type": "display_data",
                    "data": {
                        "text/html": "Total execution time: 00:00:00.012"
                    },
                    "metadata": {}
                },
                {
                    "output_type": "execute_result",
                    "execution_count": 17,
                    "data": {
                        "application/vnd.dataresource+json": {
                            "schema": {
                                "fields": [
                                    {
                                        "name": "FirstName"
                                    },
                                    {
                                        "name": "LastName"
                                    },
                                    {
                                        "name": "FullName"
                                    }
                                ]
                            },
                            "data": [
                                {
                                    "0": "Nancy",
                                    "1": "Davolio",
                                    "2": "Nancy Davolio"
                                },
                                {
                                    "0": "Andrew",
                                    "1": "Fuller",
                                    "2": "Andrew Fuller"
                                },
                                {
                                    "0": "Janet",
                                    "1": "Leverling",
                                    "2": "Janet Leverling"
                                },
                                {
                                    "0": "Margaret",
                                    "1": "Peacock",
                                    "2": "Margaret Peacock"
                                },
                                {
                                    "0": "Steven",
                                    "1": "Buchanan",
                                    "2": "Steven Buchanan"
                                },
                                {
                                    "0": "Michael",
                                    "1": "Suyama",
                                    "2": "Michael Suyama"
                                },
                                {
                                    "0": "Robert",
                                    "1": "King",
                                    "2": "Robert King"
                                },
                                {
                                    "0": "Laura",
                                    "1": "Callahan",
                                    "2": "Laura Callahan"
                                },
                                {
                                    "0": "Anne",
                                    "1": "Dodsworth",
                                    "2": "Anne Dodsworth"
                                }
                            ]
                        },
                        "text/html": "<table><tr><th>FirstName</th><th>LastName</th><th>FullName</th></tr><tr><td>Nancy</td><td>Davolio</td><td>Nancy Davolio</td></tr><tr><td>Andrew</td><td>Fuller</td><td>Andrew Fuller</td></tr><tr><td>Janet</td><td>Leverling</td><td>Janet Leverling</td></tr><tr><td>Margaret</td><td>Peacock</td><td>Margaret Peacock</td></tr><tr><td>Steven</td><td>Buchanan</td><td>Steven Buchanan</td></tr><tr><td>Michael</td><td>Suyama</td><td>Michael Suyama</td></tr><tr><td>Robert</td><td>King</td><td>Robert King</td></tr><tr><td>Laura</td><td>Callahan</td><td>Laura Callahan</td></tr><tr><td>Anne</td><td>Dodsworth</td><td>Anne Dodsworth</td></tr></table>"
                    },
                    "metadata": {}
                }
            ],
            "execution_count": 17
        },
        {
            "cell_type": "markdown",
            "source": [
                "### 13\\. OrderDetails amount per line item\n",
                "\n",
                "In the OrderDetails table create a new field using UnitPrice and Quantity called TotalPrice. Return the columns OrderID, ProductID, UnitPrice, Quantity, and TotalPrice."
            ],
            "metadata": {
                "language": "sql",
                "azdata_cell_guid": "fb64aec0-1ddd-4dd9-b2d0-1fdb81082a36"
            },
            "attachments": {}
        },
        {
            "cell_type": "code",
            "source": [
                "--Selecting top 100 to limit results shown\r\n",
                "SELECT TOP(100) OrderID, ProductID, UnitPrice, Quantity, (UnitPrice * Quantity) AS TotalPrice\r\n",
                "FROM OrderDetails;"
            ],
            "metadata": {
                "language": "sql",
                "azdata_cell_guid": "56367303-b5c8-424f-ae56-7281bad6d178"
            },
            "outputs": [
                {
                    "output_type": "display_data",
                    "data": {
                        "text/html": "(100 rows affected)"
                    },
                    "metadata": {}
                },
                {
                    "output_type": "display_data",
                    "data": {
                        "text/html": "Total execution time: 00:00:00.003"
                    },
                    "metadata": {}
                },
                {
                    "output_type": "execute_result",
                    "metadata": {},
                    "execution_count": 1,
                    "data": {
                        "application/vnd.dataresource+json": {
                            "schema": {
                                "fields": [
                                    {
                                        "name": "OrderID"
                                    },
                                    {
                                        "name": "ProductID"
                                    },
                                    {
                                        "name": "UnitPrice"
                                    },
                                    {
                                        "name": "Quantity"
                                    },
                                    {
                                        "name": "TotalPrice"
                                    }
                                ]
                            },
                            "data": [
                                {
                                    "0": "10248",
                                    "1": "11",
                                    "2": "14.00",
                                    "3": "12",
                                    "4": "168.00"
                                },
                                {
                                    "0": "10248",
                                    "1": "42",
                                    "2": "9.80",
                                    "3": "10",
                                    "4": "98.00"
                                },
                                {
                                    "0": "10248",
                                    "1": "72",
                                    "2": "34.80",
                                    "3": "5",
                                    "4": "174.00"
                                },
                                {
                                    "0": "10249",
                                    "1": "14",
                                    "2": "18.60",
                                    "3": "9",
                                    "4": "167.40"
                                },
                                {
                                    "0": "10249",
                                    "1": "51",
                                    "2": "42.40",
                                    "3": "40",
                                    "4": "1696.00"
                                },
                                {
                                    "0": "10250",
                                    "1": "41",
                                    "2": "7.70",
                                    "3": "10",
                                    "4": "77.00"
                                },
                                {
                                    "0": "10250",
                                    "1": "51",
                                    "2": "42.40",
                                    "3": "35",
                                    "4": "1484.00"
                                },
                                {
                                    "0": "10250",
                                    "1": "65",
                                    "2": "16.80",
                                    "3": "15",
                                    "4": "252.00"
                                },
                                {
                                    "0": "10251",
                                    "1": "22",
                                    "2": "16.80",
                                    "3": "6",
                                    "4": "100.80"
                                },
                                {
                                    "0": "10251",
                                    "1": "57",
                                    "2": "15.60",
                                    "3": "15",
                                    "4": "234.00"
                                },
                                {
                                    "0": "10251",
                                    "1": "65",
                                    "2": "16.80",
                                    "3": "20",
                                    "4": "336.00"
                                },
                                {
                                    "0": "10252",
                                    "1": "20",
                                    "2": "64.80",
                                    "3": "40",
                                    "4": "2592.00"
                                },
                                {
                                    "0": "10252",
                                    "1": "33",
                                    "2": "2.00",
                                    "3": "25",
                                    "4": "50.00"
                                },
                                {
                                    "0": "10252",
                                    "1": "60",
                                    "2": "27.20",
                                    "3": "40",
                                    "4": "1088.00"
                                },
                                {
                                    "0": "10253",
                                    "1": "31",
                                    "2": "10.00",
                                    "3": "20",
                                    "4": "200.00"
                                },
                                {
                                    "0": "10253",
                                    "1": "39",
                                    "2": "14.40",
                                    "3": "42",
                                    "4": "604.80"
                                },
                                {
                                    "0": "10253",
                                    "1": "49",
                                    "2": "16.00",
                                    "3": "40",
                                    "4": "640.00"
                                },
                                {
                                    "0": "10254",
                                    "1": "24",
                                    "2": "3.60",
                                    "3": "15",
                                    "4": "54.00"
                                },
                                {
                                    "0": "10254",
                                    "1": "55",
                                    "2": "19.20",
                                    "3": "21",
                                    "4": "403.20"
                                },
                                {
                                    "0": "10254",
                                    "1": "74",
                                    "2": "8.00",
                                    "3": "21",
                                    "4": "168.00"
                                },
                                {
                                    "0": "10255",
                                    "1": "2",
                                    "2": "15.20",
                                    "3": "20",
                                    "4": "304.00"
                                },
                                {
                                    "0": "10255",
                                    "1": "16",
                                    "2": "13.90",
                                    "3": "35",
                                    "4": "486.50"
                                },
                                {
                                    "0": "10255",
                                    "1": "36",
                                    "2": "15.20",
                                    "3": "25",
                                    "4": "380.00"
                                },
                                {
                                    "0": "10255",
                                    "1": "59",
                                    "2": "44.00",
                                    "3": "30",
                                    "4": "1320.00"
                                },
                                {
                                    "0": "10256",
                                    "1": "53",
                                    "2": "26.20",
                                    "3": "15",
                                    "4": "393.00"
                                },
                                {
                                    "0": "10256",
                                    "1": "77",
                                    "2": "10.40",
                                    "3": "12",
                                    "4": "124.80"
                                },
                                {
                                    "0": "10257",
                                    "1": "27",
                                    "2": "35.10",
                                    "3": "25",
                                    "4": "877.50"
                                },
                                {
                                    "0": "10257",
                                    "1": "39",
                                    "2": "14.40",
                                    "3": "6",
                                    "4": "86.40"
                                },
                                {
                                    "0": "10257",
                                    "1": "77",
                                    "2": "10.40",
                                    "3": "15",
                                    "4": "156.00"
                                },
                                {
                                    "0": "10258",
                                    "1": "2",
                                    "2": "15.20",
                                    "3": "50",
                                    "4": "760.00"
                                },
                                {
                                    "0": "10258",
                                    "1": "5",
                                    "2": "17.00",
                                    "3": "65",
                                    "4": "1105.00"
                                },
                                {
                                    "0": "10258",
                                    "1": "32",
                                    "2": "25.60",
                                    "3": "6",
                                    "4": "153.60"
                                },
                                {
                                    "0": "10259",
                                    "1": "21",
                                    "2": "8.00",
                                    "3": "10",
                                    "4": "80.00"
                                },
                                {
                                    "0": "10259",
                                    "1": "37",
                                    "2": "20.80",
                                    "3": "1",
                                    "4": "20.80"
                                },
                                {
                                    "0": "10260",
                                    "1": "41",
                                    "2": "7.70",
                                    "3": "16",
                                    "4": "123.20"
                                },
                                {
                                    "0": "10260",
                                    "1": "57",
                                    "2": "15.60",
                                    "3": "50",
                                    "4": "780.00"
                                },
                                {
                                    "0": "10260",
                                    "1": "62",
                                    "2": "39.40",
                                    "3": "15",
                                    "4": "591.00"
                                },
                                {
                                    "0": "10260",
                                    "1": "70",
                                    "2": "12.00",
                                    "3": "21",
                                    "4": "252.00"
                                },
                                {
                                    "0": "10261",
                                    "1": "21",
                                    "2": "8.00",
                                    "3": "20",
                                    "4": "160.00"
                                },
                                {
                                    "0": "10261",
                                    "1": "35",
                                    "2": "14.40",
                                    "3": "20",
                                    "4": "288.00"
                                },
                                {
                                    "0": "10262",
                                    "1": "5",
                                    "2": "17.00",
                                    "3": "12",
                                    "4": "204.00"
                                },
                                {
                                    "0": "10262",
                                    "1": "7",
                                    "2": "24.00",
                                    "3": "15",
                                    "4": "360.00"
                                },
                                {
                                    "0": "10262",
                                    "1": "56",
                                    "2": "30.40",
                                    "3": "2",
                                    "4": "60.80"
                                },
                                {
                                    "0": "10263",
                                    "1": "16",
                                    "2": "13.90",
                                    "3": "60",
                                    "4": "834.00"
                                },
                                {
                                    "0": "10263",
                                    "1": "24",
                                    "2": "3.60",
                                    "3": "65",
                                    "4": "234.00"
                                },
                                {
                                    "0": "10263",
                                    "1": "30",
                                    "2": "20.70",
                                    "3": "60",
                                    "4": "1242.00"
                                },
                                {
                                    "0": "10263",
                                    "1": "74",
                                    "2": "8.00",
                                    "3": "65",
                                    "4": "520.00"
                                },
                                {
                                    "0": "10264",
                                    "1": "2",
                                    "2": "15.20",
                                    "3": "35",
                                    "4": "532.00"
                                },
                                {
                                    "0": "10264",
                                    "1": "41",
                                    "2": "7.70",
                                    "3": "25",
                                    "4": "192.50"
                                },
                                {
                                    "0": "10265",
                                    "1": "17",
                                    "2": "31.20",
                                    "3": "30",
                                    "4": "936.00"
                                },
                                {
                                    "0": "10265",
                                    "1": "70",
                                    "2": "12.00",
                                    "3": "20",
                                    "4": "240.00"
                                },
                                {
                                    "0": "10266",
                                    "1": "12",
                                    "2": "30.40",
                                    "3": "12",
                                    "4": "364.80"
                                },
                                {
                                    "0": "10267",
                                    "1": "40",
                                    "2": "14.70",
                                    "3": "50",
                                    "4": "735.00"
                                },
                                {
                                    "0": "10267",
                                    "1": "59",
                                    "2": "44.00",
                                    "3": "70",
                                    "4": "3080.00"
                                },
                                {
                                    "0": "10267",
                                    "1": "76",
                                    "2": "14.40",
                                    "3": "15",
                                    "4": "216.00"
                                },
                                {
                                    "0": "10268",
                                    "1": "29",
                                    "2": "99.00",
                                    "3": "10",
                                    "4": "990.00"
                                },
                                {
                                    "0": "10268",
                                    "1": "72",
                                    "2": "27.80",
                                    "3": "4",
                                    "4": "111.20"
                                },
                                {
                                    "0": "10269",
                                    "1": "33",
                                    "2": "2.00",
                                    "3": "60",
                                    "4": "120.00"
                                },
                                {
                                    "0": "10269",
                                    "1": "72",
                                    "2": "27.80",
                                    "3": "20",
                                    "4": "556.00"
                                },
                                {
                                    "0": "10270",
                                    "1": "36",
                                    "2": "15.20",
                                    "3": "30",
                                    "4": "456.00"
                                },
                                {
                                    "0": "10270",
                                    "1": "43",
                                    "2": "36.80",
                                    "3": "25",
                                    "4": "920.00"
                                },
                                {
                                    "0": "10271",
                                    "1": "33",
                                    "2": "2.00",
                                    "3": "24",
                                    "4": "48.00"
                                },
                                {
                                    "0": "10272",
                                    "1": "20",
                                    "2": "64.80",
                                    "3": "6",
                                    "4": "388.80"
                                },
                                {
                                    "0": "10272",
                                    "1": "31",
                                    "2": "10.00",
                                    "3": "40",
                                    "4": "400.00"
                                },
                                {
                                    "0": "10272",
                                    "1": "72",
                                    "2": "27.80",
                                    "3": "24",
                                    "4": "667.20"
                                },
                                {
                                    "0": "10273",
                                    "1": "10",
                                    "2": "24.80",
                                    "3": "24",
                                    "4": "595.20"
                                },
                                {
                                    "0": "10273",
                                    "1": "31",
                                    "2": "10.00",
                                    "3": "15",
                                    "4": "150.00"
                                },
                                {
                                    "0": "10273",
                                    "1": "33",
                                    "2": "2.00",
                                    "3": "20",
                                    "4": "40.00"
                                },
                                {
                                    "0": "10273",
                                    "1": "40",
                                    "2": "14.70",
                                    "3": "60",
                                    "4": "882.00"
                                },
                                {
                                    "0": "10273",
                                    "1": "76",
                                    "2": "14.40",
                                    "3": "33",
                                    "4": "475.20"
                                },
                                {
                                    "0": "10274",
                                    "1": "71",
                                    "2": "17.20",
                                    "3": "20",
                                    "4": "344.00"
                                },
                                {
                                    "0": "10274",
                                    "1": "72",
                                    "2": "27.80",
                                    "3": "7",
                                    "4": "194.60"
                                },
                                {
                                    "0": "10275",
                                    "1": "24",
                                    "2": "3.60",
                                    "3": "12",
                                    "4": "43.20"
                                },
                                {
                                    "0": "10275",
                                    "1": "59",
                                    "2": "44.00",
                                    "3": "6",
                                    "4": "264.00"
                                },
                                {
                                    "0": "10276",
                                    "1": "10",
                                    "2": "24.80",
                                    "3": "15",
                                    "4": "372.00"
                                },
                                {
                                    "0": "10276",
                                    "1": "13",
                                    "2": "4.80",
                                    "3": "10",
                                    "4": "48.00"
                                },
                                {
                                    "0": "10277",
                                    "1": "28",
                                    "2": "36.40",
                                    "3": "20",
                                    "4": "728.00"
                                },
                                {
                                    "0": "10277",
                                    "1": "62",
                                    "2": "39.40",
                                    "3": "12",
                                    "4": "472.80"
                                },
                                {
                                    "0": "10278",
                                    "1": "44",
                                    "2": "15.50",
                                    "3": "16",
                                    "4": "248.00"
                                },
                                {
                                    "0": "10278",
                                    "1": "59",
                                    "2": "44.00",
                                    "3": "15",
                                    "4": "660.00"
                                },
                                {
                                    "0": "10278",
                                    "1": "63",
                                    "2": "35.10",
                                    "3": "8",
                                    "4": "280.80"
                                },
                                {
                                    "0": "10278",
                                    "1": "73",
                                    "2": "12.00",
                                    "3": "25",
                                    "4": "300.00"
                                },
                                {
                                    "0": "10279",
                                    "1": "17",
                                    "2": "31.20",
                                    "3": "15",
                                    "4": "468.00"
                                },
                                {
                                    "0": "10280",
                                    "1": "24",
                                    "2": "3.60",
                                    "3": "12",
                                    "4": "43.20"
                                },
                                {
                                    "0": "10280",
                                    "1": "55",
                                    "2": "19.20",
                                    "3": "20",
                                    "4": "384.00"
                                },
                                {
                                    "0": "10280",
                                    "1": "75",
                                    "2": "6.20",
                                    "3": "30",
                                    "4": "186.00"
                                },
                                {
                                    "0": "10281",
                                    "1": "19",
                                    "2": "7.30",
                                    "3": "1",
                                    "4": "7.30"
                                },
                                {
                                    "0": "10281",
                                    "1": "24",
                                    "2": "3.60",
                                    "3": "6",
                                    "4": "21.60"
                                },
                                {
                                    "0": "10281",
                                    "1": "35",
                                    "2": "14.40",
                                    "3": "4",
                                    "4": "57.60"
                                },
                                {
                                    "0": "10282",
                                    "1": "30",
                                    "2": "20.70",
                                    "3": "6",
                                    "4": "124.20"
                                },
                                {
                                    "0": "10282",
                                    "1": "57",
                                    "2": "15.60",
                                    "3": "2",
                                    "4": "31.20"
                                },
                                {
                                    "0": "10283",
                                    "1": "15",
                                    "2": "12.40",
                                    "3": "20",
                                    "4": "248.00"
                                },
                                {
                                    "0": "10283",
                                    "1": "19",
                                    "2": "7.30",
                                    "3": "18",
                                    "4": "131.40"
                                },
                                {
                                    "0": "10283",
                                    "1": "60",
                                    "2": "27.20",
                                    "3": "35",
                                    "4": "952.00"
                                },
                                {
                                    "0": "10283",
                                    "1": "72",
                                    "2": "27.80",
                                    "3": "3",
                                    "4": "83.40"
                                },
                                {
                                    "0": "10284",
                                    "1": "27",
                                    "2": "35.10",
                                    "3": "15",
                                    "4": "526.50"
                                },
                                {
                                    "0": "10284",
                                    "1": "44",
                                    "2": "15.50",
                                    "3": "21",
                                    "4": "325.50"
                                },
                                {
                                    "0": "10284",
                                    "1": "60",
                                    "2": "27.20",
                                    "3": "20",
                                    "4": "544.00"
                                },
                                {
                                    "0": "10284",
                                    "1": "67",
                                    "2": "11.20",
                                    "3": "5",
                                    "4": "56.00"
                                },
                                {
                                    "0": "10285",
                                    "1": "1",
                                    "2": "14.40",
                                    "3": "45",
                                    "4": "648.00"
                                }
                            ]
                        },
                        "text/html": [
                            "<table>",
                            "<tr><th>OrderID</th><th>ProductID</th><th>UnitPrice</th><th>Quantity</th><th>TotalPrice</th></tr>",
                            "<tr><td>10248</td><td>11</td><td>14.00</td><td>12</td><td>168.00</td></tr>",
                            "<tr><td>10248</td><td>42</td><td>9.80</td><td>10</td><td>98.00</td></tr>",
                            "<tr><td>10248</td><td>72</td><td>34.80</td><td>5</td><td>174.00</td></tr>",
                            "<tr><td>10249</td><td>14</td><td>18.60</td><td>9</td><td>167.40</td></tr>",
                            "<tr><td>10249</td><td>51</td><td>42.40</td><td>40</td><td>1696.00</td></tr>",
                            "<tr><td>10250</td><td>41</td><td>7.70</td><td>10</td><td>77.00</td></tr>",
                            "<tr><td>10250</td><td>51</td><td>42.40</td><td>35</td><td>1484.00</td></tr>",
                            "<tr><td>10250</td><td>65</td><td>16.80</td><td>15</td><td>252.00</td></tr>",
                            "<tr><td>10251</td><td>22</td><td>16.80</td><td>6</td><td>100.80</td></tr>",
                            "<tr><td>10251</td><td>57</td><td>15.60</td><td>15</td><td>234.00</td></tr>",
                            "<tr><td>10251</td><td>65</td><td>16.80</td><td>20</td><td>336.00</td></tr>",
                            "<tr><td>10252</td><td>20</td><td>64.80</td><td>40</td><td>2592.00</td></tr>",
                            "<tr><td>10252</td><td>33</td><td>2.00</td><td>25</td><td>50.00</td></tr>",
                            "<tr><td>10252</td><td>60</td><td>27.20</td><td>40</td><td>1088.00</td></tr>",
                            "<tr><td>10253</td><td>31</td><td>10.00</td><td>20</td><td>200.00</td></tr>",
                            "<tr><td>10253</td><td>39</td><td>14.40</td><td>42</td><td>604.80</td></tr>",
                            "<tr><td>10253</td><td>49</td><td>16.00</td><td>40</td><td>640.00</td></tr>",
                            "<tr><td>10254</td><td>24</td><td>3.60</td><td>15</td><td>54.00</td></tr>",
                            "<tr><td>10254</td><td>55</td><td>19.20</td><td>21</td><td>403.20</td></tr>",
                            "<tr><td>10254</td><td>74</td><td>8.00</td><td>21</td><td>168.00</td></tr>",
                            "<tr><td>10255</td><td>2</td><td>15.20</td><td>20</td><td>304.00</td></tr>",
                            "<tr><td>10255</td><td>16</td><td>13.90</td><td>35</td><td>486.50</td></tr>",
                            "<tr><td>10255</td><td>36</td><td>15.20</td><td>25</td><td>380.00</td></tr>",
                            "<tr><td>10255</td><td>59</td><td>44.00</td><td>30</td><td>1320.00</td></tr>",
                            "<tr><td>10256</td><td>53</td><td>26.20</td><td>15</td><td>393.00</td></tr>",
                            "<tr><td>10256</td><td>77</td><td>10.40</td><td>12</td><td>124.80</td></tr>",
                            "<tr><td>10257</td><td>27</td><td>35.10</td><td>25</td><td>877.50</td></tr>",
                            "<tr><td>10257</td><td>39</td><td>14.40</td><td>6</td><td>86.40</td></tr>",
                            "<tr><td>10257</td><td>77</td><td>10.40</td><td>15</td><td>156.00</td></tr>",
                            "<tr><td>10258</td><td>2</td><td>15.20</td><td>50</td><td>760.00</td></tr>",
                            "<tr><td>10258</td><td>5</td><td>17.00</td><td>65</td><td>1105.00</td></tr>",
                            "<tr><td>10258</td><td>32</td><td>25.60</td><td>6</td><td>153.60</td></tr>",
                            "<tr><td>10259</td><td>21</td><td>8.00</td><td>10</td><td>80.00</td></tr>",
                            "<tr><td>10259</td><td>37</td><td>20.80</td><td>1</td><td>20.80</td></tr>",
                            "<tr><td>10260</td><td>41</td><td>7.70</td><td>16</td><td>123.20</td></tr>",
                            "<tr><td>10260</td><td>57</td><td>15.60</td><td>50</td><td>780.00</td></tr>",
                            "<tr><td>10260</td><td>62</td><td>39.40</td><td>15</td><td>591.00</td></tr>",
                            "<tr><td>10260</td><td>70</td><td>12.00</td><td>21</td><td>252.00</td></tr>",
                            "<tr><td>10261</td><td>21</td><td>8.00</td><td>20</td><td>160.00</td></tr>",
                            "<tr><td>10261</td><td>35</td><td>14.40</td><td>20</td><td>288.00</td></tr>",
                            "<tr><td>10262</td><td>5</td><td>17.00</td><td>12</td><td>204.00</td></tr>",
                            "<tr><td>10262</td><td>7</td><td>24.00</td><td>15</td><td>360.00</td></tr>",
                            "<tr><td>10262</td><td>56</td><td>30.40</td><td>2</td><td>60.80</td></tr>",
                            "<tr><td>10263</td><td>16</td><td>13.90</td><td>60</td><td>834.00</td></tr>",
                            "<tr><td>10263</td><td>24</td><td>3.60</td><td>65</td><td>234.00</td></tr>",
                            "<tr><td>10263</td><td>30</td><td>20.70</td><td>60</td><td>1242.00</td></tr>",
                            "<tr><td>10263</td><td>74</td><td>8.00</td><td>65</td><td>520.00</td></tr>",
                            "<tr><td>10264</td><td>2</td><td>15.20</td><td>35</td><td>532.00</td></tr>",
                            "<tr><td>10264</td><td>41</td><td>7.70</td><td>25</td><td>192.50</td></tr>",
                            "<tr><td>10265</td><td>17</td><td>31.20</td><td>30</td><td>936.00</td></tr>",
                            "<tr><td>10265</td><td>70</td><td>12.00</td><td>20</td><td>240.00</td></tr>",
                            "<tr><td>10266</td><td>12</td><td>30.40</td><td>12</td><td>364.80</td></tr>",
                            "<tr><td>10267</td><td>40</td><td>14.70</td><td>50</td><td>735.00</td></tr>",
                            "<tr><td>10267</td><td>59</td><td>44.00</td><td>70</td><td>3080.00</td></tr>",
                            "<tr><td>10267</td><td>76</td><td>14.40</td><td>15</td><td>216.00</td></tr>",
                            "<tr><td>10268</td><td>29</td><td>99.00</td><td>10</td><td>990.00</td></tr>",
                            "<tr><td>10268</td><td>72</td><td>27.80</td><td>4</td><td>111.20</td></tr>",
                            "<tr><td>10269</td><td>33</td><td>2.00</td><td>60</td><td>120.00</td></tr>",
                            "<tr><td>10269</td><td>72</td><td>27.80</td><td>20</td><td>556.00</td></tr>",
                            "<tr><td>10270</td><td>36</td><td>15.20</td><td>30</td><td>456.00</td></tr>",
                            "<tr><td>10270</td><td>43</td><td>36.80</td><td>25</td><td>920.00</td></tr>",
                            "<tr><td>10271</td><td>33</td><td>2.00</td><td>24</td><td>48.00</td></tr>",
                            "<tr><td>10272</td><td>20</td><td>64.80</td><td>6</td><td>388.80</td></tr>",
                            "<tr><td>10272</td><td>31</td><td>10.00</td><td>40</td><td>400.00</td></tr>",
                            "<tr><td>10272</td><td>72</td><td>27.80</td><td>24</td><td>667.20</td></tr>",
                            "<tr><td>10273</td><td>10</td><td>24.80</td><td>24</td><td>595.20</td></tr>",
                            "<tr><td>10273</td><td>31</td><td>10.00</td><td>15</td><td>150.00</td></tr>",
                            "<tr><td>10273</td><td>33</td><td>2.00</td><td>20</td><td>40.00</td></tr>",
                            "<tr><td>10273</td><td>40</td><td>14.70</td><td>60</td><td>882.00</td></tr>",
                            "<tr><td>10273</td><td>76</td><td>14.40</td><td>33</td><td>475.20</td></tr>",
                            "<tr><td>10274</td><td>71</td><td>17.20</td><td>20</td><td>344.00</td></tr>",
                            "<tr><td>10274</td><td>72</td><td>27.80</td><td>7</td><td>194.60</td></tr>",
                            "<tr><td>10275</td><td>24</td><td>3.60</td><td>12</td><td>43.20</td></tr>",
                            "<tr><td>10275</td><td>59</td><td>44.00</td><td>6</td><td>264.00</td></tr>",
                            "<tr><td>10276</td><td>10</td><td>24.80</td><td>15</td><td>372.00</td></tr>",
                            "<tr><td>10276</td><td>13</td><td>4.80</td><td>10</td><td>48.00</td></tr>",
                            "<tr><td>10277</td><td>28</td><td>36.40</td><td>20</td><td>728.00</td></tr>",
                            "<tr><td>10277</td><td>62</td><td>39.40</td><td>12</td><td>472.80</td></tr>",
                            "<tr><td>10278</td><td>44</td><td>15.50</td><td>16</td><td>248.00</td></tr>",
                            "<tr><td>10278</td><td>59</td><td>44.00</td><td>15</td><td>660.00</td></tr>",
                            "<tr><td>10278</td><td>63</td><td>35.10</td><td>8</td><td>280.80</td></tr>",
                            "<tr><td>10278</td><td>73</td><td>12.00</td><td>25</td><td>300.00</td></tr>",
                            "<tr><td>10279</td><td>17</td><td>31.20</td><td>15</td><td>468.00</td></tr>",
                            "<tr><td>10280</td><td>24</td><td>3.60</td><td>12</td><td>43.20</td></tr>",
                            "<tr><td>10280</td><td>55</td><td>19.20</td><td>20</td><td>384.00</td></tr>",
                            "<tr><td>10280</td><td>75</td><td>6.20</td><td>30</td><td>186.00</td></tr>",
                            "<tr><td>10281</td><td>19</td><td>7.30</td><td>1</td><td>7.30</td></tr>",
                            "<tr><td>10281</td><td>24</td><td>3.60</td><td>6</td><td>21.60</td></tr>",
                            "<tr><td>10281</td><td>35</td><td>14.40</td><td>4</td><td>57.60</td></tr>",
                            "<tr><td>10282</td><td>30</td><td>20.70</td><td>6</td><td>124.20</td></tr>",
                            "<tr><td>10282</td><td>57</td><td>15.60</td><td>2</td><td>31.20</td></tr>",
                            "<tr><td>10283</td><td>15</td><td>12.40</td><td>20</td><td>248.00</td></tr>",
                            "<tr><td>10283</td><td>19</td><td>7.30</td><td>18</td><td>131.40</td></tr>",
                            "<tr><td>10283</td><td>60</td><td>27.20</td><td>35</td><td>952.00</td></tr>",
                            "<tr><td>10283</td><td>72</td><td>27.80</td><td>3</td><td>83.40</td></tr>",
                            "<tr><td>10284</td><td>27</td><td>35.10</td><td>15</td><td>526.50</td></tr>",
                            "<tr><td>10284</td><td>44</td><td>15.50</td><td>21</td><td>325.50</td></tr>",
                            "<tr><td>10284</td><td>60</td><td>27.20</td><td>20</td><td>544.00</td></tr>",
                            "<tr><td>10284</td><td>67</td><td>11.20</td><td>5</td><td>56.00</td></tr>",
                            "<tr><td>10285</td><td>1</td><td>14.40</td><td>45</td><td>648.00</td></tr>",
                            "</table>"
                        ]
                    }
                }
            ],
            "execution_count": 1
        },
        {
            "cell_type": "markdown",
            "source": [
                "### 14\\. How many customers?\n",
                "\n",
                "How many customers are there in the Customers table? Show one value only."
            ],
            "metadata": {
                "language": "sql",
                "azdata_cell_guid": "92b4d16b-d454-476c-8bbc-c7bdb46e0584"
            },
            "attachments": {}
        },
        {
            "cell_type": "code",
            "source": [
                "SELECT COUNT(*) AS TotalCustomers\r\n",
                "FROM Customers;"
            ],
            "metadata": {
                "language": "sql",
                "azdata_cell_guid": "90903159-e3cc-44df-9048-5b23e58f2c3c"
            },
            "outputs": [
                {
                    "output_type": "display_data",
                    "data": {
                        "text/html": "(1 row affected)"
                    },
                    "metadata": {}
                },
                {
                    "output_type": "display_data",
                    "data": {
                        "text/html": "Total execution time: 00:00:00.034"
                    },
                    "metadata": {}
                },
                {
                    "output_type": "execute_result",
                    "execution_count": 19,
                    "data": {
                        "application/vnd.dataresource+json": {
                            "schema": {
                                "fields": [
                                    {
                                        "name": "TotalCustomers"
                                    }
                                ]
                            },
                            "data": [
                                {
                                    "0": "91"
                                }
                            ]
                        },
                        "text/html": "<table><tr><th>TotalCustomers</th></tr><tr><td>91</td></tr></table>"
                    },
                    "metadata": {}
                }
            ],
            "execution_count": 19
        },
        {
            "cell_type": "markdown",
            "source": [
                "### 15\\. When was the first order?\n",
                "\n",
                "Show the date of the first order ever made in the Orders table."
            ],
            "metadata": {
                "language": "sql",
                "azdata_cell_guid": "098f516c-b8b9-4077-9317-dcd259435327"
            },
            "attachments": {}
        },
        {
            "cell_type": "code",
            "source": [
                "SELECT MIN(OrderDate) AS FirstOrder\r\n",
                "FROM Orders;"
            ],
            "metadata": {
                "language": "sql",
                "azdata_cell_guid": "d3190bca-0bb6-4977-8713-287dabc87f43"
            },
            "outputs": [
                {
                    "output_type": "display_data",
                    "data": {
                        "text/html": "(1 row affected)"
                    },
                    "metadata": {}
                },
                {
                    "output_type": "display_data",
                    "data": {
                        "text/html": "Total execution time: 00:00:00.012"
                    },
                    "metadata": {}
                },
                {
                    "output_type": "execute_result",
                    "execution_count": 20,
                    "data": {
                        "application/vnd.dataresource+json": {
                            "schema": {
                                "fields": [
                                    {
                                        "name": "FirstOrder"
                                    }
                                ]
                            },
                            "data": [
                                {
                                    "0": "2014-07-04 08:00:00.000"
                                }
                            ]
                        },
                        "text/html": "<table><tr><th>FirstOrder</th></tr><tr><td>2014-07-04 08:00:00.000</td></tr></table>"
                    },
                    "metadata": {}
                }
            ],
            "execution_count": 20
        },
        {
            "cell_type": "markdown",
            "source": [
                "### 16\\. Countries where there are customers\n",
                "\n",
                "Show a list of countries where the Northwind company has customers"
            ],
            "metadata": {
                "language": "sql",
                "azdata_cell_guid": "c93e5bc3-2b3e-4bf8-a9b5-013d465822bd"
            },
            "attachments": {}
        },
        {
            "cell_type": "code",
            "source": [
                "SELECT Country\r\n",
                "FROM Customers\r\n",
                "GROUP BY Country;"
            ],
            "metadata": {
                "language": "sql",
                "azdata_cell_guid": "70f0ca62-4386-48de-a33f-f75ac24ce5eb"
            },
            "outputs": [
                {
                    "output_type": "display_data",
                    "data": {
                        "text/html": "(21 rows affected)"
                    },
                    "metadata": {}
                },
                {
                    "output_type": "display_data",
                    "data": {
                        "text/html": "Total execution time: 00:00:00.012"
                    },
                    "metadata": {}
                },
                {
                    "output_type": "execute_result",
                    "execution_count": 21,
                    "data": {
                        "application/vnd.dataresource+json": {
                            "schema": {
                                "fields": [
                                    {
                                        "name": "Country"
                                    }
                                ]
                            },
                            "data": [
                                {
                                    "0": "Argentina"
                                },
                                {
                                    "0": "Austria"
                                },
                                {
                                    "0": "Belgium"
                                },
                                {
                                    "0": "Brazil"
                                },
                                {
                                    "0": "Canada"
                                },
                                {
                                    "0": "Denmark"
                                },
                                {
                                    "0": "Finland"
                                },
                                {
                                    "0": "France"
                                },
                                {
                                    "0": "Germany"
                                },
                                {
                                    "0": "Ireland"
                                },
                                {
                                    "0": "Italy"
                                },
                                {
                                    "0": "Mexico"
                                },
                                {
                                    "0": "Norway"
                                },
                                {
                                    "0": "Poland"
                                },
                                {
                                    "0": "Portugal"
                                },
                                {
                                    "0": "Spain"
                                },
                                {
                                    "0": "Sweden"
                                },
                                {
                                    "0": "Switzerland"
                                },
                                {
                                    "0": "UK"
                                },
                                {
                                    "0": "USA"
                                },
                                {
                                    "0": "Venezuela"
                                }
                            ]
                        },
                        "text/html": "<table><tr><th>Country</th></tr><tr><td>Argentina</td></tr><tr><td>Austria</td></tr><tr><td>Belgium</td></tr><tr><td>Brazil</td></tr><tr><td>Canada</td></tr><tr><td>Denmark</td></tr><tr><td>Finland</td></tr><tr><td>France</td></tr><tr><td>Germany</td></tr><tr><td>Ireland</td></tr><tr><td>Italy</td></tr><tr><td>Mexico</td></tr><tr><td>Norway</td></tr><tr><td>Poland</td></tr><tr><td>Portugal</td></tr><tr><td>Spain</td></tr><tr><td>Sweden</td></tr><tr><td>Switzerland</td></tr><tr><td>UK</td></tr><tr><td>USA</td></tr><tr><td>Venezuela</td></tr></table>"
                    },
                    "metadata": {}
                }
            ],
            "execution_count": 21
        },
        {
            "cell_type": "markdown",
            "source": [
                "### 17\\. Contact titles for customers\n",
                "\n",
                "Show a list of all the different values in the Customers table for ContactTitles. Also include a count for each ContactTitle."
            ],
            "metadata": {
                "language": "sql",
                "azdata_cell_guid": "d8cdd35f-81ca-48b8-8c06-9174803a7a8f"
            },
            "attachments": {}
        },
        {
            "cell_type": "code",
            "source": [
                "SELECT ContactTitle, COUNT(ContactTitle) AS TotalContactTitle\r\n",
                "FROM Customers\r\n",
                "GROUP BY ContactTitle\r\n",
                "ORDER BY TotalContactTitle DESC;"
            ],
            "metadata": {
                "language": "sql",
                "azdata_cell_guid": "51dfbf8e-807e-44b7-a4ef-476363a66ae5"
            },
            "outputs": [
                {
                    "output_type": "display_data",
                    "data": {
                        "text/html": "(12 rows affected)"
                    },
                    "metadata": {}
                },
                {
                    "output_type": "display_data",
                    "data": {
                        "text/html": "Total execution time: 00:00:00.011"
                    },
                    "metadata": {}
                },
                {
                    "output_type": "execute_result",
                    "execution_count": 25,
                    "data": {
                        "application/vnd.dataresource+json": {
                            "schema": {
                                "fields": [
                                    {
                                        "name": "ContactTitle"
                                    },
                                    {
                                        "name": "TotalContactTitle"
                                    }
                                ]
                            },
                            "data": [
                                {
                                    "0": "Owner",
                                    "1": "17"
                                },
                                {
                                    "0": "Sales Representative",
                                    "1": "17"
                                },
                                {
                                    "0": "Marketing Manager",
                                    "1": "12"
                                },
                                {
                                    "0": "Sales Manager",
                                    "1": "11"
                                },
                                {
                                    "0": "Accounting Manager",
                                    "1": "10"
                                },
                                {
                                    "0": "Sales Associate",
                                    "1": "7"
                                },
                                {
                                    "0": "Marketing Assistant",
                                    "1": "6"
                                },
                                {
                                    "0": "Sales Agent",
                                    "1": "5"
                                },
                                {
                                    "0": "Assistant Sales Agent",
                                    "1": "2"
                                },
                                {
                                    "0": "Order Administrator",
                                    "1": "2"
                                },
                                {
                                    "0": "Assistant Sales Representative",
                                    "1": "1"
                                },
                                {
                                    "0": "Owner/Marketing Assistant",
                                    "1": "1"
                                }
                            ]
                        },
                        "text/html": "<table><tr><th>ContactTitle</th><th>TotalContactTitle</th></tr><tr><td>Owner</td><td>17</td></tr><tr><td>Sales Representative</td><td>17</td></tr><tr><td>Marketing Manager</td><td>12</td></tr><tr><td>Sales Manager</td><td>11</td></tr><tr><td>Accounting Manager</td><td>10</td></tr><tr><td>Sales Associate</td><td>7</td></tr><tr><td>Marketing Assistant</td><td>6</td></tr><tr><td>Sales Agent</td><td>5</td></tr><tr><td>Assistant Sales Agent</td><td>2</td></tr><tr><td>Order Administrator</td><td>2</td></tr><tr><td>Assistant Sales Representative</td><td>1</td></tr><tr><td>Owner/Marketing Assistant</td><td>1</td></tr></table>"
                    },
                    "metadata": {}
                }
            ],
            "execution_count": 25
        },
        {
            "cell_type": "markdown",
            "source": [
                "### 18\\. Products with associated supplier names\n",
                "\n",
                "Show for each product the associated supplier. Show the ProductID, ProductName, and the CompanyName of the supplier. Sort the result by ProductID."
            ],
            "metadata": {
                "language": "sql",
                "azdata_cell_guid": "8e421788-4843-4a82-9456-005259cde2e5"
            },
            "attachments": {}
        },
        {
            "cell_type": "code",
            "source": [
                "SELECT ProductID, ProductName, CompanyName AS Supplier\r\n",
                "FROM Products AS P\r\n",
                "    INNER JOIN Suppliers AS S\r\n",
                "        ON P.SupplierID = S.SupplierID\r\n",
                "ORDER BY ProductID;"
            ],
            "metadata": {
                "language": "sql",
                "azdata_cell_guid": "2a5af60e-d33e-4644-b07f-715c5e50755a"
            },
            "outputs": [
                {
                    "output_type": "display_data",
                    "data": {
                        "text/html": "(77 rows affected)"
                    },
                    "metadata": {}
                },
                {
                    "output_type": "display_data",
                    "data": {
                        "text/html": "Total execution time: 00:00:00.015"
                    },
                    "metadata": {}
                },
                {
                    "output_type": "execute_result",
                    "execution_count": 26,
                    "data": {
                        "application/vnd.dataresource+json": {
                            "schema": {
                                "fields": [
                                    {
                                        "name": "ProductID"
                                    },
                                    {
                                        "name": "ProductName"
                                    },
                                    {
                                        "name": "Supplier"
                                    }
                                ]
                            },
                            "data": [
                                {
                                    "0": "1",
                                    "1": "Chai",
                                    "2": "Exotic Liquids"
                                },
                                {
                                    "0": "2",
                                    "1": "Chang",
                                    "2": "Exotic Liquids"
                                },
                                {
                                    "0": "3",
                                    "1": "Aniseed Syrup",
                                    "2": "Exotic Liquids"
                                },
                                {
                                    "0": "4",
                                    "1": "Chef Anton's Cajun Seasoning",
                                    "2": "New Orleans Cajun Delights"
                                },
                                {
                                    "0": "5",
                                    "1": "Chef Anton's Gumbo Mix",
                                    "2": "New Orleans Cajun Delights"
                                },
                                {
                                    "0": "6",
                                    "1": "Grandma's Boysenberry Spread",
                                    "2": "Grandma Kelly's Homestead"
                                },
                                {
                                    "0": "7",
                                    "1": "Uncle Bob's Organic Dried Pears",
                                    "2": "Grandma Kelly's Homestead"
                                },
                                {
                                    "0": "8",
                                    "1": "Northwoods Cranberry Sauce",
                                    "2": "Grandma Kelly's Homestead"
                                },
                                {
                                    "0": "9",
                                    "1": "Mishi Kobe Niku",
                                    "2": "Tokyo Traders"
                                },
                                {
                                    "0": "10",
                                    "1": "Ikura",
                                    "2": "Tokyo Traders"
                                },
                                {
                                    "0": "11",
                                    "1": "Queso Cabrales",
                                    "2": "Cooperativa de Quesos 'Las Cabras'"
                                },
                                {
                                    "0": "12",
                                    "1": "Queso Manchego La Pastora",
                                    "2": "Cooperativa de Quesos 'Las Cabras'"
                                },
                                {
                                    "0": "13",
                                    "1": "Konbu",
                                    "2": "Mayumi's"
                                },
                                {
                                    "0": "14",
                                    "1": "Tofu",
                                    "2": "Mayumi's"
                                },
                                {
                                    "0": "15",
                                    "1": "Genen Shouyu",
                                    "2": "Mayumi's"
                                },
                                {
                                    "0": "16",
                                    "1": "Pavlova",
                                    "2": "Pavlova, Ltd."
                                },
                                {
                                    "0": "17",
                                    "1": "Alice Mutton",
                                    "2": "Pavlova, Ltd."
                                },
                                {
                                    "0": "18",
                                    "1": "Carnarvon Tigers",
                                    "2": "Pavlova, Ltd."
                                },
                                {
                                    "0": "19",
                                    "1": "Teatime Chocolate Biscuits",
                                    "2": "Specialty Biscuits, Ltd."
                                },
                                {
                                    "0": "20",
                                    "1": "Sir Rodney's Marmalade",
                                    "2": "Specialty Biscuits, Ltd."
                                },
                                {
                                    "0": "21",
                                    "1": "Sir Rodney's Scones",
                                    "2": "Specialty Biscuits, Ltd."
                                },
                                {
                                    "0": "22",
                                    "1": "Gustaf's Knäckebröd",
                                    "2": "PB Knäckebröd AB"
                                },
                                {
                                    "0": "23",
                                    "1": "Tunnbröd",
                                    "2": "PB Knäckebröd AB"
                                },
                                {
                                    "0": "24",
                                    "1": "Guaraná Fantástica",
                                    "2": "Refrescos Americanas LTDA"
                                },
                                {
                                    "0": "25",
                                    "1": "NuNuCa Nuß-Nougat-Creme",
                                    "2": "Heli Süßwaren GmbH & Co. KG"
                                },
                                {
                                    "0": "26",
                                    "1": "Gumbär Gummibärchen",
                                    "2": "Heli Süßwaren GmbH & Co. KG"
                                },
                                {
                                    "0": "27",
                                    "1": "Schoggi Schokolade",
                                    "2": "Heli Süßwaren GmbH & Co. KG"
                                },
                                {
                                    "0": "28",
                                    "1": "Rössle Sauerkraut",
                                    "2": "Plutzer Lebensmittelgroßmärkte AG"
                                },
                                {
                                    "0": "29",
                                    "1": "Thüringer Rostbratwurst",
                                    "2": "Plutzer Lebensmittelgroßmärkte AG"
                                },
                                {
                                    "0": "30",
                                    "1": "Nord-Ost Matjeshering",
                                    "2": "Nord-Ost-Fisch Handelsgesellschaft mbH"
                                },
                                {
                                    "0": "31",
                                    "1": "Gorgonzola Telino",
                                    "2": "Formaggi Fortini s.r.l."
                                },
                                {
                                    "0": "32",
                                    "1": "Mascarpone Fabioli",
                                    "2": "Formaggi Fortini s.r.l."
                                },
                                {
                                    "0": "33",
                                    "1": "Geitost",
                                    "2": "Norske Meierier"
                                },
                                {
                                    "0": "34",
                                    "1": "Sasquatch Ale",
                                    "2": "Bigfoot Breweries"
                                },
                                {
                                    "0": "35",
                                    "1": "Steeleye Stout",
                                    "2": "Bigfoot Breweries"
                                },
                                {
                                    "0": "36",
                                    "1": "Inlagd Sill",
                                    "2": "Svensk Sjöföda AB"
                                },
                                {
                                    "0": "37",
                                    "1": "Gravad lax",
                                    "2": "Svensk Sjöföda AB"
                                },
                                {
                                    "0": "38",
                                    "1": "Côte de Blaye",
                                    "2": "Aux joyeux ecclésiastiques"
                                },
                                {
                                    "0": "39",
                                    "1": "Chartreuse verte",
                                    "2": "Aux joyeux ecclésiastiques"
                                },
                                {
                                    "0": "40",
                                    "1": "Boston Crab Meat",
                                    "2": "New England Seafood Cannery"
                                },
                                {
                                    "0": "41",
                                    "1": "Jack's New England Clam Chowder",
                                    "2": "New England Seafood Cannery"
                                },
                                {
                                    "0": "42",
                                    "1": "Singaporean Hokkien Fried Mee",
                                    "2": "Leka Trading"
                                },
                                {
                                    "0": "43",
                                    "1": "Ipoh Coffee",
                                    "2": "Leka Trading"
                                },
                                {
                                    "0": "44",
                                    "1": "Gula Malacca",
                                    "2": "Leka Trading"
                                },
                                {
                                    "0": "45",
                                    "1": "Rogede sild",
                                    "2": "Lyngbysild"
                                },
                                {
                                    "0": "46",
                                    "1": "Spegesild",
                                    "2": "Lyngbysild"
                                },
                                {
                                    "0": "47",
                                    "1": "Zaanse koeken",
                                    "2": "Zaanse Snoepfabriek"
                                },
                                {
                                    "0": "48",
                                    "1": "Chocolade",
                                    "2": "Zaanse Snoepfabriek"
                                },
                                {
                                    "0": "49",
                                    "1": "Maxilaku",
                                    "2": "Karkki Oy"
                                },
                                {
                                    "0": "50",
                                    "1": "Valkoinen suklaa",
                                    "2": "Karkki Oy"
                                },
                                {
                                    "0": "51",
                                    "1": "Manjimup Dried Apples",
                                    "2": "G'day, Mate"
                                },
                                {
                                    "0": "52",
                                    "1": "Filo Mix",
                                    "2": "G'day, Mate"
                                },
                                {
                                    "0": "53",
                                    "1": "Perth Pasties",
                                    "2": "G'day, Mate"
                                },
                                {
                                    "0": "54",
                                    "1": "Tourtière",
                                    "2": "Ma Maison"
                                },
                                {
                                    "0": "55",
                                    "1": "Pâté chinois",
                                    "2": "Ma Maison"
                                },
                                {
                                    "0": "56",
                                    "1": "Gnocchi di nonna Alice",
                                    "2": "Pasta Buttini s.r.l."
                                },
                                {
                                    "0": "57",
                                    "1": "Ravioli Angelo",
                                    "2": "Pasta Buttini s.r.l."
                                },
                                {
                                    "0": "58",
                                    "1": "Escargots de Bourgogne",
                                    "2": "Escargots Nouveaux"
                                },
                                {
                                    "0": "59",
                                    "1": "Raclette Courdavault",
                                    "2": "Gai pâturage"
                                },
                                {
                                    "0": "60",
                                    "1": "Camembert Pierrot",
                                    "2": "Gai pâturage"
                                },
                                {
                                    "0": "61",
                                    "1": "Sirop d'érable",
                                    "2": "Forêts d'érables"
                                },
                                {
                                    "0": "62",
                                    "1": "Tarte au sucre",
                                    "2": "Forêts d'érables"
                                },
                                {
                                    "0": "63",
                                    "1": "Vegie-spread",
                                    "2": "Pavlova, Ltd."
                                },
                                {
                                    "0": "64",
                                    "1": "Wimmers gute Semmelknödel",
                                    "2": "Plutzer Lebensmittelgroßmärkte AG"
                                },
                                {
                                    "0": "65",
                                    "1": "Louisiana Fiery Hot Pepper Sauce",
                                    "2": "New Orleans Cajun Delights"
                                },
                                {
                                    "0": "66",
                                    "1": "Louisiana Hot Spiced Okra",
                                    "2": "New Orleans Cajun Delights"
                                },
                                {
                                    "0": "67",
                                    "1": "Laughing Lumberjack Lager",
                                    "2": "Bigfoot Breweries"
                                },
                                {
                                    "0": "68",
                                    "1": "Scottish Longbreads",
                                    "2": "Specialty Biscuits, Ltd."
                                },
                                {
                                    "0": "69",
                                    "1": "Gudbrandsdalsost",
                                    "2": "Norske Meierier"
                                },
                                {
                                    "0": "70",
                                    "1": "Outback Lager",
                                    "2": "Pavlova, Ltd."
                                },
                                {
                                    "0": "71",
                                    "1": "Flotemysost",
                                    "2": "Norske Meierier"
                                },
                                {
                                    "0": "72",
                                    "1": "Mozzarella di Giovanni",
                                    "2": "Formaggi Fortini s.r.l."
                                },
                                {
                                    "0": "73",
                                    "1": "Röd Kaviar",
                                    "2": "Svensk Sjöföda AB"
                                },
                                {
                                    "0": "74",
                                    "1": "Longlife Tofu",
                                    "2": "Tokyo Traders"
                                },
                                {
                                    "0": "75",
                                    "1": "Rhönbräu Klosterbier",
                                    "2": "Plutzer Lebensmittelgroßmärkte AG"
                                },
                                {
                                    "0": "76",
                                    "1": "Lakkalikööri",
                                    "2": "Karkki Oy"
                                },
                                {
                                    "0": "77",
                                    "1": "Original Frankfurter grüne Soße",
                                    "2": "Plutzer Lebensmittelgroßmärkte AG"
                                }
                            ]
                        },
                        "text/html": "<table><tr><th>ProductID</th><th>ProductName</th><th>Supplier</th></tr><tr><td>1</td><td>Chai</td><td>Exotic Liquids</td></tr><tr><td>2</td><td>Chang</td><td>Exotic Liquids</td></tr><tr><td>3</td><td>Aniseed Syrup</td><td>Exotic Liquids</td></tr><tr><td>4</td><td>Chef Anton's Cajun Seasoning</td><td>New Orleans Cajun Delights</td></tr><tr><td>5</td><td>Chef Anton's Gumbo Mix</td><td>New Orleans Cajun Delights</td></tr><tr><td>6</td><td>Grandma's Boysenberry Spread</td><td>Grandma Kelly's Homestead</td></tr><tr><td>7</td><td>Uncle Bob's Organic Dried Pears</td><td>Grandma Kelly's Homestead</td></tr><tr><td>8</td><td>Northwoods Cranberry Sauce</td><td>Grandma Kelly's Homestead</td></tr><tr><td>9</td><td>Mishi Kobe Niku</td><td>Tokyo Traders</td></tr><tr><td>10</td><td>Ikura</td><td>Tokyo Traders</td></tr><tr><td>11</td><td>Queso Cabrales</td><td>Cooperativa de Quesos 'Las Cabras'</td></tr><tr><td>12</td><td>Queso Manchego La Pastora</td><td>Cooperativa de Quesos 'Las Cabras'</td></tr><tr><td>13</td><td>Konbu</td><td>Mayumi's</td></tr><tr><td>14</td><td>Tofu</td><td>Mayumi's</td></tr><tr><td>15</td><td>Genen Shouyu</td><td>Mayumi's</td></tr><tr><td>16</td><td>Pavlova</td><td>Pavlova, Ltd.</td></tr><tr><td>17</td><td>Alice Mutton</td><td>Pavlova, Ltd.</td></tr><tr><td>18</td><td>Carnarvon Tigers</td><td>Pavlova, Ltd.</td></tr><tr><td>19</td><td>Teatime Chocolate Biscuits</td><td>Specialty Biscuits, Ltd.</td></tr><tr><td>20</td><td>Sir Rodney's Marmalade</td><td>Specialty Biscuits, Ltd.</td></tr><tr><td>21</td><td>Sir Rodney's Scones</td><td>Specialty Biscuits, Ltd.</td></tr><tr><td>22</td><td>Gustaf's Knäckebröd</td><td>PB Knäckebröd AB</td></tr><tr><td>23</td><td>Tunnbröd</td><td>PB Knäckebröd AB</td></tr><tr><td>24</td><td>Guaraná Fantástica</td><td>Refrescos Americanas LTDA</td></tr><tr><td>25</td><td>NuNuCa Nuß-Nougat-Creme</td><td>Heli Süßwaren GmbH &amp; Co. KG</td></tr><tr><td>26</td><td>Gumbär Gummibärchen</td><td>Heli Süßwaren GmbH &amp; Co. KG</td></tr><tr><td>27</td><td>Schoggi Schokolade</td><td>Heli Süßwaren GmbH &amp; Co. KG</td></tr><tr><td>28</td><td>Rössle Sauerkraut</td><td>Plutzer Lebensmittelgroßmärkte AG</td></tr><tr><td>29</td><td>Thüringer Rostbratwurst</td><td>Plutzer Lebensmittelgroßmärkte AG</td></tr><tr><td>30</td><td>Nord-Ost Matjeshering</td><td>Nord-Ost-Fisch Handelsgesellschaft mbH</td></tr><tr><td>31</td><td>Gorgonzola Telino</td><td>Formaggi Fortini s.r.l.</td></tr><tr><td>32</td><td>Mascarpone Fabioli</td><td>Formaggi Fortini s.r.l.</td></tr><tr><td>33</td><td>Geitost</td><td>Norske Meierier</td></tr><tr><td>34</td><td>Sasquatch Ale</td><td>Bigfoot Breweries</td></tr><tr><td>35</td><td>Steeleye Stout</td><td>Bigfoot Breweries</td></tr><tr><td>36</td><td>Inlagd Sill</td><td>Svensk Sjöföda AB</td></tr><tr><td>37</td><td>Gravad lax</td><td>Svensk Sjöföda AB</td></tr><tr><td>38</td><td>Côte de Blaye</td><td>Aux joyeux ecclésiastiques</td></tr><tr><td>39</td><td>Chartreuse verte</td><td>Aux joyeux ecclésiastiques</td></tr><tr><td>40</td><td>Boston Crab Meat</td><td>New England Seafood Cannery</td></tr><tr><td>41</td><td>Jack's New England Clam Chowder</td><td>New England Seafood Cannery</td></tr><tr><td>42</td><td>Singaporean Hokkien Fried Mee</td><td>Leka Trading</td></tr><tr><td>43</td><td>Ipoh Coffee</td><td>Leka Trading</td></tr><tr><td>44</td><td>Gula Malacca</td><td>Leka Trading</td></tr><tr><td>45</td><td>Rogede sild</td><td>Lyngbysild</td></tr><tr><td>46</td><td>Spegesild</td><td>Lyngbysild</td></tr><tr><td>47</td><td>Zaanse koeken</td><td>Zaanse Snoepfabriek</td></tr><tr><td>48</td><td>Chocolade</td><td>Zaanse Snoepfabriek</td></tr><tr><td>49</td><td>Maxilaku</td><td>Karkki Oy</td></tr><tr><td>50</td><td>Valkoinen suklaa</td><td>Karkki Oy</td></tr><tr><td>51</td><td>Manjimup Dried Apples</td><td>G'day, Mate</td></tr><tr><td>52</td><td>Filo Mix</td><td>G'day, Mate</td></tr><tr><td>53</td><td>Perth Pasties</td><td>G'day, Mate</td></tr><tr><td>54</td><td>Tourtière</td><td>Ma Maison</td></tr><tr><td>55</td><td>Pâté chinois</td><td>Ma Maison</td></tr><tr><td>56</td><td>Gnocchi di nonna Alice</td><td>Pasta Buttini s.r.l.</td></tr><tr><td>57</td><td>Ravioli Angelo</td><td>Pasta Buttini s.r.l.</td></tr><tr><td>58</td><td>Escargots de Bourgogne</td><td>Escargots Nouveaux</td></tr><tr><td>59</td><td>Raclette Courdavault</td><td>Gai pâturage</td></tr><tr><td>60</td><td>Camembert Pierrot</td><td>Gai pâturage</td></tr><tr><td>61</td><td>Sirop d'érable</td><td>Forêts d'érables</td></tr><tr><td>62</td><td>Tarte au sucre</td><td>Forêts d'érables</td></tr><tr><td>63</td><td>Vegie-spread</td><td>Pavlova, Ltd.</td></tr><tr><td>64</td><td>Wimmers gute Semmelknödel</td><td>Plutzer Lebensmittelgroßmärkte AG</td></tr><tr><td>65</td><td>Louisiana Fiery Hot Pepper Sauce</td><td>New Orleans Cajun Delights</td></tr><tr><td>66</td><td>Louisiana Hot Spiced Okra</td><td>New Orleans Cajun Delights</td></tr><tr><td>67</td><td>Laughing Lumberjack Lager</td><td>Bigfoot Breweries</td></tr><tr><td>68</td><td>Scottish Longbreads</td><td>Specialty Biscuits, Ltd.</td></tr><tr><td>69</td><td>Gudbrandsdalsost</td><td>Norske Meierier</td></tr><tr><td>70</td><td>Outback Lager</td><td>Pavlova, Ltd.</td></tr><tr><td>71</td><td>Flotemysost</td><td>Norske Meierier</td></tr><tr><td>72</td><td>Mozzarella di Giovanni</td><td>Formaggi Fortini s.r.l.</td></tr><tr><td>73</td><td>Röd Kaviar</td><td>Svensk Sjöföda AB</td></tr><tr><td>74</td><td>Longlife Tofu</td><td>Tokyo Traders</td></tr><tr><td>75</td><td>Rhönbräu Klosterbier</td><td>Plutzer Lebensmittelgroßmärkte AG</td></tr><tr><td>76</td><td>Lakkalikööri</td><td>Karkki Oy</td></tr><tr><td>77</td><td>Original Frankfurter grüne Soße</td><td>Plutzer Lebensmittelgroßmärkte AG</td></tr></table>"
                    },
                    "metadata": {}
                }
            ],
            "execution_count": 26
        },
        {
            "cell_type": "markdown",
            "source": [
                "### 19\\. Orders and the shipper was used\n",
                "\n",
                "Show a list of Orders that were made, including the shipper that was used. Show the OrderID, OrderDate (date only), and CompanyName of the shipper, and sort by OrderID."
            ],
            "metadata": {
                "language": "sql",
                "azdata_cell_guid": "8865c8d9-8a17-4201-95fe-c75b86aa56a3"
            },
            "attachments": {}
        },
        {
            "cell_type": "code",
            "source": [
                "--Selecting top 100 to limit results\r\n",
                "SELECT TOP(100) OrderID, CAST(OrderDate AS DATE) AS OrderDate, CompanyName AS Shipper\r\n",
                "FROM Orders AS O\r\n",
                "    INNER JOIN Shippers AS S\r\n",
                "        ON O.ShipVia = S.ShipperID\r\n",
                "ORDER BY OrderID;"
            ],
            "metadata": {
                "language": "sql",
                "azdata_cell_guid": "6cc2dd53-78f0-46d8-b4ce-defc8bb8f192"
            },
            "outputs": [
                {
                    "output_type": "display_data",
                    "data": {
                        "text/html": "(100 rows affected)"
                    },
                    "metadata": {}
                },
                {
                    "output_type": "display_data",
                    "data": {
                        "text/html": "Total execution time: 00:00:00.035"
                    },
                    "metadata": {}
                },
                {
                    "output_type": "execute_result",
                    "metadata": {},
                    "execution_count": 2,
                    "data": {
                        "application/vnd.dataresource+json": {
                            "schema": {
                                "fields": [
                                    {
                                        "name": "OrderID"
                                    },
                                    {
                                        "name": "OrderDate"
                                    },
                                    {
                                        "name": "Shipper"
                                    }
                                ]
                            },
                            "data": [
                                {
                                    "0": "10248",
                                    "1": "2014-07-04",
                                    "2": "Federal Shipping"
                                },
                                {
                                    "0": "10249",
                                    "1": "2014-07-05",
                                    "2": "Speedy Express"
                                },
                                {
                                    "0": "10250",
                                    "1": "2014-07-08",
                                    "2": "United Package"
                                },
                                {
                                    "0": "10251",
                                    "1": "2014-07-08",
                                    "2": "Speedy Express"
                                },
                                {
                                    "0": "10252",
                                    "1": "2014-07-09",
                                    "2": "United Package"
                                },
                                {
                                    "0": "10253",
                                    "1": "2014-07-10",
                                    "2": "United Package"
                                },
                                {
                                    "0": "10254",
                                    "1": "2014-07-11",
                                    "2": "United Package"
                                },
                                {
                                    "0": "10255",
                                    "1": "2014-07-12",
                                    "2": "Federal Shipping"
                                },
                                {
                                    "0": "10256",
                                    "1": "2014-07-15",
                                    "2": "United Package"
                                },
                                {
                                    "0": "10257",
                                    "1": "2014-07-16",
                                    "2": "Federal Shipping"
                                },
                                {
                                    "0": "10258",
                                    "1": "2014-07-17",
                                    "2": "Speedy Express"
                                },
                                {
                                    "0": "10259",
                                    "1": "2014-07-18",
                                    "2": "Federal Shipping"
                                },
                                {
                                    "0": "10260",
                                    "1": "2014-07-19",
                                    "2": "Speedy Express"
                                },
                                {
                                    "0": "10261",
                                    "1": "2014-07-19",
                                    "2": "United Package"
                                },
                                {
                                    "0": "10262",
                                    "1": "2014-07-22",
                                    "2": "Federal Shipping"
                                },
                                {
                                    "0": "10263",
                                    "1": "2014-07-23",
                                    "2": "Federal Shipping"
                                },
                                {
                                    "0": "10264",
                                    "1": "2014-07-24",
                                    "2": "Federal Shipping"
                                },
                                {
                                    "0": "10265",
                                    "1": "2014-07-25",
                                    "2": "Speedy Express"
                                },
                                {
                                    "0": "10266",
                                    "1": "2014-07-26",
                                    "2": "Federal Shipping"
                                },
                                {
                                    "0": "10267",
                                    "1": "2014-07-29",
                                    "2": "Speedy Express"
                                },
                                {
                                    "0": "10268",
                                    "1": "2014-07-30",
                                    "2": "Federal Shipping"
                                },
                                {
                                    "0": "10269",
                                    "1": "2014-07-31",
                                    "2": "Speedy Express"
                                },
                                {
                                    "0": "10270",
                                    "1": "2014-08-01",
                                    "2": "Speedy Express"
                                },
                                {
                                    "0": "10271",
                                    "1": "2014-08-01",
                                    "2": "United Package"
                                },
                                {
                                    "0": "10272",
                                    "1": "2014-08-02",
                                    "2": "United Package"
                                },
                                {
                                    "0": "10273",
                                    "1": "2014-08-05",
                                    "2": "Federal Shipping"
                                },
                                {
                                    "0": "10274",
                                    "1": "2014-08-06",
                                    "2": "Speedy Express"
                                },
                                {
                                    "0": "10275",
                                    "1": "2014-08-07",
                                    "2": "Speedy Express"
                                },
                                {
                                    "0": "10276",
                                    "1": "2014-08-08",
                                    "2": "Federal Shipping"
                                },
                                {
                                    "0": "10277",
                                    "1": "2014-08-09",
                                    "2": "Federal Shipping"
                                },
                                {
                                    "0": "10278",
                                    "1": "2014-08-12",
                                    "2": "United Package"
                                },
                                {
                                    "0": "10279",
                                    "1": "2014-08-13",
                                    "2": "United Package"
                                },
                                {
                                    "0": "10280",
                                    "1": "2014-08-14",
                                    "2": "Speedy Express"
                                },
                                {
                                    "0": "10281",
                                    "1": "2014-08-14",
                                    "2": "Speedy Express"
                                },
                                {
                                    "0": "10282",
                                    "1": "2014-08-15",
                                    "2": "Speedy Express"
                                },
                                {
                                    "0": "10283",
                                    "1": "2014-08-16",
                                    "2": "Federal Shipping"
                                },
                                {
                                    "0": "10284",
                                    "1": "2014-08-19",
                                    "2": "Speedy Express"
                                },
                                {
                                    "0": "10285",
                                    "1": "2014-08-20",
                                    "2": "United Package"
                                },
                                {
                                    "0": "10286",
                                    "1": "2014-08-21",
                                    "2": "Federal Shipping"
                                },
                                {
                                    "0": "10287",
                                    "1": "2014-08-22",
                                    "2": "Federal Shipping"
                                },
                                {
                                    "0": "10288",
                                    "1": "2014-08-23",
                                    "2": "Speedy Express"
                                },
                                {
                                    "0": "10289",
                                    "1": "2014-08-26",
                                    "2": "Federal Shipping"
                                },
                                {
                                    "0": "10290",
                                    "1": "2014-08-27",
                                    "2": "Speedy Express"
                                },
                                {
                                    "0": "10291",
                                    "1": "2014-08-27",
                                    "2": "United Package"
                                },
                                {
                                    "0": "10292",
                                    "1": "2014-08-28",
                                    "2": "United Package"
                                },
                                {
                                    "0": "10293",
                                    "1": "2014-08-29",
                                    "2": "Federal Shipping"
                                },
                                {
                                    "0": "10294",
                                    "1": "2014-08-30",
                                    "2": "United Package"
                                },
                                {
                                    "0": "10295",
                                    "1": "2014-09-02",
                                    "2": "United Package"
                                },
                                {
                                    "0": "10296",
                                    "1": "2014-09-03",
                                    "2": "Speedy Express"
                                },
                                {
                                    "0": "10297",
                                    "1": "2014-09-04",
                                    "2": "United Package"
                                },
                                {
                                    "0": "10298",
                                    "1": "2014-09-05",
                                    "2": "United Package"
                                },
                                {
                                    "0": "10299",
                                    "1": "2014-09-06",
                                    "2": "United Package"
                                },
                                {
                                    "0": "10300",
                                    "1": "2014-09-09",
                                    "2": "United Package"
                                },
                                {
                                    "0": "10301",
                                    "1": "2014-09-09",
                                    "2": "United Package"
                                },
                                {
                                    "0": "10302",
                                    "1": "2014-09-10",
                                    "2": "United Package"
                                },
                                {
                                    "0": "10303",
                                    "1": "2014-09-11",
                                    "2": "United Package"
                                },
                                {
                                    "0": "10304",
                                    "1": "2014-09-12",
                                    "2": "United Package"
                                },
                                {
                                    "0": "10305",
                                    "1": "2014-09-13",
                                    "2": "Federal Shipping"
                                },
                                {
                                    "0": "10306",
                                    "1": "2014-09-16",
                                    "2": "Federal Shipping"
                                },
                                {
                                    "0": "10307",
                                    "1": "2014-09-17",
                                    "2": "United Package"
                                },
                                {
                                    "0": "10308",
                                    "1": "2014-09-18",
                                    "2": "Federal Shipping"
                                },
                                {
                                    "0": "10309",
                                    "1": "2014-09-19",
                                    "2": "Speedy Express"
                                },
                                {
                                    "0": "10310",
                                    "1": "2014-09-20",
                                    "2": "United Package"
                                },
                                {
                                    "0": "10311",
                                    "1": "2014-09-20",
                                    "2": "Federal Shipping"
                                },
                                {
                                    "0": "10312",
                                    "1": "2014-09-23",
                                    "2": "United Package"
                                },
                                {
                                    "0": "10313",
                                    "1": "2014-09-24",
                                    "2": "United Package"
                                },
                                {
                                    "0": "10314",
                                    "1": "2014-09-25",
                                    "2": "United Package"
                                },
                                {
                                    "0": "10315",
                                    "1": "2014-09-26",
                                    "2": "United Package"
                                },
                                {
                                    "0": "10316",
                                    "1": "2014-09-27",
                                    "2": "Federal Shipping"
                                },
                                {
                                    "0": "10317",
                                    "1": "2014-09-30",
                                    "2": "Speedy Express"
                                },
                                {
                                    "0": "10318",
                                    "1": "2014-10-01",
                                    "2": "United Package"
                                },
                                {
                                    "0": "10319",
                                    "1": "2014-10-02",
                                    "2": "Federal Shipping"
                                },
                                {
                                    "0": "10320",
                                    "1": "2014-10-03",
                                    "2": "Federal Shipping"
                                },
                                {
                                    "0": "10321",
                                    "1": "2014-10-03",
                                    "2": "United Package"
                                },
                                {
                                    "0": "10322",
                                    "1": "2014-10-04",
                                    "2": "Federal Shipping"
                                },
                                {
                                    "0": "10323",
                                    "1": "2014-10-07",
                                    "2": "Speedy Express"
                                },
                                {
                                    "0": "10324",
                                    "1": "2014-10-08",
                                    "2": "Speedy Express"
                                },
                                {
                                    "0": "10325",
                                    "1": "2014-10-09",
                                    "2": "Federal Shipping"
                                },
                                {
                                    "0": "10326",
                                    "1": "2014-10-10",
                                    "2": "United Package"
                                },
                                {
                                    "0": "10327",
                                    "1": "2014-10-11",
                                    "2": "Speedy Express"
                                },
                                {
                                    "0": "10328",
                                    "1": "2014-10-14",
                                    "2": "Federal Shipping"
                                },
                                {
                                    "0": "10329",
                                    "1": "2014-10-15",
                                    "2": "United Package"
                                },
                                {
                                    "0": "10330",
                                    "1": "2014-10-16",
                                    "2": "Speedy Express"
                                },
                                {
                                    "0": "10331",
                                    "1": "2014-10-16",
                                    "2": "Speedy Express"
                                },
                                {
                                    "0": "10332",
                                    "1": "2014-10-17",
                                    "2": "United Package"
                                },
                                {
                                    "0": "10333",
                                    "1": "2014-10-18",
                                    "2": "Federal Shipping"
                                },
                                {
                                    "0": "10334",
                                    "1": "2014-10-21",
                                    "2": "United Package"
                                },
                                {
                                    "0": "10335",
                                    "1": "2014-10-22",
                                    "2": "United Package"
                                },
                                {
                                    "0": "10336",
                                    "1": "2014-10-23",
                                    "2": "United Package"
                                },
                                {
                                    "0": "10337",
                                    "1": "2014-10-24",
                                    "2": "Federal Shipping"
                                },
                                {
                                    "0": "10338",
                                    "1": "2014-10-25",
                                    "2": "Federal Shipping"
                                },
                                {
                                    "0": "10339",
                                    "1": "2014-10-28",
                                    "2": "United Package"
                                },
                                {
                                    "0": "10340",
                                    "1": "2014-10-29",
                                    "2": "Federal Shipping"
                                },
                                {
                                    "0": "10341",
                                    "1": "2014-10-29",
                                    "2": "Federal Shipping"
                                },
                                {
                                    "0": "10342",
                                    "1": "2014-10-30",
                                    "2": "United Package"
                                },
                                {
                                    "0": "10343",
                                    "1": "2014-10-31",
                                    "2": "Speedy Express"
                                },
                                {
                                    "0": "10344",
                                    "1": "2014-11-01",
                                    "2": "United Package"
                                },
                                {
                                    "0": "10345",
                                    "1": "2014-11-04",
                                    "2": "United Package"
                                },
                                {
                                    "0": "10346",
                                    "1": "2014-11-05",
                                    "2": "Federal Shipping"
                                },
                                {
                                    "0": "10347",
                                    "1": "2014-11-06",
                                    "2": "Federal Shipping"
                                }
                            ]
                        },
                        "text/html": [
                            "<table>",
                            "<tr><th>OrderID</th><th>OrderDate</th><th>Shipper</th></tr>",
                            "<tr><td>10248</td><td>2014-07-04</td><td>Federal Shipping</td></tr>",
                            "<tr><td>10249</td><td>2014-07-05</td><td>Speedy Express</td></tr>",
                            "<tr><td>10250</td><td>2014-07-08</td><td>United Package</td></tr>",
                            "<tr><td>10251</td><td>2014-07-08</td><td>Speedy Express</td></tr>",
                            "<tr><td>10252</td><td>2014-07-09</td><td>United Package</td></tr>",
                            "<tr><td>10253</td><td>2014-07-10</td><td>United Package</td></tr>",
                            "<tr><td>10254</td><td>2014-07-11</td><td>United Package</td></tr>",
                            "<tr><td>10255</td><td>2014-07-12</td><td>Federal Shipping</td></tr>",
                            "<tr><td>10256</td><td>2014-07-15</td><td>United Package</td></tr>",
                            "<tr><td>10257</td><td>2014-07-16</td><td>Federal Shipping</td></tr>",
                            "<tr><td>10258</td><td>2014-07-17</td><td>Speedy Express</td></tr>",
                            "<tr><td>10259</td><td>2014-07-18</td><td>Federal Shipping</td></tr>",
                            "<tr><td>10260</td><td>2014-07-19</td><td>Speedy Express</td></tr>",
                            "<tr><td>10261</td><td>2014-07-19</td><td>United Package</td></tr>",
                            "<tr><td>10262</td><td>2014-07-22</td><td>Federal Shipping</td></tr>",
                            "<tr><td>10263</td><td>2014-07-23</td><td>Federal Shipping</td></tr>",
                            "<tr><td>10264</td><td>2014-07-24</td><td>Federal Shipping</td></tr>",
                            "<tr><td>10265</td><td>2014-07-25</td><td>Speedy Express</td></tr>",
                            "<tr><td>10266</td><td>2014-07-26</td><td>Federal Shipping</td></tr>",
                            "<tr><td>10267</td><td>2014-07-29</td><td>Speedy Express</td></tr>",
                            "<tr><td>10268</td><td>2014-07-30</td><td>Federal Shipping</td></tr>",
                            "<tr><td>10269</td><td>2014-07-31</td><td>Speedy Express</td></tr>",
                            "<tr><td>10270</td><td>2014-08-01</td><td>Speedy Express</td></tr>",
                            "<tr><td>10271</td><td>2014-08-01</td><td>United Package</td></tr>",
                            "<tr><td>10272</td><td>2014-08-02</td><td>United Package</td></tr>",
                            "<tr><td>10273</td><td>2014-08-05</td><td>Federal Shipping</td></tr>",
                            "<tr><td>10274</td><td>2014-08-06</td><td>Speedy Express</td></tr>",
                            "<tr><td>10275</td><td>2014-08-07</td><td>Speedy Express</td></tr>",
                            "<tr><td>10276</td><td>2014-08-08</td><td>Federal Shipping</td></tr>",
                            "<tr><td>10277</td><td>2014-08-09</td><td>Federal Shipping</td></tr>",
                            "<tr><td>10278</td><td>2014-08-12</td><td>United Package</td></tr>",
                            "<tr><td>10279</td><td>2014-08-13</td><td>United Package</td></tr>",
                            "<tr><td>10280</td><td>2014-08-14</td><td>Speedy Express</td></tr>",
                            "<tr><td>10281</td><td>2014-08-14</td><td>Speedy Express</td></tr>",
                            "<tr><td>10282</td><td>2014-08-15</td><td>Speedy Express</td></tr>",
                            "<tr><td>10283</td><td>2014-08-16</td><td>Federal Shipping</td></tr>",
                            "<tr><td>10284</td><td>2014-08-19</td><td>Speedy Express</td></tr>",
                            "<tr><td>10285</td><td>2014-08-20</td><td>United Package</td></tr>",
                            "<tr><td>10286</td><td>2014-08-21</td><td>Federal Shipping</td></tr>",
                            "<tr><td>10287</td><td>2014-08-22</td><td>Federal Shipping</td></tr>",
                            "<tr><td>10288</td><td>2014-08-23</td><td>Speedy Express</td></tr>",
                            "<tr><td>10289</td><td>2014-08-26</td><td>Federal Shipping</td></tr>",
                            "<tr><td>10290</td><td>2014-08-27</td><td>Speedy Express</td></tr>",
                            "<tr><td>10291</td><td>2014-08-27</td><td>United Package</td></tr>",
                            "<tr><td>10292</td><td>2014-08-28</td><td>United Package</td></tr>",
                            "<tr><td>10293</td><td>2014-08-29</td><td>Federal Shipping</td></tr>",
                            "<tr><td>10294</td><td>2014-08-30</td><td>United Package</td></tr>",
                            "<tr><td>10295</td><td>2014-09-02</td><td>United Package</td></tr>",
                            "<tr><td>10296</td><td>2014-09-03</td><td>Speedy Express</td></tr>",
                            "<tr><td>10297</td><td>2014-09-04</td><td>United Package</td></tr>",
                            "<tr><td>10298</td><td>2014-09-05</td><td>United Package</td></tr>",
                            "<tr><td>10299</td><td>2014-09-06</td><td>United Package</td></tr>",
                            "<tr><td>10300</td><td>2014-09-09</td><td>United Package</td></tr>",
                            "<tr><td>10301</td><td>2014-09-09</td><td>United Package</td></tr>",
                            "<tr><td>10302</td><td>2014-09-10</td><td>United Package</td></tr>",
                            "<tr><td>10303</td><td>2014-09-11</td><td>United Package</td></tr>",
                            "<tr><td>10304</td><td>2014-09-12</td><td>United Package</td></tr>",
                            "<tr><td>10305</td><td>2014-09-13</td><td>Federal Shipping</td></tr>",
                            "<tr><td>10306</td><td>2014-09-16</td><td>Federal Shipping</td></tr>",
                            "<tr><td>10307</td><td>2014-09-17</td><td>United Package</td></tr>",
                            "<tr><td>10308</td><td>2014-09-18</td><td>Federal Shipping</td></tr>",
                            "<tr><td>10309</td><td>2014-09-19</td><td>Speedy Express</td></tr>",
                            "<tr><td>10310</td><td>2014-09-20</td><td>United Package</td></tr>",
                            "<tr><td>10311</td><td>2014-09-20</td><td>Federal Shipping</td></tr>",
                            "<tr><td>10312</td><td>2014-09-23</td><td>United Package</td></tr>",
                            "<tr><td>10313</td><td>2014-09-24</td><td>United Package</td></tr>",
                            "<tr><td>10314</td><td>2014-09-25</td><td>United Package</td></tr>",
                            "<tr><td>10315</td><td>2014-09-26</td><td>United Package</td></tr>",
                            "<tr><td>10316</td><td>2014-09-27</td><td>Federal Shipping</td></tr>",
                            "<tr><td>10317</td><td>2014-09-30</td><td>Speedy Express</td></tr>",
                            "<tr><td>10318</td><td>2014-10-01</td><td>United Package</td></tr>",
                            "<tr><td>10319</td><td>2014-10-02</td><td>Federal Shipping</td></tr>",
                            "<tr><td>10320</td><td>2014-10-03</td><td>Federal Shipping</td></tr>",
                            "<tr><td>10321</td><td>2014-10-03</td><td>United Package</td></tr>",
                            "<tr><td>10322</td><td>2014-10-04</td><td>Federal Shipping</td></tr>",
                            "<tr><td>10323</td><td>2014-10-07</td><td>Speedy Express</td></tr>",
                            "<tr><td>10324</td><td>2014-10-08</td><td>Speedy Express</td></tr>",
                            "<tr><td>10325</td><td>2014-10-09</td><td>Federal Shipping</td></tr>",
                            "<tr><td>10326</td><td>2014-10-10</td><td>United Package</td></tr>",
                            "<tr><td>10327</td><td>2014-10-11</td><td>Speedy Express</td></tr>",
                            "<tr><td>10328</td><td>2014-10-14</td><td>Federal Shipping</td></tr>",
                            "<tr><td>10329</td><td>2014-10-15</td><td>United Package</td></tr>",
                            "<tr><td>10330</td><td>2014-10-16</td><td>Speedy Express</td></tr>",
                            "<tr><td>10331</td><td>2014-10-16</td><td>Speedy Express</td></tr>",
                            "<tr><td>10332</td><td>2014-10-17</td><td>United Package</td></tr>",
                            "<tr><td>10333</td><td>2014-10-18</td><td>Federal Shipping</td></tr>",
                            "<tr><td>10334</td><td>2014-10-21</td><td>United Package</td></tr>",
                            "<tr><td>10335</td><td>2014-10-22</td><td>United Package</td></tr>",
                            "<tr><td>10336</td><td>2014-10-23</td><td>United Package</td></tr>",
                            "<tr><td>10337</td><td>2014-10-24</td><td>Federal Shipping</td></tr>",
                            "<tr><td>10338</td><td>2014-10-25</td><td>Federal Shipping</td></tr>",
                            "<tr><td>10339</td><td>2014-10-28</td><td>United Package</td></tr>",
                            "<tr><td>10340</td><td>2014-10-29</td><td>Federal Shipping</td></tr>",
                            "<tr><td>10341</td><td>2014-10-29</td><td>Federal Shipping</td></tr>",
                            "<tr><td>10342</td><td>2014-10-30</td><td>United Package</td></tr>",
                            "<tr><td>10343</td><td>2014-10-31</td><td>Speedy Express</td></tr>",
                            "<tr><td>10344</td><td>2014-11-01</td><td>United Package</td></tr>",
                            "<tr><td>10345</td><td>2014-11-04</td><td>United Package</td></tr>",
                            "<tr><td>10346</td><td>2014-11-05</td><td>Federal Shipping</td></tr>",
                            "<tr><td>10347</td><td>2014-11-06</td><td>Federal Shipping</td></tr>",
                            "</table>"
                        ]
                    }
                }
            ],
            "execution_count": 2
        },
        {
            "cell_type": "markdown",
            "source": [
                ""
            ],
            "metadata": {
                "language": "sql",
                "azdata_cell_guid": "f93ef947-314d-4c9b-933a-0c9c92cdac74"
            }
        }
    ]
}