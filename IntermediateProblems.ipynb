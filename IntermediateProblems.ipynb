{
    "metadata": {
        "kernelspec": {
            "name": "SQL",
            "display_name": "SQL",
            "language": "sql"
        },
        "language_info": {
            "name": "sql",
            "version": ""
        }
    },
    "nbformat_minor": 2,
    "nbformat": 4,
    "cells": [
        {
            "cell_type": "markdown",
            "source": [
                "## Intermediate Problems"
            ],
            "metadata": {
                "azdata_cell_guid": "e5aa9c37-4c2d-470a-a90a-ac3b1d56a864"
            },
            "attachments": {}
        },
        {
            "cell_type": "markdown",
            "source": [
                "### 1\\. Categories, and the total products in each category\n",
                "\n",
                "Show the total number of products in each category. Sort the results by the total number of products, in descending order."
            ],
            "metadata": {
                "azdata_cell_guid": "9aa1a582-decb-47a0-aa2c-476217a34f9e"
            },
            "attachments": {}
        },
        {
            "cell_type": "code",
            "source": [
                "SELECT CategoryName, COUNT(ProductID) AS TotalProducts\r\n",
                "FROM Categories AS C\r\n",
                "    INNER JOIN Products AS P\r\n",
                "        ON C.CategoryID = P.CategoryID\r\n",
                "GROUP BY CategoryName\r\n",
                "ORDER BY TotalProducts DESC;"
            ],
            "metadata": {
                "azdata_cell_guid": "06433c59-0222-4523-81d2-e5cd324c9ffd",
                "language": "sql",
                "tags": []
            },
            "outputs": [
                {
                    "output_type": "display_data",
                    "data": {
                        "text/html": "(8 rows affected)"
                    },
                    "metadata": {}
                },
                {
                    "output_type": "display_data",
                    "data": {
                        "text/html": "Total execution time: 00:00:00.012"
                    },
                    "metadata": {}
                },
                {
                    "output_type": "execute_result",
                    "execution_count": 42,
                    "data": {
                        "application/vnd.dataresource+json": {
                            "schema": {
                                "fields": [
                                    {
                                        "name": "CategoryName"
                                    },
                                    {
                                        "name": "TotalProducts"
                                    }
                                ]
                            },
                            "data": [
                                {
                                    "0": "Confections",
                                    "1": "13"
                                },
                                {
                                    "0": "Beverages",
                                    "1": "12"
                                },
                                {
                                    "0": "Condiments",
                                    "1": "12"
                                },
                                {
                                    "0": "Seafood",
                                    "1": "12"
                                },
                                {
                                    "0": "Dairy Products",
                                    "1": "10"
                                },
                                {
                                    "0": "Grains/Cereals",
                                    "1": "7"
                                },
                                {
                                    "0": "Meat/Poultry",
                                    "1": "6"
                                },
                                {
                                    "0": "Produce",
                                    "1": "5"
                                }
                            ]
                        },
                        "text/html": "<table><tr><th>CategoryName</th><th>TotalProducts</th></tr><tr><td>Confections</td><td>13</td></tr><tr><td>Beverages</td><td>12</td></tr><tr><td>Condiments</td><td>12</td></tr><tr><td>Seafood</td><td>12</td></tr><tr><td>Dairy Products</td><td>10</td></tr><tr><td>Grains/Cereals</td><td>7</td></tr><tr><td>Meat/Poultry</td><td>6</td></tr><tr><td>Produce</td><td>5</td></tr></table>"
                    },
                    "metadata": {}
                }
            ],
            "execution_count": 42
        },
        {
            "cell_type": "markdown",
            "source": [
                "### 2\\. Total customers per country/city\n",
                "\n",
                "In the Customers table, show the total number of customers per Country and City."
            ],
            "metadata": {
                "language": "sql",
                "azdata_cell_guid": "04ae6d7a-95b3-46bc-ae16-57244a329750"
            },
            "attachments": {}
        },
        {
            "cell_type": "code",
            "source": [
                "SELECT Country, City, COUNT(CustomerID) AS TotalCustomers\r\n",
                "FROM Customers\r\n",
                "GROUP BY Country, City\r\n",
                "ORDER BY TotalCustomers DESC;"
            ],
            "metadata": {
                "language": "sql",
                "azdata_cell_guid": "257e2444-14d9-43bc-8994-29af74ecb1f0"
            },
            "outputs": [
                {
                    "output_type": "display_data",
                    "data": {
                        "text/html": "(69 rows affected)"
                    },
                    "metadata": {}
                },
                {
                    "output_type": "display_data",
                    "data": {
                        "text/html": "Total execution time: 00:00:00.016"
                    },
                    "metadata": {}
                },
                {
                    "output_type": "execute_result",
                    "execution_count": 11,
                    "data": {
                        "application/vnd.dataresource+json": {
                            "schema": {
                                "fields": [
                                    {
                                        "name": "Country"
                                    },
                                    {
                                        "name": "City"
                                    },
                                    {
                                        "name": "TotalCustomers"
                                    }
                                ]
                            },
                            "data": [
                                {
                                    "0": "UK",
                                    "1": "London",
                                    "2": "6"
                                },
                                {
                                    "0": "Mexico",
                                    "1": "México D.F.",
                                    "2": "5"
                                },
                                {
                                    "0": "Brazil",
                                    "1": "Sao Paulo",
                                    "2": "4"
                                },
                                {
                                    "0": "Brazil",
                                    "1": "Rio de Janeiro",
                                    "2": "3"
                                },
                                {
                                    "0": "Spain",
                                    "1": "Madrid",
                                    "2": "3"
                                },
                                {
                                    "0": "Argentina",
                                    "1": "Buenos Aires",
                                    "2": "3"
                                },
                                {
                                    "0": "France",
                                    "1": "Paris",
                                    "2": "2"
                                },
                                {
                                    "0": "USA",
                                    "1": "Portland",
                                    "2": "2"
                                },
                                {
                                    "0": "France",
                                    "1": "Nantes",
                                    "2": "2"
                                },
                                {
                                    "0": "Portugal",
                                    "1": "Lisboa",
                                    "2": "2"
                                },
                                {
                                    "0": "Finland",
                                    "1": "Oulu",
                                    "2": "1"
                                },
                                {
                                    "0": "Italy",
                                    "1": "Reggio Emilia",
                                    "2": "1"
                                },
                                {
                                    "0": "France",
                                    "1": "Reims",
                                    "2": "1"
                                },
                                {
                                    "0": "Brazil",
                                    "1": "Resende",
                                    "2": "1"
                                },
                                {
                                    "0": "Austria",
                                    "1": "Salzburg",
                                    "2": "1"
                                },
                                {
                                    "0": "Venezuela",
                                    "1": "San Cristóbal",
                                    "2": "1"
                                },
                                {
                                    "0": "USA",
                                    "1": "San Francisco",
                                    "2": "1"
                                },
                                {
                                    "0": "USA",
                                    "1": "Seattle",
                                    "2": "1"
                                },
                                {
                                    "0": "Spain",
                                    "1": "Sevilla",
                                    "2": "1"
                                },
                                {
                                    "0": "Norway",
                                    "1": "Stavern",
                                    "2": "1"
                                },
                                {
                                    "0": "France",
                                    "1": "Strasbourg",
                                    "2": "1"
                                },
                                {
                                    "0": "Germany",
                                    "1": "Stuttgart",
                                    "2": "1"
                                },
                                {
                                    "0": "Italy",
                                    "1": "Torino",
                                    "2": "1"
                                },
                                {
                                    "0": "France",
                                    "1": "Toulouse",
                                    "2": "1"
                                },
                                {
                                    "0": "Canada",
                                    "1": "Tsawassen",
                                    "2": "1"
                                },
                                {
                                    "0": "Canada",
                                    "1": "Vancouver",
                                    "2": "1"
                                },
                                {
                                    "0": "France",
                                    "1": "Versailles",
                                    "2": "1"
                                },
                                {
                                    "0": "USA",
                                    "1": "Walla Walla",
                                    "2": "1"
                                },
                                {
                                    "0": "Poland",
                                    "1": "Warszawa",
                                    "2": "1"
                                },
                                {
                                    "0": "USA",
                                    "1": "Butte",
                                    "2": "1"
                                },
                                {
                                    "0": "Brazil",
                                    "1": "Campinas",
                                    "2": "1"
                                },
                                {
                                    "0": "Venezuela",
                                    "1": "Caracas",
                                    "2": "1"
                                },
                                {
                                    "0": "Belgium",
                                    "1": "Charleroi",
                                    "2": "1"
                                },
                                {
                                    "0": "Ireland",
                                    "1": "Cork",
                                    "2": "1"
                                },
                                {
                                    "0": "UK",
                                    "1": "Cowes",
                                    "2": "1"
                                },
                                {
                                    "0": "Germany",
                                    "1": "Cunewalde",
                                    "2": "1"
                                },
                                {
                                    "0": "USA",
                                    "1": "Elgin",
                                    "2": "1"
                                },
                                {
                                    "0": "USA",
                                    "1": "Eugene",
                                    "2": "1"
                                },
                                {
                                    "0": "Germany",
                                    "1": "Frankfurt a.M.",
                                    "2": "1"
                                },
                                {
                                    "0": "Switzerland",
                                    "1": "Genève",
                                    "2": "1"
                                },
                                {
                                    "0": "Austria",
                                    "1": "Graz",
                                    "2": "1"
                                },
                                {
                                    "0": "Finland",
                                    "1": "Helsinki",
                                    "2": "1"
                                },
                                {
                                    "0": "Venezuela",
                                    "1": "I. de Margarita",
                                    "2": "1"
                                },
                                {
                                    "0": "USA",
                                    "1": "Kirkland",
                                    "2": "1"
                                },
                                {
                                    "0": "Denmark",
                                    "1": "Kobenhavn",
                                    "2": "1"
                                },
                                {
                                    "0": "Germany",
                                    "1": "Köln",
                                    "2": "1"
                                },
                                {
                                    "0": "USA",
                                    "1": "Lander",
                                    "2": "1"
                                },
                                {
                                    "0": "Germany",
                                    "1": "Leipzig",
                                    "2": "1"
                                },
                                {
                                    "0": "France",
                                    "1": "Lille",
                                    "2": "1"
                                },
                                {
                                    "0": "Germany",
                                    "1": "Mannheim",
                                    "2": "1"
                                },
                                {
                                    "0": "France",
                                    "1": "Marseille",
                                    "2": "1"
                                },
                                {
                                    "0": "Sweden",
                                    "1": "Luleå",
                                    "2": "1"
                                },
                                {
                                    "0": "France",
                                    "1": "Lyon",
                                    "2": "1"
                                },
                                {
                                    "0": "Canada",
                                    "1": "Montréal",
                                    "2": "1"
                                },
                                {
                                    "0": "Germany",
                                    "1": "München",
                                    "2": "1"
                                },
                                {
                                    "0": "Germany",
                                    "1": "Münster",
                                    "2": "1"
                                },
                                {
                                    "0": "Germany",
                                    "1": "Aachen",
                                    "2": "1"
                                },
                                {
                                    "0": "USA",
                                    "1": "Albuquerque",
                                    "2": "1"
                                },
                                {
                                    "0": "USA",
                                    "1": "Anchorage",
                                    "2": "1"
                                },
                                {
                                    "0": "Denmark",
                                    "1": "Århus",
                                    "2": "1"
                                },
                                {
                                    "0": "Spain",
                                    "1": "Barcelona",
                                    "2": "1"
                                },
                                {
                                    "0": "Venezuela",
                                    "1": "Barquisimeto",
                                    "2": "1"
                                },
                                {
                                    "0": "Italy",
                                    "1": "Bergamo",
                                    "2": "1"
                                },
                                {
                                    "0": "Germany",
                                    "1": "Berlin",
                                    "2": "1"
                                },
                                {
                                    "0": "Switzerland",
                                    "1": "Bern",
                                    "2": "1"
                                },
                                {
                                    "0": "USA",
                                    "1": "Boise",
                                    "2": "1"
                                },
                                {
                                    "0": "Sweden",
                                    "1": "Bräcke",
                                    "2": "1"
                                },
                                {
                                    "0": "Germany",
                                    "1": "Brandenburg",
                                    "2": "1"
                                },
                                {
                                    "0": "Belgium",
                                    "1": "Bruxelles",
                                    "2": "1"
                                }
                            ]
                        },
                        "text/html": "<table><tr><th>Country</th><th>City</th><th>TotalCustomers</th></tr><tr><td>UK</td><td>London</td><td>6</td></tr><tr><td>Mexico</td><td>México D.F.</td><td>5</td></tr><tr><td>Brazil</td><td>Sao Paulo</td><td>4</td></tr><tr><td>Brazil</td><td>Rio de Janeiro</td><td>3</td></tr><tr><td>Spain</td><td>Madrid</td><td>3</td></tr><tr><td>Argentina</td><td>Buenos Aires</td><td>3</td></tr><tr><td>France</td><td>Paris</td><td>2</td></tr><tr><td>USA</td><td>Portland</td><td>2</td></tr><tr><td>France</td><td>Nantes</td><td>2</td></tr><tr><td>Portugal</td><td>Lisboa</td><td>2</td></tr><tr><td>Finland</td><td>Oulu</td><td>1</td></tr><tr><td>Italy</td><td>Reggio Emilia</td><td>1</td></tr><tr><td>France</td><td>Reims</td><td>1</td></tr><tr><td>Brazil</td><td>Resende</td><td>1</td></tr><tr><td>Austria</td><td>Salzburg</td><td>1</td></tr><tr><td>Venezuela</td><td>San Cristóbal</td><td>1</td></tr><tr><td>USA</td><td>San Francisco</td><td>1</td></tr><tr><td>USA</td><td>Seattle</td><td>1</td></tr><tr><td>Spain</td><td>Sevilla</td><td>1</td></tr><tr><td>Norway</td><td>Stavern</td><td>1</td></tr><tr><td>France</td><td>Strasbourg</td><td>1</td></tr><tr><td>Germany</td><td>Stuttgart</td><td>1</td></tr><tr><td>Italy</td><td>Torino</td><td>1</td></tr><tr><td>France</td><td>Toulouse</td><td>1</td></tr><tr><td>Canada</td><td>Tsawassen</td><td>1</td></tr><tr><td>Canada</td><td>Vancouver</td><td>1</td></tr><tr><td>France</td><td>Versailles</td><td>1</td></tr><tr><td>USA</td><td>Walla Walla</td><td>1</td></tr><tr><td>Poland</td><td>Warszawa</td><td>1</td></tr><tr><td>USA</td><td>Butte</td><td>1</td></tr><tr><td>Brazil</td><td>Campinas</td><td>1</td></tr><tr><td>Venezuela</td><td>Caracas</td><td>1</td></tr><tr><td>Belgium</td><td>Charleroi</td><td>1</td></tr><tr><td>Ireland</td><td>Cork</td><td>1</td></tr><tr><td>UK</td><td>Cowes</td><td>1</td></tr><tr><td>Germany</td><td>Cunewalde</td><td>1</td></tr><tr><td>USA</td><td>Elgin</td><td>1</td></tr><tr><td>USA</td><td>Eugene</td><td>1</td></tr><tr><td>Germany</td><td>Frankfurt a.M.</td><td>1</td></tr><tr><td>Switzerland</td><td>Genève</td><td>1</td></tr><tr><td>Austria</td><td>Graz</td><td>1</td></tr><tr><td>Finland</td><td>Helsinki</td><td>1</td></tr><tr><td>Venezuela</td><td>I. de Margarita</td><td>1</td></tr><tr><td>USA</td><td>Kirkland</td><td>1</td></tr><tr><td>Denmark</td><td>Kobenhavn</td><td>1</td></tr><tr><td>Germany</td><td>Köln</td><td>1</td></tr><tr><td>USA</td><td>Lander</td><td>1</td></tr><tr><td>Germany</td><td>Leipzig</td><td>1</td></tr><tr><td>France</td><td>Lille</td><td>1</td></tr><tr><td>Germany</td><td>Mannheim</td><td>1</td></tr><tr><td>France</td><td>Marseille</td><td>1</td></tr><tr><td>Sweden</td><td>Luleå</td><td>1</td></tr><tr><td>France</td><td>Lyon</td><td>1</td></tr><tr><td>Canada</td><td>Montréal</td><td>1</td></tr><tr><td>Germany</td><td>München</td><td>1</td></tr><tr><td>Germany</td><td>Münster</td><td>1</td></tr><tr><td>Germany</td><td>Aachen</td><td>1</td></tr><tr><td>USA</td><td>Albuquerque</td><td>1</td></tr><tr><td>USA</td><td>Anchorage</td><td>1</td></tr><tr><td>Denmark</td><td>Århus</td><td>1</td></tr><tr><td>Spain</td><td>Barcelona</td><td>1</td></tr><tr><td>Venezuela</td><td>Barquisimeto</td><td>1</td></tr><tr><td>Italy</td><td>Bergamo</td><td>1</td></tr><tr><td>Germany</td><td>Berlin</td><td>1</td></tr><tr><td>Switzerland</td><td>Bern</td><td>1</td></tr><tr><td>USA</td><td>Boise</td><td>1</td></tr><tr><td>Sweden</td><td>Bräcke</td><td>1</td></tr><tr><td>Germany</td><td>Brandenburg</td><td>1</td></tr><tr><td>Belgium</td><td>Bruxelles</td><td>1</td></tr></table>"
                    },
                    "metadata": {}
                }
            ],
            "execution_count": 11
        },
        {
            "cell_type": "markdown",
            "source": [
                "### 3\\. Products that need reordering\n",
                "\n",
                "What products are in the inventory that should be reordered? Use the fields UnitsInStock and ReorderLevel, where UnitsInStock is less than or equal to the ReorderLevel, ignore the fields UnitsOnOrder and Discontinued. Sort the results by ProductID."
            ],
            "metadata": {
                "language": "sql",
                "azdata_cell_guid": "70b57b66-1b06-44d2-9b73-5d8bc9a8109f"
            },
            "attachments": {}
        },
        {
            "cell_type": "code",
            "source": [
                "SELECT ProductID, ProductName, UnitsInStock, ReorderLevel\r\n",
                "FROM Products\r\n",
                "WHERE UnitsInStock <= ReorderLevel\r\n",
                "ORDER BY ProductID;"
            ],
            "metadata": {
                "language": "sql",
                "azdata_cell_guid": "59681410-8150-497c-8f64-998129c17932",
                "tags": []
            },
            "outputs": [
                {
                    "output_type": "display_data",
                    "data": {
                        "text/html": "(22 rows affected)"
                    },
                    "metadata": {}
                },
                {
                    "output_type": "display_data",
                    "data": {
                        "text/html": "Total execution time: 00:00:00.006"
                    },
                    "metadata": {}
                },
                {
                    "output_type": "execute_result",
                    "execution_count": 15,
                    "data": {
                        "application/vnd.dataresource+json": {
                            "schema": {
                                "fields": [
                                    {
                                        "name": "ProductID"
                                    },
                                    {
                                        "name": "ProductName"
                                    },
                                    {
                                        "name": "UnitsInStock"
                                    },
                                    {
                                        "name": "ReorderLevel"
                                    }
                                ]
                            },
                            "data": [
                                {
                                    "0": "2",
                                    "1": "Chang",
                                    "2": "17",
                                    "3": "25"
                                },
                                {
                                    "0": "3",
                                    "1": "Aniseed Syrup",
                                    "2": "13",
                                    "3": "25"
                                },
                                {
                                    "0": "5",
                                    "1": "Chef Anton's Gumbo Mix",
                                    "2": "0",
                                    "3": "0"
                                },
                                {
                                    "0": "11",
                                    "1": "Queso Cabrales",
                                    "2": "22",
                                    "3": "30"
                                },
                                {
                                    "0": "17",
                                    "1": "Alice Mutton",
                                    "2": "0",
                                    "3": "0"
                                },
                                {
                                    "0": "21",
                                    "1": "Sir Rodney's Scones",
                                    "2": "3",
                                    "3": "5"
                                },
                                {
                                    "0": "29",
                                    "1": "Thüringer Rostbratwurst",
                                    "2": "0",
                                    "3": "0"
                                },
                                {
                                    "0": "30",
                                    "1": "Nord-Ost Matjeshering",
                                    "2": "10",
                                    "3": "15"
                                },
                                {
                                    "0": "31",
                                    "1": "Gorgonzola Telino",
                                    "2": "0",
                                    "3": "20"
                                },
                                {
                                    "0": "32",
                                    "1": "Mascarpone Fabioli",
                                    "2": "9",
                                    "3": "25"
                                },
                                {
                                    "0": "37",
                                    "1": "Gravad lax",
                                    "2": "11",
                                    "3": "25"
                                },
                                {
                                    "0": "43",
                                    "1": "Ipoh Coffee",
                                    "2": "17",
                                    "3": "25"
                                },
                                {
                                    "0": "45",
                                    "1": "Rogede sild",
                                    "2": "5",
                                    "3": "15"
                                },
                                {
                                    "0": "48",
                                    "1": "Chocolade",
                                    "2": "15",
                                    "3": "25"
                                },
                                {
                                    "0": "49",
                                    "1": "Maxilaku",
                                    "2": "10",
                                    "3": "15"
                                },
                                {
                                    "0": "53",
                                    "1": "Perth Pasties",
                                    "2": "0",
                                    "3": "0"
                                },
                                {
                                    "0": "56",
                                    "1": "Gnocchi di nonna Alice",
                                    "2": "21",
                                    "3": "30"
                                },
                                {
                                    "0": "64",
                                    "1": "Wimmers gute Semmelknödel",
                                    "2": "22",
                                    "3": "30"
                                },
                                {
                                    "0": "66",
                                    "1": "Louisiana Hot Spiced Okra",
                                    "2": "4",
                                    "3": "20"
                                },
                                {
                                    "0": "68",
                                    "1": "Scottish Longbreads",
                                    "2": "6",
                                    "3": "15"
                                },
                                {
                                    "0": "70",
                                    "1": "Outback Lager",
                                    "2": "15",
                                    "3": "30"
                                },
                                {
                                    "0": "74",
                                    "1": "Longlife Tofu",
                                    "2": "4",
                                    "3": "5"
                                }
                            ]
                        },
                        "text/html": "<table><tr><th>ProductID</th><th>ProductName</th><th>UnitsInStock</th><th>ReorderLevel</th></tr><tr><td>2</td><td>Chang</td><td>17</td><td>25</td></tr><tr><td>3</td><td>Aniseed Syrup</td><td>13</td><td>25</td></tr><tr><td>5</td><td>Chef Anton's Gumbo Mix</td><td>0</td><td>0</td></tr><tr><td>11</td><td>Queso Cabrales</td><td>22</td><td>30</td></tr><tr><td>17</td><td>Alice Mutton</td><td>0</td><td>0</td></tr><tr><td>21</td><td>Sir Rodney's Scones</td><td>3</td><td>5</td></tr><tr><td>29</td><td>Thüringer Rostbratwurst</td><td>0</td><td>0</td></tr><tr><td>30</td><td>Nord-Ost Matjeshering</td><td>10</td><td>15</td></tr><tr><td>31</td><td>Gorgonzola Telino</td><td>0</td><td>20</td></tr><tr><td>32</td><td>Mascarpone Fabioli</td><td>9</td><td>25</td></tr><tr><td>37</td><td>Gravad lax</td><td>11</td><td>25</td></tr><tr><td>43</td><td>Ipoh Coffee</td><td>17</td><td>25</td></tr><tr><td>45</td><td>Rogede sild</td><td>5</td><td>15</td></tr><tr><td>48</td><td>Chocolade</td><td>15</td><td>25</td></tr><tr><td>49</td><td>Maxilaku</td><td>10</td><td>15</td></tr><tr><td>53</td><td>Perth Pasties</td><td>0</td><td>0</td></tr><tr><td>56</td><td>Gnocchi di nonna Alice</td><td>21</td><td>30</td></tr><tr><td>64</td><td>Wimmers gute Semmelknödel</td><td>22</td><td>30</td></tr><tr><td>66</td><td>Louisiana Hot Spiced Okra</td><td>4</td><td>20</td></tr><tr><td>68</td><td>Scottish Longbreads</td><td>6</td><td>15</td></tr><tr><td>70</td><td>Outback Lager</td><td>15</td><td>30</td></tr><tr><td>74</td><td>Longlife Tofu</td><td>4</td><td>5</td></tr></table>"
                    },
                    "metadata": {}
                }
            ],
            "execution_count": 15
        },
        {
            "cell_type": "markdown",
            "source": [
                "### 4\\. Products that need reordering, continued\n",
                "\n",
                "Now incorporate these fields - UnitsInStock, UnitsOnOrder, ReorderLevel, Discontinued - into the calculation. Define products that need reordering with the following:\n",
                "\n",
                "- UnitsInStock plus UnitsOnOrder are less than or equal to ReorderLevel\n",
                "- The Discontinued flag is false (0)"
            ],
            "metadata": {
                "language": "sql",
                "azdata_cell_guid": "600d8355-fc19-4b2f-881f-a7f97c4c7574"
            },
            "attachments": {}
        },
        {
            "cell_type": "code",
            "source": [
                "SELECT ProductID, ProductName, UnitsInStock, UnitsOnOrder, ReorderLevel, Discontinued\r\n",
                "FROM Products\r\n",
                "WHERE ((UnitsInStock + UnitsOnOrder) <= ReorderLevel) AND (Discontinued = 0);"
            ],
            "metadata": {
                "language": "sql",
                "azdata_cell_guid": "e93e6ac7-b73b-473d-8c3f-a0a66e6bead3"
            },
            "outputs": [
                {
                    "output_type": "display_data",
                    "data": {
                        "text/html": "(2 rows affected)"
                    },
                    "metadata": {}
                },
                {
                    "output_type": "display_data",
                    "data": {
                        "text/html": "Total execution time: 00:00:00.018"
                    },
                    "metadata": {}
                },
                {
                    "output_type": "execute_result",
                    "execution_count": 18,
                    "data": {
                        "application/vnd.dataresource+json": {
                            "schema": {
                                "fields": [
                                    {
                                        "name": "ProductID"
                                    },
                                    {
                                        "name": "ProductName"
                                    },
                                    {
                                        "name": "UnitsInStock"
                                    },
                                    {
                                        "name": "UnitsOnOrder"
                                    },
                                    {
                                        "name": "ReorderLevel"
                                    },
                                    {
                                        "name": "Discontinued"
                                    }
                                ]
                            },
                            "data": [
                                {
                                    "0": "30",
                                    "1": "Nord-Ost Matjeshering",
                                    "2": "10",
                                    "3": "0",
                                    "4": "15",
                                    "5": "0"
                                },
                                {
                                    "0": "70",
                                    "1": "Outback Lager",
                                    "2": "15",
                                    "3": "10",
                                    "4": "30",
                                    "5": "0"
                                }
                            ]
                        },
                        "text/html": "<table><tr><th>ProductID</th><th>ProductName</th><th>UnitsInStock</th><th>UnitsOnOrder</th><th>ReorderLevel</th><th>Discontinued</th></tr><tr><td>30</td><td>Nord-Ost Matjeshering</td><td>10</td><td>0</td><td>15</td><td>0</td></tr><tr><td>70</td><td>Outback Lager</td><td>15</td><td>10</td><td>30</td><td>0</td></tr></table>"
                    },
                    "metadata": {}
                }
            ],
            "execution_count": 18
        },
        {
            "cell_type": "markdown",
            "source": [
                "### 5\\. Customer list by region\n",
                "\n",
                "A salesperson in Northwind is going on a business trip to visit customers, and would like to see a list of customers, sorted by region, alphabetically.\n",
                "\n",
                "However, she wants the customers with no region (NULL in the region field) to be at the end, instead of at the top, where you'd normally find the NULLs. Within the same region, companies should be sorted by CustomerID."
            ],
            "metadata": {
                "language": "sql",
                "azdata_cell_guid": "ad5914d2-6e64-4c5e-aa7d-4fce794d8c2f"
            },
            "attachments": {}
        },
        {
            "cell_type": "code",
            "source": [
                "SELECT CustomerID, CompanyName, Region\r\n",
                "FROM Customers\r\n",
                "ORDER BY \r\n",
                "    CASE \r\n",
                "        WHEN Region IS NULL THEN 1\r\n",
                "        ELSE 0\r\n",
                "    END,\r\n",
                "    Region, CustomerID;"
            ],
            "metadata": {
                "language": "sql",
                "azdata_cell_guid": "ff3c416a-6ab6-4bfe-896c-b2b8ea1d6c1c",
                "tags": []
            },
            "outputs": [
                {
                    "output_type": "display_data",
                    "data": {
                        "text/html": "(91 rows affected)"
                    },
                    "metadata": {}
                },
                {
                    "output_type": "display_data",
                    "data": {
                        "text/html": "Total execution time: 00:00:00.012"
                    },
                    "metadata": {}
                },
                {
                    "output_type": "execute_result",
                    "execution_count": 32,
                    "data": {
                        "application/vnd.dataresource+json": {
                            "schema": {
                                "fields": [
                                    {
                                        "name": "CustomerID"
                                    },
                                    {
                                        "name": "CompanyName"
                                    },
                                    {
                                        "name": "Region"
                                    }
                                ]
                            },
                            "data": [
                                {
                                    "0": "OLDWO",
                                    "1": "Old World Delicatessen",
                                    "2": "AK"
                                },
                                {
                                    "0": "BOTTM",
                                    "1": "Bottom-Dollar Markets",
                                    "2": "BC"
                                },
                                {
                                    "0": "LAUGB",
                                    "1": "Laughing Bacchus Wine Cellars",
                                    "2": "BC"
                                },
                                {
                                    "0": "LETSS",
                                    "1": "Let's Stop N Shop",
                                    "2": "CA"
                                },
                                {
                                    "0": "HUNGO",
                                    "1": "Hungry Owl All-Night Grocers",
                                    "2": "Co. Cork"
                                },
                                {
                                    "0": "GROSR",
                                    "1": "GROSELLA-Restaurante",
                                    "2": "DF"
                                },
                                {
                                    "0": "SAVEA",
                                    "1": "Save-a-lot Markets",
                                    "2": "ID"
                                },
                                {
                                    "0": "ISLAT",
                                    "1": "Island Trading",
                                    "2": "Isle of Wight"
                                },
                                {
                                    "0": "LILAS",
                                    "1": "LILA-Supermercado",
                                    "2": "Lara"
                                },
                                {
                                    "0": "THECR",
                                    "1": "The Cracker Box",
                                    "2": "MT"
                                },
                                {
                                    "0": "RATTC",
                                    "1": "Rattlesnake Canyon Grocery",
                                    "2": "NM"
                                },
                                {
                                    "0": "LINOD",
                                    "1": "LINO-Delicateses",
                                    "2": "Nueva Esparta"
                                },
                                {
                                    "0": "GREAL",
                                    "1": "Great Lakes Food Market",
                                    "2": "OR"
                                },
                                {
                                    "0": "HUNGC",
                                    "1": "Hungry Coyote Import Store",
                                    "2": "OR"
                                },
                                {
                                    "0": "LONEP",
                                    "1": "Lonesome Pine Restaurant",
                                    "2": "OR"
                                },
                                {
                                    "0": "THEBI",
                                    "1": "The Big Cheese",
                                    "2": "OR"
                                },
                                {
                                    "0": "MEREP",
                                    "1": "Mère Paillarde",
                                    "2": "Québec"
                                },
                                {
                                    "0": "HANAR",
                                    "1": "Hanari Carnes",
                                    "2": "RJ"
                                },
                                {
                                    "0": "QUEDE",
                                    "1": "Que Delícia",
                                    "2": "RJ"
                                },
                                {
                                    "0": "RICAR",
                                    "1": "Ricardo Adocicados",
                                    "2": "RJ"
                                },
                                {
                                    "0": "COMMI",
                                    "1": "Comércio Mineiro",
                                    "2": "SP"
                                },
                                {
                                    "0": "FAMIA",
                                    "1": "Familia Arquibaldo",
                                    "2": "SP"
                                },
                                {
                                    "0": "GOURL",
                                    "1": "Gourmet Lanchonetes",
                                    "2": "SP"
                                },
                                {
                                    "0": "QUEEN",
                                    "1": "Queen Cozinha",
                                    "2": "SP"
                                },
                                {
                                    "0": "TRADH",
                                    "1": "Tradição Hipermercados",
                                    "2": "SP"
                                },
                                {
                                    "0": "WELLI",
                                    "1": "Wellington Importadora",
                                    "2": "SP"
                                },
                                {
                                    "0": "HILAA",
                                    "1": "HILARION-Abastos",
                                    "2": "Táchira"
                                },
                                {
                                    "0": "LAZYK",
                                    "1": "Lazy K Kountry Store",
                                    "2": "WA"
                                },
                                {
                                    "0": "TRAIH",
                                    "1": "Trail's Head Gourmet Provisioners",
                                    "2": "WA"
                                },
                                {
                                    "0": "WHITC",
                                    "1": "White Clover Markets",
                                    "2": "WA"
                                },
                                {
                                    "0": "SPLIR",
                                    "1": "Split Rail Beer & Ale",
                                    "2": "WY"
                                },
                                {
                                    "0": "ALFKI",
                                    "1": "Alfreds Futterkiste",
                                    "2": "NULL"
                                },
                                {
                                    "0": "ANATR",
                                    "1": "Ana Trujillo Emparedados y helados",
                                    "2": "NULL"
                                },
                                {
                                    "0": "ANTON",
                                    "1": "Antonio Moreno Taquería",
                                    "2": "NULL"
                                },
                                {
                                    "0": "AROUT",
                                    "1": "Around the Horn",
                                    "2": "NULL"
                                },
                                {
                                    "0": "BERGS",
                                    "1": "Berglunds snabbköp",
                                    "2": "NULL"
                                },
                                {
                                    "0": "BLAUS",
                                    "1": "Blauer See Delikatessen",
                                    "2": "NULL"
                                },
                                {
                                    "0": "BLONP",
                                    "1": "Blondesddsl père et fils",
                                    "2": "NULL"
                                },
                                {
                                    "0": "BOLID",
                                    "1": "Bólido Comidas preparadas",
                                    "2": "NULL"
                                },
                                {
                                    "0": "BONAP",
                                    "1": "Bon app'",
                                    "2": "NULL"
                                },
                                {
                                    "0": "BSBEV",
                                    "1": "B's Beverages",
                                    "2": "NULL"
                                },
                                {
                                    "0": "CACTU",
                                    "1": "Cactus Comidas para llevar",
                                    "2": "NULL"
                                },
                                {
                                    "0": "CENTC",
                                    "1": "Centro comercial Moctezuma",
                                    "2": "NULL"
                                },
                                {
                                    "0": "CHOPS",
                                    "1": "Chop-suey Chinese",
                                    "2": "NULL"
                                },
                                {
                                    "0": "CONSH",
                                    "1": "Consolidated Holdings",
                                    "2": "NULL"
                                },
                                {
                                    "0": "DRACD",
                                    "1": "Drachenblut Delikatessen",
                                    "2": "NULL"
                                },
                                {
                                    "0": "DUMON",
                                    "1": "Du monde entier",
                                    "2": "NULL"
                                },
                                {
                                    "0": "EASTC",
                                    "1": "Eastern Connection",
                                    "2": "NULL"
                                },
                                {
                                    "0": "ERNSH",
                                    "1": "Ernst Handel",
                                    "2": "NULL"
                                },
                                {
                                    "0": "FISSA",
                                    "1": "FISSA Fabrica Inter. Salchichas S.A.",
                                    "2": "NULL"
                                },
                                {
                                    "0": "FOLIG",
                                    "1": "Folies gourmandes",
                                    "2": "NULL"
                                },
                                {
                                    "0": "FOLKO",
                                    "1": "Folk och fä HB",
                                    "2": "NULL"
                                },
                                {
                                    "0": "FRANK",
                                    "1": "Frankenversand",
                                    "2": "NULL"
                                },
                                {
                                    "0": "FRANR",
                                    "1": "France restauration",
                                    "2": "NULL"
                                },
                                {
                                    "0": "FRANS",
                                    "1": "Franchi S.p.A.",
                                    "2": "NULL"
                                },
                                {
                                    "0": "FURIB",
                                    "1": "Furia Bacalhau e Frutos do Mar",
                                    "2": "NULL"
                                },
                                {
                                    "0": "GALED",
                                    "1": "Galería del gastrónomo",
                                    "2": "NULL"
                                },
                                {
                                    "0": "GODOS",
                                    "1": "Godos Cocina Típica",
                                    "2": "NULL"
                                },
                                {
                                    "0": "KOENE",
                                    "1": "Königlich Essen",
                                    "2": "NULL"
                                },
                                {
                                    "0": "LACOR",
                                    "1": "La corne d'abondance",
                                    "2": "NULL"
                                },
                                {
                                    "0": "LAMAI",
                                    "1": "La maison d'Asie",
                                    "2": "NULL"
                                },
                                {
                                    "0": "LEHMS",
                                    "1": "Lehmanns Marktstand",
                                    "2": "NULL"
                                },
                                {
                                    "0": "MAGAA",
                                    "1": "Magazzini Alimentari Riuniti",
                                    "2": "NULL"
                                },
                                {
                                    "0": "MAISD",
                                    "1": "Maison Dewey",
                                    "2": "NULL"
                                },
                                {
                                    "0": "MORGK",
                                    "1": "Morgenstern Gesundkost",
                                    "2": "NULL"
                                },
                                {
                                    "0": "NORTS",
                                    "1": "North/South",
                                    "2": "NULL"
                                },
                                {
                                    "0": "OCEAN",
                                    "1": "Océano Atlántico Ltda.",
                                    "2": "NULL"
                                },
                                {
                                    "0": "OTTIK",
                                    "1": "Ottilies Käseladen",
                                    "2": "NULL"
                                },
                                {
                                    "0": "PARIS",
                                    "1": "Paris spécialités",
                                    "2": "NULL"
                                },
                                {
                                    "0": "PERIC",
                                    "1": "Pericles Comidas clásicas",
                                    "2": "NULL"
                                },
                                {
                                    "0": "PICCO",
                                    "1": "Piccolo und mehr",
                                    "2": "NULL"
                                },
                                {
                                    "0": "PRINI",
                                    "1": "Princesa Isabel Vinhos",
                                    "2": "NULL"
                                },
                                {
                                    "0": "QUICK",
                                    "1": "QUICK-Stop",
                                    "2": "NULL"
                                },
                                {
                                    "0": "RANCH",
                                    "1": "Rancho grande",
                                    "2": "NULL"
                                },
                                {
                                    "0": "REGGC",
                                    "1": "Reggiani Caseifici",
                                    "2": "NULL"
                                },
                                {
                                    "0": "RICSU",
                                    "1": "Richter Supermarkt",
                                    "2": "NULL"
                                },
                                {
                                    "0": "ROMEY",
                                    "1": "Romero y tomillo",
                                    "2": "NULL"
                                },
                                {
                                    "0": "SANTG",
                                    "1": "Santé Gourmet",
                                    "2": "NULL"
                                },
                                {
                                    "0": "SEVES",
                                    "1": "Seven Seas Imports",
                                    "2": "NULL"
                                },
                                {
                                    "0": "SIMOB",
                                    "1": "Simons bistro",
                                    "2": "NULL"
                                },
                                {
                                    "0": "SPECD",
                                    "1": "Spécialités du monde",
                                    "2": "NULL"
                                },
                                {
                                    "0": "SUPRD",
                                    "1": "Suprêmes délices",
                                    "2": "NULL"
                                },
                                {
                                    "0": "TOMSP",
                                    "1": "Toms Spezialitäten",
                                    "2": "NULL"
                                },
                                {
                                    "0": "TORTU",
                                    "1": "Tortuga Restaurante",
                                    "2": "NULL"
                                },
                                {
                                    "0": "VAFFE",
                                    "1": "Vaffeljernet",
                                    "2": "NULL"
                                },
                                {
                                    "0": "VICTE",
                                    "1": "Victuailles en stock",
                                    "2": "NULL"
                                },
                                {
                                    "0": "VINET",
                                    "1": "Vins et alcools Chevalier",
                                    "2": "NULL"
                                },
                                {
                                    "0": "WANDK",
                                    "1": "Die Wandernde Kuh",
                                    "2": "NULL"
                                },
                                {
                                    "0": "WARTH",
                                    "1": "Wartian Herkku",
                                    "2": "NULL"
                                },
                                {
                                    "0": "WILMK",
                                    "1": "Wilman Kala",
                                    "2": "NULL"
                                },
                                {
                                    "0": "WOLZA",
                                    "1": "Wolski  Zajazd",
                                    "2": "NULL"
                                }
                            ]
                        },
                        "text/html": "<table><tr><th>CustomerID</th><th>CompanyName</th><th>Region</th></tr><tr><td>OLDWO</td><td>Old World Delicatessen</td><td>AK</td></tr><tr><td>BOTTM</td><td>Bottom-Dollar Markets</td><td>BC</td></tr><tr><td>LAUGB</td><td>Laughing Bacchus Wine Cellars</td><td>BC</td></tr><tr><td>LETSS</td><td>Let's Stop N Shop</td><td>CA</td></tr><tr><td>HUNGO</td><td>Hungry Owl All-Night Grocers</td><td>Co. Cork</td></tr><tr><td>GROSR</td><td>GROSELLA-Restaurante</td><td>DF</td></tr><tr><td>SAVEA</td><td>Save-a-lot Markets</td><td>ID</td></tr><tr><td>ISLAT</td><td>Island Trading</td><td>Isle of Wight</td></tr><tr><td>LILAS</td><td>LILA-Supermercado</td><td>Lara</td></tr><tr><td>THECR</td><td>The Cracker Box</td><td>MT</td></tr><tr><td>RATTC</td><td>Rattlesnake Canyon Grocery</td><td>NM</td></tr><tr><td>LINOD</td><td>LINO-Delicateses</td><td>Nueva Esparta</td></tr><tr><td>GREAL</td><td>Great Lakes Food Market</td><td>OR</td></tr><tr><td>HUNGC</td><td>Hungry Coyote Import Store</td><td>OR</td></tr><tr><td>LONEP</td><td>Lonesome Pine Restaurant</td><td>OR</td></tr><tr><td>THEBI</td><td>The Big Cheese</td><td>OR</td></tr><tr><td>MEREP</td><td>Mère Paillarde</td><td>Québec</td></tr><tr><td>HANAR</td><td>Hanari Carnes</td><td>RJ</td></tr><tr><td>QUEDE</td><td>Que Delícia</td><td>RJ</td></tr><tr><td>RICAR</td><td>Ricardo Adocicados</td><td>RJ</td></tr><tr><td>COMMI</td><td>Comércio Mineiro</td><td>SP</td></tr><tr><td>FAMIA</td><td>Familia Arquibaldo</td><td>SP</td></tr><tr><td>GOURL</td><td>Gourmet Lanchonetes</td><td>SP</td></tr><tr><td>QUEEN</td><td>Queen Cozinha</td><td>SP</td></tr><tr><td>TRADH</td><td>Tradição Hipermercados</td><td>SP</td></tr><tr><td>WELLI</td><td>Wellington Importadora</td><td>SP</td></tr><tr><td>HILAA</td><td>HILARION-Abastos</td><td>Táchira</td></tr><tr><td>LAZYK</td><td>Lazy K Kountry Store</td><td>WA</td></tr><tr><td>TRAIH</td><td>Trail's Head Gourmet Provisioners</td><td>WA</td></tr><tr><td>WHITC</td><td>White Clover Markets</td><td>WA</td></tr><tr><td>SPLIR</td><td>Split Rail Beer &amp; Ale</td><td>WY</td></tr><tr><td>ALFKI</td><td>Alfreds Futterkiste</td><td>NULL</td></tr><tr><td>ANATR</td><td>Ana Trujillo Emparedados y helados</td><td>NULL</td></tr><tr><td>ANTON</td><td>Antonio Moreno Taquería</td><td>NULL</td></tr><tr><td>AROUT</td><td>Around the Horn</td><td>NULL</td></tr><tr><td>BERGS</td><td>Berglunds snabbköp</td><td>NULL</td></tr><tr><td>BLAUS</td><td>Blauer See Delikatessen</td><td>NULL</td></tr><tr><td>BLONP</td><td>Blondesddsl père et fils</td><td>NULL</td></tr><tr><td>BOLID</td><td>Bólido Comidas preparadas</td><td>NULL</td></tr><tr><td>BONAP</td><td>Bon app'</td><td>NULL</td></tr><tr><td>BSBEV</td><td>B's Beverages</td><td>NULL</td></tr><tr><td>CACTU</td><td>Cactus Comidas para llevar</td><td>NULL</td></tr><tr><td>CENTC</td><td>Centro comercial Moctezuma</td><td>NULL</td></tr><tr><td>CHOPS</td><td>Chop-suey Chinese</td><td>NULL</td></tr><tr><td>CONSH</td><td>Consolidated Holdings</td><td>NULL</td></tr><tr><td>DRACD</td><td>Drachenblut Delikatessen</td><td>NULL</td></tr><tr><td>DUMON</td><td>Du monde entier</td><td>NULL</td></tr><tr><td>EASTC</td><td>Eastern Connection</td><td>NULL</td></tr><tr><td>ERNSH</td><td>Ernst Handel</td><td>NULL</td></tr><tr><td>FISSA</td><td>FISSA Fabrica Inter. Salchichas S.A.</td><td>NULL</td></tr><tr><td>FOLIG</td><td>Folies gourmandes</td><td>NULL</td></tr><tr><td>FOLKO</td><td>Folk och fä HB</td><td>NULL</td></tr><tr><td>FRANK</td><td>Frankenversand</td><td>NULL</td></tr><tr><td>FRANR</td><td>France restauration</td><td>NULL</td></tr><tr><td>FRANS</td><td>Franchi S.p.A.</td><td>NULL</td></tr><tr><td>FURIB</td><td>Furia Bacalhau e Frutos do Mar</td><td>NULL</td></tr><tr><td>GALED</td><td>Galería del gastrónomo</td><td>NULL</td></tr><tr><td>GODOS</td><td>Godos Cocina Típica</td><td>NULL</td></tr><tr><td>KOENE</td><td>Königlich Essen</td><td>NULL</td></tr><tr><td>LACOR</td><td>La corne d'abondance</td><td>NULL</td></tr><tr><td>LAMAI</td><td>La maison d'Asie</td><td>NULL</td></tr><tr><td>LEHMS</td><td>Lehmanns Marktstand</td><td>NULL</td></tr><tr><td>MAGAA</td><td>Magazzini Alimentari Riuniti</td><td>NULL</td></tr><tr><td>MAISD</td><td>Maison Dewey</td><td>NULL</td></tr><tr><td>MORGK</td><td>Morgenstern Gesundkost</td><td>NULL</td></tr><tr><td>NORTS</td><td>North/South</td><td>NULL</td></tr><tr><td>OCEAN</td><td>Océano Atlántico Ltda.</td><td>NULL</td></tr><tr><td>OTTIK</td><td>Ottilies Käseladen</td><td>NULL</td></tr><tr><td>PARIS</td><td>Paris spécialités</td><td>NULL</td></tr><tr><td>PERIC</td><td>Pericles Comidas clásicas</td><td>NULL</td></tr><tr><td>PICCO</td><td>Piccolo und mehr</td><td>NULL</td></tr><tr><td>PRINI</td><td>Princesa Isabel Vinhos</td><td>NULL</td></tr><tr><td>QUICK</td><td>QUICK-Stop</td><td>NULL</td></tr><tr><td>RANCH</td><td>Rancho grande</td><td>NULL</td></tr><tr><td>REGGC</td><td>Reggiani Caseifici</td><td>NULL</td></tr><tr><td>RICSU</td><td>Richter Supermarkt</td><td>NULL</td></tr><tr><td>ROMEY</td><td>Romero y tomillo</td><td>NULL</td></tr><tr><td>SANTG</td><td>Santé Gourmet</td><td>NULL</td></tr><tr><td>SEVES</td><td>Seven Seas Imports</td><td>NULL</td></tr><tr><td>SIMOB</td><td>Simons bistro</td><td>NULL</td></tr><tr><td>SPECD</td><td>Spécialités du monde</td><td>NULL</td></tr><tr><td>SUPRD</td><td>Suprêmes délices</td><td>NULL</td></tr><tr><td>TOMSP</td><td>Toms Spezialitäten</td><td>NULL</td></tr><tr><td>TORTU</td><td>Tortuga Restaurante</td><td>NULL</td></tr><tr><td>VAFFE</td><td>Vaffeljernet</td><td>NULL</td></tr><tr><td>VICTE</td><td>Victuailles en stock</td><td>NULL</td></tr><tr><td>VINET</td><td>Vins et alcools Chevalier</td><td>NULL</td></tr><tr><td>WANDK</td><td>Die Wandernde Kuh</td><td>NULL</td></tr><tr><td>WARTH</td><td>Wartian Herkku</td><td>NULL</td></tr><tr><td>WILMK</td><td>Wilman Kala</td><td>NULL</td></tr><tr><td>WOLZA</td><td>Wolski  Zajazd</td><td>NULL</td></tr></table>"
                    },
                    "metadata": {}
                }
            ],
            "execution_count": 32
        },
        {
            "cell_type": "markdown",
            "source": [
                "### 6\\. High freight charges\n",
                "\n",
                "Some countries shipped to have high freight charges. Return the three ship countries with the highest average freight overall, in descending order by average freight."
            ],
            "metadata": {
                "language": "sql",
                "azdata_cell_guid": "48fbdec0-287e-4163-857f-fedaed5fa08a"
            },
            "attachments": {}
        },
        {
            "cell_type": "code",
            "source": [
                "SELECT TOP(3) ShipCountry, AVG(Freight) AS AverageFreight\r\n",
                "FROM Orders\r\n",
                "GROUP BY ShipCountry\r\n",
                "ORDER BY AverageFreight DESC;"
            ],
            "metadata": {
                "language": "sql",
                "azdata_cell_guid": "5d56e09a-26a3-477a-b54b-c3e721c9be0f"
            },
            "outputs": [
                {
                    "output_type": "display_data",
                    "data": {
                        "text/html": "(3 rows affected)"
                    },
                    "metadata": {}
                },
                {
                    "output_type": "display_data",
                    "data": {
                        "text/html": "Total execution time: 00:00:00.012"
                    },
                    "metadata": {}
                },
                {
                    "output_type": "execute_result",
                    "execution_count": 36,
                    "data": {
                        "application/vnd.dataresource+json": {
                            "schema": {
                                "fields": [
                                    {
                                        "name": "ShipCountry"
                                    },
                                    {
                                        "name": "AverageFreight"
                                    }
                                ]
                            },
                            "data": [
                                {
                                    "0": "Austria",
                                    "1": "184.7875"
                                },
                                {
                                    "0": "Ireland",
                                    "1": "145.0126"
                                },
                                {
                                    "0": "USA",
                                    "1": "112.8794"
                                }
                            ]
                        },
                        "text/html": "<table><tr><th>ShipCountry</th><th>AverageFreight</th></tr><tr><td>Austria</td><td>184.7875</td></tr><tr><td>Ireland</td><td>145.0126</td></tr><tr><td>USA</td><td>112.8794</td></tr></table>"
                    },
                    "metadata": {}
                }
            ],
            "execution_count": 36
        },
        {
            "cell_type": "markdown",
            "source": [
                "### 7\\. High freight charges - 2015\n",
                "\n",
                "Continue question above but now instead of using all the orders we have, we only want to see orders from the year 2015."
            ],
            "metadata": {
                "language": "sql",
                "azdata_cell_guid": "78b7c138-36c6-4c12-bb3d-be3da4119dff"
            },
            "attachments": {}
        },
        {
            "cell_type": "code",
            "source": [
                "SELECT TOP(3) ShipCountry, AVG(Freight) AS AverageFreight\r\n",
                "FROM Orders\r\n",
                "WHERE CAST(OrderDate AS DATE) BETWEEN '01/01/2015' AND '12/31/2015'\r\n",
                "GROUP BY ShipCountry\r\n",
                "ORDER BY AverageFreight DESC;"
            ],
            "metadata": {
                "language": "sql",
                "azdata_cell_guid": "a3d21d6a-123d-4460-9681-e9f2b67ec300"
            },
            "outputs": [
                {
                    "output_type": "display_data",
                    "data": {
                        "text/html": "(3 rows affected)"
                    },
                    "metadata": {}
                },
                {
                    "output_type": "display_data",
                    "data": {
                        "text/html": "Total execution time: 00:00:00.010"
                    },
                    "metadata": {}
                },
                {
                    "output_type": "execute_result",
                    "execution_count": 47,
                    "data": {
                        "application/vnd.dataresource+json": {
                            "schema": {
                                "fields": [
                                    {
                                        "name": "ShipCountry"
                                    },
                                    {
                                        "name": "AverageFreight"
                                    }
                                ]
                            },
                            "data": [
                                {
                                    "0": "Austria",
                                    "1": "178.3642"
                                },
                                {
                                    "0": "Switzerland",
                                    "1": "117.1775"
                                },
                                {
                                    "0": "France",
                                    "1": "113.991"
                                }
                            ]
                        },
                        "text/html": "<table><tr><th>ShipCountry</th><th>AverageFreight</th></tr><tr><td>Austria</td><td>178.3642</td></tr><tr><td>Switzerland</td><td>117.1775</td></tr><tr><td>France</td><td>113.991</td></tr></table>"
                    },
                    "metadata": {}
                }
            ],
            "execution_count": 47
        },
        {
            "cell_type": "markdown",
            "source": [
                "### 8\\. High freight charges - last year\n",
                "\n",
                "Now calculate the three ship countries with the highest average freight charges. But instead of filtering for a particular year, use the last 12 months of order data, using as the end date the last OrderDate in Orders."
            ],
            "metadata": {
                "language": "sql",
                "azdata_cell_guid": "0b774a28-73ec-4d12-a32c-f7ea2416fce5"
            },
            "attachments": {}
        },
        {
            "cell_type": "code",
            "source": [
                "SELECT TOP(3) ShipCountry, AVG(Freight) AS AverageFreight\r\n",
                "FROM Orders\r\n",
                "WHERE OrderDate > DATEADD(MONTH, -12, (SELECT MAX(OrderDate) FROM Orders))\r\n",
                "GROUP BY ShipCountry\r\n",
                "ORDER BY AverageFreight DESC;"
            ],
            "metadata": {
                "language": "sql",
                "azdata_cell_guid": "294c4708-df41-42a4-a3a1-9ea611ac60d1",
                "tags": []
            },
            "outputs": [
                {
                    "output_type": "display_data",
                    "data": {
                        "text/html": "(3 rows affected)"
                    },
                    "metadata": {}
                },
                {
                    "output_type": "display_data",
                    "data": {
                        "text/html": "Total execution time: 00:00:00.012"
                    },
                    "metadata": {}
                },
                {
                    "output_type": "execute_result",
                    "execution_count": 56,
                    "data": {
                        "application/vnd.dataresource+json": {
                            "schema": {
                                "fields": [
                                    {
                                        "name": "ShipCountry"
                                    },
                                    {
                                        "name": "AverageFreight"
                                    }
                                ]
                            },
                            "data": [
                                {
                                    "0": "Ireland",
                                    "1": "200.21"
                                },
                                {
                                    "0": "Austria",
                                    "1": "186.4596"
                                },
                                {
                                    "0": "USA",
                                    "1": "119.3032"
                                }
                            ]
                        },
                        "text/html": "<table><tr><th>ShipCountry</th><th>AverageFreight</th></tr><tr><td>Ireland</td><td>200.21</td></tr><tr><td>Austria</td><td>186.4596</td></tr><tr><td>USA</td><td>119.3032</td></tr></table>"
                    },
                    "metadata": {}
                }
            ],
            "execution_count": 56
        },
        {
            "cell_type": "markdown",
            "source": [
                "### 9\\. Employee/Order Detail Report\n",
                "\n",
                "Need to show Employee and Order Detail information for all orders. Sort by OrderID and ProductID."
            ],
            "metadata": {
                "language": "sql",
                "azdata_cell_guid": "7c394715-3aca-492f-a80d-63cb82d907a4"
            },
            "attachments": {}
        },
        {
            "cell_type": "code",
            "source": [
                "--Selecting only top 50 for brevity but actual rows = 2155\r\n",
                "\r\n",
                "SELECT TOP(50) O.EmployeeID, LastName, O.OrderID, ProductName, Quantity\r\n",
                "FROM Orders AS O\r\n",
                "    INNER JOIN Employees AS E\r\n",
                "        ON O.EmployeeID = E.EmployeeID\r\n",
                "    INNER JOIN OrderDetails AS OD\r\n",
                "        ON O.OrderID = OD.OrderID\r\n",
                "    INNER JOIN Products AS P\r\n",
                "        ON OD.ProductID = P.ProductID\r\n",
                "ORDER BY O.OrderID, P.ProductID;"
            ],
            "metadata": {
                "language": "sql",
                "azdata_cell_guid": "524844eb-c9c7-4418-b9ab-213ee44d54b0"
            },
            "outputs": [
                {
                    "output_type": "display_data",
                    "data": {
                        "text/html": "(50 rows affected)"
                    },
                    "metadata": {}
                },
                {
                    "output_type": "display_data",
                    "data": {
                        "text/html": "Total execution time: 00:00:00.050"
                    },
                    "metadata": {}
                },
                {
                    "output_type": "execute_result",
                    "execution_count": 1,
                    "data": {
                        "application/vnd.dataresource+json": {
                            "schema": {
                                "fields": [
                                    {
                                        "name": "EmployeeID"
                                    },
                                    {
                                        "name": "LastName"
                                    },
                                    {
                                        "name": "OrderID"
                                    },
                                    {
                                        "name": "ProductName"
                                    },
                                    {
                                        "name": "Quantity"
                                    }
                                ]
                            },
                            "data": [
                                {
                                    "0": "5",
                                    "1": "Buchanan",
                                    "2": "10248",
                                    "3": "Queso Cabrales",
                                    "4": "12"
                                },
                                {
                                    "0": "5",
                                    "1": "Buchanan",
                                    "2": "10248",
                                    "3": "Singaporean Hokkien Fried Mee",
                                    "4": "10"
                                },
                                {
                                    "0": "5",
                                    "1": "Buchanan",
                                    "2": "10248",
                                    "3": "Mozzarella di Giovanni",
                                    "4": "5"
                                },
                                {
                                    "0": "6",
                                    "1": "Suyama",
                                    "2": "10249",
                                    "3": "Tofu",
                                    "4": "9"
                                },
                                {
                                    "0": "6",
                                    "1": "Suyama",
                                    "2": "10249",
                                    "3": "Manjimup Dried Apples",
                                    "4": "40"
                                },
                                {
                                    "0": "4",
                                    "1": "Peacock",
                                    "2": "10250",
                                    "3": "Jack's New England Clam Chowder",
                                    "4": "10"
                                },
                                {
                                    "0": "4",
                                    "1": "Peacock",
                                    "2": "10250",
                                    "3": "Manjimup Dried Apples",
                                    "4": "35"
                                },
                                {
                                    "0": "4",
                                    "1": "Peacock",
                                    "2": "10250",
                                    "3": "Louisiana Fiery Hot Pepper Sauce",
                                    "4": "15"
                                },
                                {
                                    "0": "3",
                                    "1": "Leverling",
                                    "2": "10251",
                                    "3": "Gustaf's Knäckebröd",
                                    "4": "6"
                                },
                                {
                                    "0": "3",
                                    "1": "Leverling",
                                    "2": "10251",
                                    "3": "Ravioli Angelo",
                                    "4": "15"
                                },
                                {
                                    "0": "3",
                                    "1": "Leverling",
                                    "2": "10251",
                                    "3": "Louisiana Fiery Hot Pepper Sauce",
                                    "4": "20"
                                },
                                {
                                    "0": "4",
                                    "1": "Peacock",
                                    "2": "10252",
                                    "3": "Sir Rodney's Marmalade",
                                    "4": "40"
                                },
                                {
                                    "0": "4",
                                    "1": "Peacock",
                                    "2": "10252",
                                    "3": "Geitost",
                                    "4": "25"
                                },
                                {
                                    "0": "4",
                                    "1": "Peacock",
                                    "2": "10252",
                                    "3": "Camembert Pierrot",
                                    "4": "40"
                                },
                                {
                                    "0": "3",
                                    "1": "Leverling",
                                    "2": "10253",
                                    "3": "Gorgonzola Telino",
                                    "4": "20"
                                },
                                {
                                    "0": "3",
                                    "1": "Leverling",
                                    "2": "10253",
                                    "3": "Chartreuse verte",
                                    "4": "42"
                                },
                                {
                                    "0": "3",
                                    "1": "Leverling",
                                    "2": "10253",
                                    "3": "Maxilaku",
                                    "4": "40"
                                },
                                {
                                    "0": "5",
                                    "1": "Buchanan",
                                    "2": "10254",
                                    "3": "Guaraná Fantástica",
                                    "4": "15"
                                },
                                {
                                    "0": "5",
                                    "1": "Buchanan",
                                    "2": "10254",
                                    "3": "Pâté chinois",
                                    "4": "21"
                                },
                                {
                                    "0": "5",
                                    "1": "Buchanan",
                                    "2": "10254",
                                    "3": "Longlife Tofu",
                                    "4": "21"
                                },
                                {
                                    "0": "9",
                                    "1": "Dodsworth",
                                    "2": "10255",
                                    "3": "Chang",
                                    "4": "20"
                                },
                                {
                                    "0": "9",
                                    "1": "Dodsworth",
                                    "2": "10255",
                                    "3": "Pavlova",
                                    "4": "35"
                                },
                                {
                                    "0": "9",
                                    "1": "Dodsworth",
                                    "2": "10255",
                                    "3": "Inlagd Sill",
                                    "4": "25"
                                },
                                {
                                    "0": "9",
                                    "1": "Dodsworth",
                                    "2": "10255",
                                    "3": "Raclette Courdavault",
                                    "4": "30"
                                },
                                {
                                    "0": "3",
                                    "1": "Leverling",
                                    "2": "10256",
                                    "3": "Perth Pasties",
                                    "4": "15"
                                },
                                {
                                    "0": "3",
                                    "1": "Leverling",
                                    "2": "10256",
                                    "3": "Original Frankfurter grüne Soße",
                                    "4": "12"
                                },
                                {
                                    "0": "4",
                                    "1": "Peacock",
                                    "2": "10257",
                                    "3": "Schoggi Schokolade",
                                    "4": "25"
                                },
                                {
                                    "0": "4",
                                    "1": "Peacock",
                                    "2": "10257",
                                    "3": "Chartreuse verte",
                                    "4": "6"
                                },
                                {
                                    "0": "4",
                                    "1": "Peacock",
                                    "2": "10257",
                                    "3": "Original Frankfurter grüne Soße",
                                    "4": "15"
                                },
                                {
                                    "0": "1",
                                    "1": "Davolio",
                                    "2": "10258",
                                    "3": "Chang",
                                    "4": "50"
                                },
                                {
                                    "0": "1",
                                    "1": "Davolio",
                                    "2": "10258",
                                    "3": "Chef Anton's Gumbo Mix",
                                    "4": "65"
                                },
                                {
                                    "0": "1",
                                    "1": "Davolio",
                                    "2": "10258",
                                    "3": "Mascarpone Fabioli",
                                    "4": "6"
                                },
                                {
                                    "0": "4",
                                    "1": "Peacock",
                                    "2": "10259",
                                    "3": "Sir Rodney's Scones",
                                    "4": "10"
                                },
                                {
                                    "0": "4",
                                    "1": "Peacock",
                                    "2": "10259",
                                    "3": "Gravad lax",
                                    "4": "1"
                                },
                                {
                                    "0": "4",
                                    "1": "Peacock",
                                    "2": "10260",
                                    "3": "Jack's New England Clam Chowder",
                                    "4": "16"
                                },
                                {
                                    "0": "4",
                                    "1": "Peacock",
                                    "2": "10260",
                                    "3": "Ravioli Angelo",
                                    "4": "50"
                                },
                                {
                                    "0": "4",
                                    "1": "Peacock",
                                    "2": "10260",
                                    "3": "Tarte au sucre",
                                    "4": "15"
                                },
                                {
                                    "0": "4",
                                    "1": "Peacock",
                                    "2": "10260",
                                    "3": "Outback Lager",
                                    "4": "21"
                                },
                                {
                                    "0": "4",
                                    "1": "Peacock",
                                    "2": "10261",
                                    "3": "Sir Rodney's Scones",
                                    "4": "20"
                                },
                                {
                                    "0": "4",
                                    "1": "Peacock",
                                    "2": "10261",
                                    "3": "Steeleye Stout",
                                    "4": "20"
                                },
                                {
                                    "0": "8",
                                    "1": "Callahan",
                                    "2": "10262",
                                    "3": "Chef Anton's Gumbo Mix",
                                    "4": "12"
                                },
                                {
                                    "0": "8",
                                    "1": "Callahan",
                                    "2": "10262",
                                    "3": "Uncle Bob's Organic Dried Pears",
                                    "4": "15"
                                },
                                {
                                    "0": "8",
                                    "1": "Callahan",
                                    "2": "10262",
                                    "3": "Gnocchi di nonna Alice",
                                    "4": "2"
                                },
                                {
                                    "0": "9",
                                    "1": "Dodsworth",
                                    "2": "10263",
                                    "3": "Pavlova",
                                    "4": "60"
                                },
                                {
                                    "0": "9",
                                    "1": "Dodsworth",
                                    "2": "10263",
                                    "3": "Guaraná Fantástica",
                                    "4": "65"
                                },
                                {
                                    "0": "9",
                                    "1": "Dodsworth",
                                    "2": "10263",
                                    "3": "Nord-Ost Matjeshering",
                                    "4": "60"
                                },
                                {
                                    "0": "9",
                                    "1": "Dodsworth",
                                    "2": "10263",
                                    "3": "Longlife Tofu",
                                    "4": "65"
                                },
                                {
                                    "0": "6",
                                    "1": "Suyama",
                                    "2": "10264",
                                    "3": "Chang",
                                    "4": "35"
                                },
                                {
                                    "0": "6",
                                    "1": "Suyama",
                                    "2": "10264",
                                    "3": "Jack's New England Clam Chowder",
                                    "4": "25"
                                },
                                {
                                    "0": "2",
                                    "1": "Fuller",
                                    "2": "10265",
                                    "3": "Alice Mutton",
                                    "4": "30"
                                }
                            ]
                        },
                        "text/html": "<table><tr><th>EmployeeID</th><th>LastName</th><th>OrderID</th><th>ProductName</th><th>Quantity</th></tr><tr><td>5</td><td>Buchanan</td><td>10248</td><td>Queso Cabrales</td><td>12</td></tr><tr><td>5</td><td>Buchanan</td><td>10248</td><td>Singaporean Hokkien Fried Mee</td><td>10</td></tr><tr><td>5</td><td>Buchanan</td><td>10248</td><td>Mozzarella di Giovanni</td><td>5</td></tr><tr><td>6</td><td>Suyama</td><td>10249</td><td>Tofu</td><td>9</td></tr><tr><td>6</td><td>Suyama</td><td>10249</td><td>Manjimup Dried Apples</td><td>40</td></tr><tr><td>4</td><td>Peacock</td><td>10250</td><td>Jack's New England Clam Chowder</td><td>10</td></tr><tr><td>4</td><td>Peacock</td><td>10250</td><td>Manjimup Dried Apples</td><td>35</td></tr><tr><td>4</td><td>Peacock</td><td>10250</td><td>Louisiana Fiery Hot Pepper Sauce</td><td>15</td></tr><tr><td>3</td><td>Leverling</td><td>10251</td><td>Gustaf's Knäckebröd</td><td>6</td></tr><tr><td>3</td><td>Leverling</td><td>10251</td><td>Ravioli Angelo</td><td>15</td></tr><tr><td>3</td><td>Leverling</td><td>10251</td><td>Louisiana Fiery Hot Pepper Sauce</td><td>20</td></tr><tr><td>4</td><td>Peacock</td><td>10252</td><td>Sir Rodney's Marmalade</td><td>40</td></tr><tr><td>4</td><td>Peacock</td><td>10252</td><td>Geitost</td><td>25</td></tr><tr><td>4</td><td>Peacock</td><td>10252</td><td>Camembert Pierrot</td><td>40</td></tr><tr><td>3</td><td>Leverling</td><td>10253</td><td>Gorgonzola Telino</td><td>20</td></tr><tr><td>3</td><td>Leverling</td><td>10253</td><td>Chartreuse verte</td><td>42</td></tr><tr><td>3</td><td>Leverling</td><td>10253</td><td>Maxilaku</td><td>40</td></tr><tr><td>5</td><td>Buchanan</td><td>10254</td><td>Guaraná Fantástica</td><td>15</td></tr><tr><td>5</td><td>Buchanan</td><td>10254</td><td>Pâté chinois</td><td>21</td></tr><tr><td>5</td><td>Buchanan</td><td>10254</td><td>Longlife Tofu</td><td>21</td></tr><tr><td>9</td><td>Dodsworth</td><td>10255</td><td>Chang</td><td>20</td></tr><tr><td>9</td><td>Dodsworth</td><td>10255</td><td>Pavlova</td><td>35</td></tr><tr><td>9</td><td>Dodsworth</td><td>10255</td><td>Inlagd Sill</td><td>25</td></tr><tr><td>9</td><td>Dodsworth</td><td>10255</td><td>Raclette Courdavault</td><td>30</td></tr><tr><td>3</td><td>Leverling</td><td>10256</td><td>Perth Pasties</td><td>15</td></tr><tr><td>3</td><td>Leverling</td><td>10256</td><td>Original Frankfurter grüne Soße</td><td>12</td></tr><tr><td>4</td><td>Peacock</td><td>10257</td><td>Schoggi Schokolade</td><td>25</td></tr><tr><td>4</td><td>Peacock</td><td>10257</td><td>Chartreuse verte</td><td>6</td></tr><tr><td>4</td><td>Peacock</td><td>10257</td><td>Original Frankfurter grüne Soße</td><td>15</td></tr><tr><td>1</td><td>Davolio</td><td>10258</td><td>Chang</td><td>50</td></tr><tr><td>1</td><td>Davolio</td><td>10258</td><td>Chef Anton's Gumbo Mix</td><td>65</td></tr><tr><td>1</td><td>Davolio</td><td>10258</td><td>Mascarpone Fabioli</td><td>6</td></tr><tr><td>4</td><td>Peacock</td><td>10259</td><td>Sir Rodney's Scones</td><td>10</td></tr><tr><td>4</td><td>Peacock</td><td>10259</td><td>Gravad lax</td><td>1</td></tr><tr><td>4</td><td>Peacock</td><td>10260</td><td>Jack's New England Clam Chowder</td><td>16</td></tr><tr><td>4</td><td>Peacock</td><td>10260</td><td>Ravioli Angelo</td><td>50</td></tr><tr><td>4</td><td>Peacock</td><td>10260</td><td>Tarte au sucre</td><td>15</td></tr><tr><td>4</td><td>Peacock</td><td>10260</td><td>Outback Lager</td><td>21</td></tr><tr><td>4</td><td>Peacock</td><td>10261</td><td>Sir Rodney's Scones</td><td>20</td></tr><tr><td>4</td><td>Peacock</td><td>10261</td><td>Steeleye Stout</td><td>20</td></tr><tr><td>8</td><td>Callahan</td><td>10262</td><td>Chef Anton's Gumbo Mix</td><td>12</td></tr><tr><td>8</td><td>Callahan</td><td>10262</td><td>Uncle Bob's Organic Dried Pears</td><td>15</td></tr><tr><td>8</td><td>Callahan</td><td>10262</td><td>Gnocchi di nonna Alice</td><td>2</td></tr><tr><td>9</td><td>Dodsworth</td><td>10263</td><td>Pavlova</td><td>60</td></tr><tr><td>9</td><td>Dodsworth</td><td>10263</td><td>Guaraná Fantástica</td><td>65</td></tr><tr><td>9</td><td>Dodsworth</td><td>10263</td><td>Nord-Ost Matjeshering</td><td>60</td></tr><tr><td>9</td><td>Dodsworth</td><td>10263</td><td>Longlife Tofu</td><td>65</td></tr><tr><td>6</td><td>Suyama</td><td>10264</td><td>Chang</td><td>35</td></tr><tr><td>6</td><td>Suyama</td><td>10264</td><td>Jack's New England Clam Chowder</td><td>25</td></tr><tr><td>2</td><td>Fuller</td><td>10265</td><td>Alice Mutton</td><td>30</td></tr></table>"
                    },
                    "metadata": {}
                }
            ],
            "execution_count": 1
        },
        {
            "cell_type": "markdown",
            "source": [
                "### 10\\. Customers with no orders\n",
                "\n",
                "There are some customers who have never actually placed an order. Show these customers."
            ],
            "metadata": {
                "language": "sql",
                "azdata_cell_guid": "7793a337-eb2e-4753-9654-0fbfa0aace96"
            },
            "attachments": {}
        },
        {
            "cell_type": "code",
            "source": [
                "--First method with subquery\r\n",
                "SELECT CustomerID AS CustomersID\r\n",
                "FROM Customers\r\n",
                "WHERE CustomerID NOT IN (SELECT CustomerID FROM Orders);\r\n",
                "\r\n",
                "--Second method with JOIN\r\n",
                "SELECT C.CustomerID AS Customers_CustomerID, O.OrderID AS Orders_CustomerID\r\n",
                "FROM Customers AS C\r\n",
                "    LEFT OUTER JOIN Orders AS O\r\n",
                "        ON C.CustomerID = O.CustomerID\r\n",
                "WHERE O.OrderID IS NULL;\r\n",
                "\r\n",
                "--Third method with EXCEPT set operator\r\n",
                "SELECT CustomerID\r\n",
                "FROM Customers\r\n",
                "\r\n",
                "EXCEPT\r\n",
                "\r\n",
                "SELECT CustomerID\r\n",
                "FROM Orders;\r\n",
                "\r\n",
                "--Fourth method with NOT EXISTS correlated subquery\r\n",
                "SELECT CustomerID\r\n",
                "FROM Customers\r\n",
                "WHERE NOT EXISTS (\r\n",
                "    SELECT CustomerID\r\n",
                "    FROM Orders\r\n",
                "    WHERE Orders.CustomerID = Customers.CustomerID\r\n",
                ");"
            ],
            "metadata": {
                "language": "sql",
                "azdata_cell_guid": "51c39d14-ba1b-40fc-ae69-ac04027655f7",
                "tags": []
            },
            "outputs": [
                {
                    "output_type": "display_data",
                    "data": {
                        "text/html": "(2 rows affected)"
                    },
                    "metadata": {}
                },
                {
                    "output_type": "display_data",
                    "data": {
                        "text/html": "(2 rows affected)"
                    },
                    "metadata": {}
                },
                {
                    "output_type": "display_data",
                    "data": {
                        "text/html": "(2 rows affected)"
                    },
                    "metadata": {}
                },
                {
                    "output_type": "display_data",
                    "data": {
                        "text/html": "(2 rows affected)"
                    },
                    "metadata": {}
                },
                {
                    "output_type": "display_data",
                    "data": {
                        "text/html": "Total execution time: 00:00:00.032"
                    },
                    "metadata": {}
                },
                {
                    "output_type": "execute_result",
                    "execution_count": 92,
                    "data": {
                        "application/vnd.dataresource+json": {
                            "schema": {
                                "fields": [
                                    {
                                        "name": "CustomersID"
                                    }
                                ]
                            },
                            "data": [
                                {
                                    "0": "FISSA"
                                },
                                {
                                    "0": "PARIS"
                                }
                            ]
                        },
                        "text/html": "<table><tr><th>CustomersID</th></tr><tr><td>FISSA</td></tr><tr><td>PARIS</td></tr></table>"
                    },
                    "metadata": {}
                },
                {
                    "output_type": "execute_result",
                    "execution_count": 92,
                    "data": {
                        "application/vnd.dataresource+json": {
                            "schema": {
                                "fields": [
                                    {
                                        "name": "Customers_CustomerID"
                                    },
                                    {
                                        "name": "Orders_CustomerID"
                                    }
                                ]
                            },
                            "data": [
                                {
                                    "0": "PARIS",
                                    "1": "NULL"
                                },
                                {
                                    "0": "FISSA",
                                    "1": "NULL"
                                }
                            ]
                        },
                        "text/html": "<table><tr><th>Customers_CustomerID</th><th>Orders_CustomerID</th></tr><tr><td>PARIS</td><td>NULL</td></tr><tr><td>FISSA</td><td>NULL</td></tr></table>"
                    },
                    "metadata": {}
                },
                {
                    "output_type": "execute_result",
                    "execution_count": 92,
                    "data": {
                        "application/vnd.dataresource+json": {
                            "schema": {
                                "fields": [
                                    {
                                        "name": "CustomerID"
                                    }
                                ]
                            },
                            "data": [
                                {
                                    "0": "FISSA"
                                },
                                {
                                    "0": "PARIS"
                                }
                            ]
                        },
                        "text/html": "<table><tr><th>CustomerID</th></tr><tr><td>FISSA</td></tr><tr><td>PARIS</td></tr></table>"
                    },
                    "metadata": {}
                },
                {
                    "output_type": "execute_result",
                    "execution_count": 92,
                    "data": {
                        "application/vnd.dataresource+json": {
                            "schema": {
                                "fields": [
                                    {
                                        "name": "CustomerID"
                                    }
                                ]
                            },
                            "data": [
                                {
                                    "0": "FISSA"
                                },
                                {
                                    "0": "PARIS"
                                }
                            ]
                        },
                        "text/html": "<table><tr><th>CustomerID</th></tr><tr><td>FISSA</td></tr><tr><td>PARIS</td></tr></table>"
                    },
                    "metadata": {}
                }
            ],
            "execution_count": 92
        },
        {
            "cell_type": "markdown",
            "source": [
                "### 11\\. Customers with no orders for EmployeeID 4\n",
                "\n",
                "One employee (Margaret Peacock, EmployeeID 4) has placed the most orders. However, there are some customers who've never placed an order with her. Show only those customers who have never placed an order with her."
            ],
            "metadata": {
                "language": "sql",
                "azdata_cell_guid": "d8b30f26-c382-4bcf-b629-3246379716b7"
            },
            "attachments": {}
        },
        {
            "cell_type": "code",
            "source": [
                "--First method with subquery\r\n",
                "SELECT CustomerID\r\n",
                "FROM Customers\r\n",
                "WHERE CustomerID NOT IN (SELECT CustomerID FROM Orders WHERE EmployeeID = 4);\r\n",
                "\r\n",
                "--Second method with composite JOIN\r\n",
                "SELECT C.CustomerID, O.CustomerID\r\n",
                "FROM Customers AS C\r\n",
                "    LEFT OUTER JOIN Orders AS O\r\n",
                "        ON C.CustomerID = O.CustomerID\r\n",
                "        AND O.EmployeeID = 4\r\n",
                "WHERE O.CustomerID IS NULL;\r\n",
                "\r\n",
                "--Third method with NOT EXISTS \r\n",
                "SELECT CustomerID\r\n",
                "FROM Customers \r\n",
                "WHERE NOT EXISTS (\r\n",
                "    SELECT CustomerID\r\n",
                "    FROM Orders\r\n",
                "    WHERE Orders.CustomerID = Customers.CustomerID\r\n",
                "    AND EmployeeID = 4\r\n",
                ");\r\n",
                "\r\n",
                "--Fourth method with EXCEPT set operator\r\n",
                "\r\n",
                "SELECT CustomerID\r\n",
                "FROM Customers\r\n",
                "\r\n",
                "EXCEPT\r\n",
                "\r\n",
                "SELECT CustomerID\r\n",
                "FROM Orders\r\n",
                "WHERE EmployeeID = 4;"
            ],
            "metadata": {
                "language": "sql",
                "azdata_cell_guid": "86fa9990-7f6e-4181-be7d-33ca603c1c80",
                "tags": []
            },
            "outputs": [
                {
                    "output_type": "display_data",
                    "data": {
                        "text/html": "(16 rows affected)"
                    },
                    "metadata": {}
                },
                {
                    "output_type": "display_data",
                    "data": {
                        "text/html": "(16 rows affected)"
                    },
                    "metadata": {}
                },
                {
                    "output_type": "display_data",
                    "data": {
                        "text/html": "(16 rows affected)"
                    },
                    "metadata": {}
                },
                {
                    "output_type": "display_data",
                    "data": {
                        "text/html": "(16 rows affected)"
                    },
                    "metadata": {}
                },
                {
                    "output_type": "display_data",
                    "data": {
                        "text/html": "Total execution time: 00:00:00.027"
                    },
                    "metadata": {}
                },
                {
                    "output_type": "execute_result",
                    "execution_count": 91,
                    "data": {
                        "application/vnd.dataresource+json": {
                            "schema": {
                                "fields": [
                                    {
                                        "name": "CustomerID"
                                    }
                                ]
                            },
                            "data": [
                                {
                                    "0": "CONSH"
                                },
                                {
                                    "0": "DUMON"
                                },
                                {
                                    "0": "FISSA"
                                },
                                {
                                    "0": "FRANR"
                                },
                                {
                                    "0": "GROSR"
                                },
                                {
                                    "0": "LAUGB"
                                },
                                {
                                    "0": "LAZYK"
                                },
                                {
                                    "0": "NORTS"
                                },
                                {
                                    "0": "PARIS"
                                },
                                {
                                    "0": "PERIC"
                                },
                                {
                                    "0": "PRINI"
                                },
                                {
                                    "0": "SANTG"
                                },
                                {
                                    "0": "SEVES"
                                },
                                {
                                    "0": "SPECD"
                                },
                                {
                                    "0": "THEBI"
                                },
                                {
                                    "0": "VINET"
                                }
                            ]
                        },
                        "text/html": "<table><tr><th>CustomerID</th></tr><tr><td>CONSH</td></tr><tr><td>DUMON</td></tr><tr><td>FISSA</td></tr><tr><td>FRANR</td></tr><tr><td>GROSR</td></tr><tr><td>LAUGB</td></tr><tr><td>LAZYK</td></tr><tr><td>NORTS</td></tr><tr><td>PARIS</td></tr><tr><td>PERIC</td></tr><tr><td>PRINI</td></tr><tr><td>SANTG</td></tr><tr><td>SEVES</td></tr><tr><td>SPECD</td></tr><tr><td>THEBI</td></tr><tr><td>VINET</td></tr></table>"
                    },
                    "metadata": {}
                },
                {
                    "output_type": "execute_result",
                    "execution_count": 91,
                    "data": {
                        "application/vnd.dataresource+json": {
                            "schema": {
                                "fields": [
                                    {
                                        "name": "CustomerID"
                                    },
                                    {
                                        "name": "CustomerID"
                                    }
                                ]
                            },
                            "data": [
                                {
                                    "0": "CONSH",
                                    "1": "NULL"
                                },
                                {
                                    "0": "DUMON",
                                    "1": "NULL"
                                },
                                {
                                    "0": "FISSA",
                                    "1": "NULL"
                                },
                                {
                                    "0": "FRANR",
                                    "1": "NULL"
                                },
                                {
                                    "0": "GROSR",
                                    "1": "NULL"
                                },
                                {
                                    "0": "LAUGB",
                                    "1": "NULL"
                                },
                                {
                                    "0": "LAZYK",
                                    "1": "NULL"
                                },
                                {
                                    "0": "NORTS",
                                    "1": "NULL"
                                },
                                {
                                    "0": "PARIS",
                                    "1": "NULL"
                                },
                                {
                                    "0": "PERIC",
                                    "1": "NULL"
                                },
                                {
                                    "0": "PRINI",
                                    "1": "NULL"
                                },
                                {
                                    "0": "SANTG",
                                    "1": "NULL"
                                },
                                {
                                    "0": "SEVES",
                                    "1": "NULL"
                                },
                                {
                                    "0": "SPECD",
                                    "1": "NULL"
                                },
                                {
                                    "0": "THEBI",
                                    "1": "NULL"
                                },
                                {
                                    "0": "VINET",
                                    "1": "NULL"
                                }
                            ]
                        },
                        "text/html": "<table><tr><th>CustomerID</th><th>CustomerID</th></tr><tr><td>CONSH</td><td>NULL</td></tr><tr><td>DUMON</td><td>NULL</td></tr><tr><td>FISSA</td><td>NULL</td></tr><tr><td>FRANR</td><td>NULL</td></tr><tr><td>GROSR</td><td>NULL</td></tr><tr><td>LAUGB</td><td>NULL</td></tr><tr><td>LAZYK</td><td>NULL</td></tr><tr><td>NORTS</td><td>NULL</td></tr><tr><td>PARIS</td><td>NULL</td></tr><tr><td>PERIC</td><td>NULL</td></tr><tr><td>PRINI</td><td>NULL</td></tr><tr><td>SANTG</td><td>NULL</td></tr><tr><td>SEVES</td><td>NULL</td></tr><tr><td>SPECD</td><td>NULL</td></tr><tr><td>THEBI</td><td>NULL</td></tr><tr><td>VINET</td><td>NULL</td></tr></table>"
                    },
                    "metadata": {}
                },
                {
                    "output_type": "execute_result",
                    "execution_count": 91,
                    "data": {
                        "application/vnd.dataresource+json": {
                            "schema": {
                                "fields": [
                                    {
                                        "name": "CustomerID"
                                    }
                                ]
                            },
                            "data": [
                                {
                                    "0": "CONSH"
                                },
                                {
                                    "0": "DUMON"
                                },
                                {
                                    "0": "FISSA"
                                },
                                {
                                    "0": "FRANR"
                                },
                                {
                                    "0": "GROSR"
                                },
                                {
                                    "0": "LAUGB"
                                },
                                {
                                    "0": "LAZYK"
                                },
                                {
                                    "0": "NORTS"
                                },
                                {
                                    "0": "PARIS"
                                },
                                {
                                    "0": "PERIC"
                                },
                                {
                                    "0": "PRINI"
                                },
                                {
                                    "0": "SANTG"
                                },
                                {
                                    "0": "SEVES"
                                },
                                {
                                    "0": "SPECD"
                                },
                                {
                                    "0": "THEBI"
                                },
                                {
                                    "0": "VINET"
                                }
                            ]
                        },
                        "text/html": "<table><tr><th>CustomerID</th></tr><tr><td>CONSH</td></tr><tr><td>DUMON</td></tr><tr><td>FISSA</td></tr><tr><td>FRANR</td></tr><tr><td>GROSR</td></tr><tr><td>LAUGB</td></tr><tr><td>LAZYK</td></tr><tr><td>NORTS</td></tr><tr><td>PARIS</td></tr><tr><td>PERIC</td></tr><tr><td>PRINI</td></tr><tr><td>SANTG</td></tr><tr><td>SEVES</td></tr><tr><td>SPECD</td></tr><tr><td>THEBI</td></tr><tr><td>VINET</td></tr></table>"
                    },
                    "metadata": {}
                },
                {
                    "output_type": "execute_result",
                    "execution_count": 91,
                    "data": {
                        "application/vnd.dataresource+json": {
                            "schema": {
                                "fields": [
                                    {
                                        "name": "CustomerID"
                                    }
                                ]
                            },
                            "data": [
                                {
                                    "0": "CONSH"
                                },
                                {
                                    "0": "DUMON"
                                },
                                {
                                    "0": "FISSA"
                                },
                                {
                                    "0": "FRANR"
                                },
                                {
                                    "0": "GROSR"
                                },
                                {
                                    "0": "LAUGB"
                                },
                                {
                                    "0": "LAZYK"
                                },
                                {
                                    "0": "NORTS"
                                },
                                {
                                    "0": "PARIS"
                                },
                                {
                                    "0": "PERIC"
                                },
                                {
                                    "0": "PRINI"
                                },
                                {
                                    "0": "SANTG"
                                },
                                {
                                    "0": "SEVES"
                                },
                                {
                                    "0": "SPECD"
                                },
                                {
                                    "0": "THEBI"
                                },
                                {
                                    "0": "VINET"
                                }
                            ]
                        },
                        "text/html": "<table><tr><th>CustomerID</th></tr><tr><td>CONSH</td></tr><tr><td>DUMON</td></tr><tr><td>FISSA</td></tr><tr><td>FRANR</td></tr><tr><td>GROSR</td></tr><tr><td>LAUGB</td></tr><tr><td>LAZYK</td></tr><tr><td>NORTS</td></tr><tr><td>PARIS</td></tr><tr><td>PERIC</td></tr><tr><td>PRINI</td></tr><tr><td>SANTG</td></tr><tr><td>SEVES</td></tr><tr><td>SPECD</td></tr><tr><td>THEBI</td></tr><tr><td>VINET</td></tr></table>"
                    },
                    "metadata": {}
                }
            ],
            "execution_count": 91
        }
    ]
}